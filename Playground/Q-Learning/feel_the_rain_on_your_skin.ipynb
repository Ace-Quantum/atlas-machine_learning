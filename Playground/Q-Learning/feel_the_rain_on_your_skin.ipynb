{
 "cells": [
  {
   "cell_type": "markdown",
   "metadata": {},
   "source": [
    "Welp <br>\n",
    "Tensorflow and Keras did not treat me so well with that last run <br>\n",
    "So I guess we're going to follow that 8 part tutorial that David sent <br>\n",
    "All two and a half hours of it"
   ]
  },
  {
   "cell_type": "markdown",
   "metadata": {},
   "source": []
  }
 ],
 "metadata": {
  "language_info": {
   "name": "python"
  }
 },
 "nbformat": 4,
 "nbformat_minor": 2
}
