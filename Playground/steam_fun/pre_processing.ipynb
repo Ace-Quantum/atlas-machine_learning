{
 "cells": [
  {
   "cell_type": "markdown",
   "metadata": {},
   "source": [
    "Who knows how this will go? Certainly not me!"
   ]
  },
  {
   "cell_type": "code",
   "execution_count": null,
   "metadata": {},
   "outputs": [],
   "source": [
    "# Ok so uh... how load data?\n",
    "# Let's start with loading in libraries\n",
    "\n",
    "import pandas as pd\n",
    "from transformers import BertTokenizer\n",
    "import random as rn\n",
    "import numpy as np\n",
    "\n",
    "import matplotlib.pyplot as plt\n",
    "import seaborn as sns\n",
    "# Idk what else we need?\n",
    "# I'll figure it out as I go at least\n",
    "\n",
    "# Ok now data? Or do I just pull that directly into a dataframe?\n",
    "# That is correct, we pull it into a dataframe."
   ]
  },
  {
   "cell_type": "markdown",
   "metadata": {},
   "source": [
    "Ok so we have our imports (for now) so now we'll go ahead and set up some basic data frames, then append the app name to the description. Well, ok first we'll figure out which part of the descriptions to keep. I think we just keep the detailed description out of the set."
   ]
  },
  {
   "cell_type": "code",
   "execution_count": null,
   "metadata": {},
   "outputs": [],
   "source": [
    "df_steam_base = pd.read_csv('/steam_fun/Data/steam.csv')"
   ]
  }
 ],
 "metadata": {
  "language_info": {
   "name": "python"
  }
 },
 "nbformat": 4,
 "nbformat_minor": 2
}
