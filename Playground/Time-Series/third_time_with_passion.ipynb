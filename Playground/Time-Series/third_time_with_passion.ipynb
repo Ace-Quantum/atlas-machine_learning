{
 "cells": [
  {
   "cell_type": "markdown",
   "metadata": {},
   "source": [
    "This is the third attempt at Time Series Forecasting, this time with the goal to set up a live feed\n",
    "\n",
    "I'll start by moving over my old code (and maybe making it prettier? I think we can skip over the plotting for now)"
   ]
  },
  {
   "cell_type": "markdown",
   "metadata": {},
   "source": [
    "This notebook was written based on this tutorial\n",
    "https://www.kaggle.com/code/someadityamandal/bitcoin-time-series-forecasting/notebook\n",
    "\n",
    "Additional info to the last iteration:\n",
    "https://www.youtube.com/watch?v=P_SIZDsI3Ro\n",
    "https://www.youtube.com/watch?v=TF2Nx_ifmrU"
   ]
  },
  {
   "cell_type": "markdown",
   "metadata": {},
   "source": [
    "We'll do plotting and whatnot towards the bottom. Those'll be their own sets of imports"
   ]
  },
  {
   "cell_type": "code",
   "execution_count": null,
   "metadata": {},
   "outputs": [],
   "source": [
    "!pip install chart_studio\n",
    "\n",
    "import numpy as np\n",
    "import pandas as pd\n",
    "import keras.layers as layers\n",
    "import keras.models as models\n",
    "\n",
    "import datetime, pytz\n",
    "from sklearn.preprocessing import MinMaxScaler\n",
    "\n",
    "import os\n",
    "print(os.listdir('./data'))"
   ]
  },
  {
   "cell_type": "markdown",
   "metadata": {},
   "source": [
    "The question is now, how do we take old data and new data into account?\n",
    "I /think/ that the vibe is that we train a model on the historic data, then we feed the new data into it.\n",
    "So we'll make the model, then feed new data into it, then plot.\n",
    "That's the goal for tonight."
   ]
  }
 ],
 "metadata": {
  "language_info": {
   "name": "python"
  }
 },
 "nbformat": 4,
 "nbformat_minor": 2
}
