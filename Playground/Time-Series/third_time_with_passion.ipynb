{
 "cells": [
  {
   "cell_type": "markdown",
   "metadata": {},
   "source": [
    "This is the third attempt at Time Series Forecasting, this time with the goal to set up a live feed\n",
    "\n",
    "I'll start by moving over my old code (and maybe making it prettier? I think we can skip over the plotting for now)"
   ]
  },
  {
   "cell_type": "markdown",
   "metadata": {},
   "source": [
    "This notebook was written based on this tutorial\n",
    "https://www.kaggle.com/code/someadityamandal/bitcoin-time-series-forecasting/notebook\n",
    "\n",
    "Additional info to the last iteration:\n",
    "https://www.youtube.com/watch?v=P_SIZDsI3Ro\n",
    "https://www.youtube.com/watch?v=TF2Nx_ifmrU"
   ]
  },
  {
   "cell_type": "markdown",
   "metadata": {},
   "source": [
    "We'll do plotting and whatnot towards the bottom. Those'll be their own sets of imports"
   ]
  },
  {
   "cell_type": "code",
   "execution_count": 2,
   "metadata": {},
   "outputs": [
    {
     "name": "stdout",
     "output_type": "stream",
     "text": [
      "\u001b[33mWARNING: Ignoring invalid distribution -ensorflow (/usr/local/lib/python3.10/dist-packages)\u001b[0m\u001b[33m\n",
      "\u001b[0m\u001b[33mWARNING: Ignoring invalid distribution -ensorflow (/usr/local/lib/python3.10/dist-packages)\u001b[0m\u001b[33m\n",
      "\u001b[0mRequirement already satisfied: chart_studio in /usr/local/lib/python3.10/dist-packages (1.1.0)\n",
      "Requirement already satisfied: plotly in /usr/local/lib/python3.10/dist-packages (from chart_studio) (5.24.1)\n",
      "Requirement already satisfied: requests in /usr/local/lib/python3.10/dist-packages (from chart_studio) (2.31.0)\n",
      "Requirement already satisfied: retrying>=1.3.3 in /usr/local/lib/python3.10/dist-packages (from chart_studio) (1.3.4)\n",
      "Requirement already satisfied: six in /usr/lib/python3/dist-packages (from chart_studio) (1.16.0)\n",
      "Requirement already satisfied: tenacity>=6.2.0 in /usr/local/lib/python3.10/dist-packages (from plotly->chart_studio) (9.0.0)\n",
      "Requirement already satisfied: packaging in /usr/local/lib/python3.10/dist-packages (from plotly->chart_studio) (24.0)\n",
      "Requirement already satisfied: charset-normalizer<4,>=2 in /usr/local/lib/python3.10/dist-packages (from requests->chart_studio) (3.3.2)\n",
      "Requirement already satisfied: idna<4,>=2.5 in /usr/local/lib/python3.10/dist-packages (from requests->chart_studio) (3.6)\n",
      "Requirement already satisfied: urllib3<3,>=1.21.1 in /usr/local/lib/python3.10/dist-packages (from requests->chart_studio) (2.2.1)\n",
      "Requirement already satisfied: certifi>=2017.4.17 in /usr/local/lib/python3.10/dist-packages (from requests->chart_studio) (2024.2.2)\n",
      "\u001b[33mWARNING: Ignoring invalid distribution -ensorflow (/usr/local/lib/python3.10/dist-packages)\u001b[0m\u001b[33m\n",
      "\u001b[0m\u001b[33mWARNING: Ignoring invalid distribution -ensorflow (/usr/local/lib/python3.10/dist-packages)\u001b[0m\u001b[33m\n",
      "\u001b[0m\u001b[33mWARNING: Running pip as the 'root' user can result in broken permissions and conflicting behaviour with the system package manager, possibly rendering your system unusable.It is recommended to use a virtual environment instead: https://pip.pypa.io/warnings/venv. Use the --root-user-action option if you know what you are doing and want to suppress this warning.\u001b[0m\u001b[33m\n",
      "\u001b[0m"
     ]
    },
    {
     "name": "stderr",
     "output_type": "stream",
     "text": [
      "2024-11-13 17:39:53.864110: I tensorflow/core/util/port.cc:153] oneDNN custom operations are on. You may see slightly different numerical results due to floating-point round-off errors from different computation orders. To turn them off, set the environment variable `TF_ENABLE_ONEDNN_OPTS=0`.\n",
      "2024-11-13 17:39:53.934343: I external/local_xla/xla/tsl/cuda/cudart_stub.cc:32] Could not find cuda drivers on your machine, GPU will not be used.\n",
      "2024-11-13 17:39:54.331290: I external/local_xla/xla/tsl/cuda/cudart_stub.cc:32] Could not find cuda drivers on your machine, GPU will not be used.\n",
      "2024-11-13 17:39:54.601833: E external/local_xla/xla/stream_executor/cuda/cuda_fft.cc:485] Unable to register cuFFT factory: Attempting to register factory for plugin cuFFT when one has already been registered\n",
      "2024-11-13 17:39:54.802233: E external/local_xla/xla/stream_executor/cuda/cuda_dnn.cc:8454] Unable to register cuDNN factory: Attempting to register factory for plugin cuDNN when one has already been registered\n",
      "2024-11-13 17:39:54.857757: E external/local_xla/xla/stream_executor/cuda/cuda_blas.cc:1452] Unable to register cuBLAS factory: Attempting to register factory for plugin cuBLAS when one has already been registered\n",
      "2024-11-13 17:39:55.217837: I tensorflow/core/platform/cpu_feature_guard.cc:210] This TensorFlow binary is optimized to use available CPU instructions in performance-critical operations.\n",
      "To enable the following instructions: AVX2 AVX512F AVX512_VNNI FMA, in other operations, rebuild TensorFlow with the appropriate compiler flags.\n",
      "2024-11-13 17:39:57.820824: W tensorflow/compiler/tf2tensorrt/utils/py_utils.cc:38] TF-TRT Warning: Could not find TensorRT\n"
     ]
    },
    {
     "name": "stdout",
     "output_type": "stream",
     "text": [
      "['coinbaseUSD.csv', 'bitstampUSD.csv']\n"
     ]
    }
   ],
   "source": [
    "!pip install chart_studio\n",
    "\n",
    "import numpy as np\n",
    "import pandas as pd\n",
    "import keras.layers as layers\n",
    "import keras.models as models\n",
    "\n",
    "import datetime, pytz\n",
    "from sklearn.preprocessing import MinMaxScaler\n",
    "\n",
    "import os\n",
    "print(os.listdir('./data'))"
   ]
  },
  {
   "cell_type": "markdown",
   "metadata": {},
   "source": [
    "The question is now, how do we take old data and new data into account?\n",
    "I /think/ that the vibe is that we train a model on the historic data, then we feed the new data into it.\n",
    "So we'll make the model, then feed new data into it, then plot.\n",
    "That's the goal for tonight."
   ]
  },
  {
   "cell_type": "code",
   "execution_count": 3,
   "metadata": {},
   "outputs": [
    {
     "name": "stderr",
     "output_type": "stream",
     "text": [
      "/tmp/ipykernel_829/4154642391.py:5: FutureWarning: The argument 'date_parser' is deprecated and will be removed in a future version. Please use 'date_format' instead, or read your data in as 'object' dtype and then call 'to_datetime'.\n",
      "  data = pd.read_csv('./data/coinbaseUSD.csv', parse_dates=[0], date_parser=dateparse)\n"
     ]
    },
    {
     "name": "stdout",
     "output_type": "stream",
     "text": [
      "<class 'pandas.core.frame.DataFrame'>\n",
      "RangeIndex: 2099760 entries, 0 to 2099759\n",
      "Data columns (total 8 columns):\n",
      " #   Column             Dtype              \n",
      "---  ------             -----              \n",
      " 0   Timestamp          datetime64[ns, UTC]\n",
      " 1   Open               float64            \n",
      " 2   High               float64            \n",
      " 3   Low                float64            \n",
      " 4   Close              float64            \n",
      " 5   Volume_(BTC)       float64            \n",
      " 6   Volume_(Currency)  float64            \n",
      " 7   Weighted_Price     float64            \n",
      "dtypes: datetime64[ns, UTC](1), float64(7)\n",
      "memory usage: 128.2 MB\n",
      "                  Timestamp   Open   High    Low  Close  Volume_(BTC)  \\\n",
      "0 2014-11-30 23:33:00+00:00  300.0  300.0  300.0  300.0          0.01   \n",
      "1 2014-11-30 23:34:00+00:00    NaN    NaN    NaN    NaN           NaN   \n",
      "2 2014-11-30 23:35:00+00:00    NaN    NaN    NaN    NaN           NaN   \n",
      "3 2014-11-30 23:36:00+00:00    NaN    NaN    NaN    NaN           NaN   \n",
      "4 2014-11-30 23:37:00+00:00    NaN    NaN    NaN    NaN           NaN   \n",
      "\n",
      "   Volume_(Currency)  Weighted_Price  \n",
      "0                3.0           300.0  \n",
      "1                NaN             NaN  \n",
      "2                NaN             NaN  \n",
      "3                NaN             NaN  \n",
      "4                NaN             NaN  \n"
     ]
    }
   ],
   "source": [
    "def dateparse (time_in_secs):\n",
    "    return pytz.utc.localize(datetime.datetime.fromtimestamp(float(time_in_secs)))\n",
    "# That seriously feels like one heck of a line.\n",
    "\n",
    "data = pd.read_csv('./data/coinbaseUSD.csv', parse_dates=[0], date_parser=dateparse)\n",
    "\n",
    "data.info()\n",
    "print(data.head())\n"
   ]
  },
  {
   "cell_type": "code",
   "execution_count": 4,
   "metadata": {},
   "outputs": [
    {
     "name": "stdout",
     "output_type": "stream",
     "text": [
      "                  Timestamp   Open   High    Low  Close  Volume_(BTC)  \\\n",
      "0 2014-11-30 23:33:00+00:00  300.0  300.0  300.0  300.0          0.01   \n",
      "1 2014-11-30 23:34:00+00:00  300.0  300.0  300.0  300.0          0.00   \n",
      "2 2014-11-30 23:35:00+00:00  300.0  300.0  300.0  300.0          0.00   \n",
      "3 2014-11-30 23:36:00+00:00  300.0  300.0  300.0  300.0          0.00   \n",
      "4 2014-11-30 23:37:00+00:00  300.0  300.0  300.0  300.0          0.00   \n",
      "\n",
      "   Volume_(Currency)  Weighted_Price  \n",
      "0                3.0           300.0  \n",
      "1                0.0             0.0  \n",
      "2                0.0             0.0  \n",
      "3                0.0             0.0  \n",
      "4                0.0             0.0  \n"
     ]
    },
    {
     "name": "stderr",
     "output_type": "stream",
     "text": [
      "/tmp/ipykernel_829/3773503921.py:2: FutureWarning: A value is trying to be set on a copy of a DataFrame or Series through chained assignment using an inplace method.\n",
      "The behavior will change in pandas 3.0. This inplace method will never work because the intermediate object on which we are setting values always behaves as a copy.\n",
      "\n",
      "For example, when doing 'df[col].method(value, inplace=True)', try using 'df.method({col: value}, inplace=True)' or df[col] = df[col].method(value) instead, to perform the operation inplace on the original object.\n",
      "\n",
      "\n",
      "  data['Volume_(BTC)'].fillna(value=0, inplace=True)\n",
      "/tmp/ipykernel_829/3773503921.py:3: FutureWarning: A value is trying to be set on a copy of a DataFrame or Series through chained assignment using an inplace method.\n",
      "The behavior will change in pandas 3.0. This inplace method will never work because the intermediate object on which we are setting values always behaves as a copy.\n",
      "\n",
      "For example, when doing 'df[col].method(value, inplace=True)', try using 'df.method({col: value}, inplace=True)' or df[col] = df[col].method(value) instead, to perform the operation inplace on the original object.\n",
      "\n",
      "\n",
      "  data['Volume_(Currency)'].fillna(value=0, inplace=True)\n",
      "/tmp/ipykernel_829/3773503921.py:4: FutureWarning: A value is trying to be set on a copy of a DataFrame or Series through chained assignment using an inplace method.\n",
      "The behavior will change in pandas 3.0. This inplace method will never work because the intermediate object on which we are setting values always behaves as a copy.\n",
      "\n",
      "For example, when doing 'df[col].method(value, inplace=True)', try using 'df.method({col: value}, inplace=True)' or df[col] = df[col].method(value) instead, to perform the operation inplace on the original object.\n",
      "\n",
      "\n",
      "  data['Weighted_Price'].fillna(value=0, inplace=True)\n",
      "/tmp/ipykernel_829/3773503921.py:6: FutureWarning: A value is trying to be set on a copy of a DataFrame or Series through chained assignment using an inplace method.\n",
      "The behavior will change in pandas 3.0. This inplace method will never work because the intermediate object on which we are setting values always behaves as a copy.\n",
      "\n",
      "For example, when doing 'df[col].method(value, inplace=True)', try using 'df.method({col: value}, inplace=True)' or df[col] = df[col].method(value) instead, to perform the operation inplace on the original object.\n",
      "\n",
      "\n",
      "  data['Open'].fillna(method='ffill', inplace=True)\n",
      "/tmp/ipykernel_829/3773503921.py:6: FutureWarning: Series.fillna with 'method' is deprecated and will raise in a future version. Use obj.ffill() or obj.bfill() instead.\n",
      "  data['Open'].fillna(method='ffill', inplace=True)\n",
      "/tmp/ipykernel_829/3773503921.py:7: FutureWarning: A value is trying to be set on a copy of a DataFrame or Series through chained assignment using an inplace method.\n",
      "The behavior will change in pandas 3.0. This inplace method will never work because the intermediate object on which we are setting values always behaves as a copy.\n",
      "\n",
      "For example, when doing 'df[col].method(value, inplace=True)', try using 'df.method({col: value}, inplace=True)' or df[col] = df[col].method(value) instead, to perform the operation inplace on the original object.\n",
      "\n",
      "\n",
      "  data['High'].fillna(method='ffill', inplace=True)\n",
      "/tmp/ipykernel_829/3773503921.py:7: FutureWarning: Series.fillna with 'method' is deprecated and will raise in a future version. Use obj.ffill() or obj.bfill() instead.\n",
      "  data['High'].fillna(method='ffill', inplace=True)\n",
      "/tmp/ipykernel_829/3773503921.py:8: FutureWarning: A value is trying to be set on a copy of a DataFrame or Series through chained assignment using an inplace method.\n",
      "The behavior will change in pandas 3.0. This inplace method will never work because the intermediate object on which we are setting values always behaves as a copy.\n",
      "\n",
      "For example, when doing 'df[col].method(value, inplace=True)', try using 'df.method({col: value}, inplace=True)' or df[col] = df[col].method(value) instead, to perform the operation inplace on the original object.\n",
      "\n",
      "\n",
      "  data['Low'].fillna(method='ffill', inplace=True)\n",
      "/tmp/ipykernel_829/3773503921.py:8: FutureWarning: Series.fillna with 'method' is deprecated and will raise in a future version. Use obj.ffill() or obj.bfill() instead.\n",
      "  data['Low'].fillna(method='ffill', inplace=True)\n",
      "/tmp/ipykernel_829/3773503921.py:9: FutureWarning: A value is trying to be set on a copy of a DataFrame or Series through chained assignment using an inplace method.\n",
      "The behavior will change in pandas 3.0. This inplace method will never work because the intermediate object on which we are setting values always behaves as a copy.\n",
      "\n",
      "For example, when doing 'df[col].method(value, inplace=True)', try using 'df.method({col: value}, inplace=True)' or df[col] = df[col].method(value) instead, to perform the operation inplace on the original object.\n",
      "\n",
      "\n",
      "  data['Close'].fillna(method='ffill', inplace=True)\n",
      "/tmp/ipykernel_829/3773503921.py:9: FutureWarning: Series.fillna with 'method' is deprecated and will raise in a future version. Use obj.ffill() or obj.bfill() instead.\n",
      "  data['Close'].fillna(method='ffill', inplace=True)\n"
     ]
    }
   ],
   "source": [
    "# Now for some preprocessing\n",
    "data['Volume_(BTC)'].fillna(value=0, inplace=True)\n",
    "data['Volume_(Currency)'].fillna(value=0, inplace=True)\n",
    "data['Weighted_Price'].fillna(value=0, inplace=True)\n",
    "\n",
    "data['Open'].fillna(method='ffill', inplace=True)\n",
    "data['High'].fillna(method='ffill', inplace=True)\n",
    "data['Low'].fillna(method='ffill', inplace=True)\n",
    "data['Close'].fillna(method='ffill', inplace=True)\n",
    "\n",
    "print(data.head())"
   ]
  },
  {
   "cell_type": "markdown",
   "metadata": {},
   "source": [
    "Wow those sure are a lot of warnings\n",
    "Especially for Future Ace to figure out"
   ]
  },
  {
   "cell_type": "code",
   "execution_count": 5,
   "metadata": {},
   "outputs": [
    {
     "name": "stdout",
     "output_type": "stream",
     "text": [
      "                  Timestamp    Open    High     Low   Close  Volume_(BTC)  \\\n",
      "0 2015-01-12 00:00:00+00:00  360.00  360.00  360.00  360.00         0.010   \n",
      "1 2015-01-19 00:00:00+00:00  260.00  260.00  260.00  260.00         0.000   \n",
      "2 2015-01-26 00:00:00+00:00  225.51  225.51  225.51  225.51         0.000   \n",
      "3 2015-02-02 00:00:00+00:00  259.99  259.99  259.99  259.99         0.300   \n",
      "4 2015-02-09 00:00:00+00:00  239.28  239.50  239.28  239.50        20.675   \n",
      "\n",
      "   Volume_(Currency)  Weighted_Price  \n",
      "0           3.600000      360.000000  \n",
      "1           0.000000        0.000000  \n",
      "2           0.000000        0.000000  \n",
      "3          77.997000      259.990000  \n",
      "4        4951.178693      239.476599  \n"
     ]
    }
   ],
   "source": [
    "start = datetime.datetime(2015, 1, 1, 0, 0, 0, 0, pytz.UTC)\n",
    "end = datetime.datetime(2018, 11, 11, 0, 0, 0, 0, pytz.UTC)\n",
    "\n",
    "weekly_rows = data[(data['Timestamp'] >= start) & (\n",
    "    data['Timestamp'] <= end)].groupby(\n",
    "        [pd.Grouper(key='Timestamp', freq='W-MON')]\n",
    "    ).first().reset_index()\n",
    "\n",
    "print(weekly_rows.head())\n",
    "# Idk if that made things look any cleaner.\n",
    "# I think I did well\n",
    "# But it also needs to run."
   ]
  },
  {
   "cell_type": "markdown",
   "metadata": {},
   "source": [
    "Ok nice! Let's consider our data created.\n",
    "Looking down the pipe I'm genuinely kinda worried about it getting live data"
   ]
  },
  {
   "cell_type": "code",
   "execution_count": 6,
   "metadata": {},
   "outputs": [
    {
     "name": "stderr",
     "output_type": "stream",
     "text": [
      "/tmp/ipykernel_829/3787833246.py:1: FutureWarning: The argument 'date_parser' is deprecated and will be removed in a future version. Please use 'date_format' instead, or read your data in as 'object' dtype and then call 'to_datetime'.\n",
      "  data = pd.read_csv('./data/coinbaseUSD.csv', parse_dates=[0], date_parser=dateparse)\n",
      "/tmp/ipykernel_829/3787833246.py:4: FutureWarning: 'H' is deprecated and will be removed in a future version, please use 'h' instead.\n",
      "  data = data.groupby([pd.Grouper(key='Timestamp', freq='H')]).first().reset_index()\n",
      "/tmp/ipykernel_829/3787833246.py:7: FutureWarning: A value is trying to be set on a copy of a DataFrame or Series through chained assignment using an inplace method.\n",
      "The behavior will change in pandas 3.0. This inplace method will never work because the intermediate object on which we are setting values always behaves as a copy.\n",
      "\n",
      "For example, when doing 'df[col].method(value, inplace=True)', try using 'df.method({col: value}, inplace=True)' or df[col] = df[col].method(value) instead, to perform the operation inplace on the original object.\n",
      "\n",
      "\n",
      "  data['Weighted_Price'].fillna(method='ffill', inplace=True)\n",
      "/tmp/ipykernel_829/3787833246.py:7: FutureWarning: Series.fillna with 'method' is deprecated and will raise in a future version. Use obj.ffill() or obj.bfill() instead.\n",
      "  data['Weighted_Price'].fillna(method='ffill', inplace=True)\n"
     ]
    }
   ],
   "source": [
    "data = pd.read_csv('./data/coinbaseUSD.csv', parse_dates=[0], date_parser=dateparse)\n",
    "data['Timestamp'] = data['Timestamp'].dt.tz_localize(None)\n",
    "\n",
    "data = data.groupby([pd.Grouper(key='Timestamp', freq='H')]).first().reset_index()\n",
    "data = data.set_index('Timestamp')\n",
    "data = data[['Weighted_Price']]\n",
    "data['Weighted_Price'].fillna(method='ffill', inplace=True)"
   ]
  },
  {
   "cell_type": "code",
   "execution_count": 7,
   "metadata": {},
   "outputs": [],
   "source": [
    "# Split that data\n",
    "split_date = '25-Jun-2018'\n",
    "data_train = data.loc[data.index <= split_date].copy()\n",
    "data_test = data.loc[data.index > split_date].copy()"
   ]
  },
  {
   "cell_type": "code",
   "execution_count": 9,
   "metadata": {},
   "outputs": [],
   "source": [
    "# More Preprocessing\n",
    "training_set = data_train.values\n",
    "training_set = np.reshape(training_set, (len(training_set), 1))\n",
    "\n",
    "sc = MinMaxScaler()\n",
    "training_set = sc.fit_transform(training_set)\n",
    "X_train = training_set[0:len(training_set)-1]\n",
    "y_train = training_set[1:len(training_set)]\n",
    "X_train = np.reshape(X_train, (len(X_train), 1, 1))"
   ]
  },
  {
   "cell_type": "code",
   "execution_count": 10,
   "metadata": {},
   "outputs": [
    {
     "name": "stderr",
     "output_type": "stream",
     "text": [
      "/usr/local/lib/python3.10/dist-packages/keras/src/layers/rnn/rnn.py:204: UserWarning: Do not pass an `input_shape`/`input_dim` argument to a layer. When using Sequential models, prefer using an `Input(shape)` object as the first layer in the model instead.\n",
      "  super().__init__(**kwargs)\n"
     ]
    },
    {
     "name": "stdout",
     "output_type": "stream",
     "text": [
      "Epoch 1/100\n",
      "625/625 - 6s - 10ms/step - loss: 0.0117\n",
      "Epoch 2/100\n",
      "625/625 - 5s - 7ms/step - loss: 0.0076\n",
      "Epoch 3/100\n",
      "625/625 - 2s - 4ms/step - loss: 0.0079\n",
      "Epoch 4/100\n",
      "625/625 - 2s - 4ms/step - loss: 0.0075\n",
      "Epoch 5/100\n",
      "625/625 - 2s - 4ms/step - loss: 0.0075\n",
      "Epoch 6/100\n",
      "625/625 - 2s - 4ms/step - loss: 0.0073\n",
      "Epoch 7/100\n",
      "625/625 - 3s - 4ms/step - loss: 0.0078\n",
      "Epoch 8/100\n",
      "625/625 - 3s - 4ms/step - loss: 0.0073\n",
      "Epoch 9/100\n",
      "625/625 - 2s - 4ms/step - loss: 0.0081\n",
      "Epoch 10/100\n",
      "625/625 - 2s - 4ms/step - loss: 0.0075\n",
      "Epoch 11/100\n",
      "625/625 - 3s - 4ms/step - loss: 0.0074\n",
      "Epoch 12/100\n",
      "625/625 - 3s - 4ms/step - loss: 0.0073\n",
      "Epoch 13/100\n",
      "625/625 - 3s - 5ms/step - loss: 0.0076\n",
      "Epoch 14/100\n",
      "625/625 - 3s - 4ms/step - loss: 0.0073\n",
      "Epoch 15/100\n",
      "625/625 - 2s - 4ms/step - loss: 0.0078\n",
      "Epoch 16/100\n",
      "625/625 - 2s - 4ms/step - loss: 0.0075\n",
      "Epoch 17/100\n",
      "625/625 - 2s - 4ms/step - loss: 0.0074\n",
      "Epoch 18/100\n",
      "625/625 - 3s - 4ms/step - loss: 0.0077\n",
      "Epoch 19/100\n",
      "625/625 - 3s - 4ms/step - loss: 0.0075\n",
      "Epoch 20/100\n",
      "625/625 - 3s - 4ms/step - loss: 0.0074\n",
      "Epoch 21/100\n",
      "625/625 - 2s - 4ms/step - loss: 0.0077\n",
      "Epoch 22/100\n",
      "625/625 - 2s - 4ms/step - loss: 0.0074\n",
      "Epoch 23/100\n",
      "625/625 - 2s - 4ms/step - loss: 0.0075\n",
      "Epoch 24/100\n",
      "625/625 - 2s - 4ms/step - loss: 0.0074\n",
      "Epoch 25/100\n",
      "625/625 - 2s - 4ms/step - loss: 0.0077\n",
      "Epoch 26/100\n",
      "625/625 - 2s - 4ms/step - loss: 0.0076\n",
      "Epoch 27/100\n",
      "625/625 - 2s - 4ms/step - loss: 0.0073\n",
      "Epoch 28/100\n",
      "625/625 - 2s - 4ms/step - loss: 0.0077\n",
      "Epoch 29/100\n",
      "625/625 - 2s - 4ms/step - loss: 0.0075\n",
      "Epoch 30/100\n",
      "625/625 - 3s - 4ms/step - loss: 0.0075\n",
      "Epoch 31/100\n",
      "625/625 - 3s - 4ms/step - loss: 0.0075\n",
      "Epoch 32/100\n",
      "625/625 - 2s - 4ms/step - loss: 0.0080\n",
      "Epoch 33/100\n",
      "625/625 - 3s - 4ms/step - loss: 0.0074\n",
      "Epoch 34/100\n",
      "625/625 - 3s - 4ms/step - loss: 0.0075\n",
      "Epoch 35/100\n",
      "625/625 - 5s - 8ms/step - loss: 0.0079\n",
      "Epoch 36/100\n",
      "625/625 - 2s - 4ms/step - loss: 0.0075\n",
      "Epoch 37/100\n",
      "625/625 - 2s - 4ms/step - loss: 0.0077\n",
      "Epoch 38/100\n",
      "625/625 - 3s - 4ms/step - loss: 0.0075\n",
      "Epoch 39/100\n",
      "625/625 - 2s - 4ms/step - loss: 0.0073\n",
      "Epoch 40/100\n",
      "625/625 - 3s - 4ms/step - loss: 0.0078\n",
      "Epoch 41/100\n",
      "625/625 - 3s - 4ms/step - loss: 0.0077\n",
      "Epoch 42/100\n",
      "625/625 - 2s - 4ms/step - loss: 0.0082\n",
      "Epoch 43/100\n",
      "625/625 - 3s - 5ms/step - loss: 0.0073\n",
      "Epoch 44/100\n",
      "625/625 - 3s - 4ms/step - loss: 0.0079\n",
      "Epoch 45/100\n",
      "625/625 - 2s - 4ms/step - loss: 0.0077\n",
      "Epoch 46/100\n",
      "625/625 - 2s - 4ms/step - loss: 0.0076\n",
      "Epoch 47/100\n",
      "625/625 - 3s - 5ms/step - loss: 0.0075\n",
      "Epoch 48/100\n",
      "625/625 - 2s - 4ms/step - loss: 0.0077\n",
      "Epoch 49/100\n",
      "625/625 - 3s - 4ms/step - loss: 0.0073\n",
      "Epoch 50/100\n",
      "625/625 - 2s - 4ms/step - loss: 0.0077\n",
      "Epoch 51/100\n",
      "625/625 - 2s - 4ms/step - loss: 0.0077\n",
      "Epoch 52/100\n",
      "625/625 - 2s - 4ms/step - loss: 0.0078\n",
      "Epoch 53/100\n",
      "625/625 - 3s - 4ms/step - loss: 0.0078\n",
      "Epoch 54/100\n",
      "625/625 - 2s - 4ms/step - loss: 0.0077\n",
      "Epoch 55/100\n",
      "625/625 - 2s - 4ms/step - loss: 0.0077\n",
      "Epoch 56/100\n",
      "625/625 - 2s - 4ms/step - loss: 0.0075\n",
      "Epoch 57/100\n",
      "625/625 - 2s - 4ms/step - loss: 0.0078\n",
      "Epoch 58/100\n",
      "625/625 - 3s - 4ms/step - loss: 0.0074\n",
      "Epoch 59/100\n",
      "625/625 - 2s - 4ms/step - loss: 0.0076\n",
      "Epoch 60/100\n",
      "625/625 - 3s - 4ms/step - loss: 0.0076\n",
      "Epoch 61/100\n",
      "625/625 - 2s - 4ms/step - loss: 0.0072\n",
      "Epoch 62/100\n",
      "625/625 - 2s - 4ms/step - loss: 0.0076\n",
      "Epoch 63/100\n",
      "625/625 - 2s - 4ms/step - loss: 0.0078\n",
      "Epoch 64/100\n",
      "625/625 - 2s - 4ms/step - loss: 0.0074\n",
      "Epoch 65/100\n",
      "625/625 - 2s - 4ms/step - loss: 0.0076\n",
      "Epoch 66/100\n",
      "625/625 - 2s - 4ms/step - loss: 0.0078\n",
      "Epoch 67/100\n",
      "625/625 - 2s - 4ms/step - loss: 0.0076\n",
      "Epoch 68/100\n",
      "625/625 - 3s - 4ms/step - loss: 0.0074\n",
      "Epoch 69/100\n",
      "625/625 - 2s - 4ms/step - loss: 0.0075\n",
      "Epoch 70/100\n",
      "625/625 - 2s - 4ms/step - loss: 0.0075\n",
      "Epoch 71/100\n",
      "625/625 - 2s - 4ms/step - loss: 0.0078\n",
      "Epoch 72/100\n",
      "625/625 - 2s - 4ms/step - loss: 0.0078\n",
      "Epoch 73/100\n",
      "625/625 - 2s - 4ms/step - loss: 0.0078\n",
      "Epoch 74/100\n",
      "625/625 - 2s - 4ms/step - loss: 0.0077\n",
      "Epoch 75/100\n",
      "625/625 - 3s - 4ms/step - loss: 0.0077\n",
      "Epoch 76/100\n",
      "625/625 - 3s - 4ms/step - loss: 0.0076\n",
      "Epoch 77/100\n",
      "625/625 - 2s - 4ms/step - loss: 0.0076\n",
      "Epoch 78/100\n",
      "625/625 - 2s - 4ms/step - loss: 0.0076\n",
      "Epoch 79/100\n",
      "625/625 - 2s - 4ms/step - loss: 0.0078\n",
      "Epoch 80/100\n",
      "625/625 - 3s - 4ms/step - loss: 0.0074\n",
      "Epoch 81/100\n",
      "625/625 - 5s - 8ms/step - loss: 0.0076\n",
      "Epoch 82/100\n",
      "625/625 - 2s - 4ms/step - loss: 0.0076\n",
      "Epoch 83/100\n",
      "625/625 - 2s - 4ms/step - loss: 0.0076\n",
      "Epoch 84/100\n",
      "625/625 - 5s - 8ms/step - loss: 0.0075\n",
      "Epoch 85/100\n",
      "625/625 - 4s - 6ms/step - loss: 0.0073\n",
      "Epoch 86/100\n",
      "625/625 - 4s - 6ms/step - loss: 0.0077\n",
      "Epoch 87/100\n",
      "625/625 - 5s - 8ms/step - loss: 0.0078\n",
      "Epoch 88/100\n",
      "625/625 - 3s - 4ms/step - loss: 0.0075\n",
      "Epoch 89/100\n",
      "625/625 - 5s - 8ms/step - loss: 0.0076\n",
      "Epoch 90/100\n",
      "625/625 - 3s - 4ms/step - loss: 0.0074\n",
      "Epoch 91/100\n",
      "625/625 - 2s - 4ms/step - loss: 0.0077\n",
      "Epoch 92/100\n",
      "625/625 - 3s - 5ms/step - loss: 0.0073\n",
      "Epoch 93/100\n",
      "625/625 - 3s - 4ms/step - loss: 0.0076\n",
      "Epoch 94/100\n",
      "625/625 - 3s - 4ms/step - loss: 0.0074\n",
      "Epoch 95/100\n",
      "625/625 - 5s - 8ms/step - loss: 0.0075\n",
      "Epoch 96/100\n",
      "625/625 - 4s - 7ms/step - loss: 0.0077\n",
      "Epoch 97/100\n",
      "625/625 - 4s - 6ms/step - loss: 0.0076\n",
      "Epoch 98/100\n",
      "625/625 - 3s - 5ms/step - loss: 0.0075\n",
      "Epoch 99/100\n",
      "625/625 - 3s - 4ms/step - loss: 0.0076\n",
      "Epoch 100/100\n",
      "625/625 - 5s - 8ms/step - loss: 0.0076\n"
     ]
    },
    {
     "data": {
      "text/plain": [
       "<keras.src.callbacks.history.History at 0x7f725943a7d0>"
      ]
     },
     "execution_count": 10,
     "metadata": {},
     "output_type": "execute_result"
    }
   ],
   "source": [
    "# Here's the fun part! We're building the model!\n",
    "# I don't think I'll change anything other than add a layer or two\n",
    "# Maybe it'll help with the overfitting\n",
    "# Probably not but worth a try\n",
    "# We're also swapping sigmoid for relu\n",
    "\n",
    "model = models.Sequential()\n",
    "\n",
    "model.add(layers.LSTM(128, activation='relu', input_shape=(1, 1)))\n",
    "model.add(layers.Dropout(0.2))\n",
    "model.add(layers.Dense(1))\n",
    "model.add(layers.Dropout(0.2))\n",
    "model.add(layers.Dense(1))\n",
    "model.compile(loss='mean_squared_error', optimizer='adam')\n",
    "model.fit(X_train, y_train, epochs=100, batch_size=50, verbose=2)"
   ]
  },
  {
   "cell_type": "code",
   "execution_count": 11,
   "metadata": {},
   "outputs": [
    {
     "data": {
      "text/html": [
       "<pre style=\"white-space:pre;overflow-x:auto;line-height:normal;font-family:Menlo,'DejaVu Sans Mono',consolas,'Courier New',monospace\"><span style=\"font-weight: bold\">Model: \"sequential\"</span>\n",
       "</pre>\n"
      ],
      "text/plain": [
       "\u001b[1mModel: \"sequential\"\u001b[0m\n"
      ]
     },
     "metadata": {},
     "output_type": "display_data"
    },
    {
     "data": {
      "text/html": [
       "<pre style=\"white-space:pre;overflow-x:auto;line-height:normal;font-family:Menlo,'DejaVu Sans Mono',consolas,'Courier New',monospace\">┏━━━━━━━━━━━━━━━━━━━━━━━━━━━━━━━━━┳━━━━━━━━━━━━━━━━━━━━━━━━┳━━━━━━━━━━━━━━━┓\n",
       "┃<span style=\"font-weight: bold\"> Layer (type)                    </span>┃<span style=\"font-weight: bold\"> Output Shape           </span>┃<span style=\"font-weight: bold\">       Param # </span>┃\n",
       "┡━━━━━━━━━━━━━━━━━━━━━━━━━━━━━━━━━╇━━━━━━━━━━━━━━━━━━━━━━━━╇━━━━━━━━━━━━━━━┩\n",
       "│ lstm (<span style=\"color: #0087ff; text-decoration-color: #0087ff\">LSTM</span>)                     │ (<span style=\"color: #00d7ff; text-decoration-color: #00d7ff\">None</span>, <span style=\"color: #00af00; text-decoration-color: #00af00\">128</span>)            │        <span style=\"color: #00af00; text-decoration-color: #00af00\">66,560</span> │\n",
       "├─────────────────────────────────┼────────────────────────┼───────────────┤\n",
       "│ dropout (<span style=\"color: #0087ff; text-decoration-color: #0087ff\">Dropout</span>)               │ (<span style=\"color: #00d7ff; text-decoration-color: #00d7ff\">None</span>, <span style=\"color: #00af00; text-decoration-color: #00af00\">128</span>)            │             <span style=\"color: #00af00; text-decoration-color: #00af00\">0</span> │\n",
       "├─────────────────────────────────┼────────────────────────┼───────────────┤\n",
       "│ dense (<span style=\"color: #0087ff; text-decoration-color: #0087ff\">Dense</span>)                   │ (<span style=\"color: #00d7ff; text-decoration-color: #00d7ff\">None</span>, <span style=\"color: #00af00; text-decoration-color: #00af00\">1</span>)              │           <span style=\"color: #00af00; text-decoration-color: #00af00\">129</span> │\n",
       "├─────────────────────────────────┼────────────────────────┼───────────────┤\n",
       "│ dropout_1 (<span style=\"color: #0087ff; text-decoration-color: #0087ff\">Dropout</span>)             │ (<span style=\"color: #00d7ff; text-decoration-color: #00d7ff\">None</span>, <span style=\"color: #00af00; text-decoration-color: #00af00\">1</span>)              │             <span style=\"color: #00af00; text-decoration-color: #00af00\">0</span> │\n",
       "├─────────────────────────────────┼────────────────────────┼───────────────┤\n",
       "│ dense_1 (<span style=\"color: #0087ff; text-decoration-color: #0087ff\">Dense</span>)                 │ (<span style=\"color: #00d7ff; text-decoration-color: #00d7ff\">None</span>, <span style=\"color: #00af00; text-decoration-color: #00af00\">1</span>)              │             <span style=\"color: #00af00; text-decoration-color: #00af00\">2</span> │\n",
       "└─────────────────────────────────┴────────────────────────┴───────────────┘\n",
       "</pre>\n"
      ],
      "text/plain": [
       "┏━━━━━━━━━━━━━━━━━━━━━━━━━━━━━━━━━┳━━━━━━━━━━━━━━━━━━━━━━━━┳━━━━━━━━━━━━━━━┓\n",
       "┃\u001b[1m \u001b[0m\u001b[1mLayer (type)                   \u001b[0m\u001b[1m \u001b[0m┃\u001b[1m \u001b[0m\u001b[1mOutput Shape          \u001b[0m\u001b[1m \u001b[0m┃\u001b[1m \u001b[0m\u001b[1m      Param #\u001b[0m\u001b[1m \u001b[0m┃\n",
       "┡━━━━━━━━━━━━━━━━━━━━━━━━━━━━━━━━━╇━━━━━━━━━━━━━━━━━━━━━━━━╇━━━━━━━━━━━━━━━┩\n",
       "│ lstm (\u001b[38;5;33mLSTM\u001b[0m)                     │ (\u001b[38;5;45mNone\u001b[0m, \u001b[38;5;34m128\u001b[0m)            │        \u001b[38;5;34m66,560\u001b[0m │\n",
       "├─────────────────────────────────┼────────────────────────┼───────────────┤\n",
       "│ dropout (\u001b[38;5;33mDropout\u001b[0m)               │ (\u001b[38;5;45mNone\u001b[0m, \u001b[38;5;34m128\u001b[0m)            │             \u001b[38;5;34m0\u001b[0m │\n",
       "├─────────────────────────────────┼────────────────────────┼───────────────┤\n",
       "│ dense (\u001b[38;5;33mDense\u001b[0m)                   │ (\u001b[38;5;45mNone\u001b[0m, \u001b[38;5;34m1\u001b[0m)              │           \u001b[38;5;34m129\u001b[0m │\n",
       "├─────────────────────────────────┼────────────────────────┼───────────────┤\n",
       "│ dropout_1 (\u001b[38;5;33mDropout\u001b[0m)             │ (\u001b[38;5;45mNone\u001b[0m, \u001b[38;5;34m1\u001b[0m)              │             \u001b[38;5;34m0\u001b[0m │\n",
       "├─────────────────────────────────┼────────────────────────┼───────────────┤\n",
       "│ dense_1 (\u001b[38;5;33mDense\u001b[0m)                 │ (\u001b[38;5;45mNone\u001b[0m, \u001b[38;5;34m1\u001b[0m)              │             \u001b[38;5;34m2\u001b[0m │\n",
       "└─────────────────────────────────┴────────────────────────┴───────────────┘\n"
      ]
     },
     "metadata": {},
     "output_type": "display_data"
    },
    {
     "data": {
      "text/html": [
       "<pre style=\"white-space:pre;overflow-x:auto;line-height:normal;font-family:Menlo,'DejaVu Sans Mono',consolas,'Courier New',monospace\"><span style=\"font-weight: bold\"> Total params: </span><span style=\"color: #00af00; text-decoration-color: #00af00\">200,075</span> (781.55 KB)\n",
       "</pre>\n"
      ],
      "text/plain": [
       "\u001b[1m Total params: \u001b[0m\u001b[38;5;34m200,075\u001b[0m (781.55 KB)\n"
      ]
     },
     "metadata": {},
     "output_type": "display_data"
    },
    {
     "data": {
      "text/html": [
       "<pre style=\"white-space:pre;overflow-x:auto;line-height:normal;font-family:Menlo,'DejaVu Sans Mono',consolas,'Courier New',monospace\"><span style=\"font-weight: bold\"> Trainable params: </span><span style=\"color: #00af00; text-decoration-color: #00af00\">66,691</span> (260.51 KB)\n",
       "</pre>\n"
      ],
      "text/plain": [
       "\u001b[1m Trainable params: \u001b[0m\u001b[38;5;34m66,691\u001b[0m (260.51 KB)\n"
      ]
     },
     "metadata": {},
     "output_type": "display_data"
    },
    {
     "data": {
      "text/html": [
       "<pre style=\"white-space:pre;overflow-x:auto;line-height:normal;font-family:Menlo,'DejaVu Sans Mono',consolas,'Courier New',monospace\"><span style=\"font-weight: bold\"> Non-trainable params: </span><span style=\"color: #00af00; text-decoration-color: #00af00\">0</span> (0.00 B)\n",
       "</pre>\n"
      ],
      "text/plain": [
       "\u001b[1m Non-trainable params: \u001b[0m\u001b[38;5;34m0\u001b[0m (0.00 B)\n"
      ]
     },
     "metadata": {},
     "output_type": "display_data"
    },
    {
     "data": {
      "text/html": [
       "<pre style=\"white-space:pre;overflow-x:auto;line-height:normal;font-family:Menlo,'DejaVu Sans Mono',consolas,'Courier New',monospace\"><span style=\"font-weight: bold\"> Optimizer params: </span><span style=\"color: #00af00; text-decoration-color: #00af00\">133,384</span> (521.04 KB)\n",
       "</pre>\n"
      ],
      "text/plain": [
       "\u001b[1m Optimizer params: \u001b[0m\u001b[38;5;34m133,384\u001b[0m (521.04 KB)\n"
      ]
     },
     "metadata": {},
     "output_type": "display_data"
    }
   ],
   "source": [
    "model.summary()"
   ]
  },
  {
   "cell_type": "markdown",
   "metadata": {},
   "source": [
    "    Ok so next we would grab some inputs and then run predictions. Here's where we step in to start figuring out how to do a live data feed\n",
    "\n",
    "    For your memory, this is the video we're following right now:\n",
    "    https://www.youtube.com/watch?v=P_SIZDsI3Ro\n",
    "\n",
    "None of that worked out well because the tutorial from 1 year ago is outdated I guess. Time to figure something else out."
   ]
  },
  {
   "cell_type": "markdown",
   "metadata": {},
   "source": [
    "Code Graveyard lies below this markdown\n",
    "Careful ye who may approach"
   ]
  },
  {
   "cell_type": "code",
   "execution_count": 22,
   "metadata": {},
   "outputs": [],
   "source": [
    "# Imports\n",
    "import json\n",
    "import websocket"
   ]
  },
  {
   "cell_type": "code",
   "execution_count": 23,
   "metadata": {},
   "outputs": [],
   "source": [
    "asset = 'btcusdt@kline_lm'"
   ]
  },
  {
   "cell_type": "code",
   "execution_count": 24,
   "metadata": {},
   "outputs": [],
   "source": [
    "def on_message(ws, message):\n",
    "    # message = json.loads(message)\n",
    "    print(message)\n",
    "\n",
    "def on_error(ws, error):\n",
    "    print(error)\n",
    "\n",
    "def on_close(ws):\n",
    "    print('closed')\n",
    "\n",
    "def on_open(ws):\n",
    "    print('opened')"
   ]
  },
  {
   "cell_type": "code",
   "execution_count": 25,
   "metadata": {},
   "outputs": [],
   "source": [
    "socket = \"wss://stream.binance.com:9443/stream?streams=\" + asset"
   ]
  },
  {
   "cell_type": "code",
   "execution_count": 27,
   "metadata": {},
   "outputs": [
    {
     "ename": "AttributeError",
     "evalue": "module 'websocket' has no attribute 'WebSocketApp'",
     "output_type": "error",
     "traceback": [
      "\u001b[0;31m---------------------------------------------------------------------------\u001b[0m",
      "\u001b[0;31mAttributeError\u001b[0m                            Traceback (most recent call last)",
      "Cell \u001b[0;32mIn[27], line 1\u001b[0m\n\u001b[0;32m----> 1\u001b[0m ws \u001b[38;5;241m=\u001b[39m \u001b[43mwebsocket\u001b[49m\u001b[38;5;241;43m.\u001b[39;49m\u001b[43mWebSocketApp\u001b[49m(socket,\n\u001b[1;32m      2\u001b[0m                             on_message\u001b[38;5;241m=\u001b[39mon_message,\n\u001b[1;32m      3\u001b[0m                             on_error\u001b[38;5;241m=\u001b[39mon_error,\n\u001b[1;32m      4\u001b[0m                             on_close\u001b[38;5;241m=\u001b[39mon_close)\n\u001b[1;32m      6\u001b[0m ws\u001b[38;5;241m.\u001b[39mon_open \u001b[38;5;241m=\u001b[39m on_open\n\u001b[1;32m      7\u001b[0m ws\u001b[38;5;241m.\u001b[39mrun_forever()\n",
      "\u001b[0;31mAttributeError\u001b[0m: module 'websocket' has no attribute 'WebSocketApp'"
     ]
    }
   ],
   "source": [
    "ws = websocket.WebSocketApp(socket,\n",
    "                            on_message=on_message,\n",
    "                            on_error=on_error,\n",
    "                            on_close=on_close)\n",
    "\n",
    "ws.on_open = on_open\n",
    "ws.run_forever()"
   ]
  }
 ],
 "metadata": {
  "kernelspec": {
   "display_name": "Python 3",
   "language": "python",
   "name": "python3"
  },
  "language_info": {
   "codemirror_mode": {
    "name": "ipython",
    "version": 3
   },
   "file_extension": ".py",
   "mimetype": "text/x-python",
   "name": "python",
   "nbconvert_exporter": "python",
   "pygments_lexer": "ipython3",
   "version": "3.10.12"
  }
 },
 "nbformat": 4,
 "nbformat_minor": 2
}
