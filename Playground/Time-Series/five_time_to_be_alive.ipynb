{
 "cells": [
  {
   "cell_type": "markdown",
   "metadata": {},
   "source": [
    "Let's get to the point.\n",
    "I'm refactoring old code to fit into the old models that I made\n",
    "The problem is the preprocessing\n",
    "And as always my crutch on AI has lead me astray\n",
    "Regardless, I think I can get through this?"
   ]
  },
  {
   "cell_type": "markdown",
   "metadata": {},
   "source": [
    "This notebook was written based on these resources:\n",
    "https://www.kaggle.com/code/someadityamandal/bitcoin-time-series-forecasting/notebook\n",
    "https://github.com/dataquestio/project-walkthroughs/tree/master/bitcoin_price\n",
    "https://www.geeksforgeeks.org/time-series-forecasting-using-tensorflow/\n",
    "\n",
    "Special thank you to David for, as always, having the best resources."
   ]
  },
  {
   "cell_type": "code",
   "execution_count": 1,
   "metadata": {},
   "outputs": [
    {
     "name": "stderr",
     "output_type": "stream",
     "text": [
      "2024-11-16 00:42:14.322537: I tensorflow/core/util/port.cc:153] oneDNN custom operations are on. You may see slightly different numerical results due to floating-point round-off errors from different computation orders. To turn them off, set the environment variable `TF_ENABLE_ONEDNN_OPTS=0`.\n",
      "2024-11-16 00:42:14.368849: I external/local_xla/xla/tsl/cuda/cudart_stub.cc:32] Could not find cuda drivers on your machine, GPU will not be used.\n",
      "2024-11-16 00:42:14.869211: I external/local_xla/xla/tsl/cuda/cudart_stub.cc:32] Could not find cuda drivers on your machine, GPU will not be used.\n",
      "2024-11-16 00:42:15.127194: E external/local_xla/xla/stream_executor/cuda/cuda_fft.cc:485] Unable to register cuFFT factory: Attempting to register factory for plugin cuFFT when one has already been registered\n",
      "2024-11-16 00:42:15.241511: E external/local_xla/xla/stream_executor/cuda/cuda_dnn.cc:8454] Unable to register cuDNN factory: Attempting to register factory for plugin cuDNN when one has already been registered\n",
      "2024-11-16 00:42:15.286979: E external/local_xla/xla/stream_executor/cuda/cuda_blas.cc:1452] Unable to register cuBLAS factory: Attempting to register factory for plugin cuBLAS when one has already been registered\n",
      "2024-11-16 00:42:15.620225: I tensorflow/core/platform/cpu_feature_guard.cc:210] This TensorFlow binary is optimized to use available CPU instructions in performance-critical operations.\n",
      "To enable the following instructions: AVX2 AVX512F AVX512_VNNI FMA, in other operations, rebuild TensorFlow with the appropriate compiler flags.\n",
      "2024-11-16 00:42:18.014149: W tensorflow/compiler/tf2tensorrt/utils/py_utils.cc:38] TF-TRT Warning: Could not find TensorRT\n"
     ]
    }
   ],
   "source": [
    "# Let's try all that preprocessing again.\n",
    "import numpy as np\n",
    "import pandas as pd\n",
    "import keras.layers as layers\n",
    "import keras.models as models\n",
    "\n",
    "import datetime, pytz\n",
    "from sklearn.preprocessing import MinMaxScaler\n",
    "\n",
    "# import os\n",
    "# <!-- print(os.listdir('./data')) -->"
   ]
  },
  {
   "cell_type": "code",
   "execution_count": 6,
   "metadata": {},
   "outputs": [
    {
     "name": "stdout",
     "output_type": "stream",
     "text": [
      "<class 'pandas.core.frame.DataFrame'>\n",
      "Index: 3713 entries, 2014-09-17 00:00:00+00:00 to 2024-11-16 00:00:00+00:00\n",
      "Data columns (total 7 columns):\n",
      " #   Column        Non-Null Count  Dtype  \n",
      "---  ------        --------------  -----  \n",
      " 0   Open          3713 non-null   float64\n",
      " 1   High          3713 non-null   float64\n",
      " 2   Low           3713 non-null   float64\n",
      " 3   Close         3713 non-null   float64\n",
      " 4   Volume        3713 non-null   int64  \n",
      " 5   Dividends     3713 non-null   float64\n",
      " 6   Stock Splits  3713 non-null   float64\n",
      "dtypes: float64(6), int64(1)\n",
      "memory usage: 232.1+ KB\n"
     ]
    }
   ],
   "source": [
    "# Okay so for some reasons those imports were taking WAY too long.\n",
    "\n",
    "import yfinance as yf\n",
    "import os\n",
    "\n",
    "btc_ticker = yf.Ticker('BTC-USD')\n",
    "\n",
    "if os.path.exists('btc.csv'):\n",
    "    btc = pd.read_csv('btc.csv', index_col=0)\n",
    "else:\n",
    "    btc=btc_ticker.history(perid='max')\n",
    "    btc.to_csv('btc.csv')\n",
    "\n",
    "btc\n",
    "btc.info()"
   ]
  },
  {
   "cell_type": "code",
   "execution_count": 15,
   "metadata": {},
   "outputs": [
    {
     "name": "stdout",
     "output_type": "stream",
     "text": [
      "<class 'pandas.core.frame.DataFrame'>\n",
      "DatetimeIndex: 3713 entries, 1970-01-01 00:00:00 to 1970-01-01 00:00:00.000003712\n",
      "Data columns (total 10 columns):\n",
      " #   Column        Non-Null Count  Dtype              \n",
      "---  ------        --------------  -----              \n",
      " 0   level_0       3713 non-null   datetime64[ns]     \n",
      " 1   index         3713 non-null   datetime64[ns]     \n",
      " 2   date          3713 non-null   datetime64[ns, UTC]\n",
      " 3   open          3713 non-null   float64            \n",
      " 4   high          3713 non-null   float64            \n",
      " 5   low           3713 non-null   float64            \n",
      " 6   close         3713 non-null   float64            \n",
      " 7   volume        3713 non-null   int64              \n",
      " 8   dividends     3713 non-null   float64            \n",
      " 9   stock splits  3713 non-null   float64            \n",
      "dtypes: datetime64[ns, UTC](1), datetime64[ns](2), float64(6), int64(1)\n",
      "memory usage: 319.1 KB\n"
     ]
    },
    {
     "ename": "ValueError",
     "evalue": "cannot insert level_0, already exists",
     "output_type": "error",
     "traceback": [
      "\u001b[0;31m---------------------------------------------------------------------------\u001b[0m",
      "\u001b[0;31mValueError\u001b[0m                                Traceback (most recent call last)",
      "\u001b[0;32m/tmp/ipykernel_275007/2520033882.py\u001b[0m in \u001b[0;36m?\u001b[0;34m()\u001b[0m\n\u001b[1;32m     11\u001b[0m \u001b[0;31m# print(btc.head())\u001b[0m\u001b[0;34m\u001b[0m\u001b[0;34m\u001b[0m\u001b[0m\n\u001b[1;32m     12\u001b[0m \u001b[0;34m\u001b[0m\u001b[0m\n\u001b[1;32m     13\u001b[0m \u001b[0;31m# Ok so let's see if I can reset the index\u001b[0m\u001b[0;34m\u001b[0m\u001b[0;34m\u001b[0m\u001b[0m\n\u001b[1;32m     14\u001b[0m \u001b[0;31m# Which makes sense because the did that in the first one I tried.\u001b[0m\u001b[0;34m\u001b[0m\u001b[0;34m\u001b[0m\u001b[0m\n\u001b[0;32m---> 15\u001b[0;31m \u001b[0mbtc_reset\u001b[0m \u001b[0;34m=\u001b[0m \u001b[0mbtc\u001b[0m\u001b[0;34m.\u001b[0m\u001b[0mreset_index\u001b[0m\u001b[0;34m(\u001b[0m\u001b[0;34m)\u001b[0m\u001b[0;34m\u001b[0m\u001b[0;34m\u001b[0m\u001b[0m\n\u001b[0m\u001b[1;32m     16\u001b[0m \u001b[0;34m\u001b[0m\u001b[0m\n\u001b[1;32m     17\u001b[0m \u001b[0;31m# first_date = btc_reset['Date'][0]\u001b[0m\u001b[0;34m\u001b[0m\u001b[0;34m\u001b[0m\u001b[0m\n\u001b[1;32m     18\u001b[0m \u001b[0;34m\u001b[0m\u001b[0m\n",
      "\u001b[0;32m/usr/local/lib/python3.10/dist-packages/pandas/core/frame.py\u001b[0m in \u001b[0;36m?\u001b[0;34m(self, level, drop, inplace, col_level, col_fill, allow_duplicates, names)\u001b[0m\n\u001b[1;32m   6468\u001b[0m                     level_values = algorithms.take(\n\u001b[1;32m   6469\u001b[0m                         \u001b[0mlevel_values\u001b[0m\u001b[0;34m,\u001b[0m \u001b[0mlab\u001b[0m\u001b[0;34m,\u001b[0m \u001b[0mallow_fill\u001b[0m\u001b[0;34m=\u001b[0m\u001b[0;32mTrue\u001b[0m\u001b[0;34m,\u001b[0m \u001b[0mfill_value\u001b[0m\u001b[0;34m=\u001b[0m\u001b[0mlev\u001b[0m\u001b[0;34m.\u001b[0m\u001b[0m_na_value\u001b[0m\u001b[0;34m\u001b[0m\u001b[0;34m\u001b[0m\u001b[0m\n\u001b[1;32m   6470\u001b[0m                     )\n\u001b[1;32m   6471\u001b[0m \u001b[0;34m\u001b[0m\u001b[0m\n\u001b[0;32m-> 6472\u001b[0;31m                 new_obj.insert(\n\u001b[0m\u001b[1;32m   6473\u001b[0m                     \u001b[0;36m0\u001b[0m\u001b[0;34m,\u001b[0m\u001b[0;34m\u001b[0m\u001b[0;34m\u001b[0m\u001b[0m\n\u001b[1;32m   6474\u001b[0m                     \u001b[0mname\u001b[0m\u001b[0;34m,\u001b[0m\u001b[0;34m\u001b[0m\u001b[0;34m\u001b[0m\u001b[0m\n\u001b[1;32m   6475\u001b[0m                     \u001b[0mlevel_values\u001b[0m\u001b[0;34m,\u001b[0m\u001b[0;34m\u001b[0m\u001b[0;34m\u001b[0m\u001b[0m\n",
      "\u001b[0;32m/usr/local/lib/python3.10/dist-packages/pandas/core/frame.py\u001b[0m in \u001b[0;36m?\u001b[0;34m(self, loc, column, value, allow_duplicates)\u001b[0m\n\u001b[1;32m   5154\u001b[0m                 \u001b[0;34m\"'self.flags.allows_duplicate_labels' is False.\"\u001b[0m\u001b[0;34m\u001b[0m\u001b[0;34m\u001b[0m\u001b[0m\n\u001b[1;32m   5155\u001b[0m             )\n\u001b[1;32m   5156\u001b[0m         \u001b[0;32mif\u001b[0m \u001b[0;32mnot\u001b[0m \u001b[0mallow_duplicates\u001b[0m \u001b[0;32mand\u001b[0m \u001b[0mcolumn\u001b[0m \u001b[0;32min\u001b[0m \u001b[0mself\u001b[0m\u001b[0;34m.\u001b[0m\u001b[0mcolumns\u001b[0m\u001b[0;34m:\u001b[0m\u001b[0;34m\u001b[0m\u001b[0;34m\u001b[0m\u001b[0m\n\u001b[1;32m   5157\u001b[0m             \u001b[0;31m# Should this be a different kind of error??\u001b[0m\u001b[0;34m\u001b[0m\u001b[0;34m\u001b[0m\u001b[0m\n\u001b[0;32m-> 5158\u001b[0;31m             \u001b[0;32mraise\u001b[0m \u001b[0mValueError\u001b[0m\u001b[0;34m(\u001b[0m\u001b[0;34mf\"cannot insert {column}, already exists\"\u001b[0m\u001b[0;34m)\u001b[0m\u001b[0;34m\u001b[0m\u001b[0;34m\u001b[0m\u001b[0m\n\u001b[0m\u001b[1;32m   5159\u001b[0m         \u001b[0;32mif\u001b[0m \u001b[0;32mnot\u001b[0m \u001b[0mis_integer\u001b[0m\u001b[0;34m(\u001b[0m\u001b[0mloc\u001b[0m\u001b[0;34m)\u001b[0m\u001b[0;34m:\u001b[0m\u001b[0;34m\u001b[0m\u001b[0;34m\u001b[0m\u001b[0m\n\u001b[1;32m   5160\u001b[0m             \u001b[0;32mraise\u001b[0m \u001b[0mTypeError\u001b[0m\u001b[0;34m(\u001b[0m\u001b[0;34m\"loc must be int\"\u001b[0m\u001b[0;34m)\u001b[0m\u001b[0;34m\u001b[0m\u001b[0;34m\u001b[0m\u001b[0m\n\u001b[1;32m   5161\u001b[0m         \u001b[0;31m# convert non stdlib ints to satisfy typing checks\u001b[0m\u001b[0;34m\u001b[0m\u001b[0;34m\u001b[0m\u001b[0m\n",
      "\u001b[0;31mValueError\u001b[0m: cannot insert level_0, already exists"
     ]
    }
   ],
   "source": [
    "btc.index = pd.to_datetime(btc.index)\n",
    "\n",
    "# del btc['Dividends']\n",
    "# del btc['Stock Splits']\n",
    "# Why did I comment those out? Because they were annoying errors!\n",
    "# I hate it here\n",
    "\n",
    "btc.columns = [c.lower() for c in btc.columns]\n",
    "\n",
    "btc.info()\n",
    "# print(btc.head())\n",
    "\n",
    "# Ok so let's see if I can reset the index\n",
    "# Which makes sense because the did that in the first one I tried.\n",
    "btc_reset = btc.reset_index()\n",
    "\n",
    "# first_date = btc_reset['Date'][0]\n",
    "\n",
    "# all_dates = btc_reset['Date']\n",
    "\n",
    "# filtered_data = btc_reset[btc_reset['Date'] > '2024-01-01']\n",
    "\n",
    "# print(btc_reset['Date'].dtype)\n",
    "\n",
    "btc['date'] = btc.index\n",
    "\n",
    "btc = btc_reset.sort_values('date')\n",
    "\n",
    "btc.info()\n",
    "print(btc.head())\n",
    "\n",
    "# Wow look at all those errors I avoided by commenting out things\n"
   ]
  },
  {
   "cell_type": "markdown",
   "metadata": {},
   "source": [
    "Not going to lie\n",
    "I'm ashamed I didn't do that print earlier.\n",
    "Regardless, easy bug to fix."
   ]
  },
  {
   "cell_type": "code",
   "execution_count": 4,
   "metadata": {},
   "outputs": [
    {
     "name": "stdout",
     "output_type": "stream",
     "text": [
      "                                 open        high         low       close  \\\n",
      "Date                                                                        \n",
      "2014-09-17 00:00:00+00:00  465.864014  468.174011  452.421997  457.334015   \n",
      "2014-09-18 00:00:00+00:00  456.859985  456.859985  413.104004  424.440002   \n",
      "2014-09-19 00:00:00+00:00  424.102997  427.834991  384.532013  394.795990   \n",
      "2014-09-20 00:00:00+00:00  394.673004  423.295990  389.882996  408.903992   \n",
      "2014-09-21 00:00:00+00:00  408.084991  412.425995  393.181000  398.821014   \n",
      "\n",
      "                             volume  \n",
      "Date                                 \n",
      "2014-09-17 00:00:00+00:00  21056800  \n",
      "2014-09-18 00:00:00+00:00  34483200  \n",
      "2014-09-19 00:00:00+00:00  37919700  \n",
      "2014-09-20 00:00:00+00:00  36863600  \n",
      "2014-09-21 00:00:00+00:00  26580100  \n"
     ]
    },
    {
     "name": "stderr",
     "output_type": "stream",
     "text": [
      "/tmp/ipykernel_275007/2328986949.py:1: FutureWarning: A value is trying to be set on a copy of a DataFrame or Series through chained assignment using an inplace method.\n",
      "The behavior will change in pandas 3.0. This inplace method will never work because the intermediate object on which we are setting values always behaves as a copy.\n",
      "\n",
      "For example, when doing 'df[col].method(value, inplace=True)', try using 'df.method({col: value}, inplace=True)' or df[col] = df[col].method(value) instead, to perform the operation inplace on the original object.\n",
      "\n",
      "\n",
      "  btc['open'].fillna(method='ffill', inplace=True)\n",
      "/tmp/ipykernel_275007/2328986949.py:1: FutureWarning: Series.fillna with 'method' is deprecated and will raise in a future version. Use obj.ffill() or obj.bfill() instead.\n",
      "  btc['open'].fillna(method='ffill', inplace=True)\n",
      "/tmp/ipykernel_275007/2328986949.py:2: FutureWarning: A value is trying to be set on a copy of a DataFrame or Series through chained assignment using an inplace method.\n",
      "The behavior will change in pandas 3.0. This inplace method will never work because the intermediate object on which we are setting values always behaves as a copy.\n",
      "\n",
      "For example, when doing 'df[col].method(value, inplace=True)', try using 'df.method({col: value}, inplace=True)' or df[col] = df[col].method(value) instead, to perform the operation inplace on the original object.\n",
      "\n",
      "\n",
      "  btc['high'].fillna(method='ffill', inplace=True)\n",
      "/tmp/ipykernel_275007/2328986949.py:2: FutureWarning: Series.fillna with 'method' is deprecated and will raise in a future version. Use obj.ffill() or obj.bfill() instead.\n",
      "  btc['high'].fillna(method='ffill', inplace=True)\n",
      "/tmp/ipykernel_275007/2328986949.py:3: FutureWarning: A value is trying to be set on a copy of a DataFrame or Series through chained assignment using an inplace method.\n",
      "The behavior will change in pandas 3.0. This inplace method will never work because the intermediate object on which we are setting values always behaves as a copy.\n",
      "\n",
      "For example, when doing 'df[col].method(value, inplace=True)', try using 'df.method({col: value}, inplace=True)' or df[col] = df[col].method(value) instead, to perform the operation inplace on the original object.\n",
      "\n",
      "\n",
      "  btc['low'].fillna(method='ffill', inplace=True)\n",
      "/tmp/ipykernel_275007/2328986949.py:3: FutureWarning: Series.fillna with 'method' is deprecated and will raise in a future version. Use obj.ffill() or obj.bfill() instead.\n",
      "  btc['low'].fillna(method='ffill', inplace=True)\n",
      "/tmp/ipykernel_275007/2328986949.py:4: FutureWarning: A value is trying to be set on a copy of a DataFrame or Series through chained assignment using an inplace method.\n",
      "The behavior will change in pandas 3.0. This inplace method will never work because the intermediate object on which we are setting values always behaves as a copy.\n",
      "\n",
      "For example, when doing 'df[col].method(value, inplace=True)', try using 'df.method({col: value}, inplace=True)' or df[col] = df[col].method(value) instead, to perform the operation inplace on the original object.\n",
      "\n",
      "\n",
      "  btc['close'].fillna(method='ffill', inplace=True)\n",
      "/tmp/ipykernel_275007/2328986949.py:4: FutureWarning: Series.fillna with 'method' is deprecated and will raise in a future version. Use obj.ffill() or obj.bfill() instead.\n",
      "  btc['close'].fillna(method='ffill', inplace=True)\n",
      "/tmp/ipykernel_275007/2328986949.py:5: FutureWarning: A value is trying to be set on a copy of a DataFrame or Series through chained assignment using an inplace method.\n",
      "The behavior will change in pandas 3.0. This inplace method will never work because the intermediate object on which we are setting values always behaves as a copy.\n",
      "\n",
      "For example, when doing 'df[col].method(value, inplace=True)', try using 'df.method({col: value}, inplace=True)' or df[col] = df[col].method(value) instead, to perform the operation inplace on the original object.\n",
      "\n",
      "\n",
      "  btc['volume'].fillna(method='ffill', inplace=True)\n",
      "/tmp/ipykernel_275007/2328986949.py:5: FutureWarning: Series.fillna with 'method' is deprecated and will raise in a future version. Use obj.ffill() or obj.bfill() instead.\n",
      "  btc['volume'].fillna(method='ffill', inplace=True)\n"
     ]
    }
   ],
   "source": [
    "btc['open'].fillna(method='ffill', inplace=True)\n",
    "btc['high'].fillna(method='ffill', inplace=True)\n",
    "btc['low'].fillna(method='ffill', inplace=True)\n",
    "btc['close'].fillna(method='ffill', inplace=True)\n",
    "btc['volume'].fillna(method='ffill', inplace=True)\n",
    "\n",
    "# Is that the right thing to do with volume?\n",
    "# Who knows!!! Honestly I'll deal with shitty data at this point\n",
    "\n",
    "print(btc.head())"
   ]
  },
  {
   "cell_type": "code",
   "execution_count": null,
   "metadata": {},
   "outputs": [],
   "source": [
    "# ok so issue\n",
    "# reffering to the date is going to be difficult\n",
    "# I'm not sure how to do that.\n",
    "\n",
    "# Why am I not able to get that?\n"
   ]
  }
 ],
 "metadata": {
  "kernelspec": {
   "display_name": "Python 3",
   "language": "python",
   "name": "python3"
  },
  "language_info": {
   "codemirror_mode": {
    "name": "ipython",
    "version": 3
   },
   "file_extension": ".py",
   "mimetype": "text/x-python",
   "name": "python",
   "nbconvert_exporter": "python",
   "pygments_lexer": "ipython3",
   "version": "3.10.12"
  }
 },
 "nbformat": 4,
 "nbformat_minor": 2
}
