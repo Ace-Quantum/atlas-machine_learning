{
 "cells": [
  {
   "cell_type": "markdown",
   "metadata": {},
   "source": [
    "Ok so recap:\n",
    "I've been up all night lol\n",
    "I managed to get fresh data loaded\n",
    "But something was happening with the preprocessor\n",
    "Because my models were not making ANY sens.\n",
    "It's also possible that my visualizing was off\n",
    "But regardless, we had semi-working code before,\n",
    "And we built some new models too\n",
    "While I should have pivoted at least an hour ago (if not two) I'm not counting this as time wasted\n",
    "(Unless I end up not finishing the project)"
   ]
  },
  {
   "cell_type": "markdown",
   "metadata": {},
   "source": [
    "This notebook was written based on these resources:\n",
    "https://www.kaggle.com/code/someadityamandal/bitcoin-time-series-forecasting/notebook\n",
    "https://github.com/dataquestio/project-walkthroughs/tree/master/bitcoin_price\n",
    "https://www.geeksforgeeks.org/time-series-forecasting-using-tensorflow/\n",
    "\n",
    "Special thank you to David for, as always, having the best resources."
   ]
  },
  {
   "cell_type": "code",
   "execution_count": 1,
   "metadata": {},
   "outputs": [
    {
     "name": "stderr",
     "output_type": "stream",
     "text": [
      "2024-11-16 04:41:58.152559: I tensorflow/core/util/port.cc:153] oneDNN custom operations are on. You may see slightly different numerical results due to floating-point round-off errors from different computation orders. To turn them off, set the environment variable `TF_ENABLE_ONEDNN_OPTS=0`.\n",
      "2024-11-16 04:41:58.182844: I external/local_xla/xla/tsl/cuda/cudart_stub.cc:32] Could not find cuda drivers on your machine, GPU will not be used.\n",
      "2024-11-16 04:41:58.298972: I external/local_xla/xla/tsl/cuda/cudart_stub.cc:32] Could not find cuda drivers on your machine, GPU will not be used.\n",
      "2024-11-16 04:41:58.435915: E external/local_xla/xla/stream_executor/cuda/cuda_fft.cc:485] Unable to register cuFFT factory: Attempting to register factory for plugin cuFFT when one has already been registered\n",
      "2024-11-16 04:41:58.543548: E external/local_xla/xla/stream_executor/cuda/cuda_dnn.cc:8454] Unable to register cuDNN factory: Attempting to register factory for plugin cuDNN when one has already been registered\n",
      "2024-11-16 04:41:58.572917: E external/local_xla/xla/stream_executor/cuda/cuda_blas.cc:1452] Unable to register cuBLAS factory: Attempting to register factory for plugin cuBLAS when one has already been registered\n",
      "2024-11-16 04:41:58.759329: I tensorflow/core/platform/cpu_feature_guard.cc:210] This TensorFlow binary is optimized to use available CPU instructions in performance-critical operations.\n",
      "To enable the following instructions: AVX2 AVX512F AVX512_VNNI FMA, in other operations, rebuild TensorFlow with the appropriate compiler flags.\n",
      "2024-11-16 04:42:01.053795: W tensorflow/compiler/tf2tensorrt/utils/py_utils.cc:38] TF-TRT Warning: Could not find TensorRT\n"
     ]
    },
    {
     "name": "stdout",
     "output_type": "stream",
     "text": [
      "['coinbaseUSD.csv', 'bitstampUSD.csv']\n"
     ]
    }
   ],
   "source": [
    "import numpy as np\n",
    "import pandas as pd\n",
    "import keras.layers as layers\n",
    "import keras.models as models\n",
    "\n",
    "import datetime, pytz\n",
    "from sklearn.preprocessing import MinMaxScaler\n",
    "\n",
    "import os\n",
    "print(os.listdir('./data'))"
   ]
  },
  {
   "cell_type": "code",
   "execution_count": 2,
   "metadata": {},
   "outputs": [
    {
     "name": "stderr",
     "output_type": "stream",
     "text": [
      "/tmp/ipykernel_307105/176637671.py:4: FutureWarning: The argument 'date_parser' is deprecated and will be removed in a future version. Please use 'date_format' instead, or read your data in as 'object' dtype and then call 'to_datetime'.\n",
      "  data = pd.read_csv('./data/coinbaseUSD.csv', parse_dates=[0], date_parser=dateparse)\n"
     ]
    },
    {
     "name": "stdout",
     "output_type": "stream",
     "text": [
      "<class 'pandas.core.frame.DataFrame'>\n",
      "RangeIndex: 2099760 entries, 0 to 2099759\n",
      "Data columns (total 8 columns):\n",
      " #   Column             Dtype              \n",
      "---  ------             -----              \n",
      " 0   Timestamp          datetime64[ns, UTC]\n",
      " 1   Open               float64            \n",
      " 2   High               float64            \n",
      " 3   Low                float64            \n",
      " 4   Close              float64            \n",
      " 5   Volume_(BTC)       float64            \n",
      " 6   Volume_(Currency)  float64            \n",
      " 7   Weighted_Price     float64            \n",
      "dtypes: datetime64[ns, UTC](1), float64(7)\n",
      "memory usage: 128.2 MB\n",
      "<bound method NDFrame.head of                         Timestamp     Open     High      Low    Close  \\\n",
      "0       2014-11-30 23:33:00+00:00   300.00   300.00   300.00   300.00   \n",
      "1       2014-11-30 23:34:00+00:00      NaN      NaN      NaN      NaN   \n",
      "2       2014-11-30 23:35:00+00:00      NaN      NaN      NaN      NaN   \n",
      "3       2014-11-30 23:36:00+00:00      NaN      NaN      NaN      NaN   \n",
      "4       2014-11-30 23:37:00+00:00      NaN      NaN      NaN      NaN   \n",
      "...                           ...      ...      ...      ...      ...   \n",
      "2099755 2019-01-07 16:02:00+00:00  4006.01  4006.57  4006.00  4006.01   \n",
      "2099756 2019-01-07 16:03:00+00:00  4006.01  4006.57  4006.00  4006.01   \n",
      "2099757 2019-01-07 16:04:00+00:00  4006.01  4006.01  4006.00  4006.01   \n",
      "2099758 2019-01-07 16:05:00+00:00  4006.01  4006.01  4005.50  4005.50   \n",
      "2099759 2019-01-07 16:06:00+00:00  4005.51  4006.01  4005.51  4005.99   \n",
      "\n",
      "         Volume_(BTC)  Volume_(Currency)  Weighted_Price  \n",
      "0            0.010000           3.000000      300.000000  \n",
      "1                 NaN                NaN             NaN  \n",
      "2                 NaN                NaN             NaN  \n",
      "3                 NaN                NaN             NaN  \n",
      "4                 NaN                NaN             NaN  \n",
      "...               ...                ...             ...  \n",
      "2099755      3.382954       13553.433078     4006.390309  \n",
      "2099756      0.902164        3614.083168     4006.017232  \n",
      "2099757      1.192123        4775.647308     4006.003635  \n",
      "2099758      2.699700       10814.241898     4005.719991  \n",
      "2099759      1.752778        7021.183546     4005.745614  \n",
      "\n",
      "[2099760 rows x 8 columns]>\n"
     ]
    }
   ],
   "source": [
    "def dateparse(time_in_secs):\n",
    "    return pytz.utc.localize(datetime.datetime.fromtimestamp(float(time_in_secs)))\n",
    "\n",
    "data = pd.read_csv('./data/coinbaseUSD.csv', parse_dates=[0], date_parser=dateparse)\n",
    "\n",
    "data.info()\n",
    "print(data.head)"
   ]
  },
  {
   "cell_type": "code",
   "execution_count": 3,
   "metadata": {},
   "outputs": [
    {
     "name": "stdout",
     "output_type": "stream",
     "text": [
      "                  Timestamp   Open   High    Low  Close  Volume_(BTC)  \\\n",
      "0 2014-11-30 23:33:00+00:00  300.0  300.0  300.0  300.0          0.01   \n",
      "1 2014-11-30 23:34:00+00:00  300.0  300.0  300.0  300.0          0.00   \n",
      "2 2014-11-30 23:35:00+00:00  300.0  300.0  300.0  300.0          0.00   \n",
      "3 2014-11-30 23:36:00+00:00  300.0  300.0  300.0  300.0          0.00   \n",
      "4 2014-11-30 23:37:00+00:00  300.0  300.0  300.0  300.0          0.00   \n",
      "\n",
      "   Volume_(Currency)  Weighted_Price  \n",
      "0                3.0           300.0  \n",
      "1                0.0             0.0  \n",
      "2                0.0             0.0  \n",
      "3                0.0             0.0  \n",
      "4                0.0             0.0  \n"
     ]
    },
    {
     "name": "stderr",
     "output_type": "stream",
     "text": [
      "/tmp/ipykernel_307105/537992000.py:1: FutureWarning: A value is trying to be set on a copy of a DataFrame or Series through chained assignment using an inplace method.\n",
      "The behavior will change in pandas 3.0. This inplace method will never work because the intermediate object on which we are setting values always behaves as a copy.\n",
      "\n",
      "For example, when doing 'df[col].method(value, inplace=True)', try using 'df.method({col: value}, inplace=True)' or df[col] = df[col].method(value) instead, to perform the operation inplace on the original object.\n",
      "\n",
      "\n",
      "  data['Volume_(BTC)'].fillna(value=0, inplace=True)\n",
      "/tmp/ipykernel_307105/537992000.py:2: FutureWarning: A value is trying to be set on a copy of a DataFrame or Series through chained assignment using an inplace method.\n",
      "The behavior will change in pandas 3.0. This inplace method will never work because the intermediate object on which we are setting values always behaves as a copy.\n",
      "\n",
      "For example, when doing 'df[col].method(value, inplace=True)', try using 'df.method({col: value}, inplace=True)' or df[col] = df[col].method(value) instead, to perform the operation inplace on the original object.\n",
      "\n",
      "\n",
      "  data['Volume_(Currency)'].fillna(value=0, inplace=True)\n",
      "/tmp/ipykernel_307105/537992000.py:3: FutureWarning: A value is trying to be set on a copy of a DataFrame or Series through chained assignment using an inplace method.\n",
      "The behavior will change in pandas 3.0. This inplace method will never work because the intermediate object on which we are setting values always behaves as a copy.\n",
      "\n",
      "For example, when doing 'df[col].method(value, inplace=True)', try using 'df.method({col: value}, inplace=True)' or df[col] = df[col].method(value) instead, to perform the operation inplace on the original object.\n",
      "\n",
      "\n",
      "  data['Weighted_Price'].fillna(value=0, inplace=True)\n",
      "/tmp/ipykernel_307105/537992000.py:5: FutureWarning: A value is trying to be set on a copy of a DataFrame or Series through chained assignment using an inplace method.\n",
      "The behavior will change in pandas 3.0. This inplace method will never work because the intermediate object on which we are setting values always behaves as a copy.\n",
      "\n",
      "For example, when doing 'df[col].method(value, inplace=True)', try using 'df.method({col: value}, inplace=True)' or df[col] = df[col].method(value) instead, to perform the operation inplace on the original object.\n",
      "\n",
      "\n",
      "  data['Open'].fillna(method='ffill', inplace=True)\n",
      "/tmp/ipykernel_307105/537992000.py:5: FutureWarning: Series.fillna with 'method' is deprecated and will raise in a future version. Use obj.ffill() or obj.bfill() instead.\n",
      "  data['Open'].fillna(method='ffill', inplace=True)\n",
      "/tmp/ipykernel_307105/537992000.py:6: FutureWarning: A value is trying to be set on a copy of a DataFrame or Series through chained assignment using an inplace method.\n",
      "The behavior will change in pandas 3.0. This inplace method will never work because the intermediate object on which we are setting values always behaves as a copy.\n",
      "\n",
      "For example, when doing 'df[col].method(value, inplace=True)', try using 'df.method({col: value}, inplace=True)' or df[col] = df[col].method(value) instead, to perform the operation inplace on the original object.\n",
      "\n",
      "\n",
      "  data['High'].fillna(method='ffill', inplace=True)\n",
      "/tmp/ipykernel_307105/537992000.py:6: FutureWarning: Series.fillna with 'method' is deprecated and will raise in a future version. Use obj.ffill() or obj.bfill() instead.\n",
      "  data['High'].fillna(method='ffill', inplace=True)\n",
      "/tmp/ipykernel_307105/537992000.py:7: FutureWarning: A value is trying to be set on a copy of a DataFrame or Series through chained assignment using an inplace method.\n",
      "The behavior will change in pandas 3.0. This inplace method will never work because the intermediate object on which we are setting values always behaves as a copy.\n",
      "\n",
      "For example, when doing 'df[col].method(value, inplace=True)', try using 'df.method({col: value}, inplace=True)' or df[col] = df[col].method(value) instead, to perform the operation inplace on the original object.\n",
      "\n",
      "\n",
      "  data['Low'].fillna(method='ffill', inplace=True)\n",
      "/tmp/ipykernel_307105/537992000.py:7: FutureWarning: Series.fillna with 'method' is deprecated and will raise in a future version. Use obj.ffill() or obj.bfill() instead.\n",
      "  data['Low'].fillna(method='ffill', inplace=True)\n",
      "/tmp/ipykernel_307105/537992000.py:8: FutureWarning: A value is trying to be set on a copy of a DataFrame or Series through chained assignment using an inplace method.\n",
      "The behavior will change in pandas 3.0. This inplace method will never work because the intermediate object on which we are setting values always behaves as a copy.\n",
      "\n",
      "For example, when doing 'df[col].method(value, inplace=True)', try using 'df.method({col: value}, inplace=True)' or df[col] = df[col].method(value) instead, to perform the operation inplace on the original object.\n",
      "\n",
      "\n",
      "  data['Close'].fillna(method='ffill', inplace=True)\n",
      "/tmp/ipykernel_307105/537992000.py:8: FutureWarning: Series.fillna with 'method' is deprecated and will raise in a future version. Use obj.ffill() or obj.bfill() instead.\n",
      "  data['Close'].fillna(method='ffill', inplace=True)\n"
     ]
    }
   ],
   "source": [
    "data['Volume_(BTC)'].fillna(value=0, inplace=True)\n",
    "data['Volume_(Currency)'].fillna(value=0, inplace=True)\n",
    "data['Weighted_Price'].fillna(value=0, inplace=True)\n",
    "\n",
    "data['Open'].fillna(method='ffill', inplace=True)\n",
    "data['High'].fillna(method='ffill', inplace=True)\n",
    "data['Low'].fillna(method='ffill', inplace=True)\n",
    "data['Close'].fillna(method='ffill', inplace=True)\n",
    "\n",
    "print(data.head())"
   ]
  },
  {
   "cell_type": "code",
   "execution_count": 4,
   "metadata": {},
   "outputs": [
    {
     "name": "stdout",
     "output_type": "stream",
     "text": [
      "                  Timestamp    Open    High     Low   Close  Volume_(BTC)  \\\n",
      "0 2015-01-12 00:00:00+00:00  360.00  360.00  360.00  360.00         0.010   \n",
      "1 2015-01-19 00:00:00+00:00  260.00  260.00  260.00  260.00         0.000   \n",
      "2 2015-01-26 00:00:00+00:00  225.51  225.51  225.51  225.51         0.000   \n",
      "3 2015-02-02 00:00:00+00:00  259.99  259.99  259.99  259.99         0.300   \n",
      "4 2015-02-09 00:00:00+00:00  239.28  239.50  239.28  239.50        20.675   \n",
      "\n",
      "   Volume_(Currency)  Weighted_Price  \n",
      "0           3.600000      360.000000  \n",
      "1           0.000000        0.000000  \n",
      "2           0.000000        0.000000  \n",
      "3          77.997000      259.990000  \n",
      "4        4951.178693      239.476599  \n"
     ]
    }
   ],
   "source": [
    "start = datetime.datetime(2015, 1, 1, 0,0,0,0, pytz.UTC)\n",
    "end = datetime.datetime(2018, 11,11,0,0,0,0, pytz.UTC)\n",
    "\n",
    "weekly_rows = data[(data['Timestamp'] >= start) & (\n",
    "    data['Timestamp'] <= end)].groupby(\n",
    "        [pd.Grouper(key='Timestamp', freq='W-MON')]\n",
    "    ).first().reset_index()\n",
    "\n",
    "print(weekly_rows.head())"
   ]
  },
  {
   "cell_type": "code",
   "execution_count": 5,
   "metadata": {},
   "outputs": [
    {
     "name": "stderr",
     "output_type": "stream",
     "text": [
      "/tmp/ipykernel_307105/105282266.py:1: FutureWarning: The argument 'date_parser' is deprecated and will be removed in a future version. Please use 'date_format' instead, or read your data in as 'object' dtype and then call 'to_datetime'.\n",
      "  data = pd.read_csv('./data/coinbaseUSD.csv', parse_dates=[0], date_parser=dateparse)\n",
      "/tmp/ipykernel_307105/105282266.py:4: FutureWarning: 'H' is deprecated and will be removed in a future version, please use 'h' instead.\n",
      "  data = data.groupby([pd.Grouper(key='Timestamp', freq='H')]).first().reset_index()\n",
      "/tmp/ipykernel_307105/105282266.py:8: FutureWarning: A value is trying to be set on a copy of a DataFrame or Series through chained assignment using an inplace method.\n",
      "The behavior will change in pandas 3.0. This inplace method will never work because the intermediate object on which we are setting values always behaves as a copy.\n",
      "\n",
      "For example, when doing 'df[col].method(value, inplace=True)', try using 'df.method({col: value}, inplace=True)' or df[col] = df[col].method(value) instead, to perform the operation inplace on the original object.\n",
      "\n",
      "\n",
      "  data['Weighted_Price'].fillna(method='ffill', inplace=True)\n",
      "/tmp/ipykernel_307105/105282266.py:8: FutureWarning: Series.fillna with 'method' is deprecated and will raise in a future version. Use obj.ffill() or obj.bfill() instead.\n",
      "  data['Weighted_Price'].fillna(method='ffill', inplace=True)\n"
     ]
    }
   ],
   "source": [
    "data = pd.read_csv('./data/coinbaseUSD.csv', parse_dates=[0], date_parser=dateparse)\n",
    "data['Timestamp'] = data['Timestamp'].dt.tz_localize(None)\n",
    "\n",
    "data = data.groupby([pd.Grouper(key='Timestamp', freq='H')]).first().reset_index()\n",
    "\n",
    "data = data.set_index('Timestamp')\n",
    "data = data[['Weighted_Price']]\n",
    "data['Weighted_Price'].fillna(method='ffill', inplace=True)"
   ]
  },
  {
   "cell_type": "code",
   "execution_count": 6,
   "metadata": {},
   "outputs": [],
   "source": [
    "split_date = '25-Jun-2018'\n",
    "\n",
    "data_train = data.loc[data.index <= split_date].copy()\n",
    "data_test = data.loc[data.index > split_date].copy()"
   ]
  },
  {
   "cell_type": "code",
   "execution_count": 7,
   "metadata": {},
   "outputs": [],
   "source": [
    "training_set = data_train.values\n",
    "training_set = np.reshape(training_set, (len(training_set), 1))\n",
    "\n",
    "sc = MinMaxScaler()\n",
    "training_set = sc.fit_transform(training_set)\n",
    "X_train = training_set[0:len(training_set)-1]\n",
    "y_train = training_set[1:len(training_set)]\n",
    "X_train = np.reshape(X_train, (len(X_train), 1, 1))"
   ]
  },
  {
   "cell_type": "code",
   "execution_count": 8,
   "metadata": {},
   "outputs": [
    {
     "name": "stderr",
     "output_type": "stream",
     "text": [
      "/usr/local/lib/python3.10/dist-packages/keras/src/layers/rnn/rnn.py:204: UserWarning: Do not pass an `input_shape`/`input_dim` argument to a layer. When using Sequential models, prefer using an `Input(shape)` object as the first layer in the model instead.\n",
      "  super().__init__(**kwargs)\n"
     ]
    },
    {
     "name": "stdout",
     "output_type": "stream",
     "text": [
      "Epoch 1/100\n",
      "625/625 - 4s - 6ms/step - loss: 0.0066\n",
      "Epoch 2/100\n",
      "625/625 - 2s - 3ms/step - loss: 5.3629e-05\n",
      "Epoch 3/100\n",
      "625/625 - 2s - 3ms/step - loss: 2.5424e-05\n",
      "Epoch 4/100\n",
      "625/625 - 2s - 3ms/step - loss: 1.2777e-05\n",
      "Epoch 5/100\n",
      "625/625 - 2s - 3ms/step - loss: 1.1872e-05\n",
      "Epoch 6/100\n",
      "625/625 - 2s - 3ms/step - loss: 1.1653e-05\n",
      "Epoch 7/100\n",
      "625/625 - 2s - 2ms/step - loss: 1.1937e-05\n",
      "Epoch 8/100\n",
      "625/625 - 2s - 3ms/step - loss: 1.1909e-05\n",
      "Epoch 9/100\n",
      "625/625 - 2s - 3ms/step - loss: 1.2316e-05\n",
      "Epoch 10/100\n",
      "625/625 - 2s - 3ms/step - loss: 1.2278e-05\n",
      "Epoch 11/100\n",
      "625/625 - 3s - 4ms/step - loss: 1.2609e-05\n",
      "Epoch 12/100\n",
      "625/625 - 2s - 4ms/step - loss: 1.1947e-05\n",
      "Epoch 13/100\n",
      "625/625 - 2s - 3ms/step - loss: 1.2351e-05\n",
      "Epoch 14/100\n",
      "625/625 - 2s - 3ms/step - loss: 1.2871e-05\n",
      "Epoch 15/100\n",
      "625/625 - 2s - 3ms/step - loss: 1.2373e-05\n",
      "Epoch 16/100\n",
      "625/625 - 3s - 5ms/step - loss: 1.2289e-05\n",
      "Epoch 17/100\n",
      "625/625 - 2s - 3ms/step - loss: 1.2532e-05\n",
      "Epoch 18/100\n",
      "625/625 - 2s - 3ms/step - loss: 1.2421e-05\n",
      "Epoch 19/100\n",
      "625/625 - 2s - 4ms/step - loss: 1.2240e-05\n",
      "Epoch 20/100\n",
      "625/625 - 2s - 4ms/step - loss: 1.2622e-05\n",
      "Epoch 21/100\n",
      "625/625 - 2s - 4ms/step - loss: 1.2383e-05\n",
      "Epoch 22/100\n",
      "625/625 - 2s - 4ms/step - loss: 1.2156e-05\n",
      "Epoch 23/100\n",
      "625/625 - 2s - 4ms/step - loss: 1.2141e-05\n",
      "Epoch 24/100\n",
      "625/625 - 4s - 6ms/step - loss: 1.2528e-05\n",
      "Epoch 25/100\n",
      "625/625 - 5s - 7ms/step - loss: 1.2415e-05\n",
      "Epoch 26/100\n",
      "625/625 - 3s - 5ms/step - loss: 1.2479e-05\n",
      "Epoch 27/100\n",
      "625/625 - 3s - 5ms/step - loss: 1.2430e-05\n",
      "Epoch 28/100\n",
      "625/625 - 3s - 4ms/step - loss: 1.2287e-05\n",
      "Epoch 29/100\n",
      "625/625 - 2s - 3ms/step - loss: 1.2321e-05\n",
      "Epoch 30/100\n",
      "625/625 - 2s - 4ms/step - loss: 1.2229e-05\n",
      "Epoch 31/100\n",
      "625/625 - 1s - 2ms/step - loss: 1.2614e-05\n",
      "Epoch 32/100\n",
      "625/625 - 2s - 3ms/step - loss: 1.2632e-05\n",
      "Epoch 33/100\n",
      "625/625 - 2s - 3ms/step - loss: 1.1976e-05\n",
      "Epoch 34/100\n",
      "625/625 - 3s - 4ms/step - loss: 1.2217e-05\n",
      "Epoch 35/100\n",
      "625/625 - 3s - 5ms/step - loss: 1.2546e-05\n",
      "Epoch 36/100\n",
      "625/625 - 3s - 4ms/step - loss: 1.2308e-05\n",
      "Epoch 37/100\n",
      "625/625 - 3s - 4ms/step - loss: 1.2408e-05\n",
      "Epoch 38/100\n",
      "625/625 - 2s - 4ms/step - loss: 1.2633e-05\n",
      "Epoch 39/100\n",
      "625/625 - 2s - 3ms/step - loss: 1.2114e-05\n",
      "Epoch 40/100\n",
      "625/625 - 3s - 4ms/step - loss: 1.2129e-05\n",
      "Epoch 41/100\n",
      "625/625 - 2s - 3ms/step - loss: 1.2562e-05\n",
      "Epoch 42/100\n",
      "625/625 - 2s - 2ms/step - loss: 1.2655e-05\n",
      "Epoch 43/100\n",
      "625/625 - 2s - 3ms/step - loss: 1.2004e-05\n",
      "Epoch 44/100\n",
      "625/625 - 2s - 3ms/step - loss: 1.2307e-05\n",
      "Epoch 45/100\n",
      "625/625 - 2s - 3ms/step - loss: 1.2313e-05\n",
      "Epoch 46/100\n",
      "625/625 - 2s - 4ms/step - loss: 1.2367e-05\n",
      "Epoch 47/100\n",
      "625/625 - 2s - 2ms/step - loss: 1.2046e-05\n",
      "Epoch 48/100\n",
      "625/625 - 2s - 3ms/step - loss: 1.2209e-05\n",
      "Epoch 49/100\n",
      "625/625 - 2s - 3ms/step - loss: 1.2211e-05\n",
      "Epoch 50/100\n",
      "625/625 - 2s - 3ms/step - loss: 1.2128e-05\n",
      "Epoch 51/100\n",
      "625/625 - 2s - 3ms/step - loss: 1.2372e-05\n",
      "Epoch 52/100\n",
      "625/625 - 2s - 3ms/step - loss: 1.2277e-05\n",
      "Epoch 53/100\n",
      "625/625 - 2s - 4ms/step - loss: 1.2733e-05\n",
      "Epoch 54/100\n",
      "625/625 - 2s - 3ms/step - loss: 1.2360e-05\n",
      "Epoch 55/100\n",
      "625/625 - 2s - 3ms/step - loss: 1.2731e-05\n",
      "Epoch 56/100\n",
      "625/625 - 2s - 3ms/step - loss: 1.2236e-05\n",
      "Epoch 57/100\n",
      "625/625 - 2s - 3ms/step - loss: 1.2116e-05\n",
      "Epoch 58/100\n",
      "625/625 - 4s - 6ms/step - loss: 1.2229e-05\n",
      "Epoch 59/100\n",
      "625/625 - 2s - 3ms/step - loss: 1.2089e-05\n",
      "Epoch 60/100\n",
      "625/625 - 2s - 3ms/step - loss: 1.2187e-05\n",
      "Epoch 61/100\n",
      "625/625 - 2s - 3ms/step - loss: 1.2050e-05\n",
      "Epoch 62/100\n",
      "625/625 - 2s - 3ms/step - loss: 1.1819e-05\n",
      "Epoch 63/100\n",
      "625/625 - 2s - 4ms/step - loss: 1.2286e-05\n",
      "Epoch 64/100\n",
      "625/625 - 2s - 3ms/step - loss: 1.2073e-05\n",
      "Epoch 65/100\n",
      "625/625 - 3s - 4ms/step - loss: 1.2120e-05\n",
      "Epoch 66/100\n",
      "625/625 - 2s - 3ms/step - loss: 1.2169e-05\n",
      "Epoch 67/100\n",
      "625/625 - 2s - 3ms/step - loss: 1.2379e-05\n",
      "Epoch 68/100\n",
      "625/625 - 2s - 3ms/step - loss: 1.2409e-05\n",
      "Epoch 69/100\n",
      "625/625 - 2s - 3ms/step - loss: 1.2059e-05\n",
      "Epoch 70/100\n",
      "625/625 - 2s - 3ms/step - loss: 1.2183e-05\n",
      "Epoch 71/100\n",
      "625/625 - 2s - 3ms/step - loss: 1.1953e-05\n",
      "Epoch 72/100\n",
      "625/625 - 3s - 5ms/step - loss: 1.2260e-05\n",
      "Epoch 73/100\n",
      "625/625 - 2s - 4ms/step - loss: 1.2347e-05\n",
      "Epoch 74/100\n",
      "625/625 - 2s - 3ms/step - loss: 1.2050e-05\n",
      "Epoch 75/100\n",
      "625/625 - 2s - 3ms/step - loss: 1.2395e-05\n",
      "Epoch 76/100\n",
      "625/625 - 2s - 3ms/step - loss: 1.2301e-05\n",
      "Epoch 77/100\n",
      "625/625 - 3s - 4ms/step - loss: 1.2171e-05\n",
      "Epoch 78/100\n",
      "625/625 - 4s - 7ms/step - loss: 1.2263e-05\n",
      "Epoch 79/100\n",
      "625/625 - 2s - 4ms/step - loss: 1.1932e-05\n",
      "Epoch 80/100\n",
      "625/625 - 2s - 4ms/step - loss: 1.2141e-05\n",
      "Epoch 81/100\n",
      "625/625 - 2s - 4ms/step - loss: 1.2661e-05\n",
      "Epoch 82/100\n",
      "625/625 - 2s - 3ms/step - loss: 1.2032e-05\n",
      "Epoch 83/100\n",
      "625/625 - 3s - 4ms/step - loss: 1.1974e-05\n",
      "Epoch 84/100\n",
      "625/625 - 2s - 3ms/step - loss: 1.2134e-05\n",
      "Epoch 85/100\n",
      "625/625 - 2s - 3ms/step - loss: 1.2733e-05\n",
      "Epoch 86/100\n",
      "625/625 - 3s - 5ms/step - loss: 1.2027e-05\n",
      "Epoch 87/100\n",
      "625/625 - 3s - 4ms/step - loss: 1.2096e-05\n",
      "Epoch 88/100\n",
      "625/625 - 2s - 3ms/step - loss: 1.2071e-05\n",
      "Epoch 89/100\n",
      "625/625 - 2s - 3ms/step - loss: 1.2590e-05\n",
      "Epoch 90/100\n",
      "625/625 - 2s - 3ms/step - loss: 1.2283e-05\n",
      "Epoch 91/100\n",
      "625/625 - 3s - 4ms/step - loss: 1.2166e-05\n",
      "Epoch 92/100\n",
      "625/625 - 3s - 5ms/step - loss: 1.2281e-05\n",
      "Epoch 93/100\n",
      "625/625 - 4s - 7ms/step - loss: 1.1885e-05\n",
      "Epoch 94/100\n",
      "625/625 - 4s - 6ms/step - loss: 1.2133e-05\n",
      "Epoch 95/100\n",
      "625/625 - 2s - 3ms/step - loss: 1.2242e-05\n",
      "Epoch 96/100\n",
      "625/625 - 2s - 3ms/step - loss: 1.2210e-05\n",
      "Epoch 97/100\n",
      "625/625 - 2s - 3ms/step - loss: 1.2036e-05\n",
      "Epoch 98/100\n",
      "625/625 - 4s - 7ms/step - loss: 1.2330e-05\n",
      "Epoch 99/100\n",
      "625/625 - 3s - 5ms/step - loss: 1.2117e-05\n",
      "Epoch 100/100\n",
      "625/625 - 2s - 3ms/step - loss: 1.2225e-05\n",
      "Epoch 1/100\n",
      "625/625 - 6s - 9ms/step - loss: 0.0115\n",
      "Epoch 2/100\n",
      "625/625 - 2s - 3ms/step - loss: 0.0074\n",
      "Epoch 3/100\n",
      "625/625 - 2s - 3ms/step - loss: 0.0072\n",
      "Epoch 4/100\n",
      "625/625 - 2s - 3ms/step - loss: 0.0076\n",
      "Epoch 5/100\n",
      "625/625 - 2s - 3ms/step - loss: 0.0078\n",
      "Epoch 6/100\n",
      "625/625 - 2s - 3ms/step - loss: 0.0074\n",
      "Epoch 7/100\n",
      "625/625 - 2s - 3ms/step - loss: 0.0075\n",
      "Epoch 8/100\n",
      "625/625 - 2s - 4ms/step - loss: 0.0077\n",
      "Epoch 9/100\n",
      "625/625 - 2s - 3ms/step - loss: 0.0075\n",
      "Epoch 10/100\n",
      "625/625 - 2s - 3ms/step - loss: 0.0078\n",
      "Epoch 11/100\n",
      "625/625 - 2s - 3ms/step - loss: 0.0077\n",
      "Epoch 12/100\n",
      "625/625 - 2s - 3ms/step - loss: 0.0079\n",
      "Epoch 13/100\n",
      "625/625 - 2s - 3ms/step - loss: 0.0075\n",
      "Epoch 14/100\n",
      "625/625 - 2s - 3ms/step - loss: 0.0076\n",
      "Epoch 15/100\n",
      "625/625 - 2s - 4ms/step - loss: 0.0075\n",
      "Epoch 16/100\n",
      "625/625 - 2s - 3ms/step - loss: 0.0076\n",
      "Epoch 17/100\n",
      "625/625 - 2s - 3ms/step - loss: 0.0074\n",
      "Epoch 18/100\n",
      "625/625 - 2s - 3ms/step - loss: 0.0075\n",
      "Epoch 19/100\n",
      "625/625 - 2s - 3ms/step - loss: 0.0073\n",
      "Epoch 20/100\n",
      "625/625 - 2s - 3ms/step - loss: 0.0075\n",
      "Epoch 21/100\n",
      "625/625 - 2s - 3ms/step - loss: 0.0076\n",
      "Epoch 22/100\n",
      "625/625 - 2s - 3ms/step - loss: 0.0078\n",
      "Epoch 23/100\n",
      "625/625 - 2s - 3ms/step - loss: 0.0076\n",
      "Epoch 24/100\n",
      "625/625 - 2s - 3ms/step - loss: 0.0076\n",
      "Epoch 25/100\n",
      "625/625 - 2s - 4ms/step - loss: 0.0076\n",
      "Epoch 26/100\n",
      "625/625 - 2s - 3ms/step - loss: 0.0073\n",
      "Epoch 27/100\n",
      "625/625 - 2s - 3ms/step - loss: 0.0076\n",
      "Epoch 28/100\n",
      "625/625 - 3s - 5ms/step - loss: 0.0074\n",
      "Epoch 29/100\n",
      "625/625 - 4s - 7ms/step - loss: 0.0078\n",
      "Epoch 30/100\n",
      "625/625 - 2s - 3ms/step - loss: 0.0074\n",
      "Epoch 31/100\n",
      "625/625 - 2s - 3ms/step - loss: 0.0073\n",
      "Epoch 32/100\n",
      "625/625 - 2s - 3ms/step - loss: 0.0079\n",
      "Epoch 33/100\n",
      "625/625 - 2s - 4ms/step - loss: 0.0073\n",
      "Epoch 34/100\n",
      "625/625 - 2s - 4ms/step - loss: 0.0076\n",
      "Epoch 35/100\n",
      "625/625 - 2s - 3ms/step - loss: 0.0076\n",
      "Epoch 36/100\n",
      "625/625 - 3s - 5ms/step - loss: 0.0075\n",
      "Epoch 37/100\n",
      "625/625 - 2s - 3ms/step - loss: 0.0075\n",
      "Epoch 38/100\n",
      "625/625 - 2s - 3ms/step - loss: 0.0075\n",
      "Epoch 39/100\n",
      "625/625 - 2s - 3ms/step - loss: 0.0079\n",
      "Epoch 40/100\n",
      "625/625 - 2s - 3ms/step - loss: 0.0075\n",
      "Epoch 41/100\n",
      "625/625 - 2s - 4ms/step - loss: 0.0076\n",
      "Epoch 42/100\n",
      "625/625 - 2s - 3ms/step - loss: 0.0075\n",
      "Epoch 43/100\n",
      "625/625 - 2s - 4ms/step - loss: 0.0075\n",
      "Epoch 44/100\n",
      "625/625 - 2s - 3ms/step - loss: 0.0076\n",
      "Epoch 45/100\n",
      "625/625 - 2s - 4ms/step - loss: 0.0076\n",
      "Epoch 46/100\n",
      "625/625 - 2s - 4ms/step - loss: 0.0076\n",
      "Epoch 47/100\n",
      "625/625 - 2s - 4ms/step - loss: 0.0078\n",
      "Epoch 48/100\n",
      "625/625 - 2s - 4ms/step - loss: 0.0077\n",
      "Epoch 49/100\n",
      "625/625 - 2s - 4ms/step - loss: 0.0078\n",
      "Epoch 50/100\n",
      "625/625 - 2s - 4ms/step - loss: 0.0075\n",
      "Epoch 51/100\n",
      "625/625 - 3s - 5ms/step - loss: 0.0076\n",
      "Epoch 52/100\n",
      "625/625 - 2s - 4ms/step - loss: 0.0076\n",
      "Epoch 53/100\n",
      "625/625 - 2s - 3ms/step - loss: 0.0074\n",
      "Epoch 54/100\n",
      "625/625 - 2s - 3ms/step - loss: 0.0075\n",
      "Epoch 55/100\n",
      "625/625 - 2s - 3ms/step - loss: 0.0077\n",
      "Epoch 56/100\n",
      "625/625 - 2s - 3ms/step - loss: 0.0075\n",
      "Epoch 57/100\n",
      "625/625 - 2s - 4ms/step - loss: 0.0075\n",
      "Epoch 58/100\n",
      "625/625 - 2s - 3ms/step - loss: 0.0075\n",
      "Epoch 59/100\n",
      "625/625 - 2s - 4ms/step - loss: 0.0076\n",
      "Epoch 60/100\n",
      "625/625 - 2s - 3ms/step - loss: 0.0072\n",
      "Epoch 61/100\n",
      "625/625 - 2s - 4ms/step - loss: 0.0075\n",
      "Epoch 62/100\n",
      "625/625 - 2s - 4ms/step - loss: 0.0076\n",
      "Epoch 63/100\n",
      "625/625 - 3s - 4ms/step - loss: 0.0076\n",
      "Epoch 64/100\n",
      "625/625 - 2s - 3ms/step - loss: 0.0076\n",
      "Epoch 65/100\n",
      "625/625 - 2s - 3ms/step - loss: 0.0075\n",
      "Epoch 66/100\n",
      "625/625 - 2s - 3ms/step - loss: 0.0077\n",
      "Epoch 67/100\n",
      "625/625 - 2s - 4ms/step - loss: 0.0074\n",
      "Epoch 68/100\n",
      "625/625 - 3s - 5ms/step - loss: 0.0071\n",
      "Epoch 69/100\n",
      "625/625 - 3s - 5ms/step - loss: 0.0078\n",
      "Epoch 70/100\n",
      "625/625 - 2s - 3ms/step - loss: 0.0077\n",
      "Epoch 71/100\n",
      "625/625 - 2s - 4ms/step - loss: 0.0076\n",
      "Epoch 72/100\n",
      "625/625 - 2s - 3ms/step - loss: 0.0076\n",
      "Epoch 73/100\n",
      "625/625 - 2s - 4ms/step - loss: 0.0075\n",
      "Epoch 74/100\n",
      "625/625 - 2s - 3ms/step - loss: 0.0076\n",
      "Epoch 75/100\n",
      "625/625 - 2s - 3ms/step - loss: 0.0075\n",
      "Epoch 76/100\n",
      "625/625 - 2s - 4ms/step - loss: 0.0076\n",
      "Epoch 77/100\n",
      "625/625 - 2s - 3ms/step - loss: 0.0075\n",
      "Epoch 78/100\n",
      "625/625 - 2s - 3ms/step - loss: 0.0073\n",
      "Epoch 79/100\n",
      "625/625 - 2s - 3ms/step - loss: 0.0076\n",
      "Epoch 80/100\n",
      "625/625 - 2s - 3ms/step - loss: 0.0077\n",
      "Epoch 81/100\n",
      "625/625 - 2s - 3ms/step - loss: 0.0076\n",
      "Epoch 82/100\n",
      "625/625 - 2s - 3ms/step - loss: 0.0077\n",
      "Epoch 83/100\n",
      "625/625 - 3s - 4ms/step - loss: 0.0077\n",
      "Epoch 84/100\n",
      "625/625 - 2s - 3ms/step - loss: 0.0075\n",
      "Epoch 85/100\n",
      "625/625 - 3s - 4ms/step - loss: 0.0073\n",
      "Epoch 86/100\n",
      "625/625 - 2s - 3ms/step - loss: 0.0073\n",
      "Epoch 87/100\n",
      "625/625 - 3s - 5ms/step - loss: 0.0073\n",
      "Epoch 88/100\n",
      "625/625 - 4s - 6ms/step - loss: 0.0076\n",
      "Epoch 89/100\n",
      "625/625 - 2s - 2ms/step - loss: 0.0076\n",
      "Epoch 90/100\n",
      "625/625 - 2s - 3ms/step - loss: 0.0077\n",
      "Epoch 91/100\n",
      "625/625 - 2s - 3ms/step - loss: 0.0076\n",
      "Epoch 92/100\n",
      "625/625 - 2s - 3ms/step - loss: 0.0075\n",
      "Epoch 93/100\n",
      "625/625 - 2s - 3ms/step - loss: 0.0077\n",
      "Epoch 94/100\n",
      "625/625 - 2s - 3ms/step - loss: 0.0075\n",
      "Epoch 95/100\n",
      "625/625 - 2s - 3ms/step - loss: 0.0077\n",
      "Epoch 96/100\n",
      "625/625 - 2s - 3ms/step - loss: 0.0076\n",
      "Epoch 97/100\n",
      "625/625 - 2s - 4ms/step - loss: 0.0076\n",
      "Epoch 98/100\n",
      "625/625 - 2s - 3ms/step - loss: 0.0077\n",
      "Epoch 99/100\n",
      "625/625 - 2s - 3ms/step - loss: 0.0075\n",
      "Epoch 100/100\n",
      "625/625 - 2s - 3ms/step - loss: 0.0077\n"
     ]
    },
    {
     "data": {
      "text/plain": [
       "<keras.src.callbacks.history.History at 0x7fa91f5ed210>"
      ]
     },
     "execution_count": 8,
     "metadata": {},
     "output_type": "execute_result"
    }
   ],
   "source": [
    "model1 = models.Sequential()\n",
    "\n",
    "model1.add(layers.LSTM(128, activation='relu', input_shape=(1, 1)))\n",
    "model1.add(layers.Dense(1))\n",
    "model1.compile(loss='mean_squared_error', optimizer='adam')\n",
    "model1.fit(X_train, y_train, epochs=100, batch_size=50, verbose=2)\n",
    "\n",
    "model2 = models.Sequential()\n",
    "\n",
    "# This one's more promising than the other's I've seen\n",
    "model2.add(layers.LSTM(100, return_sequences=True))\n",
    "model2.add(layers.LSTM(100, return_sequences=True))\n",
    "model2.add(layers.LSTM(50))\n",
    "model2.add(layers.Dense(8, activation='relu'))\n",
    "model2.add(layers.Dense(1, activation= 'linear'))\n",
    "# Interesting that this one does two different activation functions\n",
    "# Suppose that makes sense though\n",
    "\n",
    "# Ok last one is that weird amalgamation I did last time.\n",
    "# Copy and pasting isn't cheating when it's your own code\n",
    "model3 = models.Sequential()\n",
    "\n",
    "model3.add(layers.LSTM(128, activation='relu', input_shape=(1, 1)))\n",
    "model3.add(layers.Dropout(0.2))\n",
    "model3.add(layers.Dense(1))\n",
    "model3.add(layers.Dropout(0.2))\n",
    "model3.add(layers.Dense(1))\n",
    "model3.compile(loss='mean_squared_error', optimizer='adam')\n",
    "model3.fit(X_train, y_train, epochs=100, batch_size=50, verbose=2)"
   ]
  },
  {
   "cell_type": "code",
   "execution_count": 10,
   "metadata": {},
   "outputs": [
    {
     "data": {
      "text/html": [
       "<pre style=\"white-space:pre;overflow-x:auto;line-height:normal;font-family:Menlo,'DejaVu Sans Mono',consolas,'Courier New',monospace\"><span style=\"font-weight: bold\">Model: \"sequential\"</span>\n",
       "</pre>\n"
      ],
      "text/plain": [
       "\u001b[1mModel: \"sequential\"\u001b[0m\n"
      ]
     },
     "metadata": {},
     "output_type": "display_data"
    },
    {
     "data": {
      "text/html": [
       "<pre style=\"white-space:pre;overflow-x:auto;line-height:normal;font-family:Menlo,'DejaVu Sans Mono',consolas,'Courier New',monospace\">┏━━━━━━━━━━━━━━━━━━━━━━━━━━━━━━━━━┳━━━━━━━━━━━━━━━━━━━━━━━━┳━━━━━━━━━━━━━━━┓\n",
       "┃<span style=\"font-weight: bold\"> Layer (type)                    </span>┃<span style=\"font-weight: bold\"> Output Shape           </span>┃<span style=\"font-weight: bold\">       Param # </span>┃\n",
       "┡━━━━━━━━━━━━━━━━━━━━━━━━━━━━━━━━━╇━━━━━━━━━━━━━━━━━━━━━━━━╇━━━━━━━━━━━━━━━┩\n",
       "│ lstm (<span style=\"color: #0087ff; text-decoration-color: #0087ff\">LSTM</span>)                     │ (<span style=\"color: #00d7ff; text-decoration-color: #00d7ff\">None</span>, <span style=\"color: #00af00; text-decoration-color: #00af00\">128</span>)            │        <span style=\"color: #00af00; text-decoration-color: #00af00\">66,560</span> │\n",
       "├─────────────────────────────────┼────────────────────────┼───────────────┤\n",
       "│ dense (<span style=\"color: #0087ff; text-decoration-color: #0087ff\">Dense</span>)                   │ (<span style=\"color: #00d7ff; text-decoration-color: #00d7ff\">None</span>, <span style=\"color: #00af00; text-decoration-color: #00af00\">1</span>)              │           <span style=\"color: #00af00; text-decoration-color: #00af00\">129</span> │\n",
       "└─────────────────────────────────┴────────────────────────┴───────────────┘\n",
       "</pre>\n"
      ],
      "text/plain": [
       "┏━━━━━━━━━━━━━━━━━━━━━━━━━━━━━━━━━┳━━━━━━━━━━━━━━━━━━━━━━━━┳━━━━━━━━━━━━━━━┓\n",
       "┃\u001b[1m \u001b[0m\u001b[1mLayer (type)                   \u001b[0m\u001b[1m \u001b[0m┃\u001b[1m \u001b[0m\u001b[1mOutput Shape          \u001b[0m\u001b[1m \u001b[0m┃\u001b[1m \u001b[0m\u001b[1m      Param #\u001b[0m\u001b[1m \u001b[0m┃\n",
       "┡━━━━━━━━━━━━━━━━━━━━━━━━━━━━━━━━━╇━━━━━━━━━━━━━━━━━━━━━━━━╇━━━━━━━━━━━━━━━┩\n",
       "│ lstm (\u001b[38;5;33mLSTM\u001b[0m)                     │ (\u001b[38;5;45mNone\u001b[0m, \u001b[38;5;34m128\u001b[0m)            │        \u001b[38;5;34m66,560\u001b[0m │\n",
       "├─────────────────────────────────┼────────────────────────┼───────────────┤\n",
       "│ dense (\u001b[38;5;33mDense\u001b[0m)                   │ (\u001b[38;5;45mNone\u001b[0m, \u001b[38;5;34m1\u001b[0m)              │           \u001b[38;5;34m129\u001b[0m │\n",
       "└─────────────────────────────────┴────────────────────────┴───────────────┘\n"
      ]
     },
     "metadata": {},
     "output_type": "display_data"
    },
    {
     "data": {
      "text/html": [
       "<pre style=\"white-space:pre;overflow-x:auto;line-height:normal;font-family:Menlo,'DejaVu Sans Mono',consolas,'Courier New',monospace\"><span style=\"font-weight: bold\"> Total params: </span><span style=\"color: #00af00; text-decoration-color: #00af00\">200,069</span> (781.52 KB)\n",
       "</pre>\n"
      ],
      "text/plain": [
       "\u001b[1m Total params: \u001b[0m\u001b[38;5;34m200,069\u001b[0m (781.52 KB)\n"
      ]
     },
     "metadata": {},
     "output_type": "display_data"
    },
    {
     "data": {
      "text/html": [
       "<pre style=\"white-space:pre;overflow-x:auto;line-height:normal;font-family:Menlo,'DejaVu Sans Mono',consolas,'Courier New',monospace\"><span style=\"font-weight: bold\"> Trainable params: </span><span style=\"color: #00af00; text-decoration-color: #00af00\">66,689</span> (260.50 KB)\n",
       "</pre>\n"
      ],
      "text/plain": [
       "\u001b[1m Trainable params: \u001b[0m\u001b[38;5;34m66,689\u001b[0m (260.50 KB)\n"
      ]
     },
     "metadata": {},
     "output_type": "display_data"
    },
    {
     "data": {
      "text/html": [
       "<pre style=\"white-space:pre;overflow-x:auto;line-height:normal;font-family:Menlo,'DejaVu Sans Mono',consolas,'Courier New',monospace\"><span style=\"font-weight: bold\"> Non-trainable params: </span><span style=\"color: #00af00; text-decoration-color: #00af00\">0</span> (0.00 B)\n",
       "</pre>\n"
      ],
      "text/plain": [
       "\u001b[1m Non-trainable params: \u001b[0m\u001b[38;5;34m0\u001b[0m (0.00 B)\n"
      ]
     },
     "metadata": {},
     "output_type": "display_data"
    },
    {
     "data": {
      "text/html": [
       "<pre style=\"white-space:pre;overflow-x:auto;line-height:normal;font-family:Menlo,'DejaVu Sans Mono',consolas,'Courier New',monospace\"><span style=\"font-weight: bold\"> Optimizer params: </span><span style=\"color: #00af00; text-decoration-color: #00af00\">133,380</span> (521.02 KB)\n",
       "</pre>\n"
      ],
      "text/plain": [
       "\u001b[1m Optimizer params: \u001b[0m\u001b[38;5;34m133,380\u001b[0m (521.02 KB)\n"
      ]
     },
     "metadata": {},
     "output_type": "display_data"
    },
    {
     "data": {
      "text/html": [
       "<pre style=\"white-space:pre;overflow-x:auto;line-height:normal;font-family:Menlo,'DejaVu Sans Mono',consolas,'Courier New',monospace\"><span style=\"font-weight: bold\">Model: \"sequential_1\"</span>\n",
       "</pre>\n"
      ],
      "text/plain": [
       "\u001b[1mModel: \"sequential_1\"\u001b[0m\n"
      ]
     },
     "metadata": {},
     "output_type": "display_data"
    },
    {
     "data": {
      "text/html": [
       "<pre style=\"white-space:pre;overflow-x:auto;line-height:normal;font-family:Menlo,'DejaVu Sans Mono',consolas,'Courier New',monospace\">┏━━━━━━━━━━━━━━━━━━━━━━━━━━━━━━━━━┳━━━━━━━━━━━━━━━━━━━━━━━━┳━━━━━━━━━━━━━━━┓\n",
       "┃<span style=\"font-weight: bold\"> Layer (type)                    </span>┃<span style=\"font-weight: bold\"> Output Shape           </span>┃<span style=\"font-weight: bold\">       Param # </span>┃\n",
       "┡━━━━━━━━━━━━━━━━━━━━━━━━━━━━━━━━━╇━━━━━━━━━━━━━━━━━━━━━━━━╇━━━━━━━━━━━━━━━┩\n",
       "│ lstm_1 (<span style=\"color: #0087ff; text-decoration-color: #0087ff\">LSTM</span>)                   │ ?                      │   <span style=\"color: #00af00; text-decoration-color: #00af00\">0</span> (unbuilt) │\n",
       "├─────────────────────────────────┼────────────────────────┼───────────────┤\n",
       "│ lstm_2 (<span style=\"color: #0087ff; text-decoration-color: #0087ff\">LSTM</span>)                   │ ?                      │   <span style=\"color: #00af00; text-decoration-color: #00af00\">0</span> (unbuilt) │\n",
       "├─────────────────────────────────┼────────────────────────┼───────────────┤\n",
       "│ lstm_3 (<span style=\"color: #0087ff; text-decoration-color: #0087ff\">LSTM</span>)                   │ ?                      │   <span style=\"color: #00af00; text-decoration-color: #00af00\">0</span> (unbuilt) │\n",
       "├─────────────────────────────────┼────────────────────────┼───────────────┤\n",
       "│ dense_1 (<span style=\"color: #0087ff; text-decoration-color: #0087ff\">Dense</span>)                 │ ?                      │   <span style=\"color: #00af00; text-decoration-color: #00af00\">0</span> (unbuilt) │\n",
       "├─────────────────────────────────┼────────────────────────┼───────────────┤\n",
       "│ dense_2 (<span style=\"color: #0087ff; text-decoration-color: #0087ff\">Dense</span>)                 │ ?                      │   <span style=\"color: #00af00; text-decoration-color: #00af00\">0</span> (unbuilt) │\n",
       "└─────────────────────────────────┴────────────────────────┴───────────────┘\n",
       "</pre>\n"
      ],
      "text/plain": [
       "┏━━━━━━━━━━━━━━━━━━━━━━━━━━━━━━━━━┳━━━━━━━━━━━━━━━━━━━━━━━━┳━━━━━━━━━━━━━━━┓\n",
       "┃\u001b[1m \u001b[0m\u001b[1mLayer (type)                   \u001b[0m\u001b[1m \u001b[0m┃\u001b[1m \u001b[0m\u001b[1mOutput Shape          \u001b[0m\u001b[1m \u001b[0m┃\u001b[1m \u001b[0m\u001b[1m      Param #\u001b[0m\u001b[1m \u001b[0m┃\n",
       "┡━━━━━━━━━━━━━━━━━━━━━━━━━━━━━━━━━╇━━━━━━━━━━━━━━━━━━━━━━━━╇━━━━━━━━━━━━━━━┩\n",
       "│ lstm_1 (\u001b[38;5;33mLSTM\u001b[0m)                   │ ?                      │   \u001b[38;5;34m0\u001b[0m (unbuilt) │\n",
       "├─────────────────────────────────┼────────────────────────┼───────────────┤\n",
       "│ lstm_2 (\u001b[38;5;33mLSTM\u001b[0m)                   │ ?                      │   \u001b[38;5;34m0\u001b[0m (unbuilt) │\n",
       "├─────────────────────────────────┼────────────────────────┼───────────────┤\n",
       "│ lstm_3 (\u001b[38;5;33mLSTM\u001b[0m)                   │ ?                      │   \u001b[38;5;34m0\u001b[0m (unbuilt) │\n",
       "├─────────────────────────────────┼────────────────────────┼───────────────┤\n",
       "│ dense_1 (\u001b[38;5;33mDense\u001b[0m)                 │ ?                      │   \u001b[38;5;34m0\u001b[0m (unbuilt) │\n",
       "├─────────────────────────────────┼────────────────────────┼───────────────┤\n",
       "│ dense_2 (\u001b[38;5;33mDense\u001b[0m)                 │ ?                      │   \u001b[38;5;34m0\u001b[0m (unbuilt) │\n",
       "└─────────────────────────────────┴────────────────────────┴───────────────┘\n"
      ]
     },
     "metadata": {},
     "output_type": "display_data"
    },
    {
     "data": {
      "text/html": [
       "<pre style=\"white-space:pre;overflow-x:auto;line-height:normal;font-family:Menlo,'DejaVu Sans Mono',consolas,'Courier New',monospace\"><span style=\"font-weight: bold\"> Total params: </span><span style=\"color: #00af00; text-decoration-color: #00af00\">0</span> (0.00 B)\n",
       "</pre>\n"
      ],
      "text/plain": [
       "\u001b[1m Total params: \u001b[0m\u001b[38;5;34m0\u001b[0m (0.00 B)\n"
      ]
     },
     "metadata": {},
     "output_type": "display_data"
    },
    {
     "data": {
      "text/html": [
       "<pre style=\"white-space:pre;overflow-x:auto;line-height:normal;font-family:Menlo,'DejaVu Sans Mono',consolas,'Courier New',monospace\"><span style=\"font-weight: bold\"> Trainable params: </span><span style=\"color: #00af00; text-decoration-color: #00af00\">0</span> (0.00 B)\n",
       "</pre>\n"
      ],
      "text/plain": [
       "\u001b[1m Trainable params: \u001b[0m\u001b[38;5;34m0\u001b[0m (0.00 B)\n"
      ]
     },
     "metadata": {},
     "output_type": "display_data"
    },
    {
     "data": {
      "text/html": [
       "<pre style=\"white-space:pre;overflow-x:auto;line-height:normal;font-family:Menlo,'DejaVu Sans Mono',consolas,'Courier New',monospace\"><span style=\"font-weight: bold\"> Non-trainable params: </span><span style=\"color: #00af00; text-decoration-color: #00af00\">0</span> (0.00 B)\n",
       "</pre>\n"
      ],
      "text/plain": [
       "\u001b[1m Non-trainable params: \u001b[0m\u001b[38;5;34m0\u001b[0m (0.00 B)\n"
      ]
     },
     "metadata": {},
     "output_type": "display_data"
    },
    {
     "data": {
      "text/html": [
       "<pre style=\"white-space:pre;overflow-x:auto;line-height:normal;font-family:Menlo,'DejaVu Sans Mono',consolas,'Courier New',monospace\"><span style=\"font-weight: bold\">Model: \"sequential_2\"</span>\n",
       "</pre>\n"
      ],
      "text/plain": [
       "\u001b[1mModel: \"sequential_2\"\u001b[0m\n"
      ]
     },
     "metadata": {},
     "output_type": "display_data"
    },
    {
     "data": {
      "text/html": [
       "<pre style=\"white-space:pre;overflow-x:auto;line-height:normal;font-family:Menlo,'DejaVu Sans Mono',consolas,'Courier New',monospace\">┏━━━━━━━━━━━━━━━━━━━━━━━━━━━━━━━━━┳━━━━━━━━━━━━━━━━━━━━━━━━┳━━━━━━━━━━━━━━━┓\n",
       "┃<span style=\"font-weight: bold\"> Layer (type)                    </span>┃<span style=\"font-weight: bold\"> Output Shape           </span>┃<span style=\"font-weight: bold\">       Param # </span>┃\n",
       "┡━━━━━━━━━━━━━━━━━━━━━━━━━━━━━━━━━╇━━━━━━━━━━━━━━━━━━━━━━━━╇━━━━━━━━━━━━━━━┩\n",
       "│ lstm_4 (<span style=\"color: #0087ff; text-decoration-color: #0087ff\">LSTM</span>)                   │ (<span style=\"color: #00d7ff; text-decoration-color: #00d7ff\">None</span>, <span style=\"color: #00af00; text-decoration-color: #00af00\">128</span>)            │        <span style=\"color: #00af00; text-decoration-color: #00af00\">66,560</span> │\n",
       "├─────────────────────────────────┼────────────────────────┼───────────────┤\n",
       "│ dropout (<span style=\"color: #0087ff; text-decoration-color: #0087ff\">Dropout</span>)               │ (<span style=\"color: #00d7ff; text-decoration-color: #00d7ff\">None</span>, <span style=\"color: #00af00; text-decoration-color: #00af00\">128</span>)            │             <span style=\"color: #00af00; text-decoration-color: #00af00\">0</span> │\n",
       "├─────────────────────────────────┼────────────────────────┼───────────────┤\n",
       "│ dense_3 (<span style=\"color: #0087ff; text-decoration-color: #0087ff\">Dense</span>)                 │ (<span style=\"color: #00d7ff; text-decoration-color: #00d7ff\">None</span>, <span style=\"color: #00af00; text-decoration-color: #00af00\">1</span>)              │           <span style=\"color: #00af00; text-decoration-color: #00af00\">129</span> │\n",
       "├─────────────────────────────────┼────────────────────────┼───────────────┤\n",
       "│ dropout_1 (<span style=\"color: #0087ff; text-decoration-color: #0087ff\">Dropout</span>)             │ (<span style=\"color: #00d7ff; text-decoration-color: #00d7ff\">None</span>, <span style=\"color: #00af00; text-decoration-color: #00af00\">1</span>)              │             <span style=\"color: #00af00; text-decoration-color: #00af00\">0</span> │\n",
       "├─────────────────────────────────┼────────────────────────┼───────────────┤\n",
       "│ dense_4 (<span style=\"color: #0087ff; text-decoration-color: #0087ff\">Dense</span>)                 │ (<span style=\"color: #00d7ff; text-decoration-color: #00d7ff\">None</span>, <span style=\"color: #00af00; text-decoration-color: #00af00\">1</span>)              │             <span style=\"color: #00af00; text-decoration-color: #00af00\">2</span> │\n",
       "└─────────────────────────────────┴────────────────────────┴───────────────┘\n",
       "</pre>\n"
      ],
      "text/plain": [
       "┏━━━━━━━━━━━━━━━━━━━━━━━━━━━━━━━━━┳━━━━━━━━━━━━━━━━━━━━━━━━┳━━━━━━━━━━━━━━━┓\n",
       "┃\u001b[1m \u001b[0m\u001b[1mLayer (type)                   \u001b[0m\u001b[1m \u001b[0m┃\u001b[1m \u001b[0m\u001b[1mOutput Shape          \u001b[0m\u001b[1m \u001b[0m┃\u001b[1m \u001b[0m\u001b[1m      Param #\u001b[0m\u001b[1m \u001b[0m┃\n",
       "┡━━━━━━━━━━━━━━━━━━━━━━━━━━━━━━━━━╇━━━━━━━━━━━━━━━━━━━━━━━━╇━━━━━━━━━━━━━━━┩\n",
       "│ lstm_4 (\u001b[38;5;33mLSTM\u001b[0m)                   │ (\u001b[38;5;45mNone\u001b[0m, \u001b[38;5;34m128\u001b[0m)            │        \u001b[38;5;34m66,560\u001b[0m │\n",
       "├─────────────────────────────────┼────────────────────────┼───────────────┤\n",
       "│ dropout (\u001b[38;5;33mDropout\u001b[0m)               │ (\u001b[38;5;45mNone\u001b[0m, \u001b[38;5;34m128\u001b[0m)            │             \u001b[38;5;34m0\u001b[0m │\n",
       "├─────────────────────────────────┼────────────────────────┼───────────────┤\n",
       "│ dense_3 (\u001b[38;5;33mDense\u001b[0m)                 │ (\u001b[38;5;45mNone\u001b[0m, \u001b[38;5;34m1\u001b[0m)              │           \u001b[38;5;34m129\u001b[0m │\n",
       "├─────────────────────────────────┼────────────────────────┼───────────────┤\n",
       "│ dropout_1 (\u001b[38;5;33mDropout\u001b[0m)             │ (\u001b[38;5;45mNone\u001b[0m, \u001b[38;5;34m1\u001b[0m)              │             \u001b[38;5;34m0\u001b[0m │\n",
       "├─────────────────────────────────┼────────────────────────┼───────────────┤\n",
       "│ dense_4 (\u001b[38;5;33mDense\u001b[0m)                 │ (\u001b[38;5;45mNone\u001b[0m, \u001b[38;5;34m1\u001b[0m)              │             \u001b[38;5;34m2\u001b[0m │\n",
       "└─────────────────────────────────┴────────────────────────┴───────────────┘\n"
      ]
     },
     "metadata": {},
     "output_type": "display_data"
    },
    {
     "data": {
      "text/html": [
       "<pre style=\"white-space:pre;overflow-x:auto;line-height:normal;font-family:Menlo,'DejaVu Sans Mono',consolas,'Courier New',monospace\"><span style=\"font-weight: bold\"> Total params: </span><span style=\"color: #00af00; text-decoration-color: #00af00\">200,075</span> (781.55 KB)\n",
       "</pre>\n"
      ],
      "text/plain": [
       "\u001b[1m Total params: \u001b[0m\u001b[38;5;34m200,075\u001b[0m (781.55 KB)\n"
      ]
     },
     "metadata": {},
     "output_type": "display_data"
    },
    {
     "data": {
      "text/html": [
       "<pre style=\"white-space:pre;overflow-x:auto;line-height:normal;font-family:Menlo,'DejaVu Sans Mono',consolas,'Courier New',monospace\"><span style=\"font-weight: bold\"> Trainable params: </span><span style=\"color: #00af00; text-decoration-color: #00af00\">66,691</span> (260.51 KB)\n",
       "</pre>\n"
      ],
      "text/plain": [
       "\u001b[1m Trainable params: \u001b[0m\u001b[38;5;34m66,691\u001b[0m (260.51 KB)\n"
      ]
     },
     "metadata": {},
     "output_type": "display_data"
    },
    {
     "data": {
      "text/html": [
       "<pre style=\"white-space:pre;overflow-x:auto;line-height:normal;font-family:Menlo,'DejaVu Sans Mono',consolas,'Courier New',monospace\"><span style=\"font-weight: bold\"> Non-trainable params: </span><span style=\"color: #00af00; text-decoration-color: #00af00\">0</span> (0.00 B)\n",
       "</pre>\n"
      ],
      "text/plain": [
       "\u001b[1m Non-trainable params: \u001b[0m\u001b[38;5;34m0\u001b[0m (0.00 B)\n"
      ]
     },
     "metadata": {},
     "output_type": "display_data"
    },
    {
     "data": {
      "text/html": [
       "<pre style=\"white-space:pre;overflow-x:auto;line-height:normal;font-family:Menlo,'DejaVu Sans Mono',consolas,'Courier New',monospace\"><span style=\"font-weight: bold\"> Optimizer params: </span><span style=\"color: #00af00; text-decoration-color: #00af00\">133,384</span> (521.04 KB)\n",
       "</pre>\n"
      ],
      "text/plain": [
       "\u001b[1m Optimizer params: \u001b[0m\u001b[38;5;34m133,384\u001b[0m (521.04 KB)\n"
      ]
     },
     "metadata": {},
     "output_type": "display_data"
    }
   ],
   "source": [
    "model1.summary()\n",
    "model2.summary()\n",
    "model3.summary()"
   ]
  },
  {
   "cell_type": "markdown",
   "metadata": {},
   "source": [
    "You know what? The visualization has been the second hardest thing yet\n",
    "Doing it for 3 different models is WAY too much of a task\n",
    "So we're going to go ahead and make a different kernel for each model\n",
    "And then it can be a choose-your-own adventure.\n",
    "\n",
    "Ok cool. I can't even get predictions to run"
   ]
  },
  {
   "cell_type": "code",
   "execution_count": 22,
   "metadata": {},
   "outputs": [],
   "source": [
    "test_set = data_test.values\n",
    "if len(test_set.shape) == 1:\n",
    "    test_set = np.reshape(test_set, (len(test_set), 1))\n",
    "else:\n",
    "    test_set = test_set.reshape(-1, 1)\n",
    "\n",
    "test_set = sc.transform(test_set)\n",
    "\n",
    "X_test = test_set[0:len(test_set)-1]\n",
    "X_test = np.reshape(X_test, (len(X_test), 1, 1))"
   ]
  },
  {
   "cell_type": "markdown",
   "metadata": {},
   "source": [
    "Ok finally\n",
    "I actually cried"
   ]
  },
  {
   "cell_type": "code",
   "execution_count": 25,
   "metadata": {},
   "outputs": [
    {
     "name": "stdout",
     "output_type": "stream",
     "text": [
      "\u001b[1m738/738\u001b[0m \u001b[32m━━━━━━━━━━━━━━━━━━━━\u001b[0m\u001b[37m\u001b[0m \u001b[1m1s\u001b[0m 2ms/step\n",
      "\u001b[1m738/738\u001b[0m \u001b[32m━━━━━━━━━━━━━━━━━━━━\u001b[0m\u001b[37m\u001b[0m \u001b[1m2s\u001b[0m 2ms/step\n",
      "\u001b[1m738/738\u001b[0m \u001b[32m━━━━━━━━━━━━━━━━━━━━\u001b[0m\u001b[37m\u001b[0m \u001b[1m2s\u001b[0m 2ms/step\n"
     ]
    }
   ],
   "source": [
    "predictions_model1 = model1.predict(X_test)\n",
    "predictions_model1 = sc.inverse_transform(predictions_model1)\n",
    "\n",
    "predictions_model2 = model2.predict(X_test)\n",
    "predictions_model2 = sc.inverse_transform(predictions_model2)\n",
    "\n",
    "predictions_model3 = model3.predict(X_test)\n",
    "predictions_model3 = sc.inverse_transform(predictions_model3)"
   ]
  },
  {
   "cell_type": "code",
   "execution_count": 28,
   "metadata": {},
   "outputs": [
    {
     "ename": "ValueError",
     "evalue": "x and y must have same first dimension, but have shapes (4719,) and (23599,)",
     "output_type": "error",
     "traceback": [
      "\u001b[0;31m---------------------------------------------------------------------------\u001b[0m",
      "\u001b[0;31mValueError\u001b[0m                                Traceback (most recent call last)",
      "Cell \u001b[0;32mIn[28], line 8\u001b[0m\n\u001b[1;32m      5\u001b[0m predictions_model3_flat \u001b[38;5;241m=\u001b[39m predictions_model3\u001b[38;5;241m.\u001b[39mflatten()\n\u001b[1;32m      7\u001b[0m plt\u001b[38;5;241m.\u001b[39mfigure(figsize\u001b[38;5;241m=\u001b[39m(\u001b[38;5;241m14\u001b[39m, \u001b[38;5;241m7\u001b[39m))\n\u001b[0;32m----> 8\u001b[0m \u001b[43mplt\u001b[49m\u001b[38;5;241;43m.\u001b[39;49m\u001b[43mplot\u001b[49m\u001b[43m(\u001b[49m\u001b[43mdata_test\u001b[49m\u001b[38;5;241;43m.\u001b[39;49m\u001b[43mindex\u001b[49m\u001b[43m[\u001b[49m\u001b[38;5;241;43m1\u001b[39;49m\u001b[43m:\u001b[49m\u001b[43m]\u001b[49m\u001b[43m,\u001b[49m\u001b[43m \u001b[49m\u001b[43mpredictions_model1_flat\u001b[49m\u001b[43m,\u001b[49m\u001b[43m \u001b[49m\u001b[43mcolor\u001b[49m\u001b[38;5;241;43m=\u001b[39;49m\u001b[38;5;124;43m'\u001b[39;49m\u001b[38;5;124;43mred\u001b[39;49m\u001b[38;5;124;43m'\u001b[39;49m\u001b[43m,\u001b[49m\u001b[43m \u001b[49m\u001b[43mlabel\u001b[49m\u001b[38;5;241;43m=\u001b[39;49m\u001b[38;5;124;43m'\u001b[39;49m\u001b[38;5;124;43mModel 1 Predictions\u001b[39;49m\u001b[38;5;124;43m'\u001b[39;49m\u001b[43m)\u001b[49m\n\u001b[1;32m      9\u001b[0m plt\u001b[38;5;241m.\u001b[39mplot(data_test\u001b[38;5;241m.\u001b[39mindex[\u001b[38;5;241m1\u001b[39m:], predictions_model2_flat, color\u001b[38;5;241m=\u001b[39m\u001b[38;5;124m'\u001b[39m\u001b[38;5;124mblue\u001b[39m\u001b[38;5;124m'\u001b[39m, label\u001b[38;5;241m=\u001b[39m\u001b[38;5;124m'\u001b[39m\u001b[38;5;124mModel 2 Predictions\u001b[39m\u001b[38;5;124m'\u001b[39m)\n\u001b[1;32m     10\u001b[0m plt\u001b[38;5;241m.\u001b[39mplot(data_test\u001b[38;5;241m.\u001b[39mindex[\u001b[38;5;241m1\u001b[39m:], predictions_model3_flat, color\u001b[38;5;241m=\u001b[39m\u001b[38;5;124m'\u001b[39m\u001b[38;5;124mgreen\u001b[39m\u001b[38;5;124m'\u001b[39m, label\u001b[38;5;241m=\u001b[39m\u001b[38;5;124m'\u001b[39m\u001b[38;5;124mModel 3 Predictions\u001b[39m\u001b[38;5;124m'\u001b[39m)\n",
      "File \u001b[0;32m/usr/local/lib/python3.10/dist-packages/matplotlib/pyplot.py:3590\u001b[0m, in \u001b[0;36mplot\u001b[0;34m(scalex, scaley, data, *args, **kwargs)\u001b[0m\n\u001b[1;32m   3582\u001b[0m \u001b[38;5;129m@_copy_docstring_and_deprecators\u001b[39m(Axes\u001b[38;5;241m.\u001b[39mplot)\n\u001b[1;32m   3583\u001b[0m \u001b[38;5;28;01mdef\u001b[39;00m \u001b[38;5;21mplot\u001b[39m(\n\u001b[1;32m   3584\u001b[0m     \u001b[38;5;241m*\u001b[39margs: \u001b[38;5;28mfloat\u001b[39m \u001b[38;5;241m|\u001b[39m ArrayLike \u001b[38;5;241m|\u001b[39m \u001b[38;5;28mstr\u001b[39m,\n\u001b[0;32m   (...)\u001b[0m\n\u001b[1;32m   3588\u001b[0m     \u001b[38;5;241m*\u001b[39m\u001b[38;5;241m*\u001b[39mkwargs,\n\u001b[1;32m   3589\u001b[0m ) \u001b[38;5;241m-\u001b[39m\u001b[38;5;241m>\u001b[39m \u001b[38;5;28mlist\u001b[39m[Line2D]:\n\u001b[0;32m-> 3590\u001b[0m     \u001b[38;5;28;01mreturn\u001b[39;00m \u001b[43mgca\u001b[49m\u001b[43m(\u001b[49m\u001b[43m)\u001b[49m\u001b[38;5;241;43m.\u001b[39;49m\u001b[43mplot\u001b[49m\u001b[43m(\u001b[49m\n\u001b[1;32m   3591\u001b[0m \u001b[43m        \u001b[49m\u001b[38;5;241;43m*\u001b[39;49m\u001b[43margs\u001b[49m\u001b[43m,\u001b[49m\n\u001b[1;32m   3592\u001b[0m \u001b[43m        \u001b[49m\u001b[43mscalex\u001b[49m\u001b[38;5;241;43m=\u001b[39;49m\u001b[43mscalex\u001b[49m\u001b[43m,\u001b[49m\n\u001b[1;32m   3593\u001b[0m \u001b[43m        \u001b[49m\u001b[43mscaley\u001b[49m\u001b[38;5;241;43m=\u001b[39;49m\u001b[43mscaley\u001b[49m\u001b[43m,\u001b[49m\n\u001b[1;32m   3594\u001b[0m \u001b[43m        \u001b[49m\u001b[38;5;241;43m*\u001b[39;49m\u001b[38;5;241;43m*\u001b[39;49m\u001b[43m(\u001b[49m\u001b[43m{\u001b[49m\u001b[38;5;124;43m\"\u001b[39;49m\u001b[38;5;124;43mdata\u001b[39;49m\u001b[38;5;124;43m\"\u001b[39;49m\u001b[43m:\u001b[49m\u001b[43m \u001b[49m\u001b[43mdata\u001b[49m\u001b[43m}\u001b[49m\u001b[43m \u001b[49m\u001b[38;5;28;43;01mif\u001b[39;49;00m\u001b[43m \u001b[49m\u001b[43mdata\u001b[49m\u001b[43m \u001b[49m\u001b[38;5;129;43;01mis\u001b[39;49;00m\u001b[43m \u001b[49m\u001b[38;5;129;43;01mnot\u001b[39;49;00m\u001b[43m \u001b[49m\u001b[38;5;28;43;01mNone\u001b[39;49;00m\u001b[43m \u001b[49m\u001b[38;5;28;43;01melse\u001b[39;49;00m\u001b[43m \u001b[49m\u001b[43m{\u001b[49m\u001b[43m}\u001b[49m\u001b[43m)\u001b[49m\u001b[43m,\u001b[49m\n\u001b[1;32m   3595\u001b[0m \u001b[43m        \u001b[49m\u001b[38;5;241;43m*\u001b[39;49m\u001b[38;5;241;43m*\u001b[39;49m\u001b[43mkwargs\u001b[49m\u001b[43m,\u001b[49m\n\u001b[1;32m   3596\u001b[0m \u001b[43m    \u001b[49m\u001b[43m)\u001b[49m\n",
      "File \u001b[0;32m/usr/local/lib/python3.10/dist-packages/matplotlib/axes/_axes.py:1724\u001b[0m, in \u001b[0;36mAxes.plot\u001b[0;34m(self, scalex, scaley, data, *args, **kwargs)\u001b[0m\n\u001b[1;32m   1481\u001b[0m \u001b[38;5;250m\u001b[39m\u001b[38;5;124;03m\"\"\"\u001b[39;00m\n\u001b[1;32m   1482\u001b[0m \u001b[38;5;124;03mPlot y versus x as lines and/or markers.\u001b[39;00m\n\u001b[1;32m   1483\u001b[0m \n\u001b[0;32m   (...)\u001b[0m\n\u001b[1;32m   1721\u001b[0m \u001b[38;5;124;03m(``'green'``) or hex strings (``'#008000'``).\u001b[39;00m\n\u001b[1;32m   1722\u001b[0m \u001b[38;5;124;03m\"\"\"\u001b[39;00m\n\u001b[1;32m   1723\u001b[0m kwargs \u001b[38;5;241m=\u001b[39m cbook\u001b[38;5;241m.\u001b[39mnormalize_kwargs(kwargs, mlines\u001b[38;5;241m.\u001b[39mLine2D)\n\u001b[0;32m-> 1724\u001b[0m lines \u001b[38;5;241m=\u001b[39m [\u001b[38;5;241m*\u001b[39m\u001b[38;5;28mself\u001b[39m\u001b[38;5;241m.\u001b[39m_get_lines(\u001b[38;5;28mself\u001b[39m, \u001b[38;5;241m*\u001b[39margs, data\u001b[38;5;241m=\u001b[39mdata, \u001b[38;5;241m*\u001b[39m\u001b[38;5;241m*\u001b[39mkwargs)]\n\u001b[1;32m   1725\u001b[0m \u001b[38;5;28;01mfor\u001b[39;00m line \u001b[38;5;129;01min\u001b[39;00m lines:\n\u001b[1;32m   1726\u001b[0m     \u001b[38;5;28mself\u001b[39m\u001b[38;5;241m.\u001b[39madd_line(line)\n",
      "File \u001b[0;32m/usr/local/lib/python3.10/dist-packages/matplotlib/axes/_base.py:303\u001b[0m, in \u001b[0;36m_process_plot_var_args.__call__\u001b[0;34m(self, axes, data, *args, **kwargs)\u001b[0m\n\u001b[1;32m    301\u001b[0m     this \u001b[38;5;241m+\u001b[39m\u001b[38;5;241m=\u001b[39m args[\u001b[38;5;241m0\u001b[39m],\n\u001b[1;32m    302\u001b[0m     args \u001b[38;5;241m=\u001b[39m args[\u001b[38;5;241m1\u001b[39m:]\n\u001b[0;32m--> 303\u001b[0m \u001b[38;5;28;01myield from\u001b[39;00m \u001b[38;5;28;43mself\u001b[39;49m\u001b[38;5;241;43m.\u001b[39;49m\u001b[43m_plot_args\u001b[49m\u001b[43m(\u001b[49m\n\u001b[1;32m    304\u001b[0m \u001b[43m    \u001b[49m\u001b[43maxes\u001b[49m\u001b[43m,\u001b[49m\u001b[43m \u001b[49m\u001b[43mthis\u001b[49m\u001b[43m,\u001b[49m\u001b[43m \u001b[49m\u001b[43mkwargs\u001b[49m\u001b[43m,\u001b[49m\u001b[43m \u001b[49m\u001b[43mambiguous_fmt_datakey\u001b[49m\u001b[38;5;241;43m=\u001b[39;49m\u001b[43mambiguous_fmt_datakey\u001b[49m\u001b[43m)\u001b[49m\n",
      "File \u001b[0;32m/usr/local/lib/python3.10/dist-packages/matplotlib/axes/_base.py:499\u001b[0m, in \u001b[0;36m_process_plot_var_args._plot_args\u001b[0;34m(self, axes, tup, kwargs, return_kwargs, ambiguous_fmt_datakey)\u001b[0m\n\u001b[1;32m    496\u001b[0m     axes\u001b[38;5;241m.\u001b[39myaxis\u001b[38;5;241m.\u001b[39mupdate_units(y)\n\u001b[1;32m    498\u001b[0m \u001b[38;5;28;01mif\u001b[39;00m x\u001b[38;5;241m.\u001b[39mshape[\u001b[38;5;241m0\u001b[39m] \u001b[38;5;241m!=\u001b[39m y\u001b[38;5;241m.\u001b[39mshape[\u001b[38;5;241m0\u001b[39m]:\n\u001b[0;32m--> 499\u001b[0m     \u001b[38;5;28;01mraise\u001b[39;00m \u001b[38;5;167;01mValueError\u001b[39;00m(\u001b[38;5;124mf\u001b[39m\u001b[38;5;124m\"\u001b[39m\u001b[38;5;124mx and y must have same first dimension, but \u001b[39m\u001b[38;5;124m\"\u001b[39m\n\u001b[1;32m    500\u001b[0m                      \u001b[38;5;124mf\u001b[39m\u001b[38;5;124m\"\u001b[39m\u001b[38;5;124mhave shapes \u001b[39m\u001b[38;5;132;01m{\u001b[39;00mx\u001b[38;5;241m.\u001b[39mshape\u001b[38;5;132;01m}\u001b[39;00m\u001b[38;5;124m and \u001b[39m\u001b[38;5;132;01m{\u001b[39;00my\u001b[38;5;241m.\u001b[39mshape\u001b[38;5;132;01m}\u001b[39;00m\u001b[38;5;124m\"\u001b[39m)\n\u001b[1;32m    501\u001b[0m \u001b[38;5;28;01mif\u001b[39;00m x\u001b[38;5;241m.\u001b[39mndim \u001b[38;5;241m>\u001b[39m \u001b[38;5;241m2\u001b[39m \u001b[38;5;129;01mor\u001b[39;00m y\u001b[38;5;241m.\u001b[39mndim \u001b[38;5;241m>\u001b[39m \u001b[38;5;241m2\u001b[39m:\n\u001b[1;32m    502\u001b[0m     \u001b[38;5;28;01mraise\u001b[39;00m \u001b[38;5;167;01mValueError\u001b[39;00m(\u001b[38;5;124mf\u001b[39m\u001b[38;5;124m\"\u001b[39m\u001b[38;5;124mx and y can be no greater than 2D, but have \u001b[39m\u001b[38;5;124m\"\u001b[39m\n\u001b[1;32m    503\u001b[0m                      \u001b[38;5;124mf\u001b[39m\u001b[38;5;124m\"\u001b[39m\u001b[38;5;124mshapes \u001b[39m\u001b[38;5;132;01m{\u001b[39;00mx\u001b[38;5;241m.\u001b[39mshape\u001b[38;5;132;01m}\u001b[39;00m\u001b[38;5;124m and \u001b[39m\u001b[38;5;132;01m{\u001b[39;00my\u001b[38;5;241m.\u001b[39mshape\u001b[38;5;132;01m}\u001b[39;00m\u001b[38;5;124m\"\u001b[39m)\n",
      "\u001b[0;31mValueError\u001b[0m: x and y must have same first dimension, but have shapes (4719,) and (23599,)"
     ]
    },
    {
     "data": {
      "image/png": "[encoded data removed]",
      "text/plain": [
       "<Figure size 1400x700 with 1 Axes>"
      ]
     },
     "metadata": {},
     "output_type": "display_data"
    }
   ],
   "source": [
    "import matplotlib.pyplot as plt\n",
    "\n",
    "predictions_model1_flat = predictions_model1.flatten()\n",
    "predictions_model2_flat = predictions_model2.flatten()\n",
    "predictions_model3_flat = predictions_model3.flatten()\n",
    "\n",
    "plt.figure(figsize=(14, 7))\n",
    "plt.plot(data_test.index[1:], predictions_model1_flat, color='red', label='Model 1 Predictions')\n",
    "plt.plot(data_test.index[1:], predictions_model2_flat, color='blue', label='Model 2 Predictions')\n",
    "plt.plot(data_test.index[1:], predictions_model3_flat, color='green', label='Model 3 Predictions')\n",
    "plt.plot(data_test.index[1:], data_test['Weighted_Price'].values[1:], color='black', label='Actual Price')\n",
    "\n",
    "plt.title('Model Predictions vs Real Prices')\n",
    "plt.xlabel('Date')\n",
    "plt.ylabel('Price')\n",
    "plt.legend()\n",
    "plt.show()"
   ]
  }
 ],
 "metadata": {
  "kernelspec": {
   "display_name": "Python 3",
   "language": "python",
   "name": "python3"
  },
  "language_info": {
   "codemirror_mode": {
    "name": "ipython",
    "version": 3
   },
   "file_extension": ".py",
   "mimetype": "text/x-python",
   "name": "python",
   "nbconvert_exporter": "python",
   "pygments_lexer": "ipython3",
   "version": "3.10.12"
  }
 },
 "nbformat": 4,
 "nbformat_minor": 2
}
