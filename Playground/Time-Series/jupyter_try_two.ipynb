{
 "cells": [
  {
   "cell_type": "markdown",
   "id": "5f104ec9",
   "metadata": {},
   "source": [
    "This notebook was written based on this tutorial\n",
    "https://www.kaggle.com/code/someadityamandal/bitcoin-time-series-forecasting/notebook"
   ]
  },
  {
   "cell_type": "code",
   "execution_count": 2,
   "id": "fb3a7fe7",
   "metadata": {},
   "outputs": [
    {
     "name": "stdout",
     "output_type": "stream",
     "text": [
      "\u001b[33mWARNING: Ignoring invalid distribution -ensorflow (/usr/local/lib/python3.10/dist-packages)\u001b[0m\u001b[33m\n",
      "\u001b[0m\u001b[33mWARNING: Ignoring invalid distribution -ensorflow (/usr/local/lib/python3.10/dist-packages)\u001b[0m\u001b[33m\n",
      "\u001b[0mRequirement already satisfied: chart_studio in /usr/local/lib/python3.10/dist-packages (1.1.0)\n",
      "Requirement already satisfied: plotly in /usr/local/lib/python3.10/dist-packages (from chart_studio) (5.24.1)\n",
      "Requirement already satisfied: requests in /usr/local/lib/python3.10/dist-packages (from chart_studio) (2.31.0)\n",
      "Requirement already satisfied: retrying>=1.3.3 in /usr/local/lib/python3.10/dist-packages (from chart_studio) (1.3.4)\n",
      "Requirement already satisfied: six in /usr/lib/python3/dist-packages (from chart_studio) (1.16.0)\n",
      "Requirement already satisfied: tenacity>=6.2.0 in /usr/local/lib/python3.10/dist-packages (from plotly->chart_studio) (9.0.0)\n",
      "Requirement already satisfied: packaging in /usr/local/lib/python3.10/dist-packages (from plotly->chart_studio) (24.0)\n",
      "Requirement already satisfied: charset-normalizer<4,>=2 in /usr/local/lib/python3.10/dist-packages (from requests->chart_studio) (3.3.2)\n",
      "Requirement already satisfied: idna<4,>=2.5 in /usr/local/lib/python3.10/dist-packages (from requests->chart_studio) (3.6)\n",
      "Requirement already satisfied: urllib3<3,>=1.21.1 in /usr/local/lib/python3.10/dist-packages (from requests->chart_studio) (2.2.1)\n",
      "Requirement already satisfied: certifi>=2017.4.17 in /usr/local/lib/python3.10/dist-packages (from requests->chart_studio) (2024.2.2)\n",
      "\u001b[33mWARNING: Ignoring invalid distribution -ensorflow (/usr/local/lib/python3.10/dist-packages)\u001b[0m\u001b[33m\n",
      "\u001b[0m\u001b[33mWARNING: Ignoring invalid distribution -ensorflow (/usr/local/lib/python3.10/dist-packages)\u001b[0m\u001b[33m\n",
      "\u001b[0m\u001b[33mWARNING: Running pip as the 'root' user can result in broken permissions and conflicting behaviour with the system package manager, possibly rendering your system unusable.It is recommended to use a virtual environment instead: https://pip.pypa.io/warnings/venv. Use the --root-user-action option if you know what you are doing and want to suppress this warning.\u001b[0m\u001b[33m\n",
      "\u001b[0m"
     ]
    },
    {
     "data": {
      "text/html": [
       "        <script type=\"text/javascript\">\n",
       "        window.PlotlyConfig = {MathJaxConfig: 'local'};\n",
       "        if (window.MathJax && window.MathJax.Hub && window.MathJax.Hub.Config) {window.MathJax.Hub.Config({SVG: {font: \"STIX-Web\"}});}\n",
       "        if (typeof require !== 'undefined') {\n",
       "        require.undef(\"plotly\");\n",
       "        requirejs.config({\n",
       "            paths: {\n",
       "                'plotly': ['https://cdn.plot.ly/plotly-2.35.2.min']\n",
       "            }\n",
       "        });\n",
       "        require(['plotly'], function(Plotly) {\n",
       "            window._Plotly = Plotly;\n",
       "        });\n",
       "        }\n",
       "        </script>\n",
       "        "
      ]
     },
     "metadata": {},
     "output_type": "display_data"
    },
    {
     "name": "stdout",
     "output_type": "stream",
     "text": [
      "['coinbaseUSD.csv', 'bitstampUSD.csv']\n"
     ]
    }
   ],
   "source": [
    "!pip install chart_studio\n",
    "import numpy as np\n",
    "import pandas as pd\n",
    "import matplotlib.pyplot as plt\n",
    "\n",
    "from plotly import tools\n",
    "# import plotly.plotly as py\n",
    "from chart_studio import plotly\n",
    "from plotly.offline import init_notebook_mode, iplot\n",
    "init_notebook_mode(connected=True)\n",
    "import plotly.graph_objs as go\n",
    "import gc\n",
    "\n",
    "import matplotlib.pyplot as plt\n",
    "import seaborn as sns\n",
    "\n",
    "# These were supposed to be able to run. \n",
    "# They did from a regular python script\n",
    "# But not here. I can confirm that a different piece of code can do it though\n",
    "# Which is more frustrating.\n",
    "# from subprocess import check_output\n",
    "# print(check_output([\"ls\", \"./data\"]).decode(\"utf8\"))\n",
    "import os\n",
    "print(os.listdir('./data'))"
   ]
  },
  {
   "cell_type": "code",
   "execution_count": 3,
   "id": "bddd5a07",
   "metadata": {
    "scrolled": true
   },
   "outputs": [
    {
     "name": "stderr",
     "output_type": "stream",
     "text": [
      "/tmp/ipykernel_314989/4088222308.py:6: FutureWarning:\n",
      "\n",
      "The argument 'date_parser' is deprecated and will be removed in a future version. Please use 'date_format' instead, or read your data in as 'object' dtype and then call 'to_datetime'.\n",
      "\n"
     ]
    },
    {
     "name": "stdout",
     "output_type": "stream",
     "text": [
      "<class 'pandas.core.frame.DataFrame'>\n",
      "RangeIndex: 2099760 entries, 0 to 2099759\n",
      "Data columns (total 8 columns):\n",
      " #   Column             Dtype              \n",
      "---  ------             -----              \n",
      " 0   Timestamp          datetime64[ns, UTC]\n",
      " 1   Open               float64            \n",
      " 2   High               float64            \n",
      " 3   Low                float64            \n",
      " 4   Close              float64            \n",
      " 5   Volume_(BTC)       float64            \n",
      " 6   Volume_(Currency)  float64            \n",
      " 7   Weighted_Price     float64            \n",
      "dtypes: datetime64[ns, UTC](1), float64(7)\n",
      "memory usage: 128.2 MB\n",
      "                  Timestamp   Open   High    Low  Close  Volume_(BTC)  \\\n",
      "0 2014-11-30 23:33:00+00:00  300.0  300.0  300.0  300.0          0.01   \n",
      "1 2014-11-30 23:34:00+00:00    NaN    NaN    NaN    NaN           NaN   \n",
      "2 2014-11-30 23:35:00+00:00    NaN    NaN    NaN    NaN           NaN   \n",
      "3 2014-11-30 23:36:00+00:00    NaN    NaN    NaN    NaN           NaN   \n",
      "4 2014-11-30 23:37:00+00:00    NaN    NaN    NaN    NaN           NaN   \n",
      "\n",
      "   Volume_(Currency)  Weighted_Price  \n",
      "0                3.0           300.0  \n",
      "1                NaN             NaN  \n",
      "2                NaN             NaN  \n",
      "3                NaN             NaN  \n",
      "4                NaN             NaN  \n"
     ]
    }
   ],
   "source": [
    "import datetime, pytz\n",
    "\n",
    "def dateparse (time_in_secs):\n",
    "    return pytz.utc.localize(datetime.datetime.fromtimestamp(float(time_in_secs)))\n",
    "\n",
    "data = pd.read_csv('./data/coinbaseUSD.csv', parse_dates=[0], date_parser=dateparse)\n",
    "\n",
    "data.info()\n",
    "\n",
    "print(data.head())"
   ]
  },
  {
   "cell_type": "code",
   "execution_count": 4,
   "id": "d893dd57",
   "metadata": {},
   "outputs": [
    {
     "name": "stdout",
     "output_type": "stream",
     "text": [
      "                  Timestamp   Open   High    Low  Close  Volume_(BTC)  \\\n",
      "0 2014-11-30 23:33:00+00:00  300.0  300.0  300.0  300.0          0.01   \n",
      "1 2014-11-30 23:34:00+00:00  300.0  300.0  300.0  300.0          0.00   \n",
      "2 2014-11-30 23:35:00+00:00  300.0  300.0  300.0  300.0          0.00   \n",
      "3 2014-11-30 23:36:00+00:00  300.0  300.0  300.0  300.0          0.00   \n",
      "4 2014-11-30 23:37:00+00:00  300.0  300.0  300.0  300.0          0.00   \n",
      "\n",
      "   Volume_(Currency)  Weighted_Price  \n",
      "0                3.0           300.0  \n",
      "1                0.0             0.0  \n",
      "2                0.0             0.0  \n",
      "3                0.0             0.0  \n",
      "4                0.0             0.0  \n"
     ]
    },
    {
     "name": "stderr",
     "output_type": "stream",
     "text": [
      "/tmp/ipykernel_314989/537992000.py:1: FutureWarning:\n",
      "\n",
      "A value is trying to be set on a copy of a DataFrame or Series through chained assignment using an inplace method.\n",
      "The behavior will change in pandas 3.0. This inplace method will never work because the intermediate object on which we are setting values always behaves as a copy.\n",
      "\n",
      "For example, when doing 'df[col].method(value, inplace=True)', try using 'df.method({col: value}, inplace=True)' or df[col] = df[col].method(value) instead, to perform the operation inplace on the original object.\n",
      "\n",
      "\n",
      "\n",
      "/tmp/ipykernel_314989/537992000.py:2: FutureWarning:\n",
      "\n",
      "A value is trying to be set on a copy of a DataFrame or Series through chained assignment using an inplace method.\n",
      "The behavior will change in pandas 3.0. This inplace method will never work because the intermediate object on which we are setting values always behaves as a copy.\n",
      "\n",
      "For example, when doing 'df[col].method(value, inplace=True)', try using 'df.method({col: value}, inplace=True)' or df[col] = df[col].method(value) instead, to perform the operation inplace on the original object.\n",
      "\n",
      "\n",
      "\n",
      "/tmp/ipykernel_314989/537992000.py:3: FutureWarning:\n",
      "\n",
      "A value is trying to be set on a copy of a DataFrame or Series through chained assignment using an inplace method.\n",
      "The behavior will change in pandas 3.0. This inplace method will never work because the intermediate object on which we are setting values always behaves as a copy.\n",
      "\n",
      "For example, when doing 'df[col].method(value, inplace=True)', try using 'df.method({col: value}, inplace=True)' or df[col] = df[col].method(value) instead, to perform the operation inplace on the original object.\n",
      "\n",
      "\n",
      "\n",
      "/tmp/ipykernel_314989/537992000.py:5: FutureWarning:\n",
      "\n",
      "A value is trying to be set on a copy of a DataFrame or Series through chained assignment using an inplace method.\n",
      "The behavior will change in pandas 3.0. This inplace method will never work because the intermediate object on which we are setting values always behaves as a copy.\n",
      "\n",
      "For example, when doing 'df[col].method(value, inplace=True)', try using 'df.method({col: value}, inplace=True)' or df[col] = df[col].method(value) instead, to perform the operation inplace on the original object.\n",
      "\n",
      "\n",
      "\n",
      "/tmp/ipykernel_314989/537992000.py:5: FutureWarning:\n",
      "\n",
      "Series.fillna with 'method' is deprecated and will raise in a future version. Use obj.ffill() or obj.bfill() instead.\n",
      "\n",
      "/tmp/ipykernel_314989/537992000.py:6: FutureWarning:\n",
      "\n",
      "A value is trying to be set on a copy of a DataFrame or Series through chained assignment using an inplace method.\n",
      "The behavior will change in pandas 3.0. This inplace method will never work because the intermediate object on which we are setting values always behaves as a copy.\n",
      "\n",
      "For example, when doing 'df[col].method(value, inplace=True)', try using 'df.method({col: value}, inplace=True)' or df[col] = df[col].method(value) instead, to perform the operation inplace on the original object.\n",
      "\n",
      "\n",
      "\n",
      "/tmp/ipykernel_314989/537992000.py:6: FutureWarning:\n",
      "\n",
      "Series.fillna with 'method' is deprecated and will raise in a future version. Use obj.ffill() or obj.bfill() instead.\n",
      "\n",
      "/tmp/ipykernel_314989/537992000.py:7: FutureWarning:\n",
      "\n",
      "A value is trying to be set on a copy of a DataFrame or Series through chained assignment using an inplace method.\n",
      "The behavior will change in pandas 3.0. This inplace method will never work because the intermediate object on which we are setting values always behaves as a copy.\n",
      "\n",
      "For example, when doing 'df[col].method(value, inplace=True)', try using 'df.method({col: value}, inplace=True)' or df[col] = df[col].method(value) instead, to perform the operation inplace on the original object.\n",
      "\n",
      "\n",
      "\n",
      "/tmp/ipykernel_314989/537992000.py:7: FutureWarning:\n",
      "\n",
      "Series.fillna with 'method' is deprecated and will raise in a future version. Use obj.ffill() or obj.bfill() instead.\n",
      "\n",
      "/tmp/ipykernel_314989/537992000.py:8: FutureWarning:\n",
      "\n",
      "A value is trying to be set on a copy of a DataFrame or Series through chained assignment using an inplace method.\n",
      "The behavior will change in pandas 3.0. This inplace method will never work because the intermediate object on which we are setting values always behaves as a copy.\n",
      "\n",
      "For example, when doing 'df[col].method(value, inplace=True)', try using 'df.method({col: value}, inplace=True)' or df[col] = df[col].method(value) instead, to perform the operation inplace on the original object.\n",
      "\n",
      "\n",
      "\n",
      "/tmp/ipykernel_314989/537992000.py:8: FutureWarning:\n",
      "\n",
      "Series.fillna with 'method' is deprecated and will raise in a future version. Use obj.ffill() or obj.bfill() instead.\n",
      "\n"
     ]
    }
   ],
   "source": [
    "data['Volume_(BTC)'].fillna(value=0, inplace=True)\n",
    "data['Volume_(Currency)'].fillna(value=0, inplace=True)\n",
    "data['Weighted_Price'].fillna(value=0, inplace=True)\n",
    "\n",
    "data['Open'].fillna(method='ffill', inplace=True)\n",
    "data['High'].fillna(method='ffill', inplace=True)\n",
    "data['Low'].fillna(method='ffill', inplace=True)\n",
    "data['Close'].fillna(method='ffill', inplace=True)\n",
    "\n",
    "print(data.head())"
   ]
  },
  {
   "cell_type": "code",
   "execution_count": 5,
   "id": "7a3f658f",
   "metadata": {},
   "outputs": [
    {
     "name": "stdout",
     "output_type": "stream",
     "text": [
      "                  Timestamp    Open    High     Low   Close  Volume_(BTC)  \\\n",
      "0 2015-01-12 00:00:00+00:00  360.00  360.00  360.00  360.00         0.010   \n",
      "1 2015-01-19 00:00:00+00:00  260.00  260.00  260.00  260.00         0.000   \n",
      "2 2015-01-26 00:00:00+00:00  225.51  225.51  225.51  225.51         0.000   \n",
      "3 2015-02-02 00:00:00+00:00  259.99  259.99  259.99  259.99         0.300   \n",
      "4 2015-02-09 00:00:00+00:00  239.28  239.50  239.28  239.50        20.675   \n",
      "\n",
      "   Volume_(Currency)  Weighted_Price  \n",
      "0           3.600000      360.000000  \n",
      "1           0.000000        0.000000  \n",
      "2           0.000000        0.000000  \n",
      "3          77.997000      259.990000  \n",
      "4        4951.178693      239.476599  \n"
     ]
    }
   ],
   "source": [
    "start = datetime.datetime(2015, 1, 1, 0, 0, 0, 0, pytz.UTC)\n",
    "end = datetime.datetime(2018, 11, 11, 0, 0, 0, 0, pytz.UTC)\n",
    "\n",
    "weekly_rows = data[(data['Timestamp'] >= start) & (data['Timestamp'] <= end)].groupby(\n",
    "    [pd.Grouper(key='Timestamp', freq='W-MON')]).first().reset_index()\n",
    "\n",
    "print(weekly_rows.head())"
   ]
  },
  {
   "cell_type": "code",
   "execution_count": 6,
   "id": "c95af3e8",
   "metadata": {},
   "outputs": [
    {
     "data": {
      "application/vnd.plotly.v1+json": {
       "config": {
        "linkText": "Export to plot.ly",
        "plotlyServerURL": "https://plot.ly",
        "showLink": false
       },
       "data": [
        {
         "mode": "lines",
         "name": "Open",
         "type": "scatter",
         "x": [
          "2015-01-12T00:00:00+00:00",
          "2015-01-19T00:00:00+00:00",
          "2015-01-26T00:00:00+00:00",
          "2015-02-02T00:00:00+00:00",
          "2015-02-09T00:00:00+00:00",
          "2015-02-16T00:00:00+00:00",
          "2015-02-23T00:00:00+00:00",
          "2015-03-02T00:00:00+00:00",
          "2015-03-09T00:00:00+00:00",
          "2015-03-16T00:00:00+00:00",
          "2015-03-23T00:00:00+00:00",
          "2015-03-30T00:00:00+00:00",
          "2015-04-06T00:00:00+00:00",
          "2015-04-13T00:00:00+00:00",
          "2015-04-20T00:00:00+00:00",
          "2015-04-27T00:00:00+00:00",
          "2015-05-04T00:00:00+00:00",
          "2015-05-11T00:00:00+00:00",
          "2015-05-18T00:00:00+00:00",
          "2015-05-25T00:00:00+00:00",
          "2015-06-01T00:00:00+00:00",
          "2015-06-08T00:00:00+00:00",
          "2015-06-15T00:00:00+00:00",
          "2015-06-22T00:00:00+00:00",
          "2015-06-29T00:00:00+00:00",
          "2015-07-06T00:00:00+00:00",
          "2015-07-13T00:00:00+00:00",
          "2015-07-20T00:00:00+00:00",
          "2015-07-27T00:00:00+00:00",
          "2015-08-03T00:00:00+00:00",
          "2015-08-10T00:00:00+00:00",
          "2015-08-17T00:00:00+00:00",
          "2015-08-24T00:00:00+00:00",
          "2015-08-31T00:00:00+00:00",
          "2015-09-07T00:00:00+00:00",
          "2015-09-14T00:00:00+00:00",
          "2015-09-21T00:00:00+00:00",
          "2015-09-28T00:00:00+00:00",
          "2015-10-05T00:00:00+00:00",
          "2015-10-12T00:00:00+00:00",
          "2015-10-19T00:00:00+00:00",
          "2015-10-26T00:00:00+00:00",
          "2015-11-02T00:00:00+00:00",
          "2015-11-09T00:00:00+00:00",
          "2015-11-16T00:00:00+00:00",
          "2015-11-23T00:00:00+00:00",
          "2015-11-30T00:00:00+00:00",
          "2015-12-07T00:00:00+00:00",
          "2015-12-14T00:00:00+00:00",
          "2015-12-21T00:00:00+00:00",
          "2015-12-28T00:00:00+00:00",
          "2016-01-04T00:00:00+00:00",
          "2016-01-11T00:00:00+00:00",
          "2016-01-18T00:00:00+00:00",
          "2016-01-25T00:00:00+00:00",
          "2016-02-01T00:00:00+00:00",
          "2016-02-08T00:00:00+00:00",
          "2016-02-15T00:00:00+00:00",
          "2016-02-22T00:00:00+00:00",
          "2016-02-29T00:00:00+00:00",
          "2016-03-07T00:00:00+00:00",
          "2016-03-14T00:00:00+00:00",
          "2016-03-21T00:00:00+00:00",
          "2016-03-28T00:00:00+00:00",
          "2016-04-04T00:00:00+00:00",
          "2016-04-11T00:00:00+00:00",
          "2016-04-18T00:00:00+00:00",
          "2016-04-25T00:00:00+00:00",
          "2016-05-02T00:00:00+00:00",
          "2016-05-09T00:00:00+00:00",
          "2016-05-16T00:00:00+00:00",
          "2016-05-23T00:00:00+00:00",
          "2016-05-30T00:00:00+00:00",
          "2016-06-06T00:00:00+00:00",
          "2016-06-13T00:00:00+00:00",
          "2016-06-20T00:00:00+00:00",
          "2016-06-27T00:00:00+00:00",
          "2016-07-04T00:00:00+00:00",
          "2016-07-11T00:00:00+00:00",
          "2016-07-18T00:00:00+00:00",
          "2016-07-25T00:00:00+00:00",
          "2016-08-01T00:00:00+00:00",
          "2016-08-08T00:00:00+00:00",
          "2016-08-15T00:00:00+00:00",
          "2016-08-22T00:00:00+00:00",
          "2016-08-29T00:00:00+00:00",
          "2016-09-05T00:00:00+00:00",
          "2016-09-12T00:00:00+00:00",
          "2016-09-19T00:00:00+00:00",
          "2016-09-26T00:00:00+00:00",
          "2016-10-03T00:00:00+00:00",
          "2016-10-10T00:00:00+00:00",
          "2016-10-17T00:00:00+00:00",
          "2016-10-24T00:00:00+00:00",
          "2016-10-31T00:00:00+00:00",
          "2016-11-07T00:00:00+00:00",
          "2016-11-14T00:00:00+00:00",
          "2016-11-21T00:00:00+00:00",
          "2016-11-28T00:00:00+00:00",
          "2016-12-05T00:00:00+00:00",
          "2016-12-12T00:00:00+00:00",
          "2016-12-19T00:00:00+00:00",
          "2016-12-26T00:00:00+00:00",
          "2017-01-02T00:00:00+00:00",
          "2017-01-09T00:00:00+00:00",
          "2017-01-16T00:00:00+00:00",
          "2017-01-23T00:00:00+00:00",
          "2017-01-30T00:00:00+00:00",
          "2017-02-06T00:00:00+00:00",
          "2017-02-13T00:00:00+00:00",
          "2017-02-20T00:00:00+00:00",
          "2017-02-27T00:00:00+00:00",
          "2017-03-06T00:00:00+00:00",
          "2017-03-13T00:00:00+00:00",
          "2017-03-20T00:00:00+00:00",
          "2017-03-27T00:00:00+00:00",
          "2017-04-03T00:00:00+00:00",
          "2017-04-10T00:00:00+00:00",
          "2017-04-17T00:00:00+00:00",
          "2017-04-24T00:00:00+00:00",
          "2017-05-01T00:00:00+00:00",
          "2017-05-08T00:00:00+00:00",
          "2017-05-15T00:00:00+00:00",
          "2017-05-22T00:00:00+00:00",
          "2017-05-29T00:00:00+00:00",
          "2017-06-05T00:00:00+00:00",
          "2017-06-12T00:00:00+00:00",
          "2017-06-19T00:00:00+00:00",
          "2017-06-26T00:00:00+00:00",
          "2017-07-03T00:00:00+00:00",
          "2017-07-10T00:00:00+00:00",
          "2017-07-17T00:00:00+00:00",
          "2017-07-24T00:00:00+00:00",
          "2017-07-31T00:00:00+00:00",
          "2017-08-07T00:00:00+00:00",
          "2017-08-14T00:00:00+00:00",
          "2017-08-21T00:00:00+00:00",
          "2017-08-28T00:00:00+00:00",
          "2017-09-04T00:00:00+00:00",
          "2017-09-11T00:00:00+00:00",
          "2017-09-18T00:00:00+00:00",
          "2017-09-25T00:00:00+00:00",
          "2017-10-02T00:00:00+00:00",
          "2017-10-09T00:00:00+00:00",
          "2017-10-16T00:00:00+00:00",
          "2017-10-23T00:00:00+00:00",
          "2017-10-30T00:00:00+00:00",
          "2017-11-06T00:00:00+00:00",
          "2017-11-13T00:00:00+00:00",
          "2017-11-20T00:00:00+00:00",
          "2017-11-27T00:00:00+00:00",
          "2017-12-04T00:00:00+00:00",
          "2017-12-11T00:00:00+00:00",
          "2017-12-18T00:00:00+00:00",
          "2017-12-25T00:00:00+00:00",
          "2018-01-01T00:00:00+00:00",
          "2018-01-08T00:00:00+00:00",
          "2018-01-15T00:00:00+00:00",
          "2018-01-22T00:00:00+00:00",
          "2018-01-29T00:00:00+00:00",
          "2018-02-05T00:00:00+00:00",
          "2018-02-12T00:00:00+00:00",
          "2018-02-19T00:00:00+00:00",
          "2018-02-26T00:00:00+00:00",
          "2018-03-05T00:00:00+00:00",
          "2018-03-12T00:00:00+00:00",
          "2018-03-19T00:00:00+00:00",
          "2018-03-26T00:00:00+00:00",
          "2018-04-02T00:00:00+00:00",
          "2018-04-09T00:00:00+00:00",
          "2018-04-16T00:00:00+00:00",
          "2018-04-23T00:00:00+00:00",
          "2018-04-30T00:00:00+00:00",
          "2018-05-07T00:00:00+00:00",
          "2018-05-14T00:00:00+00:00",
          "2018-05-21T00:00:00+00:00",
          "2018-05-28T00:00:00+00:00",
          "2018-06-04T00:00:00+00:00",
          "2018-06-11T00:00:00+00:00",
          "2018-06-18T00:00:00+00:00",
          "2018-06-25T00:00:00+00:00",
          "2018-07-02T00:00:00+00:00",
          "2018-07-09T00:00:00+00:00",
          "2018-07-16T00:00:00+00:00",
          "2018-07-23T00:00:00+00:00",
          "2018-07-30T00:00:00+00:00",
          "2018-08-06T00:00:00+00:00",
          "2018-08-13T00:00:00+00:00",
          "2018-08-20T00:00:00+00:00",
          "2018-08-27T00:00:00+00:00",
          "2018-09-03T00:00:00+00:00",
          "2018-09-10T00:00:00+00:00",
          "2018-09-17T00:00:00+00:00",
          "2018-09-24T00:00:00+00:00",
          "2018-10-01T00:00:00+00:00",
          "2018-10-08T00:00:00+00:00",
          "2018-10-15T00:00:00+00:00",
          "2018-10-22T00:00:00+00:00",
          "2018-10-29T00:00:00+00:00",
          "2018-11-05T00:00:00+00:00",
          "2018-11-12T00:00:00+00:00"
         ],
         "y": [
          360,
          260,
          225.51,
          259.99,
          239.28,
          218.52,
          236.11,
          239.1,
          276.6,
          296.03,
          292.63,
          267.22,
          248.33,
          255.13,
          223.86,
          226.25,
          225.69,
          236.35,
          240.97,
          234.25,
          237.15,
          222.36,
          228.66,
          236.99,
          247.8,
          262.77,
          270.5,
          291.48,
          280.99,
          296.99,
          283.69,
          267.2,
          255.44,
          208.45,
          229.05,
          242.66,
          231.9,
          227.18,
          240.54,
          241.45,
          245.68,
          264.66,
          288.74,
          373.51,
          379.57,
          335.61,
          321.75,
          378,
          393.16,
          454.94,
          436.63,
          422.36,
          433.89,
          447.4,
          383.65,
          392.85,
          373.9,
          371.43,
          399.73,
          438.64,
          435.19,
          414.71,
          416.12,
          416.01,
          423.15,
          423.09,
          428.24,
          431.03,
          467.76,
          446.4,
          463.11,
          457,
          447.41,
          533.89,
          587.64,
          691.14,
          700.19,
          653.34,
          678.31,
          650.06,
          675.18,
          658.39,
          598,
          588.73,
          568.53,
          585.96,
          573.03,
          606.89,
          608.53,
          609.23,
          605.55,
          610.59,
          630.56,
          639.12,
          655.29,
          710.01,
          707.38,
          710.52,
          736.42,
          731.51,
          755.56,
          778.77,
          789.02,
          898.86,
          1018.65,
          900.97,
          865,
          917.74,
          924.99,
          1039.36,
          1005.83,
          1091.44,
          1199.16,
          1279.26,
          1241.58,
          1079.46,
          1037.76,
          1153.12,
          1203.07,
          1199.03,
          1269.47,
          1452.87,
          1700,
          1722.01,
          2193.75,
          2314.85,
          2850.11,
          2679.55,
          2591.89,
          2432.86,
          2620,
          2326.79,
          2182.93,
          2762,
          2885,
          3464.64,
          4369.77,
          3662.74,
          4389.47,
          4345,
          4286.05,
          3907.98,
          3913.01,
          4412.44,
          4798.48,
          5671.01,
          5634.78,
          6148.59,
          7140,
          6560,
          8075,
          9892.7,
          11603.42,
          16699.02,
          18914.36,
          15351.02,
          13194.01,
          15085.49,
          13149.9,
          10413.13,
          10940.01,
          6389.09,
          8616.98,
          11437.05,
          10305.56,
          11298.06,
          9381.33,
          8457.99,
          7770,
          7370,
          6760.25,
          8009.99,
          9256.55,
          8981.6,
          9410.56,
          8687.02,
          8288.01,
          7119.99,
          7387.74,
          6829.01,
          6708.01,
          6246.82,
          6647,
          6641.4,
          6711.56,
          7850,
          8113.67,
          6950.92,
          6018.44,
          6300.55,
          6898.08,
          7250.77,
          6322.01,
          6260.51,
          6456.51,
          6575,
          6605.96,
          6428,
          6404.88,
          6289,
          6397
         ]
        },
        {
         "mode": "lines",
         "name": "Close",
         "type": "scatter",
         "x": [
          "2015-01-12T00:00:00+00:00",
          "2015-01-19T00:00:00+00:00",
          "2015-01-26T00:00:00+00:00",
          "2015-02-02T00:00:00+00:00",
          "2015-02-09T00:00:00+00:00",
          "2015-02-16T00:00:00+00:00",
          "2015-02-23T00:00:00+00:00",
          "2015-03-02T00:00:00+00:00",
          "2015-03-09T00:00:00+00:00",
          "2015-03-16T00:00:00+00:00",
          "2015-03-23T00:00:00+00:00",
          "2015-03-30T00:00:00+00:00",
          "2015-04-06T00:00:00+00:00",
          "2015-04-13T00:00:00+00:00",
          "2015-04-20T00:00:00+00:00",
          "2015-04-27T00:00:00+00:00",
          "2015-05-04T00:00:00+00:00",
          "2015-05-11T00:00:00+00:00",
          "2015-05-18T00:00:00+00:00",
          "2015-05-25T00:00:00+00:00",
          "2015-06-01T00:00:00+00:00",
          "2015-06-08T00:00:00+00:00",
          "2015-06-15T00:00:00+00:00",
          "2015-06-22T00:00:00+00:00",
          "2015-06-29T00:00:00+00:00",
          "2015-07-06T00:00:00+00:00",
          "2015-07-13T00:00:00+00:00",
          "2015-07-20T00:00:00+00:00",
          "2015-07-27T00:00:00+00:00",
          "2015-08-03T00:00:00+00:00",
          "2015-08-10T00:00:00+00:00",
          "2015-08-17T00:00:00+00:00",
          "2015-08-24T00:00:00+00:00",
          "2015-08-31T00:00:00+00:00",
          "2015-09-07T00:00:00+00:00",
          "2015-09-14T00:00:00+00:00",
          "2015-09-21T00:00:00+00:00",
          "2015-09-28T00:00:00+00:00",
          "2015-10-05T00:00:00+00:00",
          "2015-10-12T00:00:00+00:00",
          "2015-10-19T00:00:00+00:00",
          "2015-10-26T00:00:00+00:00",
          "2015-11-02T00:00:00+00:00",
          "2015-11-09T00:00:00+00:00",
          "2015-11-16T00:00:00+00:00",
          "2015-11-23T00:00:00+00:00",
          "2015-11-30T00:00:00+00:00",
          "2015-12-07T00:00:00+00:00",
          "2015-12-14T00:00:00+00:00",
          "2015-12-21T00:00:00+00:00",
          "2015-12-28T00:00:00+00:00",
          "2016-01-04T00:00:00+00:00",
          "2016-01-11T00:00:00+00:00",
          "2016-01-18T00:00:00+00:00",
          "2016-01-25T00:00:00+00:00",
          "2016-02-01T00:00:00+00:00",
          "2016-02-08T00:00:00+00:00",
          "2016-02-15T00:00:00+00:00",
          "2016-02-22T00:00:00+00:00",
          "2016-02-29T00:00:00+00:00",
          "2016-03-07T00:00:00+00:00",
          "2016-03-14T00:00:00+00:00",
          "2016-03-21T00:00:00+00:00",
          "2016-03-28T00:00:00+00:00",
          "2016-04-04T00:00:00+00:00",
          "2016-04-11T00:00:00+00:00",
          "2016-04-18T00:00:00+00:00",
          "2016-04-25T00:00:00+00:00",
          "2016-05-02T00:00:00+00:00",
          "2016-05-09T00:00:00+00:00",
          "2016-05-16T00:00:00+00:00",
          "2016-05-23T00:00:00+00:00",
          "2016-05-30T00:00:00+00:00",
          "2016-06-06T00:00:00+00:00",
          "2016-06-13T00:00:00+00:00",
          "2016-06-20T00:00:00+00:00",
          "2016-06-27T00:00:00+00:00",
          "2016-07-04T00:00:00+00:00",
          "2016-07-11T00:00:00+00:00",
          "2016-07-18T00:00:00+00:00",
          "2016-07-25T00:00:00+00:00",
          "2016-08-01T00:00:00+00:00",
          "2016-08-08T00:00:00+00:00",
          "2016-08-15T00:00:00+00:00",
          "2016-08-22T00:00:00+00:00",
          "2016-08-29T00:00:00+00:00",
          "2016-09-05T00:00:00+00:00",
          "2016-09-12T00:00:00+00:00",
          "2016-09-19T00:00:00+00:00",
          "2016-09-26T00:00:00+00:00",
          "2016-10-03T00:00:00+00:00",
          "2016-10-10T00:00:00+00:00",
          "2016-10-17T00:00:00+00:00",
          "2016-10-24T00:00:00+00:00",
          "2016-10-31T00:00:00+00:00",
          "2016-11-07T00:00:00+00:00",
          "2016-11-14T00:00:00+00:00",
          "2016-11-21T00:00:00+00:00",
          "2016-11-28T00:00:00+00:00",
          "2016-12-05T00:00:00+00:00",
          "2016-12-12T00:00:00+00:00",
          "2016-12-19T00:00:00+00:00",
          "2016-12-26T00:00:00+00:00",
          "2017-01-02T00:00:00+00:00",
          "2017-01-09T00:00:00+00:00",
          "2017-01-16T00:00:00+00:00",
          "2017-01-23T00:00:00+00:00",
          "2017-01-30T00:00:00+00:00",
          "2017-02-06T00:00:00+00:00",
          "2017-02-13T00:00:00+00:00",
          "2017-02-20T00:00:00+00:00",
          "2017-02-27T00:00:00+00:00",
          "2017-03-06T00:00:00+00:00",
          "2017-03-13T00:00:00+00:00",
          "2017-03-20T00:00:00+00:00",
          "2017-03-27T00:00:00+00:00",
          "2017-04-03T00:00:00+00:00",
          "2017-04-10T00:00:00+00:00",
          "2017-04-17T00:00:00+00:00",
          "2017-04-24T00:00:00+00:00",
          "2017-05-01T00:00:00+00:00",
          "2017-05-08T00:00:00+00:00",
          "2017-05-15T00:00:00+00:00",
          "2017-05-22T00:00:00+00:00",
          "2017-05-29T00:00:00+00:00",
          "2017-06-05T00:00:00+00:00",
          "2017-06-12T00:00:00+00:00",
          "2017-06-19T00:00:00+00:00",
          "2017-06-26T00:00:00+00:00",
          "2017-07-03T00:00:00+00:00",
          "2017-07-10T00:00:00+00:00",
          "2017-07-17T00:00:00+00:00",
          "2017-07-24T00:00:00+00:00",
          "2017-07-31T00:00:00+00:00",
          "2017-08-07T00:00:00+00:00",
          "2017-08-14T00:00:00+00:00",
          "2017-08-21T00:00:00+00:00",
          "2017-08-28T00:00:00+00:00",
          "2017-09-04T00:00:00+00:00",
          "2017-09-11T00:00:00+00:00",
          "2017-09-18T00:00:00+00:00",
          "2017-09-25T00:00:00+00:00",
          "2017-10-02T00:00:00+00:00",
          "2017-10-09T00:00:00+00:00",
          "2017-10-16T00:00:00+00:00",
          "2017-10-23T00:00:00+00:00",
          "2017-10-30T00:00:00+00:00",
          "2017-11-06T00:00:00+00:00",
          "2017-11-13T00:00:00+00:00",
          "2017-11-20T00:00:00+00:00",
          "2017-11-27T00:00:00+00:00",
          "2017-12-04T00:00:00+00:00",
          "2017-12-11T00:00:00+00:00",
          "2017-12-18T00:00:00+00:00",
          "2017-12-25T00:00:00+00:00",
          "2018-01-01T00:00:00+00:00",
          "2018-01-08T00:00:00+00:00",
          "2018-01-15T00:00:00+00:00",
          "2018-01-22T00:00:00+00:00",
          "2018-01-29T00:00:00+00:00",
          "2018-02-05T00:00:00+00:00",
          "2018-02-12T00:00:00+00:00",
          "2018-02-19T00:00:00+00:00",
          "2018-02-26T00:00:00+00:00",
          "2018-03-05T00:00:00+00:00",
          "2018-03-12T00:00:00+00:00",
          "2018-03-19T00:00:00+00:00",
          "2018-03-26T00:00:00+00:00",
          "2018-04-02T00:00:00+00:00",
          "2018-04-09T00:00:00+00:00",
          "2018-04-16T00:00:00+00:00",
          "2018-04-23T00:00:00+00:00",
          "2018-04-30T00:00:00+00:00",
          "2018-05-07T00:00:00+00:00",
          "2018-05-14T00:00:00+00:00",
          "2018-05-21T00:00:00+00:00",
          "2018-05-28T00:00:00+00:00",
          "2018-06-04T00:00:00+00:00",
          "2018-06-11T00:00:00+00:00",
          "2018-06-18T00:00:00+00:00",
          "2018-06-25T00:00:00+00:00",
          "2018-07-02T00:00:00+00:00",
          "2018-07-09T00:00:00+00:00",
          "2018-07-16T00:00:00+00:00",
          "2018-07-23T00:00:00+00:00",
          "2018-07-30T00:00:00+00:00",
          "2018-08-06T00:00:00+00:00",
          "2018-08-13T00:00:00+00:00",
          "2018-08-20T00:00:00+00:00",
          "2018-08-27T00:00:00+00:00",
          "2018-09-03T00:00:00+00:00",
          "2018-09-10T00:00:00+00:00",
          "2018-09-17T00:00:00+00:00",
          "2018-09-24T00:00:00+00:00",
          "2018-10-01T00:00:00+00:00",
          "2018-10-08T00:00:00+00:00",
          "2018-10-15T00:00:00+00:00",
          "2018-10-22T00:00:00+00:00",
          "2018-10-29T00:00:00+00:00",
          "2018-11-05T00:00:00+00:00",
          "2018-11-12T00:00:00+00:00"
         ],
         "y": [
          360,
          260,
          225.51,
          259.99,
          239.5,
          218.54,
          235.83,
          239.55,
          276.6,
          296.45,
          292.7,
          267.12,
          248.34,
          255.43,
          223.86,
          226.13,
          225.69,
          236.36,
          241.04,
          234.25,
          237.17,
          222.38,
          228.64,
          236.96,
          247.8,
          262.21,
          270.51,
          291.54,
          280.98,
          296.87,
          283.73,
          267.21,
          255.79,
          208.41,
          229.05,
          242.75,
          231.92,
          227.18,
          240.54,
          241.45,
          245.64,
          264.66,
          288.75,
          373.74,
          379.55,
          335.6,
          321.75,
          377.61,
          393.34,
          454.95,
          436.63,
          422.39,
          433.91,
          447.26,
          383.8,
          392.85,
          373.53,
          371.43,
          399.73,
          438.64,
          435.19,
          414.71,
          416.14,
          416,
          423.12,
          423.16,
          428.24,
          431.08,
          467.76,
          446.41,
          462.96,
          457,
          447.39,
          533.5,
          587.63,
          691.21,
          699.97,
          652.87,
          678.32,
          650.85,
          674.61,
          658.25,
          597.79,
          588.73,
          568.01,
          585.77,
          572.93,
          606.8,
          608.53,
          609.25,
          605.55,
          610.4,
          630.13,
          639.13,
          655.3,
          709.64,
          707.4,
          710.52,
          736.42,
          731.05,
          755.57,
          778.77,
          789.46,
          897.85,
          1018.79,
          902.54,
          865,
          916.36,
          924.99,
          1039.36,
          1005.5,
          1090.13,
          1199.16,
          1279.01,
          1241.58,
          1082.14,
          1037.76,
          1153.05,
          1203.11,
          1198.79,
          1267.4,
          1452.86,
          1700.69,
          1721.7,
          2190.82,
          2312.46,
          2850.07,
          2679.62,
          2591.24,
          2434.4,
          2620.44,
          2326.78,
          2179.69,
          2759.76,
          2880.94,
          3465.59,
          4369.01,
          3652.43,
          4389.48,
          4345,
          4286.04,
          3899.98,
          3913.01,
          4412.43,
          4798.51,
          5669.1,
          5665.24,
          6148.59,
          7127.09,
          6560,
          8097.73,
          9871.51,
          11603.41,
          16765.99,
          18909.28,
          15388,
          13194,
          15042.02,
          13177.75,
          10394.16,
          10940.01,
          6333.29,
          8609.45,
          11441.72,
          10305.59,
          11298.05,
          9381.33,
          8457.99,
          7770,
          7369.99,
          6760.25,
          8010,
          9254.99,
          8971.71,
          9402.06,
          8700.44,
          8288.01,
          7120,
          7377.56,
          6830.99,
          6708.01,
          6246.46,
          6646.12,
          6641.33,
          6703.75,
          7854.99,
          8113.66,
          6959.49,
          6010.01,
          6300.55,
          6898.08,
          7253.3,
          6314.96,
          6260.51,
          6451.48,
          6575.01,
          6605.97,
          6426.5,
          6404.99,
          6288.99,
          6397
         ]
        },
        {
         "mode": "lines",
         "name": "Weighted Avg",
         "type": "scatter",
         "x": [
          "2015-01-12T00:00:00+00:00",
          "2015-01-19T00:00:00+00:00",
          "2015-01-26T00:00:00+00:00",
          "2015-02-02T00:00:00+00:00",
          "2015-02-09T00:00:00+00:00",
          "2015-02-16T00:00:00+00:00",
          "2015-02-23T00:00:00+00:00",
          "2015-03-02T00:00:00+00:00",
          "2015-03-09T00:00:00+00:00",
          "2015-03-16T00:00:00+00:00",
          "2015-03-23T00:00:00+00:00",
          "2015-03-30T00:00:00+00:00",
          "2015-04-06T00:00:00+00:00",
          "2015-04-13T00:00:00+00:00",
          "2015-04-20T00:00:00+00:00",
          "2015-04-27T00:00:00+00:00",
          "2015-05-04T00:00:00+00:00",
          "2015-05-11T00:00:00+00:00",
          "2015-05-18T00:00:00+00:00",
          "2015-05-25T00:00:00+00:00",
          "2015-06-01T00:00:00+00:00",
          "2015-06-08T00:00:00+00:00",
          "2015-06-15T00:00:00+00:00",
          "2015-06-22T00:00:00+00:00",
          "2015-06-29T00:00:00+00:00",
          "2015-07-06T00:00:00+00:00",
          "2015-07-13T00:00:00+00:00",
          "2015-07-20T00:00:00+00:00",
          "2015-07-27T00:00:00+00:00",
          "2015-08-03T00:00:00+00:00",
          "2015-08-10T00:00:00+00:00",
          "2015-08-17T00:00:00+00:00",
          "2015-08-24T00:00:00+00:00",
          "2015-08-31T00:00:00+00:00",
          "2015-09-07T00:00:00+00:00",
          "2015-09-14T00:00:00+00:00",
          "2015-09-21T00:00:00+00:00",
          "2015-09-28T00:00:00+00:00",
          "2015-10-05T00:00:00+00:00",
          "2015-10-12T00:00:00+00:00",
          "2015-10-19T00:00:00+00:00",
          "2015-10-26T00:00:00+00:00",
          "2015-11-02T00:00:00+00:00",
          "2015-11-09T00:00:00+00:00",
          "2015-11-16T00:00:00+00:00",
          "2015-11-23T00:00:00+00:00",
          "2015-11-30T00:00:00+00:00",
          "2015-12-07T00:00:00+00:00",
          "2015-12-14T00:00:00+00:00",
          "2015-12-21T00:00:00+00:00",
          "2015-12-28T00:00:00+00:00",
          "2016-01-04T00:00:00+00:00",
          "2016-01-11T00:00:00+00:00",
          "2016-01-18T00:00:00+00:00",
          "2016-01-25T00:00:00+00:00",
          "2016-02-01T00:00:00+00:00",
          "2016-02-08T00:00:00+00:00",
          "2016-02-15T00:00:00+00:00",
          "2016-02-22T00:00:00+00:00",
          "2016-02-29T00:00:00+00:00",
          "2016-03-07T00:00:00+00:00",
          "2016-03-14T00:00:00+00:00",
          "2016-03-21T00:00:00+00:00",
          "2016-03-28T00:00:00+00:00",
          "2016-04-04T00:00:00+00:00",
          "2016-04-11T00:00:00+00:00",
          "2016-04-18T00:00:00+00:00",
          "2016-04-25T00:00:00+00:00",
          "2016-05-02T00:00:00+00:00",
          "2016-05-09T00:00:00+00:00",
          "2016-05-16T00:00:00+00:00",
          "2016-05-23T00:00:00+00:00",
          "2016-05-30T00:00:00+00:00",
          "2016-06-06T00:00:00+00:00",
          "2016-06-13T00:00:00+00:00",
          "2016-06-20T00:00:00+00:00",
          "2016-06-27T00:00:00+00:00",
          "2016-07-04T00:00:00+00:00",
          "2016-07-11T00:00:00+00:00",
          "2016-07-18T00:00:00+00:00",
          "2016-07-25T00:00:00+00:00",
          "2016-08-01T00:00:00+00:00",
          "2016-08-08T00:00:00+00:00",
          "2016-08-15T00:00:00+00:00",
          "2016-08-22T00:00:00+00:00",
          "2016-08-29T00:00:00+00:00",
          "2016-09-05T00:00:00+00:00",
          "2016-09-12T00:00:00+00:00",
          "2016-09-19T00:00:00+00:00",
          "2016-09-26T00:00:00+00:00",
          "2016-10-03T00:00:00+00:00",
          "2016-10-10T00:00:00+00:00",
          "2016-10-17T00:00:00+00:00",
          "2016-10-24T00:00:00+00:00",
          "2016-10-31T00:00:00+00:00",
          "2016-11-07T00:00:00+00:00",
          "2016-11-14T00:00:00+00:00",
          "2016-11-21T00:00:00+00:00",
          "2016-11-28T00:00:00+00:00",
          "2016-12-05T00:00:00+00:00",
          "2016-12-12T00:00:00+00:00",
          "2016-12-19T00:00:00+00:00",
          "2016-12-26T00:00:00+00:00",
          "2017-01-02T00:00:00+00:00",
          "2017-01-09T00:00:00+00:00",
          "2017-01-16T00:00:00+00:00",
          "2017-01-23T00:00:00+00:00",
          "2017-01-30T00:00:00+00:00",
          "2017-02-06T00:00:00+00:00",
          "2017-02-13T00:00:00+00:00",
          "2017-02-20T00:00:00+00:00",
          "2017-02-27T00:00:00+00:00",
          "2017-03-06T00:00:00+00:00",
          "2017-03-13T00:00:00+00:00",
          "2017-03-20T00:00:00+00:00",
          "2017-03-27T00:00:00+00:00",
          "2017-04-03T00:00:00+00:00",
          "2017-04-10T00:00:00+00:00",
          "2017-04-17T00:00:00+00:00",
          "2017-04-24T00:00:00+00:00",
          "2017-05-01T00:00:00+00:00",
          "2017-05-08T00:00:00+00:00",
          "2017-05-15T00:00:00+00:00",
          "2017-05-22T00:00:00+00:00",
          "2017-05-29T00:00:00+00:00",
          "2017-06-05T00:00:00+00:00",
          "2017-06-12T00:00:00+00:00",
          "2017-06-19T00:00:00+00:00",
          "2017-06-26T00:00:00+00:00",
          "2017-07-03T00:00:00+00:00",
          "2017-07-10T00:00:00+00:00",
          "2017-07-17T00:00:00+00:00",
          "2017-07-24T00:00:00+00:00",
          "2017-07-31T00:00:00+00:00",
          "2017-08-07T00:00:00+00:00",
          "2017-08-14T00:00:00+00:00",
          "2017-08-21T00:00:00+00:00",
          "2017-08-28T00:00:00+00:00",
          "2017-09-04T00:00:00+00:00",
          "2017-09-11T00:00:00+00:00",
          "2017-09-18T00:00:00+00:00",
          "2017-09-25T00:00:00+00:00",
          "2017-10-02T00:00:00+00:00",
          "2017-10-09T00:00:00+00:00",
          "2017-10-16T00:00:00+00:00",
          "2017-10-23T00:00:00+00:00",
          "2017-10-30T00:00:00+00:00",
          "2017-11-06T00:00:00+00:00",
          "2017-11-13T00:00:00+00:00",
          "2017-11-20T00:00:00+00:00",
          "2017-11-27T00:00:00+00:00",
          "2017-12-04T00:00:00+00:00",
          "2017-12-11T00:00:00+00:00",
          "2017-12-18T00:00:00+00:00",
          "2017-12-25T00:00:00+00:00",
          "2018-01-01T00:00:00+00:00",
          "2018-01-08T00:00:00+00:00",
          "2018-01-15T00:00:00+00:00",
          "2018-01-22T00:00:00+00:00",
          "2018-01-29T00:00:00+00:00",
          "2018-02-05T00:00:00+00:00",
          "2018-02-12T00:00:00+00:00",
          "2018-02-19T00:00:00+00:00",
          "2018-02-26T00:00:00+00:00",
          "2018-03-05T00:00:00+00:00",
          "2018-03-12T00:00:00+00:00",
          "2018-03-19T00:00:00+00:00",
          "2018-03-26T00:00:00+00:00",
          "2018-04-02T00:00:00+00:00",
          "2018-04-09T00:00:00+00:00",
          "2018-04-16T00:00:00+00:00",
          "2018-04-23T00:00:00+00:00",
          "2018-04-30T00:00:00+00:00",
          "2018-05-07T00:00:00+00:00",
          "2018-05-14T00:00:00+00:00",
          "2018-05-21T00:00:00+00:00",
          "2018-05-28T00:00:00+00:00",
          "2018-06-04T00:00:00+00:00",
          "2018-06-11T00:00:00+00:00",
          "2018-06-18T00:00:00+00:00",
          "2018-06-25T00:00:00+00:00",
          "2018-07-02T00:00:00+00:00",
          "2018-07-09T00:00:00+00:00",
          "2018-07-16T00:00:00+00:00",
          "2018-07-23T00:00:00+00:00",
          "2018-07-30T00:00:00+00:00",
          "2018-08-06T00:00:00+00:00",
          "2018-08-13T00:00:00+00:00",
          "2018-08-20T00:00:00+00:00",
          "2018-08-27T00:00:00+00:00",
          "2018-09-03T00:00:00+00:00",
          "2018-09-10T00:00:00+00:00",
          "2018-09-17T00:00:00+00:00",
          "2018-09-24T00:00:00+00:00",
          "2018-10-01T00:00:00+00:00",
          "2018-10-08T00:00:00+00:00",
          "2018-10-15T00:00:00+00:00",
          "2018-10-22T00:00:00+00:00",
          "2018-10-29T00:00:00+00:00",
          "2018-11-05T00:00:00+00:00",
          "2018-11-12T00:00:00+00:00"
         ],
         "y": [
          360,
          0,
          0,
          259.99,
          239.4765994,
          0,
          236.09,
          239.41499551,
          276.5949682,
          296.36380444,
          292.6944,
          267.2761274,
          248.334975,
          255.14651056,
          223.86,
          0,
          225.69,
          236.35364507,
          0,
          234.25,
          0,
          222.35070163,
          228.66307178,
          236.98437711,
          247.8,
          262.57162954,
          270.50152048,
          291.56356408,
          280.98066596,
          296.99704574,
          283.69242582,
          267.20328147,
          255.52484817,
          208.4471394,
          229.05,
          242.67062584,
          231.91995275,
          227.18,
          240.54,
          241.45,
          245.67006831,
          264.66,
          288.74324197,
          373.35522478,
          379.54796389,
          0,
          321.75,
          377.99309598,
          392.84596313,
          454.94958974,
          436.70362529,
          422.23838521,
          433.8999913,
          447.32537367,
          383.75528169,
          392.85,
          373.56391748,
          371.45323447,
          0,
          438.66088968,
          435.19,
          414.71,
          416.14539684,
          416.00855325,
          423.12005598,
          423.12625388,
          428.19281837,
          0,
          467.76,
          0,
          462.9872374,
          457,
          447.40317624,
          533.7188355,
          587.87380134,
          691.18036768,
          699.98037582,
          653.31463706,
          678.31176168,
          650.57395535,
          674.80049642,
          658.31205628,
          597.98493403,
          588.73,
          568.27021107,
          585.80757632,
          572.98765712,
          606.81801046,
          608.53,
          609.24923919,
          605.55,
          610.55026492,
          630.27997099,
          639.12294523,
          655.29487204,
          709.51397373,
          707.38758259,
          710.52,
          736.42,
          731.12959819,
          755.58107914,
          778.7769061,
          789.08350815,
          898.46282498,
          1018.7665474,
          901.69788132,
          865,
          916.57903167,
          924.99,
          1039.3193364,
          1005.6678522,
          1090.239916,
          1199.16,
          1279.1016115,
          1241.58,
          1080.3353558,
          1037.76,
          1153.0543442,
          1203.1077432,
          1199.8089268,
          1268.3494018,
          1452.8963129,
          1700.1573728,
          1721.9112176,
          2191.2695616,
          2313.9932035,
          2849.5367894,
          2679.5435704,
          2592.2045594,
          2433.1606191,
          2620.0359923,
          2326.7885557,
          2181.7188816,
          2760.6468294,
          2882.3237677,
          3466.4331907,
          4369.3043842,
          3661.6562922,
          4389.4705239,
          4342.6043484,
          4286.040138,
          3901.863865,
          3913.01,
          4412.4342673,
          4798.4912928,
          5670.7320568,
          5654.3706828,
          6148.5862557,
          7130.4065202,
          6560,
          8080.4339556,
          9879.8013431,
          11603.419506,
          0,
          18904.968221,
          15364.84201,
          13194.008304,
          15059.470355,
          13162.046084,
          10399.981477,
          10940.01,
          6358.3928744,
          8613.9980579,
          11439.94025,
          10305.58639,
          11298.050543,
          9381.3297686,
          8457.991732,
          7769.9993519,
          7369.9944892,
          6760.2464326,
          8009.9986896,
          9255.6849757,
          8977.2000155,
          9405.6684748,
          8692.0017002,
          8288.0043008,
          7119.9993205,
          7386.8677563,
          6834.1175548,
          6708.0085112,
          6246.7625301,
          6646.666112,
          6641.3320154,
          6703.4306507,
          7850.9851574,
          8113.6683225,
          6954.828856,
          6011.5212159,
          6300.5413321,
          6898.0793046,
          7252.8972866,
          6320.8828458,
          6260.5058052,
          6454.8115506,
          6574.976449,
          6605.9664809,
          6427.9975358,
          6404.912961,
          6288.9995898,
          6397.0389815
         ]
        }
       ],
       "layout": {
        "template": {
         "data": {
          "bar": [
           {
            "error_x": {
             "color": "#2a3f5f"
            },
            "error_y": {
             "color": "#2a3f5f"
            },
            "marker": {
             "line": {
              "color": "#E5ECF6",
              "width": 0.5
             },
             "pattern": {
              "fillmode": "overlay",
              "size": 10,
              "solidity": 0.2
             }
            },
            "type": "bar"
           }
          ],
          "barpolar": [
           {
            "marker": {
             "line": {
              "color": "#E5ECF6",
              "width": 0.5
             },
             "pattern": {
              "fillmode": "overlay",
              "size": 10,
              "solidity": 0.2
             }
            },
            "type": "barpolar"
           }
          ],
          "carpet": [
           {
            "aaxis": {
             "endlinecolor": "#2a3f5f",
             "gridcolor": "white",
             "linecolor": "white",
             "minorgridcolor": "white",
             "startlinecolor": "#2a3f5f"
            },
            "baxis": {
             "endlinecolor": "#2a3f5f",
             "gridcolor": "white",
             "linecolor": "white",
             "minorgridcolor": "white",
             "startlinecolor": "#2a3f5f"
            },
            "type": "carpet"
           }
          ],
          "choropleth": [
           {
            "colorbar": {
             "outlinewidth": 0,
             "ticks": ""
            },
            "type": "choropleth"
           }
          ],
          "contour": [
           {
            "colorbar": {
             "outlinewidth": 0,
             "ticks": ""
            },
            "colorscale": [
             [
              0,
              "#0d0887"
             ],
             [
              0.1111111111111111,
              "#46039f"
             ],
             [
              0.2222222222222222,
              "#7201a8"
             ],
             [
              0.3333333333333333,
              "#9c179e"
             ],
             [
              0.4444444444444444,
              "#bd3786"
             ],
             [
              0.5555555555555556,
              "#d8576b"
             ],
             [
              0.6666666666666666,
              "#ed7953"
             ],
             [
              0.7777777777777778,
              "#fb9f3a"
             ],
             [
              0.8888888888888888,
              "#fdca26"
             ],
             [
              1,
              "#f0f921"
             ]
            ],
            "type": "contour"
           }
          ],
          "contourcarpet": [
           {
            "colorbar": {
             "outlinewidth": 0,
             "ticks": ""
            },
            "type": "contourcarpet"
           }
          ],
          "heatmap": [
           {
            "colorbar": {
             "outlinewidth": 0,
             "ticks": ""
            },
            "colorscale": [
             [
              0,
              "#0d0887"
             ],
             [
              0.1111111111111111,
              "#46039f"
             ],
             [
              0.2222222222222222,
              "#7201a8"
             ],
             [
              0.3333333333333333,
              "#9c179e"
             ],
             [
              0.4444444444444444,
              "#bd3786"
             ],
             [
              0.5555555555555556,
              "#d8576b"
             ],
             [
              0.6666666666666666,
              "#ed7953"
             ],
             [
              0.7777777777777778,
              "#fb9f3a"
             ],
             [
              0.8888888888888888,
              "#fdca26"
             ],
             [
              1,
              "#f0f921"
             ]
            ],
            "type": "heatmap"
           }
          ],
          "heatmapgl": [
           {
            "colorbar": {
             "outlinewidth": 0,
             "ticks": ""
            },
            "colorscale": [
             [
              0,
              "#0d0887"
             ],
             [
              0.1111111111111111,
              "#46039f"
             ],
             [
              0.2222222222222222,
              "#7201a8"
             ],
             [
              0.3333333333333333,
              "#9c179e"
             ],
             [
              0.4444444444444444,
              "#bd3786"
             ],
             [
              0.5555555555555556,
              "#d8576b"
             ],
             [
              0.6666666666666666,
              "#ed7953"
             ],
             [
              0.7777777777777778,
              "#fb9f3a"
             ],
             [
              0.8888888888888888,
              "#fdca26"
             ],
             [
              1,
              "#f0f921"
             ]
            ],
            "type": "heatmapgl"
           }
          ],
          "histogram": [
           {
            "marker": {
             "pattern": {
              "fillmode": "overlay",
              "size": 10,
              "solidity": 0.2
             }
            },
            "type": "histogram"
           }
          ],
          "histogram2d": [
           {
            "colorbar": {
             "outlinewidth": 0,
             "ticks": ""
            },
            "colorscale": [
             [
              0,
              "#0d0887"
             ],
             [
              0.1111111111111111,
              "#46039f"
             ],
             [
              0.2222222222222222,
              "#7201a8"
             ],
             [
              0.3333333333333333,
              "#9c179e"
             ],
             [
              0.4444444444444444,
              "#bd3786"
             ],
             [
              0.5555555555555556,
              "#d8576b"
             ],
             [
              0.6666666666666666,
              "#ed7953"
             ],
             [
              0.7777777777777778,
              "#fb9f3a"
             ],
             [
              0.8888888888888888,
              "#fdca26"
             ],
             [
              1,
              "#f0f921"
             ]
            ],
            "type": "histogram2d"
           }
          ],
          "histogram2dcontour": [
           {
            "colorbar": {
             "outlinewidth": 0,
             "ticks": ""
            },
            "colorscale": [
             [
              0,
              "#0d0887"
             ],
             [
              0.1111111111111111,
              "#46039f"
             ],
             [
              0.2222222222222222,
              "#7201a8"
             ],
             [
              0.3333333333333333,
              "#9c179e"
             ],
             [
              0.4444444444444444,
              "#bd3786"
             ],
             [
              0.5555555555555556,
              "#d8576b"
             ],
             [
              0.6666666666666666,
              "#ed7953"
             ],
             [
              0.7777777777777778,
              "#fb9f3a"
             ],
             [
              0.8888888888888888,
              "#fdca26"
             ],
             [
              1,
              "#f0f921"
             ]
            ],
            "type": "histogram2dcontour"
           }
          ],
          "mesh3d": [
           {
            "colorbar": {
             "outlinewidth": 0,
             "ticks": ""
            },
            "type": "mesh3d"
           }
          ],
          "parcoords": [
           {
            "line": {
             "colorbar": {
              "outlinewidth": 0,
              "ticks": ""
             }
            },
            "type": "parcoords"
           }
          ],
          "pie": [
           {
            "automargin": true,
            "type": "pie"
           }
          ],
          "scatter": [
           {
            "fillpattern": {
             "fillmode": "overlay",
             "size": 10,
             "solidity": 0.2
            },
            "type": "scatter"
           }
          ],
          "scatter3d": [
           {
            "line": {
             "colorbar": {
              "outlinewidth": 0,
              "ticks": ""
             }
            },
            "marker": {
             "colorbar": {
              "outlinewidth": 0,
              "ticks": ""
             }
            },
            "type": "scatter3d"
           }
          ],
          "scattercarpet": [
           {
            "marker": {
             "colorbar": {
              "outlinewidth": 0,
              "ticks": ""
             }
            },
            "type": "scattercarpet"
           }
          ],
          "scattergeo": [
           {
            "marker": {
             "colorbar": {
              "outlinewidth": 0,
              "ticks": ""
             }
            },
            "type": "scattergeo"
           }
          ],
          "scattergl": [
           {
            "marker": {
             "colorbar": {
              "outlinewidth": 0,
              "ticks": ""
             }
            },
            "type": "scattergl"
           }
          ],
          "scattermapbox": [
           {
            "marker": {
             "colorbar": {
              "outlinewidth": 0,
              "ticks": ""
             }
            },
            "type": "scattermapbox"
           }
          ],
          "scatterpolar": [
           {
            "marker": {
             "colorbar": {
              "outlinewidth": 0,
              "ticks": ""
             }
            },
            "type": "scatterpolar"
           }
          ],
          "scatterpolargl": [
           {
            "marker": {
             "colorbar": {
              "outlinewidth": 0,
              "ticks": ""
             }
            },
            "type": "scatterpolargl"
           }
          ],
          "scatterternary": [
           {
            "marker": {
             "colorbar": {
              "outlinewidth": 0,
              "ticks": ""
             }
            },
            "type": "scatterternary"
           }
          ],
          "surface": [
           {
            "colorbar": {
             "outlinewidth": 0,
             "ticks": ""
            },
            "colorscale": [
             [
              0,
              "#0d0887"
             ],
             [
              0.1111111111111111,
              "#46039f"
             ],
             [
              0.2222222222222222,
              "#7201a8"
             ],
             [
              0.3333333333333333,
              "#9c179e"
             ],
             [
              0.4444444444444444,
              "#bd3786"
             ],
             [
              0.5555555555555556,
              "#d8576b"
             ],
             [
              0.6666666666666666,
              "#ed7953"
             ],
             [
              0.7777777777777778,
              "#fb9f3a"
             ],
             [
              0.8888888888888888,
              "#fdca26"
             ],
             [
              1,
              "#f0f921"
             ]
            ],
            "type": "surface"
           }
          ],
          "table": [
           {
            "cells": {
             "fill": {
              "color": "#EBF0F8"
             },
             "line": {
              "color": "white"
             }
            },
            "header": {
             "fill": {
              "color": "#C8D4E3"
             },
             "line": {
              "color": "white"
             }
            },
            "type": "table"
           }
          ]
         },
         "layout": {
          "annotationdefaults": {
           "arrowcolor": "#2a3f5f",
           "arrowhead": 0,
           "arrowwidth": 1
          },
          "autotypenumbers": "strict",
          "coloraxis": {
           "colorbar": {
            "outlinewidth": 0,
            "ticks": ""
           }
          },
          "colorscale": {
           "diverging": [
            [
             0,
             "#8e0152"
            ],
            [
             0.1,
             "#c51b7d"
            ],
            [
             0.2,
             "#de77ae"
            ],
            [
             0.3,
             "#f1b6da"
            ],
            [
             0.4,
             "#fde0ef"
            ],
            [
             0.5,
             "#f7f7f7"
            ],
            [
             0.6,
             "#e6f5d0"
            ],
            [
             0.7,
             "#b8e186"
            ],
            [
             0.8,
             "#7fbc41"
            ],
            [
             0.9,
             "#4d9221"
            ],
            [
             1,
             "#276419"
            ]
           ],
           "sequential": [
            [
             0,
             "#0d0887"
            ],
            [
             0.1111111111111111,
             "#46039f"
            ],
            [
             0.2222222222222222,
             "#7201a8"
            ],
            [
             0.3333333333333333,
             "#9c179e"
            ],
            [
             0.4444444444444444,
             "#bd3786"
            ],
            [
             0.5555555555555556,
             "#d8576b"
            ],
            [
             0.6666666666666666,
             "#ed7953"
            ],
            [
             0.7777777777777778,
             "#fb9f3a"
            ],
            [
             0.8888888888888888,
             "#fdca26"
            ],
            [
             1,
             "#f0f921"
            ]
           ],
           "sequentialminus": [
            [
             0,
             "#0d0887"
            ],
            [
             0.1111111111111111,
             "#46039f"
            ],
            [
             0.2222222222222222,
             "#7201a8"
            ],
            [
             0.3333333333333333,
             "#9c179e"
            ],
            [
             0.4444444444444444,
             "#bd3786"
            ],
            [
             0.5555555555555556,
             "#d8576b"
            ],
            [
             0.6666666666666666,
             "#ed7953"
            ],
            [
             0.7777777777777778,
             "#fb9f3a"
            ],
            [
             0.8888888888888888,
             "#fdca26"
            ],
            [
             1,
             "#f0f921"
            ]
           ]
          },
          "colorway": [
           "#636efa",
           "#EF553B",
           "#00cc96",
           "#ab63fa",
           "#FFA15A",
           "#19d3f3",
           "#FF6692",
           "#B6E880",
           "#FF97FF",
           "#FECB52"
          ],
          "font": {
           "color": "#2a3f5f"
          },
          "geo": {
           "bgcolor": "white",
           "lakecolor": "white",
           "landcolor": "#E5ECF6",
           "showlakes": true,
           "showland": true,
           "subunitcolor": "white"
          },
          "hoverlabel": {
           "align": "left"
          },
          "hovermode": "closest",
          "mapbox": {
           "style": "light"
          },
          "paper_bgcolor": "white",
          "plot_bgcolor": "#E5ECF6",
          "polar": {
           "angularaxis": {
            "gridcolor": "white",
            "linecolor": "white",
            "ticks": ""
           },
           "bgcolor": "#E5ECF6",
           "radialaxis": {
            "gridcolor": "white",
            "linecolor": "white",
            "ticks": ""
           }
          },
          "scene": {
           "xaxis": {
            "backgroundcolor": "#E5ECF6",
            "gridcolor": "white",
            "gridwidth": 2,
            "linecolor": "white",
            "showbackground": true,
            "ticks": "",
            "zerolinecolor": "white"
           },
           "yaxis": {
            "backgroundcolor": "#E5ECF6",
            "gridcolor": "white",
            "gridwidth": 2,
            "linecolor": "white",
            "showbackground": true,
            "ticks": "",
            "zerolinecolor": "white"
           },
           "zaxis": {
            "backgroundcolor": "#E5ECF6",
            "gridcolor": "white",
            "gridwidth": 2,
            "linecolor": "white",
            "showbackground": true,
            "ticks": "",
            "zerolinecolor": "white"
           }
          },
          "shapedefaults": {
           "line": {
            "color": "#2a3f5f"
           }
          },
          "ternary": {
           "aaxis": {
            "gridcolor": "white",
            "linecolor": "white",
            "ticks": ""
           },
           "baxis": {
            "gridcolor": "white",
            "linecolor": "white",
            "ticks": ""
           },
           "bgcolor": "#E5ECF6",
           "caxis": {
            "gridcolor": "white",
            "linecolor": "white",
            "ticks": ""
           }
          },
          "title": {
           "x": 0.05
          },
          "xaxis": {
           "automargin": true,
           "gridcolor": "white",
           "linecolor": "white",
           "ticks": "",
           "title": {
            "standoff": 15
           },
           "zerolinecolor": "white",
           "zerolinewidth": 2
          },
          "yaxis": {
           "automargin": true,
           "gridcolor": "white",
           "linecolor": "white",
           "ticks": "",
           "title": {
            "standoff": 15
           },
           "zerolinecolor": "white",
           "zerolinewidth": 2
          }
         }
        },
        "title": {
         "text": "Bitcoin history abriged 2015-2018 w/ slider"
        },
        "xaxis": {
         "rangeselector": {
          "buttons": [
           {
            "count": 1,
            "label": "1m",
            "step": "month",
            "stepmode": "backward"
           },
           {
            "count": 6,
            "label": "6m",
            "step": "month",
            "stepmode": "backward"
           },
           {
            "count": 36,
            "label": "3y",
            "step": "month",
            "stepmode": "backward"
           },
           {
            "step": "all"
           }
          ]
         },
         "rangeslider": {
          "visible": true
         },
         "type": "date"
        }
       }
      },
      "text/html": [
       "<div>                            <div id=\"44120169-a641-4c09-8bd3-b8de60207f5f\" class=\"plotly-graph-div\" style=\"height:525px; width:100%;\"></div>            <script type=\"text/javascript\">                require([\"plotly\"], function(Plotly) {                    window.PLOTLYENV=window.PLOTLYENV || {};                                    if (document.getElementById(\"44120169-a641-4c09-8bd3-b8de60207f5f\")) {                    Plotly.newPlot(                        \"44120169-a641-4c09-8bd3-b8de60207f5f\",                        [{\"mode\":\"lines\",\"name\":\"Open\",\"x\":[\"2015-01-12T00:00:00+00:00\",\"2015-01-19T00:00:00+00:00\",\"2015-01-26T00:00:00+00:00\",\"2015-02-02T00:00:00+00:00\",\"2015-02-09T00:00:00+00:00\",\"2015-02-16T00:00:00+00:00\",\"2015-02-23T00:00:00+00:00\",\"2015-03-02T00:00:00+00:00\",\"2015-03-09T00:00:00+00:00\",\"2015-03-16T00:00:00+00:00\",\"2015-03-23T00:00:00+00:00\",\"2015-03-30T00:00:00+00:00\",\"2015-04-06T00:00:00+00:00\",\"2015-04-13T00:00:00+00:00\",\"2015-04-20T00:00:00+00:00\",\"2015-04-27T00:00:00+00:00\",\"2015-05-04T00:00:00+00:00\",\"2015-05-11T00:00:00+00:00\",\"2015-05-18T00:00:00+00:00\",\"2015-05-25T00:00:00+00:00\",\"2015-06-01T00:00:00+00:00\",\"2015-06-08T00:00:00+00:00\",\"2015-06-15T00:00:00+00:00\",\"2015-06-22T00:00:00+00:00\",\"2015-06-29T00:00:00+00:00\",\"2015-07-06T00:00:00+00:00\",\"2015-07-13T00:00:00+00:00\",\"2015-07-20T00:00:00+00:00\",\"2015-07-27T00:00:00+00:00\",\"2015-08-03T00:00:00+00:00\",\"2015-08-10T00:00:00+00:00\",\"2015-08-17T00:00:00+00:00\",\"2015-08-24T00:00:00+00:00\",\"2015-08-31T00:00:00+00:00\",\"2015-09-07T00:00:00+00:00\",\"2015-09-14T00:00:00+00:00\",\"2015-09-21T00:00:00+00:00\",\"2015-09-28T00:00:00+00:00\",\"2015-10-05T00:00:00+00:00\",\"2015-10-12T00:00:00+00:00\",\"2015-10-19T00:00:00+00:00\",\"2015-10-26T00:00:00+00:00\",\"2015-11-02T00:00:00+00:00\",\"2015-11-09T00:00:00+00:00\",\"2015-11-16T00:00:00+00:00\",\"2015-11-23T00:00:00+00:00\",\"2015-11-30T00:00:00+00:00\",\"2015-12-07T00:00:00+00:00\",\"2015-12-14T00:00:00+00:00\",\"2015-12-21T00:00:00+00:00\",\"2015-12-28T00:00:00+00:00\",\"2016-01-04T00:00:00+00:00\",\"2016-01-11T00:00:00+00:00\",\"2016-01-18T00:00:00+00:00\",\"2016-01-25T00:00:00+00:00\",\"2016-02-01T00:00:00+00:00\",\"2016-02-08T00:00:00+00:00\",\"2016-02-15T00:00:00+00:00\",\"2016-02-22T00:00:00+00:00\",\"2016-02-29T00:00:00+00:00\",\"2016-03-07T00:00:00+00:00\",\"2016-03-14T00:00:00+00:00\",\"2016-03-21T00:00:00+00:00\",\"2016-03-28T00:00:00+00:00\",\"2016-04-04T00:00:00+00:00\",\"2016-04-11T00:00:00+00:00\",\"2016-04-18T00:00:00+00:00\",\"2016-04-25T00:00:00+00:00\",\"2016-05-02T00:00:00+00:00\",\"2016-05-09T00:00:00+00:00\",\"2016-05-16T00:00:00+00:00\",\"2016-05-23T00:00:00+00:00\",\"2016-05-30T00:00:00+00:00\",\"2016-06-06T00:00:00+00:00\",\"2016-06-13T00:00:00+00:00\",\"2016-06-20T00:00:00+00:00\",\"2016-06-27T00:00:00+00:00\",\"2016-07-04T00:00:00+00:00\",\"2016-07-11T00:00:00+00:00\",\"2016-07-18T00:00:00+00:00\",\"2016-07-25T00:00:00+00:00\",\"2016-08-01T00:00:00+00:00\",\"2016-08-08T00:00:00+00:00\",\"2016-08-15T00:00:00+00:00\",\"2016-08-22T00:00:00+00:00\",\"2016-08-29T00:00:00+00:00\",\"2016-09-05T00:00:00+00:00\",\"2016-09-12T00:00:00+00:00\",\"2016-09-19T00:00:00+00:00\",\"2016-09-26T00:00:00+00:00\",\"2016-10-03T00:00:00+00:00\",\"2016-10-10T00:00:00+00:00\",\"2016-10-17T00:00:00+00:00\",\"2016-10-24T00:00:00+00:00\",\"2016-10-31T00:00:00+00:00\",\"2016-11-07T00:00:00+00:00\",\"2016-11-14T00:00:00+00:00\",\"2016-11-21T00:00:00+00:00\",\"2016-11-28T00:00:00+00:00\",\"2016-12-05T00:00:00+00:00\",\"2016-12-12T00:00:00+00:00\",\"2016-12-19T00:00:00+00:00\",\"2016-12-26T00:00:00+00:00\",\"2017-01-02T00:00:00+00:00\",\"2017-01-09T00:00:00+00:00\",\"2017-01-16T00:00:00+00:00\",\"2017-01-23T00:00:00+00:00\",\"2017-01-30T00:00:00+00:00\",\"2017-02-06T00:00:00+00:00\",\"2017-02-13T00:00:00+00:00\",\"2017-02-20T00:00:00+00:00\",\"2017-02-27T00:00:00+00:00\",\"2017-03-06T00:00:00+00:00\",\"2017-03-13T00:00:00+00:00\",\"2017-03-20T00:00:00+00:00\",\"2017-03-27T00:00:00+00:00\",\"2017-04-03T00:00:00+00:00\",\"2017-04-10T00:00:00+00:00\",\"2017-04-17T00:00:00+00:00\",\"2017-04-24T00:00:00+00:00\",\"2017-05-01T00:00:00+00:00\",\"2017-05-08T00:00:00+00:00\",\"2017-05-15T00:00:00+00:00\",\"2017-05-22T00:00:00+00:00\",\"2017-05-29T00:00:00+00:00\",\"2017-06-05T00:00:00+00:00\",\"2017-06-12T00:00:00+00:00\",\"2017-06-19T00:00:00+00:00\",\"2017-06-26T00:00:00+00:00\",\"2017-07-03T00:00:00+00:00\",\"2017-07-10T00:00:00+00:00\",\"2017-07-17T00:00:00+00:00\",\"2017-07-24T00:00:00+00:00\",\"2017-07-31T00:00:00+00:00\",\"2017-08-07T00:00:00+00:00\",\"2017-08-14T00:00:00+00:00\",\"2017-08-21T00:00:00+00:00\",\"2017-08-28T00:00:00+00:00\",\"2017-09-04T00:00:00+00:00\",\"2017-09-11T00:00:00+00:00\",\"2017-09-18T00:00:00+00:00\",\"2017-09-25T00:00:00+00:00\",\"2017-10-02T00:00:00+00:00\",\"2017-10-09T00:00:00+00:00\",\"2017-10-16T00:00:00+00:00\",\"2017-10-23T00:00:00+00:00\",\"2017-10-30T00:00:00+00:00\",\"2017-11-06T00:00:00+00:00\",\"2017-11-13T00:00:00+00:00\",\"2017-11-20T00:00:00+00:00\",\"2017-11-27T00:00:00+00:00\",\"2017-12-04T00:00:00+00:00\",\"2017-12-11T00:00:00+00:00\",\"2017-12-18T00:00:00+00:00\",\"2017-12-25T00:00:00+00:00\",\"2018-01-01T00:00:00+00:00\",\"2018-01-08T00:00:00+00:00\",\"2018-01-15T00:00:00+00:00\",\"2018-01-22T00:00:00+00:00\",\"2018-01-29T00:00:00+00:00\",\"2018-02-05T00:00:00+00:00\",\"2018-02-12T00:00:00+00:00\",\"2018-02-19T00:00:00+00:00\",\"2018-02-26T00:00:00+00:00\",\"2018-03-05T00:00:00+00:00\",\"2018-03-12T00:00:00+00:00\",\"2018-03-19T00:00:00+00:00\",\"2018-03-26T00:00:00+00:00\",\"2018-04-02T00:00:00+00:00\",\"2018-04-09T00:00:00+00:00\",\"2018-04-16T00:00:00+00:00\",\"2018-04-23T00:00:00+00:00\",\"2018-04-30T00:00:00+00:00\",\"2018-05-07T00:00:00+00:00\",\"2018-05-14T00:00:00+00:00\",\"2018-05-21T00:00:00+00:00\",\"2018-05-28T00:00:00+00:00\",\"2018-06-04T00:00:00+00:00\",\"2018-06-11T00:00:00+00:00\",\"2018-06-18T00:00:00+00:00\",\"2018-06-25T00:00:00+00:00\",\"2018-07-02T00:00:00+00:00\",\"2018-07-09T00:00:00+00:00\",\"2018-07-16T00:00:00+00:00\",\"2018-07-23T00:00:00+00:00\",\"2018-07-30T00:00:00+00:00\",\"2018-08-06T00:00:00+00:00\",\"2018-08-13T00:00:00+00:00\",\"2018-08-20T00:00:00+00:00\",\"2018-08-27T00:00:00+00:00\",\"2018-09-03T00:00:00+00:00\",\"2018-09-10T00:00:00+00:00\",\"2018-09-17T00:00:00+00:00\",\"2018-09-24T00:00:00+00:00\",\"2018-10-01T00:00:00+00:00\",\"2018-10-08T00:00:00+00:00\",\"2018-10-15T00:00:00+00:00\",\"2018-10-22T00:00:00+00:00\",\"2018-10-29T00:00:00+00:00\",\"2018-11-05T00:00:00+00:00\",\"2018-11-12T00:00:00+00:00\"],\"y\":[360.0,260.0,225.51,259.99,239.28,218.52,236.11,239.1,276.6,296.03,292.63,267.22,248.33,255.13,223.86,226.25,225.69,236.35,240.97,234.25,237.15,222.36,228.66,236.99,247.8,262.77,270.5,291.48,280.99,296.99,283.69,267.2,255.44,208.45,229.05,242.66,231.9,227.18,240.54,241.45,245.68,264.66,288.74,373.51,379.57,335.61,321.75,378.0,393.16,454.94,436.63,422.36,433.89,447.4,383.65,392.85,373.9,371.43,399.73,438.64,435.19,414.71,416.12,416.01,423.15,423.09,428.24,431.03,467.76,446.4,463.11,457.0,447.41,533.89,587.64,691.14,700.19,653.34,678.31,650.06,675.18,658.39,598.0,588.73,568.53,585.96,573.03,606.89,608.53,609.23,605.55,610.59,630.56,639.12,655.29,710.01,707.38,710.52,736.42,731.51,755.56,778.77,789.02,898.86,1018.65,900.97,865.0,917.74,924.99,1039.36,1005.83,1091.44,1199.16,1279.26,1241.58,1079.46,1037.76,1153.12,1203.07,1199.03,1269.47,1452.87,1700.0,1722.01,2193.75,2314.85,2850.11,2679.55,2591.89,2432.86,2620.0,2326.79,2182.93,2762.0,2885.0,3464.64,4369.77,3662.74,4389.47,4345.0,4286.05,3907.98,3913.01,4412.44,4798.48,5671.01,5634.78,6148.59,7140.0,6560.0,8075.0,9892.7,11603.42,16699.02,18914.36,15351.02,13194.01,15085.49,13149.9,10413.13,10940.01,6389.09,8616.98,11437.05,10305.56,11298.06,9381.33,8457.99,7770.0,7370.0,6760.25,8009.99,9256.55,8981.6,9410.56,8687.02,8288.01,7119.99,7387.74,6829.01,6708.01,6246.82,6647.0,6641.4,6711.56,7850.0,8113.67,6950.92,6018.44,6300.55,6898.08,7250.77,6322.01,6260.51,6456.51,6575.0,6605.96,6428.0,6404.88,6289.0,6397.0],\"type\":\"scatter\"},{\"mode\":\"lines\",\"name\":\"Close\",\"x\":[\"2015-01-12T00:00:00+00:00\",\"2015-01-19T00:00:00+00:00\",\"2015-01-26T00:00:00+00:00\",\"2015-02-02T00:00:00+00:00\",\"2015-02-09T00:00:00+00:00\",\"2015-02-16T00:00:00+00:00\",\"2015-02-23T00:00:00+00:00\",\"2015-03-02T00:00:00+00:00\",\"2015-03-09T00:00:00+00:00\",\"2015-03-16T00:00:00+00:00\",\"2015-03-23T00:00:00+00:00\",\"2015-03-30T00:00:00+00:00\",\"2015-04-06T00:00:00+00:00\",\"2015-04-13T00:00:00+00:00\",\"2015-04-20T00:00:00+00:00\",\"2015-04-27T00:00:00+00:00\",\"2015-05-04T00:00:00+00:00\",\"2015-05-11T00:00:00+00:00\",\"2015-05-18T00:00:00+00:00\",\"2015-05-25T00:00:00+00:00\",\"2015-06-01T00:00:00+00:00\",\"2015-06-08T00:00:00+00:00\",\"2015-06-15T00:00:00+00:00\",\"2015-06-22T00:00:00+00:00\",\"2015-06-29T00:00:00+00:00\",\"2015-07-06T00:00:00+00:00\",\"2015-07-13T00:00:00+00:00\",\"2015-07-20T00:00:00+00:00\",\"2015-07-27T00:00:00+00:00\",\"2015-08-03T00:00:00+00:00\",\"2015-08-10T00:00:00+00:00\",\"2015-08-17T00:00:00+00:00\",\"2015-08-24T00:00:00+00:00\",\"2015-08-31T00:00:00+00:00\",\"2015-09-07T00:00:00+00:00\",\"2015-09-14T00:00:00+00:00\",\"2015-09-21T00:00:00+00:00\",\"2015-09-28T00:00:00+00:00\",\"2015-10-05T00:00:00+00:00\",\"2015-10-12T00:00:00+00:00\",\"2015-10-19T00:00:00+00:00\",\"2015-10-26T00:00:00+00:00\",\"2015-11-02T00:00:00+00:00\",\"2015-11-09T00:00:00+00:00\",\"2015-11-16T00:00:00+00:00\",\"2015-11-23T00:00:00+00:00\",\"2015-11-30T00:00:00+00:00\",\"2015-12-07T00:00:00+00:00\",\"2015-12-14T00:00:00+00:00\",\"2015-12-21T00:00:00+00:00\",\"2015-12-28T00:00:00+00:00\",\"2016-01-04T00:00:00+00:00\",\"2016-01-11T00:00:00+00:00\",\"2016-01-18T00:00:00+00:00\",\"2016-01-25T00:00:00+00:00\",\"2016-02-01T00:00:00+00:00\",\"2016-02-08T00:00:00+00:00\",\"2016-02-15T00:00:00+00:00\",\"2016-02-22T00:00:00+00:00\",\"2016-02-29T00:00:00+00:00\",\"2016-03-07T00:00:00+00:00\",\"2016-03-14T00:00:00+00:00\",\"2016-03-21T00:00:00+00:00\",\"2016-03-28T00:00:00+00:00\",\"2016-04-04T00:00:00+00:00\",\"2016-04-11T00:00:00+00:00\",\"2016-04-18T00:00:00+00:00\",\"2016-04-25T00:00:00+00:00\",\"2016-05-02T00:00:00+00:00\",\"2016-05-09T00:00:00+00:00\",\"2016-05-16T00:00:00+00:00\",\"2016-05-23T00:00:00+00:00\",\"2016-05-30T00:00:00+00:00\",\"2016-06-06T00:00:00+00:00\",\"2016-06-13T00:00:00+00:00\",\"2016-06-20T00:00:00+00:00\",\"2016-06-27T00:00:00+00:00\",\"2016-07-04T00:00:00+00:00\",\"2016-07-11T00:00:00+00:00\",\"2016-07-18T00:00:00+00:00\",\"2016-07-25T00:00:00+00:00\",\"2016-08-01T00:00:00+00:00\",\"2016-08-08T00:00:00+00:00\",\"2016-08-15T00:00:00+00:00\",\"2016-08-22T00:00:00+00:00\",\"2016-08-29T00:00:00+00:00\",\"2016-09-05T00:00:00+00:00\",\"2016-09-12T00:00:00+00:00\",\"2016-09-19T00:00:00+00:00\",\"2016-09-26T00:00:00+00:00\",\"2016-10-03T00:00:00+00:00\",\"2016-10-10T00:00:00+00:00\",\"2016-10-17T00:00:00+00:00\",\"2016-10-24T00:00:00+00:00\",\"2016-10-31T00:00:00+00:00\",\"2016-11-07T00:00:00+00:00\",\"2016-11-14T00:00:00+00:00\",\"2016-11-21T00:00:00+00:00\",\"2016-11-28T00:00:00+00:00\",\"2016-12-05T00:00:00+00:00\",\"2016-12-12T00:00:00+00:00\",\"2016-12-19T00:00:00+00:00\",\"2016-12-26T00:00:00+00:00\",\"2017-01-02T00:00:00+00:00\",\"2017-01-09T00:00:00+00:00\",\"2017-01-16T00:00:00+00:00\",\"2017-01-23T00:00:00+00:00\",\"2017-01-30T00:00:00+00:00\",\"2017-02-06T00:00:00+00:00\",\"2017-02-13T00:00:00+00:00\",\"2017-02-20T00:00:00+00:00\",\"2017-02-27T00:00:00+00:00\",\"2017-03-06T00:00:00+00:00\",\"2017-03-13T00:00:00+00:00\",\"2017-03-20T00:00:00+00:00\",\"2017-03-27T00:00:00+00:00\",\"2017-04-03T00:00:00+00:00\",\"2017-04-10T00:00:00+00:00\",\"2017-04-17T00:00:00+00:00\",\"2017-04-24T00:00:00+00:00\",\"2017-05-01T00:00:00+00:00\",\"2017-05-08T00:00:00+00:00\",\"2017-05-15T00:00:00+00:00\",\"2017-05-22T00:00:00+00:00\",\"2017-05-29T00:00:00+00:00\",\"2017-06-05T00:00:00+00:00\",\"2017-06-12T00:00:00+00:00\",\"2017-06-19T00:00:00+00:00\",\"2017-06-26T00:00:00+00:00\",\"2017-07-03T00:00:00+00:00\",\"2017-07-10T00:00:00+00:00\",\"2017-07-17T00:00:00+00:00\",\"2017-07-24T00:00:00+00:00\",\"2017-07-31T00:00:00+00:00\",\"2017-08-07T00:00:00+00:00\",\"2017-08-14T00:00:00+00:00\",\"2017-08-21T00:00:00+00:00\",\"2017-08-28T00:00:00+00:00\",\"2017-09-04T00:00:00+00:00\",\"2017-09-11T00:00:00+00:00\",\"2017-09-18T00:00:00+00:00\",\"2017-09-25T00:00:00+00:00\",\"2017-10-02T00:00:00+00:00\",\"2017-10-09T00:00:00+00:00\",\"2017-10-16T00:00:00+00:00\",\"2017-10-23T00:00:00+00:00\",\"2017-10-30T00:00:00+00:00\",\"2017-11-06T00:00:00+00:00\",\"2017-11-13T00:00:00+00:00\",\"2017-11-20T00:00:00+00:00\",\"2017-11-27T00:00:00+00:00\",\"2017-12-04T00:00:00+00:00\",\"2017-12-11T00:00:00+00:00\",\"2017-12-18T00:00:00+00:00\",\"2017-12-25T00:00:00+00:00\",\"2018-01-01T00:00:00+00:00\",\"2018-01-08T00:00:00+00:00\",\"2018-01-15T00:00:00+00:00\",\"2018-01-22T00:00:00+00:00\",\"2018-01-29T00:00:00+00:00\",\"2018-02-05T00:00:00+00:00\",\"2018-02-12T00:00:00+00:00\",\"2018-02-19T00:00:00+00:00\",\"2018-02-26T00:00:00+00:00\",\"2018-03-05T00:00:00+00:00\",\"2018-03-12T00:00:00+00:00\",\"2018-03-19T00:00:00+00:00\",\"2018-03-26T00:00:00+00:00\",\"2018-04-02T00:00:00+00:00\",\"2018-04-09T00:00:00+00:00\",\"2018-04-16T00:00:00+00:00\",\"2018-04-23T00:00:00+00:00\",\"2018-04-30T00:00:00+00:00\",\"2018-05-07T00:00:00+00:00\",\"2018-05-14T00:00:00+00:00\",\"2018-05-21T00:00:00+00:00\",\"2018-05-28T00:00:00+00:00\",\"2018-06-04T00:00:00+00:00\",\"2018-06-11T00:00:00+00:00\",\"2018-06-18T00:00:00+00:00\",\"2018-06-25T00:00:00+00:00\",\"2018-07-02T00:00:00+00:00\",\"2018-07-09T00:00:00+00:00\",\"2018-07-16T00:00:00+00:00\",\"2018-07-23T00:00:00+00:00\",\"2018-07-30T00:00:00+00:00\",\"2018-08-06T00:00:00+00:00\",\"2018-08-13T00:00:00+00:00\",\"2018-08-20T00:00:00+00:00\",\"2018-08-27T00:00:00+00:00\",\"2018-09-03T00:00:00+00:00\",\"2018-09-10T00:00:00+00:00\",\"2018-09-17T00:00:00+00:00\",\"2018-09-24T00:00:00+00:00\",\"2018-10-01T00:00:00+00:00\",\"2018-10-08T00:00:00+00:00\",\"2018-10-15T00:00:00+00:00\",\"2018-10-22T00:00:00+00:00\",\"2018-10-29T00:00:00+00:00\",\"2018-11-05T00:00:00+00:00\",\"2018-11-12T00:00:00+00:00\"],\"y\":[360.0,260.0,225.51,259.99,239.5,218.54,235.83,239.55,276.6,296.45,292.7,267.12,248.34,255.43,223.86,226.13,225.69,236.36,241.04,234.25,237.17,222.38,228.64,236.96,247.8,262.21,270.51,291.54,280.98,296.87,283.73,267.21,255.79,208.41,229.05,242.75,231.92,227.18,240.54,241.45,245.64,264.66,288.75,373.74,379.55,335.6,321.75,377.61,393.34,454.95,436.63,422.39,433.91,447.26,383.8,392.85,373.53,371.43,399.73,438.64,435.19,414.71,416.14,416.0,423.12,423.16,428.24,431.08,467.76,446.41,462.96,457.0,447.39,533.5,587.63,691.21,699.97,652.87,678.32,650.85,674.61,658.25,597.79,588.73,568.01,585.77,572.93,606.8,608.53,609.25,605.55,610.4,630.13,639.13,655.3,709.64,707.4,710.52,736.42,731.05,755.57,778.77,789.46,897.85,1018.79,902.54,865.0,916.36,924.99,1039.36,1005.5,1090.13,1199.16,1279.01,1241.58,1082.14,1037.76,1153.05,1203.11,1198.79,1267.4,1452.86,1700.69,1721.7,2190.82,2312.46,2850.07,2679.62,2591.24,2434.4,2620.44,2326.78,2179.69,2759.76,2880.94,3465.59,4369.01,3652.43,4389.48,4345.0,4286.04,3899.98,3913.01,4412.43,4798.51,5669.1,5665.24,6148.59,7127.09,6560.0,8097.73,9871.51,11603.41,16765.99,18909.28,15388.0,13194.0,15042.02,13177.75,10394.16,10940.01,6333.29,8609.45,11441.72,10305.59,11298.05,9381.33,8457.99,7770.0,7369.99,6760.25,8010.0,9254.99,8971.71,9402.06,8700.44,8288.01,7120.0,7377.56,6830.99,6708.01,6246.46,6646.12,6641.33,6703.75,7854.99,8113.66,6959.49,6010.01,6300.55,6898.08,7253.3,6314.96,6260.51,6451.48,6575.01,6605.97,6426.5,6404.99,6288.99,6397.0],\"type\":\"scatter\"},{\"mode\":\"lines\",\"name\":\"Weighted Avg\",\"x\":[\"2015-01-12T00:00:00+00:00\",\"2015-01-19T00:00:00+00:00\",\"2015-01-26T00:00:00+00:00\",\"2015-02-02T00:00:00+00:00\",\"2015-02-09T00:00:00+00:00\",\"2015-02-16T00:00:00+00:00\",\"2015-02-23T00:00:00+00:00\",\"2015-03-02T00:00:00+00:00\",\"2015-03-09T00:00:00+00:00\",\"2015-03-16T00:00:00+00:00\",\"2015-03-23T00:00:00+00:00\",\"2015-03-30T00:00:00+00:00\",\"2015-04-06T00:00:00+00:00\",\"2015-04-13T00:00:00+00:00\",\"2015-04-20T00:00:00+00:00\",\"2015-04-27T00:00:00+00:00\",\"2015-05-04T00:00:00+00:00\",\"2015-05-11T00:00:00+00:00\",\"2015-05-18T00:00:00+00:00\",\"2015-05-25T00:00:00+00:00\",\"2015-06-01T00:00:00+00:00\",\"2015-06-08T00:00:00+00:00\",\"2015-06-15T00:00:00+00:00\",\"2015-06-22T00:00:00+00:00\",\"2015-06-29T00:00:00+00:00\",\"2015-07-06T00:00:00+00:00\",\"2015-07-13T00:00:00+00:00\",\"2015-07-20T00:00:00+00:00\",\"2015-07-27T00:00:00+00:00\",\"2015-08-03T00:00:00+00:00\",\"2015-08-10T00:00:00+00:00\",\"2015-08-17T00:00:00+00:00\",\"2015-08-24T00:00:00+00:00\",\"2015-08-31T00:00:00+00:00\",\"2015-09-07T00:00:00+00:00\",\"2015-09-14T00:00:00+00:00\",\"2015-09-21T00:00:00+00:00\",\"2015-09-28T00:00:00+00:00\",\"2015-10-05T00:00:00+00:00\",\"2015-10-12T00:00:00+00:00\",\"2015-10-19T00:00:00+00:00\",\"2015-10-26T00:00:00+00:00\",\"2015-11-02T00:00:00+00:00\",\"2015-11-09T00:00:00+00:00\",\"2015-11-16T00:00:00+00:00\",\"2015-11-23T00:00:00+00:00\",\"2015-11-30T00:00:00+00:00\",\"2015-12-07T00:00:00+00:00\",\"2015-12-14T00:00:00+00:00\",\"2015-12-21T00:00:00+00:00\",\"2015-12-28T00:00:00+00:00\",\"2016-01-04T00:00:00+00:00\",\"2016-01-11T00:00:00+00:00\",\"2016-01-18T00:00:00+00:00\",\"2016-01-25T00:00:00+00:00\",\"2016-02-01T00:00:00+00:00\",\"2016-02-08T00:00:00+00:00\",\"2016-02-15T00:00:00+00:00\",\"2016-02-22T00:00:00+00:00\",\"2016-02-29T00:00:00+00:00\",\"2016-03-07T00:00:00+00:00\",\"2016-03-14T00:00:00+00:00\",\"2016-03-21T00:00:00+00:00\",\"2016-03-28T00:00:00+00:00\",\"2016-04-04T00:00:00+00:00\",\"2016-04-11T00:00:00+00:00\",\"2016-04-18T00:00:00+00:00\",\"2016-04-25T00:00:00+00:00\",\"2016-05-02T00:00:00+00:00\",\"2016-05-09T00:00:00+00:00\",\"2016-05-16T00:00:00+00:00\",\"2016-05-23T00:00:00+00:00\",\"2016-05-30T00:00:00+00:00\",\"2016-06-06T00:00:00+00:00\",\"2016-06-13T00:00:00+00:00\",\"2016-06-20T00:00:00+00:00\",\"2016-06-27T00:00:00+00:00\",\"2016-07-04T00:00:00+00:00\",\"2016-07-11T00:00:00+00:00\",\"2016-07-18T00:00:00+00:00\",\"2016-07-25T00:00:00+00:00\",\"2016-08-01T00:00:00+00:00\",\"2016-08-08T00:00:00+00:00\",\"2016-08-15T00:00:00+00:00\",\"2016-08-22T00:00:00+00:00\",\"2016-08-29T00:00:00+00:00\",\"2016-09-05T00:00:00+00:00\",\"2016-09-12T00:00:00+00:00\",\"2016-09-19T00:00:00+00:00\",\"2016-09-26T00:00:00+00:00\",\"2016-10-03T00:00:00+00:00\",\"2016-10-10T00:00:00+00:00\",\"2016-10-17T00:00:00+00:00\",\"2016-10-24T00:00:00+00:00\",\"2016-10-31T00:00:00+00:00\",\"2016-11-07T00:00:00+00:00\",\"2016-11-14T00:00:00+00:00\",\"2016-11-21T00:00:00+00:00\",\"2016-11-28T00:00:00+00:00\",\"2016-12-05T00:00:00+00:00\",\"2016-12-12T00:00:00+00:00\",\"2016-12-19T00:00:00+00:00\",\"2016-12-26T00:00:00+00:00\",\"2017-01-02T00:00:00+00:00\",\"2017-01-09T00:00:00+00:00\",\"2017-01-16T00:00:00+00:00\",\"2017-01-23T00:00:00+00:00\",\"2017-01-30T00:00:00+00:00\",\"2017-02-06T00:00:00+00:00\",\"2017-02-13T00:00:00+00:00\",\"2017-02-20T00:00:00+00:00\",\"2017-02-27T00:00:00+00:00\",\"2017-03-06T00:00:00+00:00\",\"2017-03-13T00:00:00+00:00\",\"2017-03-20T00:00:00+00:00\",\"2017-03-27T00:00:00+00:00\",\"2017-04-03T00:00:00+00:00\",\"2017-04-10T00:00:00+00:00\",\"2017-04-17T00:00:00+00:00\",\"2017-04-24T00:00:00+00:00\",\"2017-05-01T00:00:00+00:00\",\"2017-05-08T00:00:00+00:00\",\"2017-05-15T00:00:00+00:00\",\"2017-05-22T00:00:00+00:00\",\"2017-05-29T00:00:00+00:00\",\"2017-06-05T00:00:00+00:00\",\"2017-06-12T00:00:00+00:00\",\"2017-06-19T00:00:00+00:00\",\"2017-06-26T00:00:00+00:00\",\"2017-07-03T00:00:00+00:00\",\"2017-07-10T00:00:00+00:00\",\"2017-07-17T00:00:00+00:00\",\"2017-07-24T00:00:00+00:00\",\"2017-07-31T00:00:00+00:00\",\"2017-08-07T00:00:00+00:00\",\"2017-08-14T00:00:00+00:00\",\"2017-08-21T00:00:00+00:00\",\"2017-08-28T00:00:00+00:00\",\"2017-09-04T00:00:00+00:00\",\"2017-09-11T00:00:00+00:00\",\"2017-09-18T00:00:00+00:00\",\"2017-09-25T00:00:00+00:00\",\"2017-10-02T00:00:00+00:00\",\"2017-10-09T00:00:00+00:00\",\"2017-10-16T00:00:00+00:00\",\"2017-10-23T00:00:00+00:00\",\"2017-10-30T00:00:00+00:00\",\"2017-11-06T00:00:00+00:00\",\"2017-11-13T00:00:00+00:00\",\"2017-11-20T00:00:00+00:00\",\"2017-11-27T00:00:00+00:00\",\"2017-12-04T00:00:00+00:00\",\"2017-12-11T00:00:00+00:00\",\"2017-12-18T00:00:00+00:00\",\"2017-12-25T00:00:00+00:00\",\"2018-01-01T00:00:00+00:00\",\"2018-01-08T00:00:00+00:00\",\"2018-01-15T00:00:00+00:00\",\"2018-01-22T00:00:00+00:00\",\"2018-01-29T00:00:00+00:00\",\"2018-02-05T00:00:00+00:00\",\"2018-02-12T00:00:00+00:00\",\"2018-02-19T00:00:00+00:00\",\"2018-02-26T00:00:00+00:00\",\"2018-03-05T00:00:00+00:00\",\"2018-03-12T00:00:00+00:00\",\"2018-03-19T00:00:00+00:00\",\"2018-03-26T00:00:00+00:00\",\"2018-04-02T00:00:00+00:00\",\"2018-04-09T00:00:00+00:00\",\"2018-04-16T00:00:00+00:00\",\"2018-04-23T00:00:00+00:00\",\"2018-04-30T00:00:00+00:00\",\"2018-05-07T00:00:00+00:00\",\"2018-05-14T00:00:00+00:00\",\"2018-05-21T00:00:00+00:00\",\"2018-05-28T00:00:00+00:00\",\"2018-06-04T00:00:00+00:00\",\"2018-06-11T00:00:00+00:00\",\"2018-06-18T00:00:00+00:00\",\"2018-06-25T00:00:00+00:00\",\"2018-07-02T00:00:00+00:00\",\"2018-07-09T00:00:00+00:00\",\"2018-07-16T00:00:00+00:00\",\"2018-07-23T00:00:00+00:00\",\"2018-07-30T00:00:00+00:00\",\"2018-08-06T00:00:00+00:00\",\"2018-08-13T00:00:00+00:00\",\"2018-08-20T00:00:00+00:00\",\"2018-08-27T00:00:00+00:00\",\"2018-09-03T00:00:00+00:00\",\"2018-09-10T00:00:00+00:00\",\"2018-09-17T00:00:00+00:00\",\"2018-09-24T00:00:00+00:00\",\"2018-10-01T00:00:00+00:00\",\"2018-10-08T00:00:00+00:00\",\"2018-10-15T00:00:00+00:00\",\"2018-10-22T00:00:00+00:00\",\"2018-10-29T00:00:00+00:00\",\"2018-11-05T00:00:00+00:00\",\"2018-11-12T00:00:00+00:00\"],\"y\":[360.0,0.0,0.0,259.99,239.4765994,0.0,236.09,239.41499551,276.5949682,296.36380444,292.6944,267.2761274,248.334975,255.14651056,223.86,0.0,225.69,236.35364507,0.0,234.25,0.0,222.35070163,228.66307178,236.98437711,247.8,262.57162954,270.50152048,291.56356408,280.98066596,296.99704574,283.69242582,267.20328147,255.52484817,208.4471394,229.05,242.67062584,231.91995275,227.18,240.54,241.45,245.67006831,264.66,288.74324197,373.35522478,379.54796389,0.0,321.75,377.99309598,392.84596313,454.94958974,436.70362529,422.23838521,433.8999913,447.32537367,383.75528169,392.85,373.56391748,371.45323447,0.0,438.66088968,435.19,414.71,416.14539684,416.00855325,423.12005598,423.12625388,428.19281837,0.0,467.76,0.0,462.9872374,457.0,447.40317624,533.7188355,587.87380134,691.18036768,699.98037582,653.31463706,678.31176168,650.57395535,674.80049642,658.31205628,597.98493403,588.73,568.27021107,585.80757632,572.98765712,606.81801046,608.53,609.24923919,605.55,610.55026492,630.27997099,639.12294523,655.29487204,709.51397373,707.38758259,710.52,736.42,731.12959819,755.58107914,778.7769061,789.08350815,898.46282498,1018.7665474,901.69788132,865.0,916.57903167,924.99,1039.3193364,1005.6678522,1090.239916,1199.16,1279.1016115,1241.58,1080.3353558,1037.76,1153.0543442,1203.1077432,1199.8089268,1268.3494018,1452.8963129,1700.1573728,1721.9112176,2191.2695616,2313.9932035,2849.5367894,2679.5435704,2592.2045594,2433.1606191,2620.0359923,2326.7885557,2181.7188816,2760.6468294,2882.3237677,3466.4331907,4369.3043842,3661.6562922,4389.4705239,4342.6043484,4286.040138,3901.863865,3913.01,4412.4342673,4798.4912928,5670.7320568,5654.3706828,6148.5862557,7130.4065202,6560.0,8080.4339556,9879.8013431,11603.419506,0.0,18904.968221,15364.84201,13194.008304,15059.470355,13162.046084,10399.981477,10940.01,6358.3928744,8613.9980579,11439.94025,10305.58639,11298.050543,9381.3297686,8457.991732,7769.9993519,7369.9944892,6760.2464326,8009.9986896,9255.6849757,8977.2000155,9405.6684748,8692.0017002,8288.0043008,7119.9993205,7386.8677563,6834.1175548,6708.0085112,6246.7625301,6646.666112,6641.3320154,6703.4306507,7850.9851574,8113.6683225,6954.828856,6011.5212159,6300.5413321,6898.0793046,7252.8972866,6320.8828458,6260.5058052,6454.8115506,6574.976449,6605.9664809,6427.9975358,6404.912961,6288.9995898,6397.0389815],\"type\":\"scatter\"}],                        {\"template\":{\"data\":{\"barpolar\":[{\"marker\":{\"line\":{\"color\":\"#E5ECF6\",\"width\":0.5},\"pattern\":{\"fillmode\":\"overlay\",\"size\":10,\"solidity\":0.2}},\"type\":\"barpolar\"}],\"bar\":[{\"error_x\":{\"color\":\"#2a3f5f\"},\"error_y\":{\"color\":\"#2a3f5f\"},\"marker\":{\"line\":{\"color\":\"#E5ECF6\",\"width\":0.5},\"pattern\":{\"fillmode\":\"overlay\",\"size\":10,\"solidity\":0.2}},\"type\":\"bar\"}],\"carpet\":[{\"aaxis\":{\"endlinecolor\":\"#2a3f5f\",\"gridcolor\":\"white\",\"linecolor\":\"white\",\"minorgridcolor\":\"white\",\"startlinecolor\":\"#2a3f5f\"},\"baxis\":{\"endlinecolor\":\"#2a3f5f\",\"gridcolor\":\"white\",\"linecolor\":\"white\",\"minorgridcolor\":\"white\",\"startlinecolor\":\"#2a3f5f\"},\"type\":\"carpet\"}],\"choropleth\":[{\"colorbar\":{\"outlinewidth\":0,\"ticks\":\"\"},\"type\":\"choropleth\"}],\"contourcarpet\":[{\"colorbar\":{\"outlinewidth\":0,\"ticks\":\"\"},\"type\":\"contourcarpet\"}],\"contour\":[{\"colorbar\":{\"outlinewidth\":0,\"ticks\":\"\"},\"colorscale\":[[0.0,\"#0d0887\"],[0.1111111111111111,\"#46039f\"],[0.2222222222222222,\"#7201a8\"],[0.3333333333333333,\"#9c179e\"],[0.4444444444444444,\"#bd3786\"],[0.5555555555555556,\"#d8576b\"],[0.6666666666666666,\"#ed7953\"],[0.7777777777777778,\"#fb9f3a\"],[0.8888888888888888,\"#fdca26\"],[1.0,\"#f0f921\"]],\"type\":\"contour\"}],\"heatmapgl\":[{\"colorbar\":{\"outlinewidth\":0,\"ticks\":\"\"},\"colorscale\":[[0.0,\"#0d0887\"],[0.1111111111111111,\"#46039f\"],[0.2222222222222222,\"#7201a8\"],[0.3333333333333333,\"#9c179e\"],[0.4444444444444444,\"#bd3786\"],[0.5555555555555556,\"#d8576b\"],[0.6666666666666666,\"#ed7953\"],[0.7777777777777778,\"#fb9f3a\"],[0.8888888888888888,\"#fdca26\"],[1.0,\"#f0f921\"]],\"type\":\"heatmapgl\"}],\"heatmap\":[{\"colorbar\":{\"outlinewidth\":0,\"ticks\":\"\"},\"colorscale\":[[0.0,\"#0d0887\"],[0.1111111111111111,\"#46039f\"],[0.2222222222222222,\"#7201a8\"],[0.3333333333333333,\"#9c179e\"],[0.4444444444444444,\"#bd3786\"],[0.5555555555555556,\"#d8576b\"],[0.6666666666666666,\"#ed7953\"],[0.7777777777777778,\"#fb9f3a\"],[0.8888888888888888,\"#fdca26\"],[1.0,\"#f0f921\"]],\"type\":\"heatmap\"}],\"histogram2dcontour\":[{\"colorbar\":{\"outlinewidth\":0,\"ticks\":\"\"},\"colorscale\":[[0.0,\"#0d0887\"],[0.1111111111111111,\"#46039f\"],[0.2222222222222222,\"#7201a8\"],[0.3333333333333333,\"#9c179e\"],[0.4444444444444444,\"#bd3786\"],[0.5555555555555556,\"#d8576b\"],[0.6666666666666666,\"#ed7953\"],[0.7777777777777778,\"#fb9f3a\"],[0.8888888888888888,\"#fdca26\"],[1.0,\"#f0f921\"]],\"type\":\"histogram2dcontour\"}],\"histogram2d\":[{\"colorbar\":{\"outlinewidth\":0,\"ticks\":\"\"},\"colorscale\":[[0.0,\"#0d0887\"],[0.1111111111111111,\"#46039f\"],[0.2222222222222222,\"#7201a8\"],[0.3333333333333333,\"#9c179e\"],[0.4444444444444444,\"#bd3786\"],[0.5555555555555556,\"#d8576b\"],[0.6666666666666666,\"#ed7953\"],[0.7777777777777778,\"#fb9f3a\"],[0.8888888888888888,\"#fdca26\"],[1.0,\"#f0f921\"]],\"type\":\"histogram2d\"}],\"histogram\":[{\"marker\":{\"pattern\":{\"fillmode\":\"overlay\",\"size\":10,\"solidity\":0.2}},\"type\":\"histogram\"}],\"mesh3d\":[{\"colorbar\":{\"outlinewidth\":0,\"ticks\":\"\"},\"type\":\"mesh3d\"}],\"parcoords\":[{\"line\":{\"colorbar\":{\"outlinewidth\":0,\"ticks\":\"\"}},\"type\":\"parcoords\"}],\"pie\":[{\"automargin\":true,\"type\":\"pie\"}],\"scatter3d\":[{\"line\":{\"colorbar\":{\"outlinewidth\":0,\"ticks\":\"\"}},\"marker\":{\"colorbar\":{\"outlinewidth\":0,\"ticks\":\"\"}},\"type\":\"scatter3d\"}],\"scattercarpet\":[{\"marker\":{\"colorbar\":{\"outlinewidth\":0,\"ticks\":\"\"}},\"type\":\"scattercarpet\"}],\"scattergeo\":[{\"marker\":{\"colorbar\":{\"outlinewidth\":0,\"ticks\":\"\"}},\"type\":\"scattergeo\"}],\"scattergl\":[{\"marker\":{\"colorbar\":{\"outlinewidth\":0,\"ticks\":\"\"}},\"type\":\"scattergl\"}],\"scattermapbox\":[{\"marker\":{\"colorbar\":{\"outlinewidth\":0,\"ticks\":\"\"}},\"type\":\"scattermapbox\"}],\"scatterpolargl\":[{\"marker\":{\"colorbar\":{\"outlinewidth\":0,\"ticks\":\"\"}},\"type\":\"scatterpolargl\"}],\"scatterpolar\":[{\"marker\":{\"colorbar\":{\"outlinewidth\":0,\"ticks\":\"\"}},\"type\":\"scatterpolar\"}],\"scatter\":[{\"fillpattern\":{\"fillmode\":\"overlay\",\"size\":10,\"solidity\":0.2},\"type\":\"scatter\"}],\"scatterternary\":[{\"marker\":{\"colorbar\":{\"outlinewidth\":0,\"ticks\":\"\"}},\"type\":\"scatterternary\"}],\"surface\":[{\"colorbar\":{\"outlinewidth\":0,\"ticks\":\"\"},\"colorscale\":[[0.0,\"#0d0887\"],[0.1111111111111111,\"#46039f\"],[0.2222222222222222,\"#7201a8\"],[0.3333333333333333,\"#9c179e\"],[0.4444444444444444,\"#bd3786\"],[0.5555555555555556,\"#d8576b\"],[0.6666666666666666,\"#ed7953\"],[0.7777777777777778,\"#fb9f3a\"],[0.8888888888888888,\"#fdca26\"],[1.0,\"#f0f921\"]],\"type\":\"surface\"}],\"table\":[{\"cells\":{\"fill\":{\"color\":\"#EBF0F8\"},\"line\":{\"color\":\"white\"}},\"header\":{\"fill\":{\"color\":\"#C8D4E3\"},\"line\":{\"color\":\"white\"}},\"type\":\"table\"}]},\"layout\":{\"annotationdefaults\":{\"arrowcolor\":\"#2a3f5f\",\"arrowhead\":0,\"arrowwidth\":1},\"autotypenumbers\":\"strict\",\"coloraxis\":{\"colorbar\":{\"outlinewidth\":0,\"ticks\":\"\"}},\"colorscale\":{\"diverging\":[[0,\"#8e0152\"],[0.1,\"#c51b7d\"],[0.2,\"#de77ae\"],[0.3,\"#f1b6da\"],[0.4,\"#fde0ef\"],[0.5,\"#f7f7f7\"],[0.6,\"#e6f5d0\"],[0.7,\"#b8e186\"],[0.8,\"#7fbc41\"],[0.9,\"#4d9221\"],[1,\"#276419\"]],\"sequential\":[[0.0,\"#0d0887\"],[0.1111111111111111,\"#46039f\"],[0.2222222222222222,\"#7201a8\"],[0.3333333333333333,\"#9c179e\"],[0.4444444444444444,\"#bd3786\"],[0.5555555555555556,\"#d8576b\"],[0.6666666666666666,\"#ed7953\"],[0.7777777777777778,\"#fb9f3a\"],[0.8888888888888888,\"#fdca26\"],[1.0,\"#f0f921\"]],\"sequentialminus\":[[0.0,\"#0d0887\"],[0.1111111111111111,\"#46039f\"],[0.2222222222222222,\"#7201a8\"],[0.3333333333333333,\"#9c179e\"],[0.4444444444444444,\"#bd3786\"],[0.5555555555555556,\"#d8576b\"],[0.6666666666666666,\"#ed7953\"],[0.7777777777777778,\"#fb9f3a\"],[0.8888888888888888,\"#fdca26\"],[1.0,\"#f0f921\"]]},\"colorway\":[\"#636efa\",\"#EF553B\",\"#00cc96\",\"#ab63fa\",\"#FFA15A\",\"#19d3f3\",\"#FF6692\",\"#B6E880\",\"#FF97FF\",\"#FECB52\"],\"font\":{\"color\":\"#2a3f5f\"},\"geo\":{\"bgcolor\":\"white\",\"lakecolor\":\"white\",\"landcolor\":\"#E5ECF6\",\"showlakes\":true,\"showland\":true,\"subunitcolor\":\"white\"},\"hoverlabel\":{\"align\":\"left\"},\"hovermode\":\"closest\",\"mapbox\":{\"style\":\"light\"},\"paper_bgcolor\":\"white\",\"plot_bgcolor\":\"#E5ECF6\",\"polar\":{\"angularaxis\":{\"gridcolor\":\"white\",\"linecolor\":\"white\",\"ticks\":\"\"},\"bgcolor\":\"#E5ECF6\",\"radialaxis\":{\"gridcolor\":\"white\",\"linecolor\":\"white\",\"ticks\":\"\"}},\"scene\":{\"xaxis\":{\"backgroundcolor\":\"#E5ECF6\",\"gridcolor\":\"white\",\"gridwidth\":2,\"linecolor\":\"white\",\"showbackground\":true,\"ticks\":\"\",\"zerolinecolor\":\"white\"},\"yaxis\":{\"backgroundcolor\":\"#E5ECF6\",\"gridcolor\":\"white\",\"gridwidth\":2,\"linecolor\":\"white\",\"showbackground\":true,\"ticks\":\"\",\"zerolinecolor\":\"white\"},\"zaxis\":{\"backgroundcolor\":\"#E5ECF6\",\"gridcolor\":\"white\",\"gridwidth\":2,\"linecolor\":\"white\",\"showbackground\":true,\"ticks\":\"\",\"zerolinecolor\":\"white\"}},\"shapedefaults\":{\"line\":{\"color\":\"#2a3f5f\"}},\"ternary\":{\"aaxis\":{\"gridcolor\":\"white\",\"linecolor\":\"white\",\"ticks\":\"\"},\"baxis\":{\"gridcolor\":\"white\",\"linecolor\":\"white\",\"ticks\":\"\"},\"bgcolor\":\"#E5ECF6\",\"caxis\":{\"gridcolor\":\"white\",\"linecolor\":\"white\",\"ticks\":\"\"}},\"title\":{\"x\":0.05},\"xaxis\":{\"automargin\":true,\"gridcolor\":\"white\",\"linecolor\":\"white\",\"ticks\":\"\",\"title\":{\"standoff\":15},\"zerolinecolor\":\"white\",\"zerolinewidth\":2},\"yaxis\":{\"automargin\":true,\"gridcolor\":\"white\",\"linecolor\":\"white\",\"ticks\":\"\",\"title\":{\"standoff\":15},\"zerolinecolor\":\"white\",\"zerolinewidth\":2}}},\"title\":{\"text\":\"Bitcoin history abriged 2015-2018 w\\u002f slider\"},\"xaxis\":{\"rangeselector\":{\"buttons\":[{\"count\":1,\"label\":\"1m\",\"step\":\"month\",\"stepmode\":\"backward\"},{\"count\":6,\"label\":\"6m\",\"step\":\"month\",\"stepmode\":\"backward\"},{\"count\":36,\"label\":\"3y\",\"step\":\"month\",\"stepmode\":\"backward\"},{\"step\":\"all\"}]},\"rangeslider\":{\"visible\":true},\"type\":\"date\"}},                        {\"responsive\": true}                    ).then(function(){\n",
       "                            \n",
       "var gd = document.getElementById('44120169-a641-4c09-8bd3-b8de60207f5f');\n",
       "var x = new MutationObserver(function (mutations, observer) {{\n",
       "        var display = window.getComputedStyle(gd).display;\n",
       "        if (!display || display === 'none') {{\n",
       "            console.log([gd, 'removed!']);\n",
       "            Plotly.purge(gd);\n",
       "            observer.disconnect();\n",
       "        }}\n",
       "}});\n",
       "\n",
       "// Listen for the removal of the full notebook cells\n",
       "var notebookContainer = gd.closest('#notebook-container');\n",
       "if (notebookContainer) {{\n",
       "    x.observe(notebookContainer, {childList: true});\n",
       "}}\n",
       "\n",
       "// Listen for the clearing of the current output cell\n",
       "var outputEl = gd.closest('.output');\n",
       "if (outputEl) {{\n",
       "    x.observe(outputEl, {childList: true});\n",
       "}}\n",
       "\n",
       "                        })                };                });            </script>        </div>"
      ]
     },
     "metadata": {},
     "output_type": "display_data"
    }
   ],
   "source": [
    "trace1 = go.Scatter(\n",
    "    x = weekly_rows['Timestamp'],\n",
    "    y = weekly_rows['Open'].astype(float),\n",
    "    mode = 'lines',\n",
    "    name = 'Open'\n",
    ")\n",
    "\n",
    "trace2 = go.Scatter(\n",
    "    x = weekly_rows['Timestamp'],\n",
    "    y = weekly_rows['Close'].astype(float),\n",
    "    mode = 'lines',\n",
    "    name = 'Close'\n",
    ")\n",
    "\n",
    "trace3 = go.Scatter(\n",
    "    x = weekly_rows['Timestamp'],\n",
    "    y = weekly_rows['Weighted_Price'].astype(float),\n",
    "    mode = 'lines',\n",
    "    name = 'Weighted Avg'\n",
    ")\n",
    "\n",
    "layout = dict(\n",
    "    title='Bitcoin history abriged 2015-2018 w/ slider',\n",
    "    xaxis=dict(\n",
    "        rangeselector=dict(\n",
    "            buttons=list([\n",
    "                dict(\n",
    "                    count=1,\n",
    "                    label='1m',\n",
    "                    step='month',\n",
    "                    stepmode='backward'\n",
    "                ),\n",
    "                dict(\n",
    "                    count=6,\n",
    "                    label='6m',\n",
    "                    step='month',\n",
    "                    stepmode='backward'\n",
    "                ),\n",
    "                dict(\n",
    "                    count=36,\n",
    "                    label='3y',\n",
    "                    step='month',\n",
    "                    stepmode='backward'\n",
    "                ),\n",
    "                dict(step='all')\n",
    "            ])\n",
    "        ),\n",
    "        rangeslider=dict(\n",
    "            visible = True\n",
    "        ),\n",
    "        type='date'\n",
    "    )\n",
    ")\n",
    "# Okay that was NOT fun to type\n",
    "# Is there an easier way or is that just how formatting is?\n",
    "# I'll take a look when I get there I suppose\n",
    "\n",
    "data = [trace1, trace2, trace3]\n",
    "fig = dict(data=data, layout=layout)\n",
    "iplot(fig, filename = \"time series ranger\")\n",
    "\n",
    "# fig.show()"
   ]
  },
  {
   "cell_type": "code",
   "execution_count": 7,
   "id": "274c8819",
   "metadata": {},
   "outputs": [
    {
     "data": {
      "application/vnd.plotly.v1+json": {
       "config": {
        "linkText": "Export to plot.ly",
        "plotlyServerURL": "https://plot.ly",
        "showLink": false
       },
       "data": [
        {
         "mode": "lines",
         "name": "Bitcoin Price (Open)",
         "type": "scatter",
         "x": [
          "2015-01-12T00:00:00+00:00",
          "2015-01-19T00:00:00+00:00",
          "2015-01-26T00:00:00+00:00",
          "2015-02-02T00:00:00+00:00",
          "2015-02-09T00:00:00+00:00",
          "2015-02-16T00:00:00+00:00",
          "2015-02-23T00:00:00+00:00",
          "2015-03-02T00:00:00+00:00",
          "2015-03-09T00:00:00+00:00",
          "2015-03-16T00:00:00+00:00",
          "2015-03-23T00:00:00+00:00",
          "2015-03-30T00:00:00+00:00",
          "2015-04-06T00:00:00+00:00",
          "2015-04-13T00:00:00+00:00",
          "2015-04-20T00:00:00+00:00",
          "2015-04-27T00:00:00+00:00",
          "2015-05-04T00:00:00+00:00",
          "2015-05-11T00:00:00+00:00",
          "2015-05-18T00:00:00+00:00",
          "2015-05-25T00:00:00+00:00",
          "2015-06-01T00:00:00+00:00",
          "2015-06-08T00:00:00+00:00",
          "2015-06-15T00:00:00+00:00",
          "2015-06-22T00:00:00+00:00",
          "2015-06-29T00:00:00+00:00",
          "2015-07-06T00:00:00+00:00",
          "2015-07-13T00:00:00+00:00",
          "2015-07-20T00:00:00+00:00",
          "2015-07-27T00:00:00+00:00",
          "2015-08-03T00:00:00+00:00",
          "2015-08-10T00:00:00+00:00",
          "2015-08-17T00:00:00+00:00",
          "2015-08-24T00:00:00+00:00",
          "2015-08-31T00:00:00+00:00",
          "2015-09-07T00:00:00+00:00",
          "2015-09-14T00:00:00+00:00",
          "2015-09-21T00:00:00+00:00",
          "2015-09-28T00:00:00+00:00",
          "2015-10-05T00:00:00+00:00",
          "2015-10-12T00:00:00+00:00",
          "2015-10-19T00:00:00+00:00",
          "2015-10-26T00:00:00+00:00",
          "2015-11-02T00:00:00+00:00",
          "2015-11-09T00:00:00+00:00",
          "2015-11-16T00:00:00+00:00",
          "2015-11-23T00:00:00+00:00",
          "2015-11-30T00:00:00+00:00",
          "2015-12-07T00:00:00+00:00",
          "2015-12-14T00:00:00+00:00",
          "2015-12-21T00:00:00+00:00",
          "2015-12-28T00:00:00+00:00",
          "2016-01-04T00:00:00+00:00",
          "2016-01-11T00:00:00+00:00",
          "2016-01-18T00:00:00+00:00",
          "2016-01-25T00:00:00+00:00",
          "2016-02-01T00:00:00+00:00",
          "2016-02-08T00:00:00+00:00",
          "2016-02-15T00:00:00+00:00",
          "2016-02-22T00:00:00+00:00",
          "2016-02-29T00:00:00+00:00",
          "2016-03-07T00:00:00+00:00",
          "2016-03-14T00:00:00+00:00",
          "2016-03-21T00:00:00+00:00",
          "2016-03-28T00:00:00+00:00",
          "2016-04-04T00:00:00+00:00",
          "2016-04-11T00:00:00+00:00",
          "2016-04-18T00:00:00+00:00",
          "2016-04-25T00:00:00+00:00",
          "2016-05-02T00:00:00+00:00",
          "2016-05-09T00:00:00+00:00",
          "2016-05-16T00:00:00+00:00",
          "2016-05-23T00:00:00+00:00",
          "2016-05-30T00:00:00+00:00",
          "2016-06-06T00:00:00+00:00",
          "2016-06-13T00:00:00+00:00",
          "2016-06-20T00:00:00+00:00",
          "2016-06-27T00:00:00+00:00",
          "2016-07-04T00:00:00+00:00",
          "2016-07-11T00:00:00+00:00",
          "2016-07-18T00:00:00+00:00",
          "2016-07-25T00:00:00+00:00",
          "2016-08-01T00:00:00+00:00",
          "2016-08-08T00:00:00+00:00",
          "2016-08-15T00:00:00+00:00",
          "2016-08-22T00:00:00+00:00",
          "2016-08-29T00:00:00+00:00",
          "2016-09-05T00:00:00+00:00",
          "2016-09-12T00:00:00+00:00",
          "2016-09-19T00:00:00+00:00",
          "2016-09-26T00:00:00+00:00",
          "2016-10-03T00:00:00+00:00",
          "2016-10-10T00:00:00+00:00",
          "2016-10-17T00:00:00+00:00",
          "2016-10-24T00:00:00+00:00",
          "2016-10-31T00:00:00+00:00",
          "2016-11-07T00:00:00+00:00",
          "2016-11-14T00:00:00+00:00",
          "2016-11-21T00:00:00+00:00",
          "2016-11-28T00:00:00+00:00",
          "2016-12-05T00:00:00+00:00",
          "2016-12-12T00:00:00+00:00",
          "2016-12-19T00:00:00+00:00",
          "2016-12-26T00:00:00+00:00",
          "2017-01-02T00:00:00+00:00",
          "2017-01-09T00:00:00+00:00",
          "2017-01-16T00:00:00+00:00",
          "2017-01-23T00:00:00+00:00",
          "2017-01-30T00:00:00+00:00",
          "2017-02-06T00:00:00+00:00",
          "2017-02-13T00:00:00+00:00",
          "2017-02-20T00:00:00+00:00",
          "2017-02-27T00:00:00+00:00",
          "2017-03-06T00:00:00+00:00",
          "2017-03-13T00:00:00+00:00",
          "2017-03-20T00:00:00+00:00",
          "2017-03-27T00:00:00+00:00",
          "2017-04-03T00:00:00+00:00",
          "2017-04-10T00:00:00+00:00",
          "2017-04-17T00:00:00+00:00",
          "2017-04-24T00:00:00+00:00",
          "2017-05-01T00:00:00+00:00",
          "2017-05-08T00:00:00+00:00",
          "2017-05-15T00:00:00+00:00",
          "2017-05-22T00:00:00+00:00",
          "2017-05-29T00:00:00+00:00",
          "2017-06-05T00:00:00+00:00",
          "2017-06-12T00:00:00+00:00",
          "2017-06-19T00:00:00+00:00",
          "2017-06-26T00:00:00+00:00",
          "2017-07-03T00:00:00+00:00",
          "2017-07-10T00:00:00+00:00",
          "2017-07-17T00:00:00+00:00",
          "2017-07-24T00:00:00+00:00",
          "2017-07-31T00:00:00+00:00",
          "2017-08-07T00:00:00+00:00",
          "2017-08-14T00:00:00+00:00",
          "2017-08-21T00:00:00+00:00",
          "2017-08-28T00:00:00+00:00",
          "2017-09-04T00:00:00+00:00",
          "2017-09-11T00:00:00+00:00",
          "2017-09-18T00:00:00+00:00",
          "2017-09-25T00:00:00+00:00",
          "2017-10-02T00:00:00+00:00",
          "2017-10-09T00:00:00+00:00",
          "2017-10-16T00:00:00+00:00",
          "2017-10-23T00:00:00+00:00",
          "2017-10-30T00:00:00+00:00",
          "2017-11-06T00:00:00+00:00",
          "2017-11-13T00:00:00+00:00",
          "2017-11-20T00:00:00+00:00",
          "2017-11-27T00:00:00+00:00",
          "2017-12-04T00:00:00+00:00",
          "2017-12-11T00:00:00+00:00",
          "2017-12-18T00:00:00+00:00",
          "2017-12-25T00:00:00+00:00",
          "2018-01-01T00:00:00+00:00",
          "2018-01-08T00:00:00+00:00",
          "2018-01-15T00:00:00+00:00",
          "2018-01-22T00:00:00+00:00",
          "2018-01-29T00:00:00+00:00",
          "2018-02-05T00:00:00+00:00",
          "2018-02-12T00:00:00+00:00",
          "2018-02-19T00:00:00+00:00",
          "2018-02-26T00:00:00+00:00",
          "2018-03-05T00:00:00+00:00",
          "2018-03-12T00:00:00+00:00",
          "2018-03-19T00:00:00+00:00",
          "2018-03-26T00:00:00+00:00",
          "2018-04-02T00:00:00+00:00",
          "2018-04-09T00:00:00+00:00",
          "2018-04-16T00:00:00+00:00",
          "2018-04-23T00:00:00+00:00",
          "2018-04-30T00:00:00+00:00",
          "2018-05-07T00:00:00+00:00",
          "2018-05-14T00:00:00+00:00",
          "2018-05-21T00:00:00+00:00",
          "2018-05-28T00:00:00+00:00",
          "2018-06-04T00:00:00+00:00",
          "2018-06-11T00:00:00+00:00",
          "2018-06-18T00:00:00+00:00",
          "2018-06-25T00:00:00+00:00",
          "2018-07-02T00:00:00+00:00",
          "2018-07-09T00:00:00+00:00",
          "2018-07-16T00:00:00+00:00",
          "2018-07-23T00:00:00+00:00",
          "2018-07-30T00:00:00+00:00",
          "2018-08-06T00:00:00+00:00",
          "2018-08-13T00:00:00+00:00",
          "2018-08-20T00:00:00+00:00",
          "2018-08-27T00:00:00+00:00",
          "2018-09-03T00:00:00+00:00",
          "2018-09-10T00:00:00+00:00",
          "2018-09-17T00:00:00+00:00",
          "2018-09-24T00:00:00+00:00",
          "2018-10-01T00:00:00+00:00",
          "2018-10-08T00:00:00+00:00",
          "2018-10-15T00:00:00+00:00",
          "2018-10-22T00:00:00+00:00",
          "2018-10-29T00:00:00+00:00",
          "2018-11-05T00:00:00+00:00",
          "2018-11-12T00:00:00+00:00"
         ],
         "y": [
          3.6,
          0,
          0,
          77.997,
          4951.1786926,
          0,
          33.0526,
          2628.7766507,
          144.7499662,
          3396.3291989,
          146.3472,
          211.14814064,
          198.66798,
          2153.2834612,
          42.466242,
          0,
          4.897473,
          23.605867572,
          0,
          19.7707,
          0,
          1069.1288787,
          208.92944868,
          105.197365,
          593.67924,
          6600.9719952,
          114.0372195,
          4358.379625,
          597.85551056,
          6634.7358036,
          1563.116897,
          1545.50378,
          451.99790392,
          232.668697,
          56.302993517,
          5622.362929,
          981.624392,
          617.157188,
          2.6799980586,
          216.09775,
          1931.359809,
          5.2932,
          561.6922286,
          5984.7987885,
          219.775142,
          0,
          137.1942,
          5231.500047,
          855.00692117,
          727.464394,
          353.72993649,
          2953.6468798,
          99.710218,
          75.419058,
          544.9325,
          60.1728345,
          3570.3782333,
          1624.4875739,
          0,
          1183.3228428,
          698.1274461,
          151.2198544,
          1029.343962,
          96.78855,
          2267.6103912,
          4506.8742868,
          383.4852062,
          0,
          101.1203568,
          0,
          1028.9104273,
          888.65021,
          693.2109553,
          507.0916028,
          577.68594836,
          2643.813842,
          2682.8854844,
          2813.4014873,
          411.6809744,
          1974.2902766,
          1904.0413668,
          480.4756374,
          3178.0567102,
          335.3111715,
          3283.1072693,
          308.9431996,
          3082.3412625,
          459.2459385,
          105.27529446,
          457.82643328,
          70.7948505,
          1325.0283959,
          2684.3497908,
          198.7097149,
          3784.0240193,
          5117.2852382,
          1033.8490529,
          590.5629084,
          51.0191776,
          7311.2959819,
          794.99459098,
          769.91690142,
          1676.9760532,
          1272.1874217,
          398.39996667,
          10795.951376,
          1427.25,
          251.78426,
          1377.772605,
          556.035845,
          276.20308536,
          2473.94007,
          208.20121706,
          2205.1583873,
          12682.7397,
          1996.8918716,
          39.849984,
          720.889576,
          1019.27288,
          15161.116206,
          21468.253265,
          4761.9752672,
          10940.54702,
          13929.005789,
          7915.6710358,
          14317.106029,
          26277.674569,
          7409.0137496,
          8873.9867986,
          2107.6037283,
          7341.9149264,
          2748.402642,
          31619.785708,
          12654.805066,
          9124.0063496,
          20863.343624,
          14342.213372,
          222963.90996,
          24321.015166,
          15407.714694,
          72636.511008,
          77849.350933,
          2057.1620171,
          250.15078247,
          3300.1352272,
          17153.160816,
          112875.04075,
          8131.9975789,
          40324.45708,
          21164.373774,
          135781.58788,
          785525.41628,
          10717.661687,
          0,
          267145.71063,
          83283.491142,
          53513.935573,
          60432.303551,
          152390.23248,
          81955.979711,
          21742.781185,
          1048304.8495,
          71592.546782,
          40853.5597,
          10675.168833,
          93115.347545,
          7579.9864917,
          30628.382287,
          31254.482689,
          105290.46544,
          6308.2181607,
          27481.274056,
          121507.67921,
          58208.303778,
          65325.954127,
          7922.7404273,
          14948.254088,
          21817.101918,
          36777.741026,
          28882.991316,
          4492.3863704,
          3284.065051,
          18164.014335,
          2611.495078,
          181345.98055,
          54298.544676,
          3066.3438207,
          39017.914916,
          40646.260054,
          107749.5794,
          10244.671787,
          5253.6730668,
          69370.978197,
          2750.0997771,
          5822.4912399,
          10605.970111,
          5469.5161718,
          6642.3244578,
          23982.676311,
          6729.4469089,
          10617.367616
         ]
        }
       ],
       "layout": {
        "template": {
         "data": {
          "bar": [
           {
            "error_x": {
             "color": "#2a3f5f"
            },
            "error_y": {
             "color": "#2a3f5f"
            },
            "marker": {
             "line": {
              "color": "#E5ECF6",
              "width": 0.5
             },
             "pattern": {
              "fillmode": "overlay",
              "size": 10,
              "solidity": 0.2
             }
            },
            "type": "bar"
           }
          ],
          "barpolar": [
           {
            "marker": {
             "line": {
              "color": "#E5ECF6",
              "width": 0.5
             },
             "pattern": {
              "fillmode": "overlay",
              "size": 10,
              "solidity": 0.2
             }
            },
            "type": "barpolar"
           }
          ],
          "carpet": [
           {
            "aaxis": {
             "endlinecolor": "#2a3f5f",
             "gridcolor": "white",
             "linecolor": "white",
             "minorgridcolor": "white",
             "startlinecolor": "#2a3f5f"
            },
            "baxis": {
             "endlinecolor": "#2a3f5f",
             "gridcolor": "white",
             "linecolor": "white",
             "minorgridcolor": "white",
             "startlinecolor": "#2a3f5f"
            },
            "type": "carpet"
           }
          ],
          "choropleth": [
           {
            "colorbar": {
             "outlinewidth": 0,
             "ticks": ""
            },
            "type": "choropleth"
           }
          ],
          "contour": [
           {
            "colorbar": {
             "outlinewidth": 0,
             "ticks": ""
            },
            "colorscale": [
             [
              0,
              "#0d0887"
             ],
             [
              0.1111111111111111,
              "#46039f"
             ],
             [
              0.2222222222222222,
              "#7201a8"
             ],
             [
              0.3333333333333333,
              "#9c179e"
             ],
             [
              0.4444444444444444,
              "#bd3786"
             ],
             [
              0.5555555555555556,
              "#d8576b"
             ],
             [
              0.6666666666666666,
              "#ed7953"
             ],
             [
              0.7777777777777778,
              "#fb9f3a"
             ],
             [
              0.8888888888888888,
              "#fdca26"
             ],
             [
              1,
              "#f0f921"
             ]
            ],
            "type": "contour"
           }
          ],
          "contourcarpet": [
           {
            "colorbar": {
             "outlinewidth": 0,
             "ticks": ""
            },
            "type": "contourcarpet"
           }
          ],
          "heatmap": [
           {
            "colorbar": {
             "outlinewidth": 0,
             "ticks": ""
            },
            "colorscale": [
             [
              0,
              "#0d0887"
             ],
             [
              0.1111111111111111,
              "#46039f"
             ],
             [
              0.2222222222222222,
              "#7201a8"
             ],
             [
              0.3333333333333333,
              "#9c179e"
             ],
             [
              0.4444444444444444,
              "#bd3786"
             ],
             [
              0.5555555555555556,
              "#d8576b"
             ],
             [
              0.6666666666666666,
              "#ed7953"
             ],
             [
              0.7777777777777778,
              "#fb9f3a"
             ],
             [
              0.8888888888888888,
              "#fdca26"
             ],
             [
              1,
              "#f0f921"
             ]
            ],
            "type": "heatmap"
           }
          ],
          "heatmapgl": [
           {
            "colorbar": {
             "outlinewidth": 0,
             "ticks": ""
            },
            "colorscale": [
             [
              0,
              "#0d0887"
             ],
             [
              0.1111111111111111,
              "#46039f"
             ],
             [
              0.2222222222222222,
              "#7201a8"
             ],
             [
              0.3333333333333333,
              "#9c179e"
             ],
             [
              0.4444444444444444,
              "#bd3786"
             ],
             [
              0.5555555555555556,
              "#d8576b"
             ],
             [
              0.6666666666666666,
              "#ed7953"
             ],
             [
              0.7777777777777778,
              "#fb9f3a"
             ],
             [
              0.8888888888888888,
              "#fdca26"
             ],
             [
              1,
              "#f0f921"
             ]
            ],
            "type": "heatmapgl"
           }
          ],
          "histogram": [
           {
            "marker": {
             "pattern": {
              "fillmode": "overlay",
              "size": 10,
              "solidity": 0.2
             }
            },
            "type": "histogram"
           }
          ],
          "histogram2d": [
           {
            "colorbar": {
             "outlinewidth": 0,
             "ticks": ""
            },
            "colorscale": [
             [
              0,
              "#0d0887"
             ],
             [
              0.1111111111111111,
              "#46039f"
             ],
             [
              0.2222222222222222,
              "#7201a8"
             ],
             [
              0.3333333333333333,
              "#9c179e"
             ],
             [
              0.4444444444444444,
              "#bd3786"
             ],
             [
              0.5555555555555556,
              "#d8576b"
             ],
             [
              0.6666666666666666,
              "#ed7953"
             ],
             [
              0.7777777777777778,
              "#fb9f3a"
             ],
             [
              0.8888888888888888,
              "#fdca26"
             ],
             [
              1,
              "#f0f921"
             ]
            ],
            "type": "histogram2d"
           }
          ],
          "histogram2dcontour": [
           {
            "colorbar": {
             "outlinewidth": 0,
             "ticks": ""
            },
            "colorscale": [
             [
              0,
              "#0d0887"
             ],
             [
              0.1111111111111111,
              "#46039f"
             ],
             [
              0.2222222222222222,
              "#7201a8"
             ],
             [
              0.3333333333333333,
              "#9c179e"
             ],
             [
              0.4444444444444444,
              "#bd3786"
             ],
             [
              0.5555555555555556,
              "#d8576b"
             ],
             [
              0.6666666666666666,
              "#ed7953"
             ],
             [
              0.7777777777777778,
              "#fb9f3a"
             ],
             [
              0.8888888888888888,
              "#fdca26"
             ],
             [
              1,
              "#f0f921"
             ]
            ],
            "type": "histogram2dcontour"
           }
          ],
          "mesh3d": [
           {
            "colorbar": {
             "outlinewidth": 0,
             "ticks": ""
            },
            "type": "mesh3d"
           }
          ],
          "parcoords": [
           {
            "line": {
             "colorbar": {
              "outlinewidth": 0,
              "ticks": ""
             }
            },
            "type": "parcoords"
           }
          ],
          "pie": [
           {
            "automargin": true,
            "type": "pie"
           }
          ],
          "scatter": [
           {
            "fillpattern": {
             "fillmode": "overlay",
             "size": 10,
             "solidity": 0.2
            },
            "type": "scatter"
           }
          ],
          "scatter3d": [
           {
            "line": {
             "colorbar": {
              "outlinewidth": 0,
              "ticks": ""
             }
            },
            "marker": {
             "colorbar": {
              "outlinewidth": 0,
              "ticks": ""
             }
            },
            "type": "scatter3d"
           }
          ],
          "scattercarpet": [
           {
            "marker": {
             "colorbar": {
              "outlinewidth": 0,
              "ticks": ""
             }
            },
            "type": "scattercarpet"
           }
          ],
          "scattergeo": [
           {
            "marker": {
             "colorbar": {
              "outlinewidth": 0,
              "ticks": ""
             }
            },
            "type": "scattergeo"
           }
          ],
          "scattergl": [
           {
            "marker": {
             "colorbar": {
              "outlinewidth": 0,
              "ticks": ""
             }
            },
            "type": "scattergl"
           }
          ],
          "scattermapbox": [
           {
            "marker": {
             "colorbar": {
              "outlinewidth": 0,
              "ticks": ""
             }
            },
            "type": "scattermapbox"
           }
          ],
          "scatterpolar": [
           {
            "marker": {
             "colorbar": {
              "outlinewidth": 0,
              "ticks": ""
             }
            },
            "type": "scatterpolar"
           }
          ],
          "scatterpolargl": [
           {
            "marker": {
             "colorbar": {
              "outlinewidth": 0,
              "ticks": ""
             }
            },
            "type": "scatterpolargl"
           }
          ],
          "scatterternary": [
           {
            "marker": {
             "colorbar": {
              "outlinewidth": 0,
              "ticks": ""
             }
            },
            "type": "scatterternary"
           }
          ],
          "surface": [
           {
            "colorbar": {
             "outlinewidth": 0,
             "ticks": ""
            },
            "colorscale": [
             [
              0,
              "#0d0887"
             ],
             [
              0.1111111111111111,
              "#46039f"
             ],
             [
              0.2222222222222222,
              "#7201a8"
             ],
             [
              0.3333333333333333,
              "#9c179e"
             ],
             [
              0.4444444444444444,
              "#bd3786"
             ],
             [
              0.5555555555555556,
              "#d8576b"
             ],
             [
              0.6666666666666666,
              "#ed7953"
             ],
             [
              0.7777777777777778,
              "#fb9f3a"
             ],
             [
              0.8888888888888888,
              "#fdca26"
             ],
             [
              1,
              "#f0f921"
             ]
            ],
            "type": "surface"
           }
          ],
          "table": [
           {
            "cells": {
             "fill": {
              "color": "#EBF0F8"
             },
             "line": {
              "color": "white"
             }
            },
            "header": {
             "fill": {
              "color": "#C8D4E3"
             },
             "line": {
              "color": "white"
             }
            },
            "type": "table"
           }
          ]
         },
         "layout": {
          "annotationdefaults": {
           "arrowcolor": "#2a3f5f",
           "arrowhead": 0,
           "arrowwidth": 1
          },
          "autotypenumbers": "strict",
          "coloraxis": {
           "colorbar": {
            "outlinewidth": 0,
            "ticks": ""
           }
          },
          "colorscale": {
           "diverging": [
            [
             0,
             "#8e0152"
            ],
            [
             0.1,
             "#c51b7d"
            ],
            [
             0.2,
             "#de77ae"
            ],
            [
             0.3,
             "#f1b6da"
            ],
            [
             0.4,
             "#fde0ef"
            ],
            [
             0.5,
             "#f7f7f7"
            ],
            [
             0.6,
             "#e6f5d0"
            ],
            [
             0.7,
             "#b8e186"
            ],
            [
             0.8,
             "#7fbc41"
            ],
            [
             0.9,
             "#4d9221"
            ],
            [
             1,
             "#276419"
            ]
           ],
           "sequential": [
            [
             0,
             "#0d0887"
            ],
            [
             0.1111111111111111,
             "#46039f"
            ],
            [
             0.2222222222222222,
             "#7201a8"
            ],
            [
             0.3333333333333333,
             "#9c179e"
            ],
            [
             0.4444444444444444,
             "#bd3786"
            ],
            [
             0.5555555555555556,
             "#d8576b"
            ],
            [
             0.6666666666666666,
             "#ed7953"
            ],
            [
             0.7777777777777778,
             "#fb9f3a"
            ],
            [
             0.8888888888888888,
             "#fdca26"
            ],
            [
             1,
             "#f0f921"
            ]
           ],
           "sequentialminus": [
            [
             0,
             "#0d0887"
            ],
            [
             0.1111111111111111,
             "#46039f"
            ],
            [
             0.2222222222222222,
             "#7201a8"
            ],
            [
             0.3333333333333333,
             "#9c179e"
            ],
            [
             0.4444444444444444,
             "#bd3786"
            ],
            [
             0.5555555555555556,
             "#d8576b"
            ],
            [
             0.6666666666666666,
             "#ed7953"
            ],
            [
             0.7777777777777778,
             "#fb9f3a"
            ],
            [
             0.8888888888888888,
             "#fdca26"
            ],
            [
             1,
             "#f0f921"
            ]
           ]
          },
          "colorway": [
           "#636efa",
           "#EF553B",
           "#00cc96",
           "#ab63fa",
           "#FFA15A",
           "#19d3f3",
           "#FF6692",
           "#B6E880",
           "#FF97FF",
           "#FECB52"
          ],
          "font": {
           "color": "#2a3f5f"
          },
          "geo": {
           "bgcolor": "white",
           "lakecolor": "white",
           "landcolor": "#E5ECF6",
           "showlakes": true,
           "showland": true,
           "subunitcolor": "white"
          },
          "hoverlabel": {
           "align": "left"
          },
          "hovermode": "closest",
          "mapbox": {
           "style": "light"
          },
          "paper_bgcolor": "white",
          "plot_bgcolor": "#E5ECF6",
          "polar": {
           "angularaxis": {
            "gridcolor": "white",
            "linecolor": "white",
            "ticks": ""
           },
           "bgcolor": "#E5ECF6",
           "radialaxis": {
            "gridcolor": "white",
            "linecolor": "white",
            "ticks": ""
           }
          },
          "scene": {
           "xaxis": {
            "backgroundcolor": "#E5ECF6",
            "gridcolor": "white",
            "gridwidth": 2,
            "linecolor": "white",
            "showbackground": true,
            "ticks": "",
            "zerolinecolor": "white"
           },
           "yaxis": {
            "backgroundcolor": "#E5ECF6",
            "gridcolor": "white",
            "gridwidth": 2,
            "linecolor": "white",
            "showbackground": true,
            "ticks": "",
            "zerolinecolor": "white"
           },
           "zaxis": {
            "backgroundcolor": "#E5ECF6",
            "gridcolor": "white",
            "gridwidth": 2,
            "linecolor": "white",
            "showbackground": true,
            "ticks": "",
            "zerolinecolor": "white"
           }
          },
          "shapedefaults": {
           "line": {
            "color": "#2a3f5f"
           }
          },
          "ternary": {
           "aaxis": {
            "gridcolor": "white",
            "linecolor": "white",
            "ticks": ""
           },
           "baxis": {
            "gridcolor": "white",
            "linecolor": "white",
            "ticks": ""
           },
           "bgcolor": "#E5ECF6",
           "caxis": {
            "gridcolor": "white",
            "linecolor": "white",
            "ticks": ""
           }
          },
          "title": {
           "x": 0.05
          },
          "xaxis": {
           "automargin": true,
           "gridcolor": "white",
           "linecolor": "white",
           "ticks": "",
           "title": {
            "standoff": 15
           },
           "zerolinecolor": "white",
           "zerolinewidth": 2
          },
          "yaxis": {
           "automargin": true,
           "gridcolor": "white",
           "linecolor": "white",
           "ticks": "",
           "title": {
            "standoff": 15
           },
           "zerolinecolor": "white",
           "zerolinewidth": 2
          }
         }
        },
        "title": {
         "text": "Historical Bitcoin Volume"
        },
        "xaxis": {
         "rangeselector": {
          "buttons": [
           {
            "count": 1,
            "label": "1m",
            "step": "month",
            "stepmode": "backward"
           },
           {
            "count": 6,
            "label": "6m",
            "step": "month",
            "stepmode": "backward"
           },
           {
            "count": 12,
            "label": "1y",
            "step": "month",
            "stepmode": "backward"
           },
           {
            "count": 36,
            "label": "3y",
            "step": "month",
            "stepmode": "backward"
           },
           {
            "step": "all"
           }
          ]
         },
         "rangeslider": {
          "visible": true
         },
         "type": "date"
        }
       }
      },
      "text/html": [
       "<div>                            <div id=\"e0ea5181-1e1d-4663-87a5-4c9b2caeef32\" class=\"plotly-graph-div\" style=\"height:525px; width:100%;\"></div>            <script type=\"text/javascript\">                require([\"plotly\"], function(Plotly) {                    window.PLOTLYENV=window.PLOTLYENV || {};                                    if (document.getElementById(\"e0ea5181-1e1d-4663-87a5-4c9b2caeef32\")) {                    Plotly.newPlot(                        \"e0ea5181-1e1d-4663-87a5-4c9b2caeef32\",                        [{\"mode\":\"lines\",\"name\":\"Bitcoin Price (Open)\",\"x\":[\"2015-01-12T00:00:00+00:00\",\"2015-01-19T00:00:00+00:00\",\"2015-01-26T00:00:00+00:00\",\"2015-02-02T00:00:00+00:00\",\"2015-02-09T00:00:00+00:00\",\"2015-02-16T00:00:00+00:00\",\"2015-02-23T00:00:00+00:00\",\"2015-03-02T00:00:00+00:00\",\"2015-03-09T00:00:00+00:00\",\"2015-03-16T00:00:00+00:00\",\"2015-03-23T00:00:00+00:00\",\"2015-03-30T00:00:00+00:00\",\"2015-04-06T00:00:00+00:00\",\"2015-04-13T00:00:00+00:00\",\"2015-04-20T00:00:00+00:00\",\"2015-04-27T00:00:00+00:00\",\"2015-05-04T00:00:00+00:00\",\"2015-05-11T00:00:00+00:00\",\"2015-05-18T00:00:00+00:00\",\"2015-05-25T00:00:00+00:00\",\"2015-06-01T00:00:00+00:00\",\"2015-06-08T00:00:00+00:00\",\"2015-06-15T00:00:00+00:00\",\"2015-06-22T00:00:00+00:00\",\"2015-06-29T00:00:00+00:00\",\"2015-07-06T00:00:00+00:00\",\"2015-07-13T00:00:00+00:00\",\"2015-07-20T00:00:00+00:00\",\"2015-07-27T00:00:00+00:00\",\"2015-08-03T00:00:00+00:00\",\"2015-08-10T00:00:00+00:00\",\"2015-08-17T00:00:00+00:00\",\"2015-08-24T00:00:00+00:00\",\"2015-08-31T00:00:00+00:00\",\"2015-09-07T00:00:00+00:00\",\"2015-09-14T00:00:00+00:00\",\"2015-09-21T00:00:00+00:00\",\"2015-09-28T00:00:00+00:00\",\"2015-10-05T00:00:00+00:00\",\"2015-10-12T00:00:00+00:00\",\"2015-10-19T00:00:00+00:00\",\"2015-10-26T00:00:00+00:00\",\"2015-11-02T00:00:00+00:00\",\"2015-11-09T00:00:00+00:00\",\"2015-11-16T00:00:00+00:00\",\"2015-11-23T00:00:00+00:00\",\"2015-11-30T00:00:00+00:00\",\"2015-12-07T00:00:00+00:00\",\"2015-12-14T00:00:00+00:00\",\"2015-12-21T00:00:00+00:00\",\"2015-12-28T00:00:00+00:00\",\"2016-01-04T00:00:00+00:00\",\"2016-01-11T00:00:00+00:00\",\"2016-01-18T00:00:00+00:00\",\"2016-01-25T00:00:00+00:00\",\"2016-02-01T00:00:00+00:00\",\"2016-02-08T00:00:00+00:00\",\"2016-02-15T00:00:00+00:00\",\"2016-02-22T00:00:00+00:00\",\"2016-02-29T00:00:00+00:00\",\"2016-03-07T00:00:00+00:00\",\"2016-03-14T00:00:00+00:00\",\"2016-03-21T00:00:00+00:00\",\"2016-03-28T00:00:00+00:00\",\"2016-04-04T00:00:00+00:00\",\"2016-04-11T00:00:00+00:00\",\"2016-04-18T00:00:00+00:00\",\"2016-04-25T00:00:00+00:00\",\"2016-05-02T00:00:00+00:00\",\"2016-05-09T00:00:00+00:00\",\"2016-05-16T00:00:00+00:00\",\"2016-05-23T00:00:00+00:00\",\"2016-05-30T00:00:00+00:00\",\"2016-06-06T00:00:00+00:00\",\"2016-06-13T00:00:00+00:00\",\"2016-06-20T00:00:00+00:00\",\"2016-06-27T00:00:00+00:00\",\"2016-07-04T00:00:00+00:00\",\"2016-07-11T00:00:00+00:00\",\"2016-07-18T00:00:00+00:00\",\"2016-07-25T00:00:00+00:00\",\"2016-08-01T00:00:00+00:00\",\"2016-08-08T00:00:00+00:00\",\"2016-08-15T00:00:00+00:00\",\"2016-08-22T00:00:00+00:00\",\"2016-08-29T00:00:00+00:00\",\"2016-09-05T00:00:00+00:00\",\"2016-09-12T00:00:00+00:00\",\"2016-09-19T00:00:00+00:00\",\"2016-09-26T00:00:00+00:00\",\"2016-10-03T00:00:00+00:00\",\"2016-10-10T00:00:00+00:00\",\"2016-10-17T00:00:00+00:00\",\"2016-10-24T00:00:00+00:00\",\"2016-10-31T00:00:00+00:00\",\"2016-11-07T00:00:00+00:00\",\"2016-11-14T00:00:00+00:00\",\"2016-11-21T00:00:00+00:00\",\"2016-11-28T00:00:00+00:00\",\"2016-12-05T00:00:00+00:00\",\"2016-12-12T00:00:00+00:00\",\"2016-12-19T00:00:00+00:00\",\"2016-12-26T00:00:00+00:00\",\"2017-01-02T00:00:00+00:00\",\"2017-01-09T00:00:00+00:00\",\"2017-01-16T00:00:00+00:00\",\"2017-01-23T00:00:00+00:00\",\"2017-01-30T00:00:00+00:00\",\"2017-02-06T00:00:00+00:00\",\"2017-02-13T00:00:00+00:00\",\"2017-02-20T00:00:00+00:00\",\"2017-02-27T00:00:00+00:00\",\"2017-03-06T00:00:00+00:00\",\"2017-03-13T00:00:00+00:00\",\"2017-03-20T00:00:00+00:00\",\"2017-03-27T00:00:00+00:00\",\"2017-04-03T00:00:00+00:00\",\"2017-04-10T00:00:00+00:00\",\"2017-04-17T00:00:00+00:00\",\"2017-04-24T00:00:00+00:00\",\"2017-05-01T00:00:00+00:00\",\"2017-05-08T00:00:00+00:00\",\"2017-05-15T00:00:00+00:00\",\"2017-05-22T00:00:00+00:00\",\"2017-05-29T00:00:00+00:00\",\"2017-06-05T00:00:00+00:00\",\"2017-06-12T00:00:00+00:00\",\"2017-06-19T00:00:00+00:00\",\"2017-06-26T00:00:00+00:00\",\"2017-07-03T00:00:00+00:00\",\"2017-07-10T00:00:00+00:00\",\"2017-07-17T00:00:00+00:00\",\"2017-07-24T00:00:00+00:00\",\"2017-07-31T00:00:00+00:00\",\"2017-08-07T00:00:00+00:00\",\"2017-08-14T00:00:00+00:00\",\"2017-08-21T00:00:00+00:00\",\"2017-08-28T00:00:00+00:00\",\"2017-09-04T00:00:00+00:00\",\"2017-09-11T00:00:00+00:00\",\"2017-09-18T00:00:00+00:00\",\"2017-09-25T00:00:00+00:00\",\"2017-10-02T00:00:00+00:00\",\"2017-10-09T00:00:00+00:00\",\"2017-10-16T00:00:00+00:00\",\"2017-10-23T00:00:00+00:00\",\"2017-10-30T00:00:00+00:00\",\"2017-11-06T00:00:00+00:00\",\"2017-11-13T00:00:00+00:00\",\"2017-11-20T00:00:00+00:00\",\"2017-11-27T00:00:00+00:00\",\"2017-12-04T00:00:00+00:00\",\"2017-12-11T00:00:00+00:00\",\"2017-12-18T00:00:00+00:00\",\"2017-12-25T00:00:00+00:00\",\"2018-01-01T00:00:00+00:00\",\"2018-01-08T00:00:00+00:00\",\"2018-01-15T00:00:00+00:00\",\"2018-01-22T00:00:00+00:00\",\"2018-01-29T00:00:00+00:00\",\"2018-02-05T00:00:00+00:00\",\"2018-02-12T00:00:00+00:00\",\"2018-02-19T00:00:00+00:00\",\"2018-02-26T00:00:00+00:00\",\"2018-03-05T00:00:00+00:00\",\"2018-03-12T00:00:00+00:00\",\"2018-03-19T00:00:00+00:00\",\"2018-03-26T00:00:00+00:00\",\"2018-04-02T00:00:00+00:00\",\"2018-04-09T00:00:00+00:00\",\"2018-04-16T00:00:00+00:00\",\"2018-04-23T00:00:00+00:00\",\"2018-04-30T00:00:00+00:00\",\"2018-05-07T00:00:00+00:00\",\"2018-05-14T00:00:00+00:00\",\"2018-05-21T00:00:00+00:00\",\"2018-05-28T00:00:00+00:00\",\"2018-06-04T00:00:00+00:00\",\"2018-06-11T00:00:00+00:00\",\"2018-06-18T00:00:00+00:00\",\"2018-06-25T00:00:00+00:00\",\"2018-07-02T00:00:00+00:00\",\"2018-07-09T00:00:00+00:00\",\"2018-07-16T00:00:00+00:00\",\"2018-07-23T00:00:00+00:00\",\"2018-07-30T00:00:00+00:00\",\"2018-08-06T00:00:00+00:00\",\"2018-08-13T00:00:00+00:00\",\"2018-08-20T00:00:00+00:00\",\"2018-08-27T00:00:00+00:00\",\"2018-09-03T00:00:00+00:00\",\"2018-09-10T00:00:00+00:00\",\"2018-09-17T00:00:00+00:00\",\"2018-09-24T00:00:00+00:00\",\"2018-10-01T00:00:00+00:00\",\"2018-10-08T00:00:00+00:00\",\"2018-10-15T00:00:00+00:00\",\"2018-10-22T00:00:00+00:00\",\"2018-10-29T00:00:00+00:00\",\"2018-11-05T00:00:00+00:00\",\"2018-11-12T00:00:00+00:00\"],\"y\":[3.6,0.0,0.0,77.997,4951.1786926,0.0,33.0526,2628.7766507,144.7499662,3396.3291989,146.3472,211.14814064,198.66798,2153.2834612,42.466242,0.0,4.897473,23.605867572,0.0,19.7707,0.0,1069.1288787,208.92944868,105.197365,593.67924,6600.9719952,114.0372195,4358.379625,597.85551056,6634.7358036,1563.116897,1545.50378,451.99790392,232.668697,56.302993517,5622.362929,981.624392,617.157188,2.6799980586,216.09775,1931.359809,5.2932,561.6922286,5984.7987885,219.775142,0.0,137.1942,5231.500047,855.00692117,727.464394,353.72993649,2953.6468798,99.710218,75.419058,544.9325,60.1728345,3570.3782333,1624.4875739,0.0,1183.3228428,698.1274461,151.2198544,1029.343962,96.78855,2267.6103912,4506.8742868,383.4852062,0.0,101.1203568,0.0,1028.9104273,888.65021,693.2109553,507.0916028,577.68594836,2643.813842,2682.8854844,2813.4014873,411.6809744,1974.2902766,1904.0413668,480.4756374,3178.0567102,335.3111715,3283.1072693,308.9431996,3082.3412625,459.2459385,105.27529446,457.82643328,70.7948505,1325.0283959,2684.3497908,198.7097149,3784.0240193,5117.2852382,1033.8490529,590.5629084,51.0191776,7311.2959819,794.99459098,769.91690142,1676.9760532,1272.1874217,398.39996667,10795.951376,1427.25,251.78426,1377.772605,556.035845,276.20308536,2473.94007,208.20121706,2205.1583873,12682.7397,1996.8918716,39.849984,720.889576,1019.27288,15161.116206,21468.253265,4761.9752672,10940.54702,13929.005789,7915.6710358,14317.106029,26277.674569,7409.0137496,8873.9867986,2107.6037283,7341.9149264,2748.402642,31619.785708,12654.805066,9124.0063496,20863.343624,14342.213372,222963.90996,24321.015166,15407.714694,72636.511008,77849.350933,2057.1620171,250.15078247,3300.1352272,17153.160816,112875.04075,8131.9975789,40324.45708,21164.373774,135781.58788,785525.41628,10717.661687,0.0,267145.71063,83283.491142,53513.935573,60432.303551,152390.23248,81955.979711,21742.781185,1048304.8495,71592.546782,40853.5597,10675.168833,93115.347545,7579.9864917,30628.382287,31254.482689,105290.46544,6308.2181607,27481.274056,121507.67921,58208.303778,65325.954127,7922.7404273,14948.254088,21817.101918,36777.741026,28882.991316,4492.3863704,3284.065051,18164.014335,2611.495078,181345.98055,54298.544676,3066.3438207,39017.914916,40646.260054,107749.5794,10244.671787,5253.6730668,69370.978197,2750.0997771,5822.4912399,10605.970111,5469.5161718,6642.3244578,23982.676311,6729.4469089,10617.367616],\"type\":\"scatter\"}],                        {\"template\":{\"data\":{\"barpolar\":[{\"marker\":{\"line\":{\"color\":\"#E5ECF6\",\"width\":0.5},\"pattern\":{\"fillmode\":\"overlay\",\"size\":10,\"solidity\":0.2}},\"type\":\"barpolar\"}],\"bar\":[{\"error_x\":{\"color\":\"#2a3f5f\"},\"error_y\":{\"color\":\"#2a3f5f\"},\"marker\":{\"line\":{\"color\":\"#E5ECF6\",\"width\":0.5},\"pattern\":{\"fillmode\":\"overlay\",\"size\":10,\"solidity\":0.2}},\"type\":\"bar\"}],\"carpet\":[{\"aaxis\":{\"endlinecolor\":\"#2a3f5f\",\"gridcolor\":\"white\",\"linecolor\":\"white\",\"minorgridcolor\":\"white\",\"startlinecolor\":\"#2a3f5f\"},\"baxis\":{\"endlinecolor\":\"#2a3f5f\",\"gridcolor\":\"white\",\"linecolor\":\"white\",\"minorgridcolor\":\"white\",\"startlinecolor\":\"#2a3f5f\"},\"type\":\"carpet\"}],\"choropleth\":[{\"colorbar\":{\"outlinewidth\":0,\"ticks\":\"\"},\"type\":\"choropleth\"}],\"contourcarpet\":[{\"colorbar\":{\"outlinewidth\":0,\"ticks\":\"\"},\"type\":\"contourcarpet\"}],\"contour\":[{\"colorbar\":{\"outlinewidth\":0,\"ticks\":\"\"},\"colorscale\":[[0.0,\"#0d0887\"],[0.1111111111111111,\"#46039f\"],[0.2222222222222222,\"#7201a8\"],[0.3333333333333333,\"#9c179e\"],[0.4444444444444444,\"#bd3786\"],[0.5555555555555556,\"#d8576b\"],[0.6666666666666666,\"#ed7953\"],[0.7777777777777778,\"#fb9f3a\"],[0.8888888888888888,\"#fdca26\"],[1.0,\"#f0f921\"]],\"type\":\"contour\"}],\"heatmapgl\":[{\"colorbar\":{\"outlinewidth\":0,\"ticks\":\"\"},\"colorscale\":[[0.0,\"#0d0887\"],[0.1111111111111111,\"#46039f\"],[0.2222222222222222,\"#7201a8\"],[0.3333333333333333,\"#9c179e\"],[0.4444444444444444,\"#bd3786\"],[0.5555555555555556,\"#d8576b\"],[0.6666666666666666,\"#ed7953\"],[0.7777777777777778,\"#fb9f3a\"],[0.8888888888888888,\"#fdca26\"],[1.0,\"#f0f921\"]],\"type\":\"heatmapgl\"}],\"heatmap\":[{\"colorbar\":{\"outlinewidth\":0,\"ticks\":\"\"},\"colorscale\":[[0.0,\"#0d0887\"],[0.1111111111111111,\"#46039f\"],[0.2222222222222222,\"#7201a8\"],[0.3333333333333333,\"#9c179e\"],[0.4444444444444444,\"#bd3786\"],[0.5555555555555556,\"#d8576b\"],[0.6666666666666666,\"#ed7953\"],[0.7777777777777778,\"#fb9f3a\"],[0.8888888888888888,\"#fdca26\"],[1.0,\"#f0f921\"]],\"type\":\"heatmap\"}],\"histogram2dcontour\":[{\"colorbar\":{\"outlinewidth\":0,\"ticks\":\"\"},\"colorscale\":[[0.0,\"#0d0887\"],[0.1111111111111111,\"#46039f\"],[0.2222222222222222,\"#7201a8\"],[0.3333333333333333,\"#9c179e\"],[0.4444444444444444,\"#bd3786\"],[0.5555555555555556,\"#d8576b\"],[0.6666666666666666,\"#ed7953\"],[0.7777777777777778,\"#fb9f3a\"],[0.8888888888888888,\"#fdca26\"],[1.0,\"#f0f921\"]],\"type\":\"histogram2dcontour\"}],\"histogram2d\":[{\"colorbar\":{\"outlinewidth\":0,\"ticks\":\"\"},\"colorscale\":[[0.0,\"#0d0887\"],[0.1111111111111111,\"#46039f\"],[0.2222222222222222,\"#7201a8\"],[0.3333333333333333,\"#9c179e\"],[0.4444444444444444,\"#bd3786\"],[0.5555555555555556,\"#d8576b\"],[0.6666666666666666,\"#ed7953\"],[0.7777777777777778,\"#fb9f3a\"],[0.8888888888888888,\"#fdca26\"],[1.0,\"#f0f921\"]],\"type\":\"histogram2d\"}],\"histogram\":[{\"marker\":{\"pattern\":{\"fillmode\":\"overlay\",\"size\":10,\"solidity\":0.2}},\"type\":\"histogram\"}],\"mesh3d\":[{\"colorbar\":{\"outlinewidth\":0,\"ticks\":\"\"},\"type\":\"mesh3d\"}],\"parcoords\":[{\"line\":{\"colorbar\":{\"outlinewidth\":0,\"ticks\":\"\"}},\"type\":\"parcoords\"}],\"pie\":[{\"automargin\":true,\"type\":\"pie\"}],\"scatter3d\":[{\"line\":{\"colorbar\":{\"outlinewidth\":0,\"ticks\":\"\"}},\"marker\":{\"colorbar\":{\"outlinewidth\":0,\"ticks\":\"\"}},\"type\":\"scatter3d\"}],\"scattercarpet\":[{\"marker\":{\"colorbar\":{\"outlinewidth\":0,\"ticks\":\"\"}},\"type\":\"scattercarpet\"}],\"scattergeo\":[{\"marker\":{\"colorbar\":{\"outlinewidth\":0,\"ticks\":\"\"}},\"type\":\"scattergeo\"}],\"scattergl\":[{\"marker\":{\"colorbar\":{\"outlinewidth\":0,\"ticks\":\"\"}},\"type\":\"scattergl\"}],\"scattermapbox\":[{\"marker\":{\"colorbar\":{\"outlinewidth\":0,\"ticks\":\"\"}},\"type\":\"scattermapbox\"}],\"scatterpolargl\":[{\"marker\":{\"colorbar\":{\"outlinewidth\":0,\"ticks\":\"\"}},\"type\":\"scatterpolargl\"}],\"scatterpolar\":[{\"marker\":{\"colorbar\":{\"outlinewidth\":0,\"ticks\":\"\"}},\"type\":\"scatterpolar\"}],\"scatter\":[{\"fillpattern\":{\"fillmode\":\"overlay\",\"size\":10,\"solidity\":0.2},\"type\":\"scatter\"}],\"scatterternary\":[{\"marker\":{\"colorbar\":{\"outlinewidth\":0,\"ticks\":\"\"}},\"type\":\"scatterternary\"}],\"surface\":[{\"colorbar\":{\"outlinewidth\":0,\"ticks\":\"\"},\"colorscale\":[[0.0,\"#0d0887\"],[0.1111111111111111,\"#46039f\"],[0.2222222222222222,\"#7201a8\"],[0.3333333333333333,\"#9c179e\"],[0.4444444444444444,\"#bd3786\"],[0.5555555555555556,\"#d8576b\"],[0.6666666666666666,\"#ed7953\"],[0.7777777777777778,\"#fb9f3a\"],[0.8888888888888888,\"#fdca26\"],[1.0,\"#f0f921\"]],\"type\":\"surface\"}],\"table\":[{\"cells\":{\"fill\":{\"color\":\"#EBF0F8\"},\"line\":{\"color\":\"white\"}},\"header\":{\"fill\":{\"color\":\"#C8D4E3\"},\"line\":{\"color\":\"white\"}},\"type\":\"table\"}]},\"layout\":{\"annotationdefaults\":{\"arrowcolor\":\"#2a3f5f\",\"arrowhead\":0,\"arrowwidth\":1},\"autotypenumbers\":\"strict\",\"coloraxis\":{\"colorbar\":{\"outlinewidth\":0,\"ticks\":\"\"}},\"colorscale\":{\"diverging\":[[0,\"#8e0152\"],[0.1,\"#c51b7d\"],[0.2,\"#de77ae\"],[0.3,\"#f1b6da\"],[0.4,\"#fde0ef\"],[0.5,\"#f7f7f7\"],[0.6,\"#e6f5d0\"],[0.7,\"#b8e186\"],[0.8,\"#7fbc41\"],[0.9,\"#4d9221\"],[1,\"#276419\"]],\"sequential\":[[0.0,\"#0d0887\"],[0.1111111111111111,\"#46039f\"],[0.2222222222222222,\"#7201a8\"],[0.3333333333333333,\"#9c179e\"],[0.4444444444444444,\"#bd3786\"],[0.5555555555555556,\"#d8576b\"],[0.6666666666666666,\"#ed7953\"],[0.7777777777777778,\"#fb9f3a\"],[0.8888888888888888,\"#fdca26\"],[1.0,\"#f0f921\"]],\"sequentialminus\":[[0.0,\"#0d0887\"],[0.1111111111111111,\"#46039f\"],[0.2222222222222222,\"#7201a8\"],[0.3333333333333333,\"#9c179e\"],[0.4444444444444444,\"#bd3786\"],[0.5555555555555556,\"#d8576b\"],[0.6666666666666666,\"#ed7953\"],[0.7777777777777778,\"#fb9f3a\"],[0.8888888888888888,\"#fdca26\"],[1.0,\"#f0f921\"]]},\"colorway\":[\"#636efa\",\"#EF553B\",\"#00cc96\",\"#ab63fa\",\"#FFA15A\",\"#19d3f3\",\"#FF6692\",\"#B6E880\",\"#FF97FF\",\"#FECB52\"],\"font\":{\"color\":\"#2a3f5f\"},\"geo\":{\"bgcolor\":\"white\",\"lakecolor\":\"white\",\"landcolor\":\"#E5ECF6\",\"showlakes\":true,\"showland\":true,\"subunitcolor\":\"white\"},\"hoverlabel\":{\"align\":\"left\"},\"hovermode\":\"closest\",\"mapbox\":{\"style\":\"light\"},\"paper_bgcolor\":\"white\",\"plot_bgcolor\":\"#E5ECF6\",\"polar\":{\"angularaxis\":{\"gridcolor\":\"white\",\"linecolor\":\"white\",\"ticks\":\"\"},\"bgcolor\":\"#E5ECF6\",\"radialaxis\":{\"gridcolor\":\"white\",\"linecolor\":\"white\",\"ticks\":\"\"}},\"scene\":{\"xaxis\":{\"backgroundcolor\":\"#E5ECF6\",\"gridcolor\":\"white\",\"gridwidth\":2,\"linecolor\":\"white\",\"showbackground\":true,\"ticks\":\"\",\"zerolinecolor\":\"white\"},\"yaxis\":{\"backgroundcolor\":\"#E5ECF6\",\"gridcolor\":\"white\",\"gridwidth\":2,\"linecolor\":\"white\",\"showbackground\":true,\"ticks\":\"\",\"zerolinecolor\":\"white\"},\"zaxis\":{\"backgroundcolor\":\"#E5ECF6\",\"gridcolor\":\"white\",\"gridwidth\":2,\"linecolor\":\"white\",\"showbackground\":true,\"ticks\":\"\",\"zerolinecolor\":\"white\"}},\"shapedefaults\":{\"line\":{\"color\":\"#2a3f5f\"}},\"ternary\":{\"aaxis\":{\"gridcolor\":\"white\",\"linecolor\":\"white\",\"ticks\":\"\"},\"baxis\":{\"gridcolor\":\"white\",\"linecolor\":\"white\",\"ticks\":\"\"},\"bgcolor\":\"#E5ECF6\",\"caxis\":{\"gridcolor\":\"white\",\"linecolor\":\"white\",\"ticks\":\"\"}},\"title\":{\"x\":0.05},\"xaxis\":{\"automargin\":true,\"gridcolor\":\"white\",\"linecolor\":\"white\",\"ticks\":\"\",\"title\":{\"standoff\":15},\"zerolinecolor\":\"white\",\"zerolinewidth\":2},\"yaxis\":{\"automargin\":true,\"gridcolor\":\"white\",\"linecolor\":\"white\",\"ticks\":\"\",\"title\":{\"standoff\":15},\"zerolinecolor\":\"white\",\"zerolinewidth\":2}}},\"title\":{\"text\":\"Historical Bitcoin Volume\"},\"xaxis\":{\"rangeselector\":{\"buttons\":[{\"count\":1,\"label\":\"1m\",\"step\":\"month\",\"stepmode\":\"backward\"},{\"count\":6,\"label\":\"6m\",\"step\":\"month\",\"stepmode\":\"backward\"},{\"count\":12,\"label\":\"1y\",\"step\":\"month\",\"stepmode\":\"backward\"},{\"count\":36,\"label\":\"3y\",\"step\":\"month\",\"stepmode\":\"backward\"},{\"step\":\"all\"}]},\"rangeslider\":{\"visible\":true},\"type\":\"date\"}},                        {\"responsive\": true}                    ).then(function(){\n",
       "                            \n",
       "var gd = document.getElementById('e0ea5181-1e1d-4663-87a5-4c9b2caeef32');\n",
       "var x = new MutationObserver(function (mutations, observer) {{\n",
       "        var display = window.getComputedStyle(gd).display;\n",
       "        if (!display || display === 'none') {{\n",
       "            console.log([gd, 'removed!']);\n",
       "            Plotly.purge(gd);\n",
       "            observer.disconnect();\n",
       "        }}\n",
       "}});\n",
       "\n",
       "// Listen for the removal of the full notebook cells\n",
       "var notebookContainer = gd.closest('#notebook-container');\n",
       "if (notebookContainer) {{\n",
       "    x.observe(notebookContainer, {childList: true});\n",
       "}}\n",
       "\n",
       "// Listen for the clearing of the current output cell\n",
       "var outputEl = gd.closest('.output');\n",
       "if (outputEl) {{\n",
       "    x.observe(outputEl, {childList: true});\n",
       "}}\n",
       "\n",
       "                        })                };                });            </script>        </div>"
      ]
     },
     "metadata": {},
     "output_type": "display_data"
    }
   ],
   "source": [
    "# Time for adventures in plotting\n",
    "trace1 = go.Scatter(\n",
    "    x = weekly_rows['Timestamp'],\n",
    "    y = weekly_rows['Volume_(Currency)'].astype(float),\n",
    "    mode = 'lines',\n",
    "    name = 'Bitcoin Price (Open)')\n",
    "\n",
    "layout = dict(\n",
    "    title='Historical Bitcoin Volume',\n",
    "    xaxis=dict(\n",
    "        rangeselector=dict(\n",
    "            buttons=list([\n",
    "                dict(count=1,\n",
    "                    label='1m',\n",
    "                    step='month',\n",
    "                    stepmode='backward'),\n",
    "                dict(count=6,\n",
    "                    label='6m',\n",
    "                    step='month',\n",
    "                    stepmode='backward'),\n",
    "                dict(count=12,\n",
    "                    label='1y',\n",
    "                    step='month',\n",
    "                    stepmode='backward'),\n",
    "                dict(count=36,\n",
    "                    label='3y',\n",
    "                    step='month',\n",
    "                    stepmode='backward'),\n",
    "                dict(step='all')\n",
    "            ])\n",
    "        ),\n",
    "        rangeslider=dict(\n",
    "            visible = True\n",
    "        ),\n",
    "        type='date'\n",
    "    )\n",
    ")\n",
    "\n",
    "data = [trace1]\n",
    "fig = dict(data=data, layout=layout)\n",
    "iplot(fig, filename = 'Time Series w/ Rangeslider')"
   ]
  },
  {
   "cell_type": "code",
   "execution_count": 9,
   "id": "49fa80b3",
   "metadata": {},
   "outputs": [
    {
     "data": {
      "application/vnd.plotly.v1+json": {
       "config": {
        "linkText": "Export to plot.ly",
        "plotlyServerURL": "https://plot.ly",
        "showLink": false
       },
       "data": [
        {
         "marker": {
          "color": "#FFBAD2",
          "line": {
           "width": 1
          }
         },
         "mode": "markers",
         "type": "scattergl",
         "x": [
          360,
          0,
          0,
          259.99,
          239.4765994,
          0,
          236.09,
          239.41499551,
          276.5949682,
          296.36380444,
          292.6944,
          267.2761274,
          248.334975,
          255.14651056,
          223.86,
          0,
          225.69,
          236.35364507,
          0,
          234.25,
          0,
          222.35070163,
          228.66307178,
          236.98437711,
          247.8,
          262.57162954,
          270.50152048,
          291.56356408,
          280.98066596,
          296.99704574,
          283.69242582,
          267.20328147,
          255.52484817,
          208.4471394,
          229.05,
          242.67062584,
          231.91995275,
          227.18,
          240.54,
          241.45,
          245.67006831,
          264.66,
          288.74324197,
          373.35522478,
          379.54796389,
          0,
          321.75,
          377.99309598,
          392.84596313,
          454.94958974,
          436.70362529,
          422.23838521,
          433.8999913,
          447.32537367,
          383.75528169,
          392.85,
          373.56391748,
          371.45323447,
          0,
          438.66088968,
          435.19,
          414.71,
          416.14539684,
          416.00855325,
          423.12005598,
          423.12625388,
          428.19281837,
          0,
          467.76,
          0,
          462.9872374,
          457,
          447.40317624,
          533.7188355,
          587.87380134,
          691.18036768,
          699.98037582,
          653.31463706,
          678.31176168,
          650.57395535,
          674.80049642,
          658.31205628,
          597.98493403,
          588.73,
          568.27021107,
          585.80757632,
          572.98765712,
          606.81801046,
          608.53,
          609.24923919,
          605.55,
          610.55026492,
          630.27997099,
          639.12294523,
          655.29487204,
          709.51397373,
          707.38758259,
          710.52,
          736.42,
          731.12959819,
          755.58107914,
          778.7769061,
          789.08350815,
          898.46282498,
          1018.7665474,
          901.69788132,
          865,
          916.57903167,
          924.99,
          1039.3193364,
          1005.6678522,
          1090.239916,
          1199.16,
          1279.1016115,
          1241.58,
          1080.3353558,
          1037.76,
          1153.0543442,
          1203.1077432,
          1199.8089268,
          1268.3494018,
          1452.8963129,
          1700.1573728,
          1721.9112176,
          2191.2695616,
          2313.9932035,
          2849.5367894,
          2679.5435704,
          2592.2045594,
          2433.1606191,
          2620.0359923,
          2326.7885557,
          2181.7188816,
          2760.6468294,
          2882.3237677,
          3466.4331907,
          4369.3043842,
          3661.6562922,
          4389.4705239,
          4342.6043484,
          4286.040138,
          3901.863865,
          3913.01,
          4412.4342673,
          4798.4912928,
          5670.7320568,
          5654.3706828,
          6148.5862557,
          7130.4065202,
          6560,
          8080.4339556,
          9879.8013431,
          11603.419506,
          0,
          18904.968221,
          15364.84201,
          13194.008304,
          15059.470355,
          13162.046084,
          10399.981477,
          10940.01,
          6358.3928744,
          8613.9980579,
          11439.94025,
          10305.58639,
          11298.050543,
          9381.3297686,
          8457.991732,
          7769.9993519,
          7369.9944892,
          6760.2464326,
          8009.9986896,
          9255.6849757,
          8977.2000155,
          9405.6684748,
          8692.0017002,
          8288.0043008,
          7119.9993205,
          7386.8677563,
          6834.1175548,
          6708.0085112,
          6246.7625301,
          6646.666112,
          6641.3320154,
          6703.4306507,
          7850.9851574,
          8113.6683225,
          6954.828856,
          6011.5212159,
          6300.5413321,
          6898.0793046,
          7252.8972866,
          6320.8828458,
          6260.5058052,
          6454.8115506,
          6574.976449,
          6605.9664809,
          6427.9975358,
          6404.912961,
          6288.9995898,
          6397.0389815
         ],
         "y": [
          0.01,
          0,
          0,
          0.3,
          20.675,
          0,
          0.14,
          10.98,
          0.52332827,
          11.46,
          0.5,
          0.79,
          0.8,
          8.4394,
          0.1897,
          0,
          0.0217,
          0.0998752,
          0,
          0.0844,
          0,
          4.8083,
          0.9137,
          0.4439,
          2.3958,
          25.1397,
          0.421577,
          14.9483,
          2.12774608,
          22.3394,
          5.5099,
          5.784,
          1.7689,
          1.1162,
          0.24581093,
          23.1687,
          4.2326,
          2.7166,
          0.01114159,
          0.895,
          7.8616,
          0.02,
          1.9453,
          16.02977109,
          0.57904445,
          0,
          0.4264,
          13.8402,
          2.17644319,
          1.599,
          0.81,
          6.99521167,
          0.2298,
          0.1686,
          1.42,
          0.15317,
          9.55761,
          4.37333,
          0,
          2.69758,
          1.60419,
          0.36464,
          2.47352,
          0.23266,
          5.35926,
          10.65137,
          0.89559,
          0,
          0.21618,
          0,
          2.22233,
          1.94453,
          1.54941,
          0.95011,
          0.98267,
          3.8250708,
          3.832801,
          4.30635,
          0.60692,
          3.03469,
          2.82163599,
          0.72986,
          5.31461,
          0.56955,
          5.77737,
          0.52738,
          5.37942,
          0.75681,
          0.17299935,
          0.75146,
          0.11691,
          2.17022,
          4.25898,
          0.31091,
          5.77453629,
          7.21238119,
          1.46150297,
          0.83117,
          0.06928,
          10,
          1.05216318,
          0.98862318,
          2.12522,
          1.41596,
          0.3910611,
          11.97291421,
          1.65,
          0.2747,
          1.4895,
          0.535,
          0.27464643,
          2.26917033,
          0.17362255,
          1.72399,
          10.215,
          1.8484,
          0.0384,
          0.6252,
          0.8472,
          12.63627555,
          16.92613505,
          3.27757406,
          6.43502019,
          8.0892706,
          3.61236754,
          6.18718586,
          9.2217355,
          2.76502828,
          3.42333585,
          0.8662,
          2.80221911,
          1.1812,
          14.4930614,
          4.584,
          3.16550363,
          6.01867755,
          3.28249353,
          60.89154529,
          5.54076284,
          3.54803557,
          16.9472307,
          19.95183677,
          0.52572368,
          0.05669224,
          0.68774434,
          3.02485828,
          19.96244093,
          1.32258006,
          5.65528164,
          3.22627649,
          16.80374948,
          79.50821975,
          0.92366407,
          0,
          14.13097909,
          5.42039359,
          4.05592708,
          4.01291029,
          11.57800478,
          7.8803967,
          1.98745533,
          164.86946783,
          8.31118678,
          3.57113401,
          1.03586234,
          8.24171809,
          0.80798636,
          3.62123578,
          4.02245628,
          14.28636963,
          0.93313435,
          3.43087123,
          13.12789702,
          6.48401547,
          6.94538132,
          0.9114978,
          1.80360115,
          3.0642,
          4.97880052,
          4.22629419,
          0.66970493,
          0.52572273,
          2.73280078,
          0.39321857,
          27.05271226,
          6.9161441,
          0.37792324,
          5.61019052,
          6.76139343,
          17.10163837,
          1.48514845,
          0.72435509,
          10.97488751,
          0.43927757,
          0.90203892,
          1.61308108,
          0.82796608,
          1.03334272,
          3.74441877,
          1.07003456,
          1.65973158
         ]
        }
       ],
       "layout": {
        "template": {
         "data": {
          "bar": [
           {
            "error_x": {
             "color": "#2a3f5f"
            },
            "error_y": {
             "color": "#2a3f5f"
            },
            "marker": {
             "line": {
              "color": "#E5ECF6",
              "width": 0.5
             },
             "pattern": {
              "fillmode": "overlay",
              "size": 10,
              "solidity": 0.2
             }
            },
            "type": "bar"
           }
          ],
          "barpolar": [
           {
            "marker": {
             "line": {
              "color": "#E5ECF6",
              "width": 0.5
             },
             "pattern": {
              "fillmode": "overlay",
              "size": 10,
              "solidity": 0.2
             }
            },
            "type": "barpolar"
           }
          ],
          "carpet": [
           {
            "aaxis": {
             "endlinecolor": "#2a3f5f",
             "gridcolor": "white",
             "linecolor": "white",
             "minorgridcolor": "white",
             "startlinecolor": "#2a3f5f"
            },
            "baxis": {
             "endlinecolor": "#2a3f5f",
             "gridcolor": "white",
             "linecolor": "white",
             "minorgridcolor": "white",
             "startlinecolor": "#2a3f5f"
            },
            "type": "carpet"
           }
          ],
          "choropleth": [
           {
            "colorbar": {
             "outlinewidth": 0,
             "ticks": ""
            },
            "type": "choropleth"
           }
          ],
          "contour": [
           {
            "colorbar": {
             "outlinewidth": 0,
             "ticks": ""
            },
            "colorscale": [
             [
              0,
              "#0d0887"
             ],
             [
              0.1111111111111111,
              "#46039f"
             ],
             [
              0.2222222222222222,
              "#7201a8"
             ],
             [
              0.3333333333333333,
              "#9c179e"
             ],
             [
              0.4444444444444444,
              "#bd3786"
             ],
             [
              0.5555555555555556,
              "#d8576b"
             ],
             [
              0.6666666666666666,
              "#ed7953"
             ],
             [
              0.7777777777777778,
              "#fb9f3a"
             ],
             [
              0.8888888888888888,
              "#fdca26"
             ],
             [
              1,
              "#f0f921"
             ]
            ],
            "type": "contour"
           }
          ],
          "contourcarpet": [
           {
            "colorbar": {
             "outlinewidth": 0,
             "ticks": ""
            },
            "type": "contourcarpet"
           }
          ],
          "heatmap": [
           {
            "colorbar": {
             "outlinewidth": 0,
             "ticks": ""
            },
            "colorscale": [
             [
              0,
              "#0d0887"
             ],
             [
              0.1111111111111111,
              "#46039f"
             ],
             [
              0.2222222222222222,
              "#7201a8"
             ],
             [
              0.3333333333333333,
              "#9c179e"
             ],
             [
              0.4444444444444444,
              "#bd3786"
             ],
             [
              0.5555555555555556,
              "#d8576b"
             ],
             [
              0.6666666666666666,
              "#ed7953"
             ],
             [
              0.7777777777777778,
              "#fb9f3a"
             ],
             [
              0.8888888888888888,
              "#fdca26"
             ],
             [
              1,
              "#f0f921"
             ]
            ],
            "type": "heatmap"
           }
          ],
          "heatmapgl": [
           {
            "colorbar": {
             "outlinewidth": 0,
             "ticks": ""
            },
            "colorscale": [
             [
              0,
              "#0d0887"
             ],
             [
              0.1111111111111111,
              "#46039f"
             ],
             [
              0.2222222222222222,
              "#7201a8"
             ],
             [
              0.3333333333333333,
              "#9c179e"
             ],
             [
              0.4444444444444444,
              "#bd3786"
             ],
             [
              0.5555555555555556,
              "#d8576b"
             ],
             [
              0.6666666666666666,
              "#ed7953"
             ],
             [
              0.7777777777777778,
              "#fb9f3a"
             ],
             [
              0.8888888888888888,
              "#fdca26"
             ],
             [
              1,
              "#f0f921"
             ]
            ],
            "type": "heatmapgl"
           }
          ],
          "histogram": [
           {
            "marker": {
             "pattern": {
              "fillmode": "overlay",
              "size": 10,
              "solidity": 0.2
             }
            },
            "type": "histogram"
           }
          ],
          "histogram2d": [
           {
            "colorbar": {
             "outlinewidth": 0,
             "ticks": ""
            },
            "colorscale": [
             [
              0,
              "#0d0887"
             ],
             [
              0.1111111111111111,
              "#46039f"
             ],
             [
              0.2222222222222222,
              "#7201a8"
             ],
             [
              0.3333333333333333,
              "#9c179e"
             ],
             [
              0.4444444444444444,
              "#bd3786"
             ],
             [
              0.5555555555555556,
              "#d8576b"
             ],
             [
              0.6666666666666666,
              "#ed7953"
             ],
             [
              0.7777777777777778,
              "#fb9f3a"
             ],
             [
              0.8888888888888888,
              "#fdca26"
             ],
             [
              1,
              "#f0f921"
             ]
            ],
            "type": "histogram2d"
           }
          ],
          "histogram2dcontour": [
           {
            "colorbar": {
             "outlinewidth": 0,
             "ticks": ""
            },
            "colorscale": [
             [
              0,
              "#0d0887"
             ],
             [
              0.1111111111111111,
              "#46039f"
             ],
             [
              0.2222222222222222,
              "#7201a8"
             ],
             [
              0.3333333333333333,
              "#9c179e"
             ],
             [
              0.4444444444444444,
              "#bd3786"
             ],
             [
              0.5555555555555556,
              "#d8576b"
             ],
             [
              0.6666666666666666,
              "#ed7953"
             ],
             [
              0.7777777777777778,
              "#fb9f3a"
             ],
             [
              0.8888888888888888,
              "#fdca26"
             ],
             [
              1,
              "#f0f921"
             ]
            ],
            "type": "histogram2dcontour"
           }
          ],
          "mesh3d": [
           {
            "colorbar": {
             "outlinewidth": 0,
             "ticks": ""
            },
            "type": "mesh3d"
           }
          ],
          "parcoords": [
           {
            "line": {
             "colorbar": {
              "outlinewidth": 0,
              "ticks": ""
             }
            },
            "type": "parcoords"
           }
          ],
          "pie": [
           {
            "automargin": true,
            "type": "pie"
           }
          ],
          "scatter": [
           {
            "fillpattern": {
             "fillmode": "overlay",
             "size": 10,
             "solidity": 0.2
            },
            "type": "scatter"
           }
          ],
          "scatter3d": [
           {
            "line": {
             "colorbar": {
              "outlinewidth": 0,
              "ticks": ""
             }
            },
            "marker": {
             "colorbar": {
              "outlinewidth": 0,
              "ticks": ""
             }
            },
            "type": "scatter3d"
           }
          ],
          "scattercarpet": [
           {
            "marker": {
             "colorbar": {
              "outlinewidth": 0,
              "ticks": ""
             }
            },
            "type": "scattercarpet"
           }
          ],
          "scattergeo": [
           {
            "marker": {
             "colorbar": {
              "outlinewidth": 0,
              "ticks": ""
             }
            },
            "type": "scattergeo"
           }
          ],
          "scattergl": [
           {
            "marker": {
             "colorbar": {
              "outlinewidth": 0,
              "ticks": ""
             }
            },
            "type": "scattergl"
           }
          ],
          "scattermapbox": [
           {
            "marker": {
             "colorbar": {
              "outlinewidth": 0,
              "ticks": ""
             }
            },
            "type": "scattermapbox"
           }
          ],
          "scatterpolar": [
           {
            "marker": {
             "colorbar": {
              "outlinewidth": 0,
              "ticks": ""
             }
            },
            "type": "scatterpolar"
           }
          ],
          "scatterpolargl": [
           {
            "marker": {
             "colorbar": {
              "outlinewidth": 0,
              "ticks": ""
             }
            },
            "type": "scatterpolargl"
           }
          ],
          "scatterternary": [
           {
            "marker": {
             "colorbar": {
              "outlinewidth": 0,
              "ticks": ""
             }
            },
            "type": "scatterternary"
           }
          ],
          "surface": [
           {
            "colorbar": {
             "outlinewidth": 0,
             "ticks": ""
            },
            "colorscale": [
             [
              0,
              "#0d0887"
             ],
             [
              0.1111111111111111,
              "#46039f"
             ],
             [
              0.2222222222222222,
              "#7201a8"
             ],
             [
              0.3333333333333333,
              "#9c179e"
             ],
             [
              0.4444444444444444,
              "#bd3786"
             ],
             [
              0.5555555555555556,
              "#d8576b"
             ],
             [
              0.6666666666666666,
              "#ed7953"
             ],
             [
              0.7777777777777778,
              "#fb9f3a"
             ],
             [
              0.8888888888888888,
              "#fdca26"
             ],
             [
              1,
              "#f0f921"
             ]
            ],
            "type": "surface"
           }
          ],
          "table": [
           {
            "cells": {
             "fill": {
              "color": "#EBF0F8"
             },
             "line": {
              "color": "white"
             }
            },
            "header": {
             "fill": {
              "color": "#C8D4E3"
             },
             "line": {
              "color": "white"
             }
            },
            "type": "table"
           }
          ]
         },
         "layout": {
          "annotationdefaults": {
           "arrowcolor": "#2a3f5f",
           "arrowhead": 0,
           "arrowwidth": 1
          },
          "autotypenumbers": "strict",
          "coloraxis": {
           "colorbar": {
            "outlinewidth": 0,
            "ticks": ""
           }
          },
          "colorscale": {
           "diverging": [
            [
             0,
             "#8e0152"
            ],
            [
             0.1,
             "#c51b7d"
            ],
            [
             0.2,
             "#de77ae"
            ],
            [
             0.3,
             "#f1b6da"
            ],
            [
             0.4,
             "#fde0ef"
            ],
            [
             0.5,
             "#f7f7f7"
            ],
            [
             0.6,
             "#e6f5d0"
            ],
            [
             0.7,
             "#b8e186"
            ],
            [
             0.8,
             "#7fbc41"
            ],
            [
             0.9,
             "#4d9221"
            ],
            [
             1,
             "#276419"
            ]
           ],
           "sequential": [
            [
             0,
             "#0d0887"
            ],
            [
             0.1111111111111111,
             "#46039f"
            ],
            [
             0.2222222222222222,
             "#7201a8"
            ],
            [
             0.3333333333333333,
             "#9c179e"
            ],
            [
             0.4444444444444444,
             "#bd3786"
            ],
            [
             0.5555555555555556,
             "#d8576b"
            ],
            [
             0.6666666666666666,
             "#ed7953"
            ],
            [
             0.7777777777777778,
             "#fb9f3a"
            ],
            [
             0.8888888888888888,
             "#fdca26"
            ],
            [
             1,
             "#f0f921"
            ]
           ],
           "sequentialminus": [
            [
             0,
             "#0d0887"
            ],
            [
             0.1111111111111111,
             "#46039f"
            ],
            [
             0.2222222222222222,
             "#7201a8"
            ],
            [
             0.3333333333333333,
             "#9c179e"
            ],
            [
             0.4444444444444444,
             "#bd3786"
            ],
            [
             0.5555555555555556,
             "#d8576b"
            ],
            [
             0.6666666666666666,
             "#ed7953"
            ],
            [
             0.7777777777777778,
             "#fb9f3a"
            ],
            [
             0.8888888888888888,
             "#fdca26"
            ],
            [
             1,
             "#f0f921"
            ]
           ]
          },
          "colorway": [
           "#636efa",
           "#EF553B",
           "#00cc96",
           "#ab63fa",
           "#FFA15A",
           "#19d3f3",
           "#FF6692",
           "#B6E880",
           "#FF97FF",
           "#FECB52"
          ],
          "font": {
           "color": "#2a3f5f"
          },
          "geo": {
           "bgcolor": "white",
           "lakecolor": "white",
           "landcolor": "#E5ECF6",
           "showlakes": true,
           "showland": true,
           "subunitcolor": "white"
          },
          "hoverlabel": {
           "align": "left"
          },
          "hovermode": "closest",
          "mapbox": {
           "style": "light"
          },
          "paper_bgcolor": "white",
          "plot_bgcolor": "#E5ECF6",
          "polar": {
           "angularaxis": {
            "gridcolor": "white",
            "linecolor": "white",
            "ticks": ""
           },
           "bgcolor": "#E5ECF6",
           "radialaxis": {
            "gridcolor": "white",
            "linecolor": "white",
            "ticks": ""
           }
          },
          "scene": {
           "xaxis": {
            "backgroundcolor": "#E5ECF6",
            "gridcolor": "white",
            "gridwidth": 2,
            "linecolor": "white",
            "showbackground": true,
            "ticks": "",
            "zerolinecolor": "white"
           },
           "yaxis": {
            "backgroundcolor": "#E5ECF6",
            "gridcolor": "white",
            "gridwidth": 2,
            "linecolor": "white",
            "showbackground": true,
            "ticks": "",
            "zerolinecolor": "white"
           },
           "zaxis": {
            "backgroundcolor": "#E5ECF6",
            "gridcolor": "white",
            "gridwidth": 2,
            "linecolor": "white",
            "showbackground": true,
            "ticks": "",
            "zerolinecolor": "white"
           }
          },
          "shapedefaults": {
           "line": {
            "color": "#2a3f5f"
           }
          },
          "ternary": {
           "aaxis": {
            "gridcolor": "white",
            "linecolor": "white",
            "ticks": ""
           },
           "baxis": {
            "gridcolor": "white",
            "linecolor": "white",
            "ticks": ""
           },
           "bgcolor": "#E5ECF6",
           "caxis": {
            "gridcolor": "white",
            "linecolor": "white",
            "ticks": ""
           }
          },
          "title": {
           "x": 0.05
          },
          "xaxis": {
           "automargin": true,
           "gridcolor": "white",
           "linecolor": "white",
           "ticks": "",
           "title": {
            "standoff": 15
           },
           "zerolinecolor": "white",
           "zerolinewidth": 2
          },
          "yaxis": {
           "automargin": true,
           "gridcolor": "white",
           "linecolor": "white",
           "ticks": "",
           "title": {
            "standoff": 15
           },
           "zerolinecolor": "white",
           "zerolinewidth": 2
          }
         }
        },
        "title": {
         "text": "BTC Volume v/s USD"
        },
        "xaxis": {
         "title": {
          "font": {
           "color": "#7f7f7f",
           "family": "Courier New, monospace",
           "size": 18
          },
          "text": "Weighted Price"
         }
        },
        "yaxis": {
         "title": {
          "font": {
           "color": "#7f7f7f",
           "family": "Courier New, monospace",
           "size": 18
          },
          "text": "Volume BTC"
         }
        }
       }
      },
      "text/html": [
       "<div>                            <div id=\"975b16ba-7c46-4256-82ab-bfc7185f84da\" class=\"plotly-graph-div\" style=\"height:525px; width:100%;\"></div>            <script type=\"text/javascript\">                require([\"plotly\"], function(Plotly) {                    window.PLOTLYENV=window.PLOTLYENV || {};                                    if (document.getElementById(\"975b16ba-7c46-4256-82ab-bfc7185f84da\")) {                    Plotly.newPlot(                        \"975b16ba-7c46-4256-82ab-bfc7185f84da\",                        [{\"marker\":{\"color\":\"#FFBAD2\",\"line\":{\"width\":1}},\"mode\":\"markers\",\"x\":[360.0,0.0,0.0,259.99,239.4765994,0.0,236.09,239.41499551,276.5949682,296.36380444,292.6944,267.2761274,248.334975,255.14651056,223.86,0.0,225.69,236.35364507,0.0,234.25,0.0,222.35070163,228.66307178,236.98437711,247.8,262.57162954,270.50152048,291.56356408,280.98066596,296.99704574,283.69242582,267.20328147,255.52484817,208.4471394,229.05,242.67062584,231.91995275,227.18,240.54,241.45,245.67006831,264.66,288.74324197,373.35522478,379.54796389,0.0,321.75,377.99309598,392.84596313,454.94958974,436.70362529,422.23838521,433.8999913,447.32537367,383.75528169,392.85,373.56391748,371.45323447,0.0,438.66088968,435.19,414.71,416.14539684,416.00855325,423.12005598,423.12625388,428.19281837,0.0,467.76,0.0,462.9872374,457.0,447.40317624,533.7188355,587.87380134,691.18036768,699.98037582,653.31463706,678.31176168,650.57395535,674.80049642,658.31205628,597.98493403,588.73,568.27021107,585.80757632,572.98765712,606.81801046,608.53,609.24923919,605.55,610.55026492,630.27997099,639.12294523,655.29487204,709.51397373,707.38758259,710.52,736.42,731.12959819,755.58107914,778.7769061,789.08350815,898.46282498,1018.7665474,901.69788132,865.0,916.57903167,924.99,1039.3193364,1005.6678522,1090.239916,1199.16,1279.1016115,1241.58,1080.3353558,1037.76,1153.0543442,1203.1077432,1199.8089268,1268.3494018,1452.8963129,1700.1573728,1721.9112176,2191.2695616,2313.9932035,2849.5367894,2679.5435704,2592.2045594,2433.1606191,2620.0359923,2326.7885557,2181.7188816,2760.6468294,2882.3237677,3466.4331907,4369.3043842,3661.6562922,4389.4705239,4342.6043484,4286.040138,3901.863865,3913.01,4412.4342673,4798.4912928,5670.7320568,5654.3706828,6148.5862557,7130.4065202,6560.0,8080.4339556,9879.8013431,11603.419506,0.0,18904.968221,15364.84201,13194.008304,15059.470355,13162.046084,10399.981477,10940.01,6358.3928744,8613.9980579,11439.94025,10305.58639,11298.050543,9381.3297686,8457.991732,7769.9993519,7369.9944892,6760.2464326,8009.9986896,9255.6849757,8977.2000155,9405.6684748,8692.0017002,8288.0043008,7119.9993205,7386.8677563,6834.1175548,6708.0085112,6246.7625301,6646.666112,6641.3320154,6703.4306507,7850.9851574,8113.6683225,6954.828856,6011.5212159,6300.5413321,6898.0793046,7252.8972866,6320.8828458,6260.5058052,6454.8115506,6574.976449,6605.9664809,6427.9975358,6404.912961,6288.9995898,6397.0389815],\"y\":[0.01,0.0,0.0,0.3,20.675,0.0,0.14,10.98,0.52332827,11.46,0.5,0.79,0.8,8.4394,0.1897,0.0,0.0217,0.0998752,0.0,0.0844,0.0,4.8083,0.9137,0.4439,2.3958,25.1397,0.421577,14.9483,2.12774608,22.3394,5.5099,5.784,1.7689,1.1162,0.24581093,23.1687,4.2326,2.7166,0.01114159,0.895,7.8616,0.02,1.9453,16.02977109,0.57904445,0.0,0.4264,13.8402,2.17644319,1.599,0.81,6.99521167,0.2298,0.1686,1.42,0.15317,9.55761,4.37333,0.0,2.69758,1.60419,0.36464,2.47352,0.23266,5.35926,10.65137,0.89559,0.0,0.21618,0.0,2.22233,1.94453,1.54941,0.95011,0.98267,3.8250708,3.832801,4.30635,0.60692,3.03469,2.82163599,0.72986,5.31461,0.56955,5.77737,0.52738,5.37942,0.75681,0.17299935,0.75146,0.11691,2.17022,4.25898,0.31091,5.77453629,7.21238119,1.46150297,0.83117,0.06928,10.0,1.05216318,0.98862318,2.12522,1.41596,0.3910611,11.97291421,1.65,0.2747,1.4895,0.535,0.27464643,2.26917033,0.17362255,1.72399,10.215,1.8484,0.0384,0.6252,0.8472,12.63627555,16.92613505,3.27757406,6.43502019,8.0892706,3.61236754,6.18718586,9.2217355,2.76502828,3.42333585,0.8662,2.80221911,1.1812,14.4930614,4.584,3.16550363,6.01867755,3.28249353,60.89154529,5.54076284,3.54803557,16.9472307,19.95183677,0.52572368,0.05669224,0.68774434,3.02485828,19.96244093,1.32258006,5.65528164,3.22627649,16.80374948,79.50821975,0.92366407,0.0,14.13097909,5.42039359,4.05592708,4.01291029,11.57800478,7.8803967,1.98745533,164.86946783,8.31118678,3.57113401,1.03586234,8.24171809,0.80798636,3.62123578,4.02245628,14.28636963,0.93313435,3.43087123,13.12789702,6.48401547,6.94538132,0.9114978,1.80360115,3.0642,4.97880052,4.22629419,0.66970493,0.52572273,2.73280078,0.39321857,27.05271226,6.9161441,0.37792324,5.61019052,6.76139343,17.10163837,1.48514845,0.72435509,10.97488751,0.43927757,0.90203892,1.61308108,0.82796608,1.03334272,3.74441877,1.07003456,1.65973158],\"type\":\"scattergl\"}],                        {\"template\":{\"data\":{\"barpolar\":[{\"marker\":{\"line\":{\"color\":\"#E5ECF6\",\"width\":0.5},\"pattern\":{\"fillmode\":\"overlay\",\"size\":10,\"solidity\":0.2}},\"type\":\"barpolar\"}],\"bar\":[{\"error_x\":{\"color\":\"#2a3f5f\"},\"error_y\":{\"color\":\"#2a3f5f\"},\"marker\":{\"line\":{\"color\":\"#E5ECF6\",\"width\":0.5},\"pattern\":{\"fillmode\":\"overlay\",\"size\":10,\"solidity\":0.2}},\"type\":\"bar\"}],\"carpet\":[{\"aaxis\":{\"endlinecolor\":\"#2a3f5f\",\"gridcolor\":\"white\",\"linecolor\":\"white\",\"minorgridcolor\":\"white\",\"startlinecolor\":\"#2a3f5f\"},\"baxis\":{\"endlinecolor\":\"#2a3f5f\",\"gridcolor\":\"white\",\"linecolor\":\"white\",\"minorgridcolor\":\"white\",\"startlinecolor\":\"#2a3f5f\"},\"type\":\"carpet\"}],\"choropleth\":[{\"colorbar\":{\"outlinewidth\":0,\"ticks\":\"\"},\"type\":\"choropleth\"}],\"contourcarpet\":[{\"colorbar\":{\"outlinewidth\":0,\"ticks\":\"\"},\"type\":\"contourcarpet\"}],\"contour\":[{\"colorbar\":{\"outlinewidth\":0,\"ticks\":\"\"},\"colorscale\":[[0.0,\"#0d0887\"],[0.1111111111111111,\"#46039f\"],[0.2222222222222222,\"#7201a8\"],[0.3333333333333333,\"#9c179e\"],[0.4444444444444444,\"#bd3786\"],[0.5555555555555556,\"#d8576b\"],[0.6666666666666666,\"#ed7953\"],[0.7777777777777778,\"#fb9f3a\"],[0.8888888888888888,\"#fdca26\"],[1.0,\"#f0f921\"]],\"type\":\"contour\"}],\"heatmapgl\":[{\"colorbar\":{\"outlinewidth\":0,\"ticks\":\"\"},\"colorscale\":[[0.0,\"#0d0887\"],[0.1111111111111111,\"#46039f\"],[0.2222222222222222,\"#7201a8\"],[0.3333333333333333,\"#9c179e\"],[0.4444444444444444,\"#bd3786\"],[0.5555555555555556,\"#d8576b\"],[0.6666666666666666,\"#ed7953\"],[0.7777777777777778,\"#fb9f3a\"],[0.8888888888888888,\"#fdca26\"],[1.0,\"#f0f921\"]],\"type\":\"heatmapgl\"}],\"heatmap\":[{\"colorbar\":{\"outlinewidth\":0,\"ticks\":\"\"},\"colorscale\":[[0.0,\"#0d0887\"],[0.1111111111111111,\"#46039f\"],[0.2222222222222222,\"#7201a8\"],[0.3333333333333333,\"#9c179e\"],[0.4444444444444444,\"#bd3786\"],[0.5555555555555556,\"#d8576b\"],[0.6666666666666666,\"#ed7953\"],[0.7777777777777778,\"#fb9f3a\"],[0.8888888888888888,\"#fdca26\"],[1.0,\"#f0f921\"]],\"type\":\"heatmap\"}],\"histogram2dcontour\":[{\"colorbar\":{\"outlinewidth\":0,\"ticks\":\"\"},\"colorscale\":[[0.0,\"#0d0887\"],[0.1111111111111111,\"#46039f\"],[0.2222222222222222,\"#7201a8\"],[0.3333333333333333,\"#9c179e\"],[0.4444444444444444,\"#bd3786\"],[0.5555555555555556,\"#d8576b\"],[0.6666666666666666,\"#ed7953\"],[0.7777777777777778,\"#fb9f3a\"],[0.8888888888888888,\"#fdca26\"],[1.0,\"#f0f921\"]],\"type\":\"histogram2dcontour\"}],\"histogram2d\":[{\"colorbar\":{\"outlinewidth\":0,\"ticks\":\"\"},\"colorscale\":[[0.0,\"#0d0887\"],[0.1111111111111111,\"#46039f\"],[0.2222222222222222,\"#7201a8\"],[0.3333333333333333,\"#9c179e\"],[0.4444444444444444,\"#bd3786\"],[0.5555555555555556,\"#d8576b\"],[0.6666666666666666,\"#ed7953\"],[0.7777777777777778,\"#fb9f3a\"],[0.8888888888888888,\"#fdca26\"],[1.0,\"#f0f921\"]],\"type\":\"histogram2d\"}],\"histogram\":[{\"marker\":{\"pattern\":{\"fillmode\":\"overlay\",\"size\":10,\"solidity\":0.2}},\"type\":\"histogram\"}],\"mesh3d\":[{\"colorbar\":{\"outlinewidth\":0,\"ticks\":\"\"},\"type\":\"mesh3d\"}],\"parcoords\":[{\"line\":{\"colorbar\":{\"outlinewidth\":0,\"ticks\":\"\"}},\"type\":\"parcoords\"}],\"pie\":[{\"automargin\":true,\"type\":\"pie\"}],\"scatter3d\":[{\"line\":{\"colorbar\":{\"outlinewidth\":0,\"ticks\":\"\"}},\"marker\":{\"colorbar\":{\"outlinewidth\":0,\"ticks\":\"\"}},\"type\":\"scatter3d\"}],\"scattercarpet\":[{\"marker\":{\"colorbar\":{\"outlinewidth\":0,\"ticks\":\"\"}},\"type\":\"scattercarpet\"}],\"scattergeo\":[{\"marker\":{\"colorbar\":{\"outlinewidth\":0,\"ticks\":\"\"}},\"type\":\"scattergeo\"}],\"scattergl\":[{\"marker\":{\"colorbar\":{\"outlinewidth\":0,\"ticks\":\"\"}},\"type\":\"scattergl\"}],\"scattermapbox\":[{\"marker\":{\"colorbar\":{\"outlinewidth\":0,\"ticks\":\"\"}},\"type\":\"scattermapbox\"}],\"scatterpolargl\":[{\"marker\":{\"colorbar\":{\"outlinewidth\":0,\"ticks\":\"\"}},\"type\":\"scatterpolargl\"}],\"scatterpolar\":[{\"marker\":{\"colorbar\":{\"outlinewidth\":0,\"ticks\":\"\"}},\"type\":\"scatterpolar\"}],\"scatter\":[{\"fillpattern\":{\"fillmode\":\"overlay\",\"size\":10,\"solidity\":0.2},\"type\":\"scatter\"}],\"scatterternary\":[{\"marker\":{\"colorbar\":{\"outlinewidth\":0,\"ticks\":\"\"}},\"type\":\"scatterternary\"}],\"surface\":[{\"colorbar\":{\"outlinewidth\":0,\"ticks\":\"\"},\"colorscale\":[[0.0,\"#0d0887\"],[0.1111111111111111,\"#46039f\"],[0.2222222222222222,\"#7201a8\"],[0.3333333333333333,\"#9c179e\"],[0.4444444444444444,\"#bd3786\"],[0.5555555555555556,\"#d8576b\"],[0.6666666666666666,\"#ed7953\"],[0.7777777777777778,\"#fb9f3a\"],[0.8888888888888888,\"#fdca26\"],[1.0,\"#f0f921\"]],\"type\":\"surface\"}],\"table\":[{\"cells\":{\"fill\":{\"color\":\"#EBF0F8\"},\"line\":{\"color\":\"white\"}},\"header\":{\"fill\":{\"color\":\"#C8D4E3\"},\"line\":{\"color\":\"white\"}},\"type\":\"table\"}]},\"layout\":{\"annotationdefaults\":{\"arrowcolor\":\"#2a3f5f\",\"arrowhead\":0,\"arrowwidth\":1},\"autotypenumbers\":\"strict\",\"coloraxis\":{\"colorbar\":{\"outlinewidth\":0,\"ticks\":\"\"}},\"colorscale\":{\"diverging\":[[0,\"#8e0152\"],[0.1,\"#c51b7d\"],[0.2,\"#de77ae\"],[0.3,\"#f1b6da\"],[0.4,\"#fde0ef\"],[0.5,\"#f7f7f7\"],[0.6,\"#e6f5d0\"],[0.7,\"#b8e186\"],[0.8,\"#7fbc41\"],[0.9,\"#4d9221\"],[1,\"#276419\"]],\"sequential\":[[0.0,\"#0d0887\"],[0.1111111111111111,\"#46039f\"],[0.2222222222222222,\"#7201a8\"],[0.3333333333333333,\"#9c179e\"],[0.4444444444444444,\"#bd3786\"],[0.5555555555555556,\"#d8576b\"],[0.6666666666666666,\"#ed7953\"],[0.7777777777777778,\"#fb9f3a\"],[0.8888888888888888,\"#fdca26\"],[1.0,\"#f0f921\"]],\"sequentialminus\":[[0.0,\"#0d0887\"],[0.1111111111111111,\"#46039f\"],[0.2222222222222222,\"#7201a8\"],[0.3333333333333333,\"#9c179e\"],[0.4444444444444444,\"#bd3786\"],[0.5555555555555556,\"#d8576b\"],[0.6666666666666666,\"#ed7953\"],[0.7777777777777778,\"#fb9f3a\"],[0.8888888888888888,\"#fdca26\"],[1.0,\"#f0f921\"]]},\"colorway\":[\"#636efa\",\"#EF553B\",\"#00cc96\",\"#ab63fa\",\"#FFA15A\",\"#19d3f3\",\"#FF6692\",\"#B6E880\",\"#FF97FF\",\"#FECB52\"],\"font\":{\"color\":\"#2a3f5f\"},\"geo\":{\"bgcolor\":\"white\",\"lakecolor\":\"white\",\"landcolor\":\"#E5ECF6\",\"showlakes\":true,\"showland\":true,\"subunitcolor\":\"white\"},\"hoverlabel\":{\"align\":\"left\"},\"hovermode\":\"closest\",\"mapbox\":{\"style\":\"light\"},\"paper_bgcolor\":\"white\",\"plot_bgcolor\":\"#E5ECF6\",\"polar\":{\"angularaxis\":{\"gridcolor\":\"white\",\"linecolor\":\"white\",\"ticks\":\"\"},\"bgcolor\":\"#E5ECF6\",\"radialaxis\":{\"gridcolor\":\"white\",\"linecolor\":\"white\",\"ticks\":\"\"}},\"scene\":{\"xaxis\":{\"backgroundcolor\":\"#E5ECF6\",\"gridcolor\":\"white\",\"gridwidth\":2,\"linecolor\":\"white\",\"showbackground\":true,\"ticks\":\"\",\"zerolinecolor\":\"white\"},\"yaxis\":{\"backgroundcolor\":\"#E5ECF6\",\"gridcolor\":\"white\",\"gridwidth\":2,\"linecolor\":\"white\",\"showbackground\":true,\"ticks\":\"\",\"zerolinecolor\":\"white\"},\"zaxis\":{\"backgroundcolor\":\"#E5ECF6\",\"gridcolor\":\"white\",\"gridwidth\":2,\"linecolor\":\"white\",\"showbackground\":true,\"ticks\":\"\",\"zerolinecolor\":\"white\"}},\"shapedefaults\":{\"line\":{\"color\":\"#2a3f5f\"}},\"ternary\":{\"aaxis\":{\"gridcolor\":\"white\",\"linecolor\":\"white\",\"ticks\":\"\"},\"baxis\":{\"gridcolor\":\"white\",\"linecolor\":\"white\",\"ticks\":\"\"},\"bgcolor\":\"#E5ECF6\",\"caxis\":{\"gridcolor\":\"white\",\"linecolor\":\"white\",\"ticks\":\"\"}},\"title\":{\"x\":0.05},\"xaxis\":{\"automargin\":true,\"gridcolor\":\"white\",\"linecolor\":\"white\",\"ticks\":\"\",\"title\":{\"standoff\":15},\"zerolinecolor\":\"white\",\"zerolinewidth\":2},\"yaxis\":{\"automargin\":true,\"gridcolor\":\"white\",\"linecolor\":\"white\",\"ticks\":\"\",\"title\":{\"standoff\":15},\"zerolinecolor\":\"white\",\"zerolinewidth\":2}}},\"title\":{\"text\":\"BTC Volume v\\u002fs USD\"},\"xaxis\":{\"title\":{\"font\":{\"color\":\"#7f7f7f\",\"family\":\"Courier New, monospace\",\"size\":18},\"text\":\"Weighted Price\"}},\"yaxis\":{\"title\":{\"font\":{\"color\":\"#7f7f7f\",\"family\":\"Courier New, monospace\",\"size\":18},\"text\":\"Volume BTC\"}}},                        {\"responsive\": true}                    ).then(function(){\n",
       "                            \n",
       "var gd = document.getElementById('975b16ba-7c46-4256-82ab-bfc7185f84da');\n",
       "var x = new MutationObserver(function (mutations, observer) {{\n",
       "        var display = window.getComputedStyle(gd).display;\n",
       "        if (!display || display === 'none') {{\n",
       "            console.log([gd, 'removed!']);\n",
       "            Plotly.purge(gd);\n",
       "            observer.disconnect();\n",
       "        }}\n",
       "}});\n",
       "\n",
       "// Listen for the removal of the full notebook cells\n",
       "var notebookContainer = gd.closest('#notebook-container');\n",
       "if (notebookContainer) {{\n",
       "    x.observe(notebookContainer, {childList: true});\n",
       "}}\n",
       "\n",
       "// Listen for the clearing of the current output cell\n",
       "var outputEl = gd.closest('.output');\n",
       "if (outputEl) {{\n",
       "    x.observe(outputEl, {childList: true});\n",
       "}}\n",
       "\n",
       "                        })                };                });            </script>        </div>"
      ]
     },
     "metadata": {},
     "output_type": "display_data"
    }
   ],
   "source": [
    "trace = go.Scattergl(\n",
    "    y = weekly_rows['Volume_(BTC)'].astype(float),\n",
    "    x = weekly_rows['Weighted_Price'].astype(float),\n",
    "    mode = 'markers',\n",
    "    marker = dict(\n",
    "        color = '#FFBAD2',\n",
    "        line = dict(width = 1)\n",
    "    )\n",
    ")\n",
    "\n",
    "layout = go.Layout(\n",
    "    title='BTC Volume v/s USD',\n",
    "    xaxis=dict(\n",
    "        title='Weighted Price',\n",
    "        titlefont=dict(\n",
    "            family='Courier New, monospace',\n",
    "            size=18,\n",
    "            color='#7f7f7f'\n",
    "        )\n",
    "    ),\n",
    "    yaxis=dict(\n",
    "        title='Volume BTC',\n",
    "        titlefont=dict(\n",
    "            family='Courier New, monospace',\n",
    "            size=18,\n",
    "            color='#7f7f7f'\n",
    "        )))\n",
    "\n",
    "data = [trace]\n",
    "fig = go.Figure(data=data, layout=layout)\n",
    "iplot(fig, filename='compare_webgl')"
   ]
  },
  {
   "cell_type": "code",
   "execution_count": 10,
   "id": "a3ee6d62",
   "metadata": {},
   "outputs": [
    {
     "name": "stderr",
     "output_type": "stream",
     "text": [
      "/tmp/ipykernel_314989/3787833246.py:1: FutureWarning:\n",
      "\n",
      "The argument 'date_parser' is deprecated and will be removed in a future version. Please use 'date_format' instead, or read your data in as 'object' dtype and then call 'to_datetime'.\n",
      "\n",
      "/tmp/ipykernel_314989/3787833246.py:4: FutureWarning:\n",
      "\n",
      "'H' is deprecated and will be removed in a future version, please use 'h' instead.\n",
      "\n",
      "/tmp/ipykernel_314989/3787833246.py:7: FutureWarning:\n",
      "\n",
      "A value is trying to be set on a copy of a DataFrame or Series through chained assignment using an inplace method.\n",
      "The behavior will change in pandas 3.0. This inplace method will never work because the intermediate object on which we are setting values always behaves as a copy.\n",
      "\n",
      "For example, when doing 'df[col].method(value, inplace=True)', try using 'df.method({col: value}, inplace=True)' or df[col] = df[col].method(value) instead, to perform the operation inplace on the original object.\n",
      "\n",
      "\n",
      "\n",
      "/tmp/ipykernel_314989/3787833246.py:7: FutureWarning:\n",
      "\n",
      "Series.fillna with 'method' is deprecated and will raise in a future version. Use obj.ffill() or obj.bfill() instead.\n",
      "\n"
     ]
    }
   ],
   "source": [
    "data = pd.read_csv('./data/coinbaseUSD.csv', parse_dates=[0], date_parser=dateparse)\n",
    "data['Timestamp'] = data['Timestamp'].dt.tz_localize(None)\n",
    "\n",
    "data = data.groupby([pd.Grouper(key='Timestamp', freq='H')]).first().reset_index()\n",
    "data = data.set_index('Timestamp')\n",
    "data = data[['Weighted_Price']]\n",
    "data['Weighted_Price'].fillna(method='ffill', inplace=True)"
   ]
  },
  {
   "cell_type": "code",
   "execution_count": 11,
   "id": "0145f7b6",
   "metadata": {},
   "outputs": [],
   "source": [
    "# splitting data\n",
    "split_date = '25-Jun-2018'\n",
    "data_train = data.loc[data.index <= split_date].copy()\n",
    "data_test = data.loc[data.index > split_date].copy()"
   ]
  },
  {
   "cell_type": "code",
   "execution_count": 12,
   "id": "52b302bc",
   "metadata": {},
   "outputs": [],
   "source": [
    "# Preprocessing\n",
    "training_set = data_train.values\n",
    "training_set = np.reshape(training_set, (len(training_set), 1))\n",
    "from sklearn.preprocessing import MinMaxScaler\n",
    "# Ok so there's a lot of imports in random spots\n",
    "# We'll probably move some over to some different files\n",
    "\n",
    "sc = MinMaxScaler()\n",
    "training_set = sc.fit_transform(training_set)\n",
    "X_train = training_set[0:len(training_set)-1]\n",
    "y_train = training_set[1:len(training_set)]\n",
    "X_train = np.reshape(X_train, (len(X_train), 1, 1))"
   ]
  },
  {
   "cell_type": "code",
   "execution_count": 13,
   "id": "fe8cf854",
   "metadata": {},
   "outputs": [
    {
     "name": "stderr",
     "output_type": "stream",
     "text": [
      "/usr/local/lib/python3.10/dist-packages/keras/src/layers/rnn/rnn.py:204: UserWarning:\n",
      "\n",
      "Do not pass an `input_shape`/`input_dim` argument to a layer. When using Sequential models, prefer using an `Input(shape)` object as the first layer in the model instead.\n",
      "\n"
     ]
    },
    {
     "name": "stdout",
     "output_type": "stream",
     "text": [
      "Epoch 1/100\n",
      "625/625 - 6s - 9ms/step - loss: 0.0419\n",
      "Epoch 2/100\n",
      "625/625 - 2s - 4ms/step - loss: 0.0131\n",
      "Epoch 3/100\n",
      "625/625 - 2s - 4ms/step - loss: 0.0066\n",
      "Epoch 4/100\n",
      "625/625 - 2s - 3ms/step - loss: 0.0043\n",
      "Epoch 5/100\n",
      "625/625 - 3s - 5ms/step - loss: 0.0034\n",
      "Epoch 6/100\n",
      "625/625 - 2s - 3ms/step - loss: 0.0026\n",
      "Epoch 7/100\n",
      "625/625 - 2s - 3ms/step - loss: 0.0022\n",
      "Epoch 8/100\n",
      "625/625 - 2s - 3ms/step - loss: 0.0019\n",
      "Epoch 9/100\n",
      "625/625 - 2s - 3ms/step - loss: 0.0017\n",
      "Epoch 10/100\n",
      "625/625 - 2s - 3ms/step - loss: 0.0015\n",
      "Epoch 11/100\n",
      "625/625 - 2s - 3ms/step - loss: 0.0013\n",
      "Epoch 12/100\n",
      "625/625 - 2s - 4ms/step - loss: 0.0011\n",
      "Epoch 13/100\n",
      "625/625 - 2s - 3ms/step - loss: 0.0011\n",
      "Epoch 14/100\n",
      "625/625 - 2s - 3ms/step - loss: 9.6513e-04\n",
      "Epoch 15/100\n",
      "625/625 - 2s - 3ms/step - loss: 8.7722e-04\n",
      "Epoch 16/100\n",
      "625/625 - 2s - 3ms/step - loss: 8.0331e-04\n",
      "Epoch 17/100\n",
      "625/625 - 2s - 4ms/step - loss: 7.6075e-04\n",
      "Epoch 18/100\n",
      "625/625 - 2s - 3ms/step - loss: 6.7351e-04\n",
      "Epoch 19/100\n",
      "625/625 - 2s - 4ms/step - loss: 6.2557e-04\n",
      "Epoch 20/100\n",
      "625/625 - 2s - 3ms/step - loss: 5.9375e-04\n",
      "Epoch 21/100\n",
      "625/625 - 2s - 3ms/step - loss: 5.6036e-04\n",
      "Epoch 22/100\n",
      "625/625 - 2s - 3ms/step - loss: 5.3847e-04\n",
      "Epoch 23/100\n",
      "625/625 - 2s - 3ms/step - loss: 4.9619e-04\n",
      "Epoch 24/100\n",
      "625/625 - 2s - 3ms/step - loss: 4.8964e-04\n",
      "Epoch 25/100\n",
      "625/625 - 2s - 3ms/step - loss: 4.4467e-04\n",
      "Epoch 26/100\n",
      "625/625 - 2s - 3ms/step - loss: 4.3607e-04\n",
      "Epoch 27/100\n",
      "625/625 - 2s - 3ms/step - loss: 4.0723e-04\n",
      "Epoch 28/100\n",
      "625/625 - 2s - 3ms/step - loss: 3.9879e-04\n",
      "Epoch 29/100\n",
      "625/625 - 2s - 4ms/step - loss: 3.9420e-04\n",
      "Epoch 30/100\n",
      "625/625 - 2s - 2ms/step - loss: 3.7190e-04\n",
      "Epoch 31/100\n",
      "625/625 - 2s - 3ms/step - loss: 3.6241e-04\n",
      "Epoch 32/100\n",
      "625/625 - 2s - 3ms/step - loss: 3.6502e-04\n",
      "Epoch 33/100\n",
      "625/625 - 2s - 4ms/step - loss: 3.4308e-04\n",
      "Epoch 34/100\n",
      "625/625 - 2s - 3ms/step - loss: 3.4335e-04\n",
      "Epoch 35/100\n",
      "625/625 - 2s - 3ms/step - loss: 3.3100e-04\n",
      "Epoch 36/100\n",
      "625/625 - 2s - 3ms/step - loss: 3.2070e-04\n",
      "Epoch 37/100\n",
      "625/625 - 2s - 3ms/step - loss: 3.2697e-04\n",
      "Epoch 38/100\n",
      "625/625 - 2s - 3ms/step - loss: 3.1297e-04\n",
      "Epoch 39/100\n",
      "625/625 - 2s - 4ms/step - loss: 3.1541e-04\n",
      "Epoch 40/100\n",
      "625/625 - 2s - 3ms/step - loss: 3.0658e-04\n",
      "Epoch 41/100\n",
      "625/625 - 2s - 3ms/step - loss: 3.1368e-04\n",
      "Epoch 42/100\n",
      "625/625 - 2s - 3ms/step - loss: 2.9662e-04\n",
      "Epoch 43/100\n",
      "625/625 - 2s - 3ms/step - loss: 2.9650e-04\n",
      "Epoch 44/100\n",
      "625/625 - 2s - 3ms/step - loss: 2.9714e-04\n",
      "Epoch 45/100\n",
      "625/625 - 2s - 3ms/step - loss: 2.9387e-04\n",
      "Epoch 46/100\n",
      "625/625 - 2s - 3ms/step - loss: 2.9565e-04\n",
      "Epoch 47/100\n",
      "625/625 - 2s - 3ms/step - loss: 2.8955e-04\n",
      "Epoch 48/100\n",
      "625/625 - 2s - 3ms/step - loss: 2.8746e-04\n",
      "Epoch 49/100\n",
      "625/625 - 2s - 3ms/step - loss: 2.8574e-04\n",
      "Epoch 50/100\n",
      "625/625 - 2s - 3ms/step - loss: 2.9503e-04\n",
      "Epoch 51/100\n",
      "625/625 - 2s - 3ms/step - loss: 2.7801e-04\n",
      "Epoch 52/100\n",
      "625/625 - 2s - 3ms/step - loss: 2.8898e-04\n",
      "Epoch 53/100\n",
      "625/625 - 2s - 3ms/step - loss: 2.8103e-04\n",
      "Epoch 54/100\n",
      "625/625 - 2s - 3ms/step - loss: 2.7536e-04\n",
      "Epoch 55/100\n",
      "625/625 - 2s - 3ms/step - loss: 2.8017e-04\n",
      "Epoch 56/100\n",
      "625/625 - 2s - 3ms/step - loss: 2.8518e-04\n",
      "Epoch 57/100\n",
      "625/625 - 2s - 3ms/step - loss: 2.8069e-04\n",
      "Epoch 58/100\n",
      "625/625 - 2s - 3ms/step - loss: 2.7851e-04\n",
      "Epoch 59/100\n",
      "625/625 - 2s - 3ms/step - loss: 2.8115e-04\n",
      "Epoch 60/100\n",
      "625/625 - 2s - 3ms/step - loss: 2.7312e-04\n",
      "Epoch 61/100\n",
      "625/625 - 2s - 3ms/step - loss: 2.7296e-04\n",
      "Epoch 62/100\n",
      "625/625 - 3s - 4ms/step - loss: 2.7583e-04\n",
      "Epoch 63/100\n",
      "625/625 - 2s - 3ms/step - loss: 2.7086e-04\n",
      "Epoch 64/100\n",
      "625/625 - 2s - 3ms/step - loss: 2.5943e-04\n",
      "Epoch 65/100\n",
      "625/625 - 2s - 3ms/step - loss: 2.6916e-04\n",
      "Epoch 66/100\n",
      "625/625 - 2s - 3ms/step - loss: 2.6489e-04\n",
      "Epoch 67/100\n",
      "625/625 - 2s - 3ms/step - loss: 2.6592e-04\n",
      "Epoch 68/100\n",
      "625/625 - 2s - 4ms/step - loss: 2.7335e-04\n",
      "Epoch 69/100\n",
      "625/625 - 2s - 3ms/step - loss: 2.7067e-04\n",
      "Epoch 70/100\n",
      "625/625 - 2s - 3ms/step - loss: 2.6261e-04\n",
      "Epoch 71/100\n",
      "625/625 - 2s - 3ms/step - loss: 2.7345e-04\n",
      "Epoch 72/100\n",
      "625/625 - 2s - 3ms/step - loss: 2.6464e-04\n",
      "Epoch 73/100\n",
      "625/625 - 2s - 3ms/step - loss: 2.7558e-04\n",
      "Epoch 74/100\n",
      "625/625 - 2s - 3ms/step - loss: 2.5693e-04\n",
      "Epoch 75/100\n",
      "625/625 - 2s - 3ms/step - loss: 2.7119e-04\n",
      "Epoch 76/100\n",
      "625/625 - 2s - 3ms/step - loss: 2.6156e-04\n",
      "Epoch 77/100\n",
      "625/625 - 2s - 3ms/step - loss: 2.6899e-04\n",
      "Epoch 78/100\n",
      "625/625 - 2s - 3ms/step - loss: 2.7184e-04\n",
      "Epoch 79/100\n",
      "625/625 - 2s - 3ms/step - loss: 2.6013e-04\n",
      "Epoch 80/100\n",
      "625/625 - 2s - 3ms/step - loss: 2.7495e-04\n",
      "Epoch 81/100\n",
      "625/625 - 2s - 3ms/step - loss: 2.6869e-04\n",
      "Epoch 82/100\n",
      "625/625 - 2s - 3ms/step - loss: 2.6179e-04\n",
      "Epoch 83/100\n",
      "625/625 - 2s - 3ms/step - loss: 2.6248e-04\n",
      "Epoch 84/100\n",
      "625/625 - 2s - 3ms/step - loss: 2.5530e-04\n",
      "Epoch 85/100\n",
      "625/625 - 2s - 3ms/step - loss: 2.6573e-04\n",
      "Epoch 86/100\n",
      "625/625 - 2s - 3ms/step - loss: 2.6593e-04\n",
      "Epoch 87/100\n",
      "625/625 - 2s - 3ms/step - loss: 2.6533e-04\n",
      "Epoch 88/100\n",
      "625/625 - 2s - 3ms/step - loss: 2.5736e-04\n",
      "Epoch 89/100\n",
      "625/625 - 2s - 3ms/step - loss: 2.5871e-04\n",
      "Epoch 90/100\n",
      "625/625 - 2s - 4ms/step - loss: 2.6164e-04\n",
      "Epoch 91/100\n",
      "625/625 - 2s - 3ms/step - loss: 2.5895e-04\n",
      "Epoch 92/100\n",
      "625/625 - 2s - 3ms/step - loss: 2.5708e-04\n",
      "Epoch 93/100\n",
      "625/625 - 2s - 3ms/step - loss: 2.6726e-04\n",
      "Epoch 94/100\n",
      "625/625 - 2s - 3ms/step - loss: 2.6473e-04\n",
      "Epoch 95/100\n",
      "625/625 - 3s - 5ms/step - loss: 2.6057e-04\n",
      "Epoch 96/100\n",
      "625/625 - 2s - 3ms/step - loss: 2.5397e-04\n",
      "Epoch 97/100\n",
      "625/625 - 2s - 4ms/step - loss: 2.7286e-04\n",
      "Epoch 98/100\n",
      "625/625 - 2s - 2ms/step - loss: 2.6105e-04\n",
      "Epoch 99/100\n",
      "625/625 - 3s - 4ms/step - loss: 2.5287e-04\n",
      "Epoch 100/100\n",
      "625/625 - 2s - 2ms/step - loss: 2.6034e-04\n"
     ]
    },
    {
     "data": {
      "text/plain": [
       "<keras.src.callbacks.history.History at 0x7f672cee33a0>"
      ]
     },
     "execution_count": 13,
     "metadata": {},
     "output_type": "execute_result"
    }
   ],
   "source": [
    "# Time for Keras!!\n",
    "from keras.models import Sequential\n",
    "from keras.layers import Dense\n",
    "from keras.layers import LSTM\n",
    "from keras.layers import Dropout\n",
    "from keras.layers import Activation\n",
    "\n",
    "model = Sequential()\n",
    "\n",
    "model.add(LSTM(128, activation='sigmoid', input_shape=(1, 1)))\n",
    "model.add(Dropout(0.2))\n",
    "model.add(Dense(1))\n",
    "model.compile(loss='mean_squared_error', optimizer='adam')\n",
    "model.fit(X_train, y_train, epochs=100, batch_size=50, verbose=2)"
   ]
  },
  {
   "cell_type": "code",
   "execution_count": 14,
   "id": "97f8e826",
   "metadata": {},
   "outputs": [
    {
     "data": {
      "text/html": [
       "<pre style=\"white-space:pre;overflow-x:auto;line-height:normal;font-family:Menlo,'DejaVu Sans Mono',consolas,'Courier New',monospace\"><span style=\"font-weight: bold\">Model: \"sequential\"</span>\n",
       "</pre>\n"
      ],
      "text/plain": [
       "\u001b[1mModel: \"sequential\"\u001b[0m\n"
      ]
     },
     "metadata": {},
     "output_type": "display_data"
    },
    {
     "data": {
      "text/html": [
       "<pre style=\"white-space:pre;overflow-x:auto;line-height:normal;font-family:Menlo,'DejaVu Sans Mono',consolas,'Courier New',monospace\">┏━━━━━━━━━━━━━━━━━━━━━━━━━━━━━━━━━┳━━━━━━━━━━━━━━━━━━━━━━━━┳━━━━━━━━━━━━━━━┓\n",
       "┃<span style=\"font-weight: bold\"> Layer (type)                    </span>┃<span style=\"font-weight: bold\"> Output Shape           </span>┃<span style=\"font-weight: bold\">       Param # </span>┃\n",
       "┡━━━━━━━━━━━━━━━━━━━━━━━━━━━━━━━━━╇━━━━━━━━━━━━━━━━━━━━━━━━╇━━━━━━━━━━━━━━━┩\n",
       "│ lstm (<span style=\"color: #0087ff; text-decoration-color: #0087ff\">LSTM</span>)                     │ (<span style=\"color: #00d7ff; text-decoration-color: #00d7ff\">None</span>, <span style=\"color: #00af00; text-decoration-color: #00af00\">128</span>)            │        <span style=\"color: #00af00; text-decoration-color: #00af00\">66,560</span> │\n",
       "├─────────────────────────────────┼────────────────────────┼───────────────┤\n",
       "│ dropout (<span style=\"color: #0087ff; text-decoration-color: #0087ff\">Dropout</span>)               │ (<span style=\"color: #00d7ff; text-decoration-color: #00d7ff\">None</span>, <span style=\"color: #00af00; text-decoration-color: #00af00\">128</span>)            │             <span style=\"color: #00af00; text-decoration-color: #00af00\">0</span> │\n",
       "├─────────────────────────────────┼────────────────────────┼───────────────┤\n",
       "│ dense (<span style=\"color: #0087ff; text-decoration-color: #0087ff\">Dense</span>)                   │ (<span style=\"color: #00d7ff; text-decoration-color: #00d7ff\">None</span>, <span style=\"color: #00af00; text-decoration-color: #00af00\">1</span>)              │           <span style=\"color: #00af00; text-decoration-color: #00af00\">129</span> │\n",
       "└─────────────────────────────────┴────────────────────────┴───────────────┘\n",
       "</pre>\n"
      ],
      "text/plain": [
       "┏━━━━━━━━━━━━━━━━━━━━━━━━━━━━━━━━━┳━━━━━━━━━━━━━━━━━━━━━━━━┳━━━━━━━━━━━━━━━┓\n",
       "┃\u001b[1m \u001b[0m\u001b[1mLayer (type)                   \u001b[0m\u001b[1m \u001b[0m┃\u001b[1m \u001b[0m\u001b[1mOutput Shape          \u001b[0m\u001b[1m \u001b[0m┃\u001b[1m \u001b[0m\u001b[1m      Param #\u001b[0m\u001b[1m \u001b[0m┃\n",
       "┡━━━━━━━━━━━━━━━━━━━━━━━━━━━━━━━━━╇━━━━━━━━━━━━━━━━━━━━━━━━╇━━━━━━━━━━━━━━━┩\n",
       "│ lstm (\u001b[38;5;33mLSTM\u001b[0m)                     │ (\u001b[38;5;45mNone\u001b[0m, \u001b[38;5;34m128\u001b[0m)            │        \u001b[38;5;34m66,560\u001b[0m │\n",
       "├─────────────────────────────────┼────────────────────────┼───────────────┤\n",
       "│ dropout (\u001b[38;5;33mDropout\u001b[0m)               │ (\u001b[38;5;45mNone\u001b[0m, \u001b[38;5;34m128\u001b[0m)            │             \u001b[38;5;34m0\u001b[0m │\n",
       "├─────────────────────────────────┼────────────────────────┼───────────────┤\n",
       "│ dense (\u001b[38;5;33mDense\u001b[0m)                   │ (\u001b[38;5;45mNone\u001b[0m, \u001b[38;5;34m1\u001b[0m)              │           \u001b[38;5;34m129\u001b[0m │\n",
       "└─────────────────────────────────┴────────────────────────┴───────────────┘\n"
      ]
     },
     "metadata": {},
     "output_type": "display_data"
    },
    {
     "data": {
      "text/html": [
       "<pre style=\"white-space:pre;overflow-x:auto;line-height:normal;font-family:Menlo,'DejaVu Sans Mono',consolas,'Courier New',monospace\"><span style=\"font-weight: bold\"> Total params: </span><span style=\"color: #00af00; text-decoration-color: #00af00\">200,069</span> (781.52 KB)\n",
       "</pre>\n"
      ],
      "text/plain": [
       "\u001b[1m Total params: \u001b[0m\u001b[38;5;34m200,069\u001b[0m (781.52 KB)\n"
      ]
     },
     "metadata": {},
     "output_type": "display_data"
    },
    {
     "data": {
      "text/html": [
       "<pre style=\"white-space:pre;overflow-x:auto;line-height:normal;font-family:Menlo,'DejaVu Sans Mono',consolas,'Courier New',monospace\"><span style=\"font-weight: bold\"> Trainable params: </span><span style=\"color: #00af00; text-decoration-color: #00af00\">66,689</span> (260.50 KB)\n",
       "</pre>\n"
      ],
      "text/plain": [
       "\u001b[1m Trainable params: \u001b[0m\u001b[38;5;34m66,689\u001b[0m (260.50 KB)\n"
      ]
     },
     "metadata": {},
     "output_type": "display_data"
    },
    {
     "data": {
      "text/html": [
       "<pre style=\"white-space:pre;overflow-x:auto;line-height:normal;font-family:Menlo,'DejaVu Sans Mono',consolas,'Courier New',monospace\"><span style=\"font-weight: bold\"> Non-trainable params: </span><span style=\"color: #00af00; text-decoration-color: #00af00\">0</span> (0.00 B)\n",
       "</pre>\n"
      ],
      "text/plain": [
       "\u001b[1m Non-trainable params: \u001b[0m\u001b[38;5;34m0\u001b[0m (0.00 B)\n"
      ]
     },
     "metadata": {},
     "output_type": "display_data"
    },
    {
     "data": {
      "text/html": [
       "<pre style=\"white-space:pre;overflow-x:auto;line-height:normal;font-family:Menlo,'DejaVu Sans Mono',consolas,'Courier New',monospace\"><span style=\"font-weight: bold\"> Optimizer params: </span><span style=\"color: #00af00; text-decoration-color: #00af00\">133,380</span> (521.02 KB)\n",
       "</pre>\n"
      ],
      "text/plain": [
       "\u001b[1m Optimizer params: \u001b[0m\u001b[38;5;34m133,380\u001b[0m (521.02 KB)\n"
      ]
     },
     "metadata": {},
     "output_type": "display_data"
    }
   ],
   "source": [
    "model.summary()"
   ]
  },
  {
   "cell_type": "code",
   "execution_count": 15,
   "id": "2a8d5ddc",
   "metadata": {},
   "outputs": [
    {
     "name": "stdout",
     "output_type": "stream",
     "text": [
      "\u001b[1m148/148\u001b[0m \u001b[32m━━━━━━━━━━━━━━━━━━━━\u001b[0m\u001b[37m\u001b[0m \u001b[1m3s\u001b[0m 8ms/step\n"
     ]
    }
   ],
   "source": [
    "# This is where we make predictions I guess\n",
    "test_set = data_test.values\n",
    "inputs = np.reshape(test_set, (len(test_set), 1))\n",
    "inputs = sc.transform(inputs)\n",
    "inputs = np.reshape(inputs, (len(inputs), 1, 1))\n",
    "predicted_BTC_price = model.predict(inputs)\n",
    "predicted_BTC_price = sc.inverse_transform(predicted_BTC_price)"
   ]
  },
  {
   "cell_type": "code",
   "execution_count": 16,
   "id": "f011cc9a",
   "metadata": {},
   "outputs": [],
   "source": [
    "data_test['Weighted_Price_Prediction'] = predicted_BTC_price\n",
    "data_all = pd.concat([data_test, data_train], sort=False)"
   ]
  },
  {
   "cell_type": "code",
   "execution_count": 17,
   "id": "e20952ee",
   "metadata": {},
   "outputs": [],
   "source": [
    "# Save pred values in data frame for future comp\n",
    "final_data = data_all\n",
    "final_data = final_data.reset_index()\n",
    "final_data = final_data.rename(columns={'Weighted_Price_Prediction': 'lstm'})\n",
    "final_data = final_data[['Timestamp', 'Weighted_Price', 'lstm']]"
   ]
  },
  {
   "cell_type": "code",
   "execution_count": 18,
   "id": "9e5f54a8",
   "metadata": {},
   "outputs": [
    {
     "data": {
      "image/png": "[encoded data removed]",
      "text/plain": [
       "<Figure size 1500x500 with 1 Axes>"
      ]
     },
     "metadata": {},
     "output_type": "display_data"
    }
   ],
   "source": [
    "_ = data_all[['Weighted_Price', 'Weighted_Price_Prediction']].plot(figsize=(15, 5))"
   ]
  },
  {
   "cell_type": "code",
   "execution_count": 21,
   "id": "61d8e21e",
   "metadata": {},
   "outputs": [
    {
     "data": {
      "image/png": "[encoded data removed]",
      "text/plain": [
       "<Figure size 1500x500 with 1 Axes>"
      ]
     },
     "metadata": {},
     "output_type": "display_data"
    }
   ],
   "source": [
    "# Plotting the forecast w/ actuals\n",
    "f, ax = plt.subplots(1)\n",
    "f.set_figheight(5)\n",
    "f.set_figwidth(15)\n",
    "_ = data_all[['Weighted_Price_Prediction', 'Weighted_Price']].plot(ax=ax, style=['-', '.'])\n",
    "ax.set_xbound(lower='08-01-2018', upper='09-01-2018')\n",
    "ax.set_ylim(0, 10000)\n",
    "plot = plt.suptitle('First Week August 2018 Forcast/Actuals')"
   ]
  },
  {
   "cell_type": "code",
   "execution_count": 23,
   "id": "db7a94d2",
   "metadata": {},
   "outputs": [
    {
     "data": {
      "image/png": "[encoded data removed]",
      "text/plain": [
       "<Figure size 1500x500 with 1 Axes>"
      ]
     },
     "metadata": {},
     "output_type": "display_data"
    }
   ],
   "source": [
    "# Somehow I skipped multiple code blocks\n",
    "# Leading to an error for a piece of code that wasn't ready to run\n",
    "f, ax = plt.subplots(1)\n",
    "f.set_figheight(5)\n",
    "f.set_figwidth(15)\n",
    "_ = data_all[['Weighted_Price_Prediction', 'Weighted_Price']].plot(ax=ax, style=['-', '.'])\n",
    "ax.set_xbound(lower='08-01-2018', upper='08-08-2018')\n",
    "ax.set_ylim(0, 10000)\n",
    "plot = plt.suptitle('First Week of August 2018 Forcast/Actuals')"
   ]
  },
  {
   "cell_type": "code",
   "execution_count": 25,
   "id": "58e39370",
   "metadata": {},
   "outputs": [
    {
     "data": {
      "text/plain": [
       "25022.996409912044"
      ]
     },
     "execution_count": 25,
     "metadata": {},
     "output_type": "execute_result"
    }
   ],
   "source": [
    "# More imports in the middle of code\n",
    "from sklearn.metrics import mean_squared_error, mean_absolute_error\n",
    "mean_squared_error(y_true=data_test['Weighted_Price'],\n",
    "                   y_pred=data_test['Weighted_Price_Prediction'])"
   ]
  },
  {
   "cell_type": "markdown",
   "id": "d7fac4d2",
   "metadata": {},
   "source": []
  }
 ],
 "metadata": {
  "kernelspec": {
   "display_name": "Python 3",
   "language": "python",
   "name": "python3"
  },
  "language_info": {
   "codemirror_mode": {
    "name": "ipython",
    "version": 3
   },
   "file_extension": ".py",
   "mimetype": "text/x-python",
   "name": "python",
   "nbconvert_exporter": "python",
   "pygments_lexer": "ipython3",
   "version": "3.10.12"
  }
 },
 "nbformat": 4,
 "nbformat_minor": 5
}
