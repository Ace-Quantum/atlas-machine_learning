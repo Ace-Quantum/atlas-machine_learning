{
 "cells": [
  {
   "cell_type": "markdown",
   "metadata": {},
   "source": [
    "Okay I'm going to be real with you\n",
    "Wednesday was tough, I spent hours and hours and hours working on this project (and the other one) to no avail.\n",
    "I salute past Ace for their efforts but I'm frustrated with their stupidity.\n",
    "Yesterday I didn't get much done, I was putting out fires and making money\n",
    "Today I had a full mental break down over dishes\n",
    "But I'm ok now. I'm ready to give this another go.\n",
    "\n",
    "Part 3 didn't succeed in much, but it did at least streamline the main code. We can go from there."
   ]
  },
  {
   "cell_type": "code",
   "execution_count": null,
   "metadata": {
    "vscode": {
     "languageId": "plaintext"
    }
   },
   "outputs": [],
   "source": [
    "This notebook was written based on these resources:\n",
    "https://www.kaggle.com/code/someadityamandal/bitcoin-time-series-forecasting/notebook\n",
    "https://github.com/dataquestio/project-walkthroughs/tree/master/bitcoin_price\n",
    "\n",
    "Special thank you to David for, as always, having the best resources."
   ]
  }
 ],
 "metadata": {
  "language_info": {
   "name": "python"
  }
 },
 "nbformat": 4,
 "nbformat_minor": 2
}
