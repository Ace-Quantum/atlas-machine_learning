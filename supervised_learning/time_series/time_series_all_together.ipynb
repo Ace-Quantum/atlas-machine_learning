{
 "cells": [
  {
   "cell_type": "markdown",
   "metadata": {},
   "source": [
    "This was my 6th attempt to get my code working for the time-series-analysis project. It does not run, but it does look interesting."
   ]
  },
  {
   "cell_type": "markdown",
   "metadata": {},
   "source": [
    "This notebook was written based on these resources:\n",
    "https://www.kaggle.com/code/someadityamandal/bitcoin-time-series-forecasting/notebook\n",
    "https://github.com/dataquestio/project-walkthroughs/tree/master/bitcoin_price\n",
    "https://www.geeksforgeeks.org/time-series-forecasting-using-tensorflow/\n",
    "\n",
    "Special thank you to David for, as always, having the best resources."
   ]
  },
  {
   "cell_type": "code",
   "execution_count": 28,
   "metadata": {},
   "outputs": [
    {
     "name": "stdout",
     "output_type": "stream",
     "text": [
      "['coinbaseUSD.csv', 'bitstampUSD.csv']\n"
     ]
    }
   ],
   "source": [
    "import numpy as np\n",
    "import pandas as pd\n",
    "import keras.layers as layers\n",
    "import keras.models as models\n",
    "\n",
    "import datetime, pytz\n",
    "from sklearn.preprocessing import MinMaxScaler\n",
    "\n",
    "import os\n",
    "print(os.listdir('./data'))"
   ]
  },
  {
   "cell_type": "code",
   "execution_count": 29,
   "metadata": {},
   "outputs": [
    {
     "name": "stderr",
     "output_type": "stream",
     "text": [
      "/tmp/ipykernel_322471/176637671.py:4: FutureWarning: The argument 'date_parser' is deprecated and will be removed in a future version. Please use 'date_format' instead, or read your data in as 'object' dtype and then call 'to_datetime'.\n",
      "  data = pd.read_csv('./data/coinbaseUSD.csv', parse_dates=[0], date_parser=dateparse)\n"
     ]
    },
    {
     "name": "stdout",
     "output_type": "stream",
     "text": [
      "<class 'pandas.core.frame.DataFrame'>\n",
      "RangeIndex: 2099760 entries, 0 to 2099759\n",
      "Data columns (total 8 columns):\n",
      " #   Column             Dtype              \n",
      "---  ------             -----              \n",
      " 0   Timestamp          datetime64[ns, UTC]\n",
      " 1   Open               float64            \n",
      " 2   High               float64            \n",
      " 3   Low                float64            \n",
      " 4   Close              float64            \n",
      " 5   Volume_(BTC)       float64            \n",
      " 6   Volume_(Currency)  float64            \n",
      " 7   Weighted_Price     float64            \n",
      "dtypes: datetime64[ns, UTC](1), float64(7)\n",
      "memory usage: 128.2 MB\n",
      "<bound method NDFrame.head of                         Timestamp     Open     High      Low    Close  \\\n",
      "0       2014-11-30 23:33:00+00:00   300.00   300.00   300.00   300.00   \n",
      "1       2014-11-30 23:34:00+00:00      NaN      NaN      NaN      NaN   \n",
      "2       2014-11-30 23:35:00+00:00      NaN      NaN      NaN      NaN   \n",
      "3       2014-11-30 23:36:00+00:00      NaN      NaN      NaN      NaN   \n",
      "4       2014-11-30 23:37:00+00:00      NaN      NaN      NaN      NaN   \n",
      "...                           ...      ...      ...      ...      ...   \n",
      "2099755 2019-01-07 16:02:00+00:00  4006.01  4006.57  4006.00  4006.01   \n",
      "2099756 2019-01-07 16:03:00+00:00  4006.01  4006.57  4006.00  4006.01   \n",
      "2099757 2019-01-07 16:04:00+00:00  4006.01  4006.01  4006.00  4006.01   \n",
      "2099758 2019-01-07 16:05:00+00:00  4006.01  4006.01  4005.50  4005.50   \n",
      "2099759 2019-01-07 16:06:00+00:00  4005.51  4006.01  4005.51  4005.99   \n",
      "\n",
      "         Volume_(BTC)  Volume_(Currency)  Weighted_Price  \n",
      "0            0.010000           3.000000      300.000000  \n",
      "1                 NaN                NaN             NaN  \n",
      "2                 NaN                NaN             NaN  \n",
      "3                 NaN                NaN             NaN  \n",
      "4                 NaN                NaN             NaN  \n",
      "...               ...                ...             ...  \n",
      "2099755      3.382954       13553.433078     4006.390309  \n",
      "2099756      0.902164        3614.083168     4006.017232  \n",
      "2099757      1.192123        4775.647308     4006.003635  \n",
      "2099758      2.699700       10814.241898     4005.719991  \n",
      "2099759      1.752778        7021.183546     4005.745614  \n",
      "\n",
      "[2099760 rows x 8 columns]>\n"
     ]
    }
   ],
   "source": [
    "def dateparse(time_in_secs):\n",
    "    return pytz.utc.localize(datetime.datetime.fromtimestamp(float(time_in_secs)))\n",
    "\n",
    "data = pd.read_csv('./data/coinbaseUSD.csv', parse_dates=[0], date_parser=dateparse)\n",
    "\n",
    "data.info()\n",
    "print(data.head)"
   ]
  },
  {
   "cell_type": "code",
   "execution_count": 30,
   "metadata": {},
   "outputs": [
    {
     "name": "stdout",
     "output_type": "stream",
     "text": [
      "                  Timestamp   Open   High    Low  Close  Volume_(BTC)  \\\n",
      "0 2014-11-30 23:33:00+00:00  300.0  300.0  300.0  300.0          0.01   \n",
      "1 2014-11-30 23:34:00+00:00  300.0  300.0  300.0  300.0          0.00   \n",
      "2 2014-11-30 23:35:00+00:00  300.0  300.0  300.0  300.0          0.00   \n",
      "3 2014-11-30 23:36:00+00:00  300.0  300.0  300.0  300.0          0.00   \n",
      "4 2014-11-30 23:37:00+00:00  300.0  300.0  300.0  300.0          0.00   \n",
      "\n",
      "   Volume_(Currency)  Weighted_Price  \n",
      "0                3.0           300.0  \n",
      "1                0.0             0.0  \n",
      "2                0.0             0.0  \n",
      "3                0.0             0.0  \n",
      "4                0.0             0.0  \n"
     ]
    },
    {
     "name": "stderr",
     "output_type": "stream",
     "text": [
      "/tmp/ipykernel_322471/537992000.py:1: FutureWarning: A value is trying to be set on a copy of a DataFrame or Series through chained assignment using an inplace method.\n",
      "The behavior will change in pandas 3.0. This inplace method will never work because the intermediate object on which we are setting values always behaves as a copy.\n",
      "\n",
      "For example, when doing 'df[col].method(value, inplace=True)', try using 'df.method({col: value}, inplace=True)' or df[col] = df[col].method(value) instead, to perform the operation inplace on the original object.\n",
      "\n",
      "\n",
      "  data['Volume_(BTC)'].fillna(value=0, inplace=True)\n",
      "/tmp/ipykernel_322471/537992000.py:2: FutureWarning: A value is trying to be set on a copy of a DataFrame or Series through chained assignment using an inplace method.\n",
      "The behavior will change in pandas 3.0. This inplace method will never work because the intermediate object on which we are setting values always behaves as a copy.\n",
      "\n",
      "For example, when doing 'df[col].method(value, inplace=True)', try using 'df.method({col: value}, inplace=True)' or df[col] = df[col].method(value) instead, to perform the operation inplace on the original object.\n",
      "\n",
      "\n",
      "  data['Volume_(Currency)'].fillna(value=0, inplace=True)\n",
      "/tmp/ipykernel_322471/537992000.py:3: FutureWarning: A value is trying to be set on a copy of a DataFrame or Series through chained assignment using an inplace method.\n",
      "The behavior will change in pandas 3.0. This inplace method will never work because the intermediate object on which we are setting values always behaves as a copy.\n",
      "\n",
      "For example, when doing 'df[col].method(value, inplace=True)', try using 'df.method({col: value}, inplace=True)' or df[col] = df[col].method(value) instead, to perform the operation inplace on the original object.\n",
      "\n",
      "\n",
      "  data['Weighted_Price'].fillna(value=0, inplace=True)\n",
      "/tmp/ipykernel_322471/537992000.py:5: FutureWarning: A value is trying to be set on a copy of a DataFrame or Series through chained assignment using an inplace method.\n",
      "The behavior will change in pandas 3.0. This inplace method will never work because the intermediate object on which we are setting values always behaves as a copy.\n",
      "\n",
      "For example, when doing 'df[col].method(value, inplace=True)', try using 'df.method({col: value}, inplace=True)' or df[col] = df[col].method(value) instead, to perform the operation inplace on the original object.\n",
      "\n",
      "\n",
      "  data['Open'].fillna(method='ffill', inplace=True)\n",
      "/tmp/ipykernel_322471/537992000.py:5: FutureWarning: Series.fillna with 'method' is deprecated and will raise in a future version. Use obj.ffill() or obj.bfill() instead.\n",
      "  data['Open'].fillna(method='ffill', inplace=True)\n",
      "/tmp/ipykernel_322471/537992000.py:6: FutureWarning: A value is trying to be set on a copy of a DataFrame or Series through chained assignment using an inplace method.\n",
      "The behavior will change in pandas 3.0. This inplace method will never work because the intermediate object on which we are setting values always behaves as a copy.\n",
      "\n",
      "For example, when doing 'df[col].method(value, inplace=True)', try using 'df.method({col: value}, inplace=True)' or df[col] = df[col].method(value) instead, to perform the operation inplace on the original object.\n",
      "\n",
      "\n",
      "  data['High'].fillna(method='ffill', inplace=True)\n",
      "/tmp/ipykernel_322471/537992000.py:6: FutureWarning: Series.fillna with 'method' is deprecated and will raise in a future version. Use obj.ffill() or obj.bfill() instead.\n",
      "  data['High'].fillna(method='ffill', inplace=True)\n",
      "/tmp/ipykernel_322471/537992000.py:7: FutureWarning: A value is trying to be set on a copy of a DataFrame or Series through chained assignment using an inplace method.\n",
      "The behavior will change in pandas 3.0. This inplace method will never work because the intermediate object on which we are setting values always behaves as a copy.\n",
      "\n",
      "For example, when doing 'df[col].method(value, inplace=True)', try using 'df.method({col: value}, inplace=True)' or df[col] = df[col].method(value) instead, to perform the operation inplace on the original object.\n",
      "\n",
      "\n",
      "  data['Low'].fillna(method='ffill', inplace=True)\n",
      "/tmp/ipykernel_322471/537992000.py:7: FutureWarning: Series.fillna with 'method' is deprecated and will raise in a future version. Use obj.ffill() or obj.bfill() instead.\n",
      "  data['Low'].fillna(method='ffill', inplace=True)\n",
      "/tmp/ipykernel_322471/537992000.py:8: FutureWarning: A value is trying to be set on a copy of a DataFrame or Series through chained assignment using an inplace method.\n",
      "The behavior will change in pandas 3.0. This inplace method will never work because the intermediate object on which we are setting values always behaves as a copy.\n",
      "\n",
      "For example, when doing 'df[col].method(value, inplace=True)', try using 'df.method({col: value}, inplace=True)' or df[col] = df[col].method(value) instead, to perform the operation inplace on the original object.\n",
      "\n",
      "\n",
      "  data['Close'].fillna(method='ffill', inplace=True)\n",
      "/tmp/ipykernel_322471/537992000.py:8: FutureWarning: Series.fillna with 'method' is deprecated and will raise in a future version. Use obj.ffill() or obj.bfill() instead.\n",
      "  data['Close'].fillna(method='ffill', inplace=True)\n"
     ]
    }
   ],
   "source": [
    "data['Volume_(BTC)'].fillna(value=0, inplace=True)\n",
    "data['Volume_(Currency)'].fillna(value=0, inplace=True)\n",
    "data['Weighted_Price'].fillna(value=0, inplace=True)\n",
    "\n",
    "data['Open'].fillna(method='ffill', inplace=True)\n",
    "data['High'].fillna(method='ffill', inplace=True)\n",
    "data['Low'].fillna(method='ffill', inplace=True)\n",
    "data['Close'].fillna(method='ffill', inplace=True)\n",
    "\n",
    "print(data.head())"
   ]
  },
  {
   "cell_type": "code",
   "execution_count": 31,
   "metadata": {},
   "outputs": [
    {
     "name": "stdout",
     "output_type": "stream",
     "text": [
      "                  Timestamp    Open    High     Low   Close  Volume_(BTC)  \\\n",
      "0 2015-01-12 00:00:00+00:00  360.00  360.00  360.00  360.00         0.010   \n",
      "1 2015-01-19 00:00:00+00:00  260.00  260.00  260.00  260.00         0.000   \n",
      "2 2015-01-26 00:00:00+00:00  225.51  225.51  225.51  225.51         0.000   \n",
      "3 2015-02-02 00:00:00+00:00  259.99  259.99  259.99  259.99         0.300   \n",
      "4 2015-02-09 00:00:00+00:00  239.28  239.50  239.28  239.50        20.675   \n",
      "\n",
      "   Volume_(Currency)  Weighted_Price  \n",
      "0           3.600000      360.000000  \n",
      "1           0.000000        0.000000  \n",
      "2           0.000000        0.000000  \n",
      "3          77.997000      259.990000  \n",
      "4        4951.178693      239.476599  \n"
     ]
    }
   ],
   "source": [
    "start = datetime.datetime(2015, 1, 1, 0,0,0,0, pytz.UTC)\n",
    "end = datetime.datetime(2018, 11,11,0,0,0,0, pytz.UTC)\n",
    "\n",
    "weekly_rows = data[(data['Timestamp'] >= start) & (\n",
    "    data['Timestamp'] <= end)].groupby(\n",
    "        [pd.Grouper(key='Timestamp', freq='W-MON')]\n",
    "    ).first().reset_index()\n",
    "\n",
    "print(weekly_rows.head())"
   ]
  },
  {
   "cell_type": "code",
   "execution_count": 32,
   "metadata": {},
   "outputs": [
    {
     "name": "stderr",
     "output_type": "stream",
     "text": [
      "/tmp/ipykernel_322471/105282266.py:1: FutureWarning: The argument 'date_parser' is deprecated and will be removed in a future version. Please use 'date_format' instead, or read your data in as 'object' dtype and then call 'to_datetime'.\n",
      "  data = pd.read_csv('./data/coinbaseUSD.csv', parse_dates=[0], date_parser=dateparse)\n",
      "/tmp/ipykernel_322471/105282266.py:4: FutureWarning: 'H' is deprecated and will be removed in a future version, please use 'h' instead.\n",
      "  data = data.groupby([pd.Grouper(key='Timestamp', freq='H')]).first().reset_index()\n",
      "/tmp/ipykernel_322471/105282266.py:8: FutureWarning: A value is trying to be set on a copy of a DataFrame or Series through chained assignment using an inplace method.\n",
      "The behavior will change in pandas 3.0. This inplace method will never work because the intermediate object on which we are setting values always behaves as a copy.\n",
      "\n",
      "For example, when doing 'df[col].method(value, inplace=True)', try using 'df.method({col: value}, inplace=True)' or df[col] = df[col].method(value) instead, to perform the operation inplace on the original object.\n",
      "\n",
      "\n",
      "  data['Weighted_Price'].fillna(method='ffill', inplace=True)\n",
      "/tmp/ipykernel_322471/105282266.py:8: FutureWarning: Series.fillna with 'method' is deprecated and will raise in a future version. Use obj.ffill() or obj.bfill() instead.\n",
      "  data['Weighted_Price'].fillna(method='ffill', inplace=True)\n"
     ]
    }
   ],
   "source": [
    "data = pd.read_csv('./data/coinbaseUSD.csv', parse_dates=[0], date_parser=dateparse)\n",
    "data['Timestamp'] = data['Timestamp'].dt.tz_localize(None)\n",
    "\n",
    "data = data.groupby([pd.Grouper(key='Timestamp', freq='H')]).first().reset_index()\n",
    "\n",
    "data = data.set_index('Timestamp')\n",
    "data = data[['Weighted_Price']]\n",
    "data['Weighted_Price'].fillna(method='ffill', inplace=True)"
   ]
  },
  {
   "cell_type": "code",
   "execution_count": 33,
   "metadata": {},
   "outputs": [],
   "source": [
    "split_date = '25-Jun-2018'\n",
    "\n",
    "data_train = data.loc[data.index <= split_date].copy()\n",
    "data_test = data.loc[data.index > split_date].copy()"
   ]
  },
  {
   "cell_type": "code",
   "execution_count": 34,
   "metadata": {},
   "outputs": [],
   "source": [
    "training_set = data_train.values\n",
    "training_set = np.reshape(training_set, (len(training_set), 1))\n",
    "\n",
    "sc = MinMaxScaler()\n",
    "training_set = sc.fit_transform(training_set)\n",
    "X_train = training_set[0:len(training_set)-1]\n",
    "y_train = training_set[1:len(training_set)]\n",
    "X_train = np.reshape(X_train, (len(X_train), 1, 1))"
   ]
  },
  {
   "cell_type": "code",
   "execution_count": 35,
   "metadata": {},
   "outputs": [
    {
     "name": "stderr",
     "output_type": "stream",
     "text": [
      "/usr/local/lib/python3.10/dist-packages/keras/src/layers/rnn/rnn.py:204: UserWarning: Do not pass an `input_shape`/`input_dim` argument to a layer. When using Sequential models, prefer using an `Input(shape)` object as the first layer in the model instead.\n",
      "  super().__init__(**kwargs)\n"
     ]
    },
    {
     "name": "stdout",
     "output_type": "stream",
     "text": [
      "Epoch 1/100\n",
      "625/625 - 5s - 7ms/step - loss: 0.0068\n",
      "Epoch 2/100\n",
      "625/625 - 2s - 3ms/step - loss: 5.2591e-05\n",
      "Epoch 3/100\n",
      "625/625 - 2s - 3ms/step - loss: 2.7363e-05\n",
      "Epoch 4/100\n",
      "625/625 - 2s - 3ms/step - loss: 1.4070e-05\n",
      "Epoch 5/100\n",
      "625/625 - 2s - 3ms/step - loss: 1.1396e-05\n",
      "Epoch 6/100\n",
      "625/625 - 2s - 3ms/step - loss: 1.1360e-05\n",
      "Epoch 7/100\n",
      "625/625 - 2s - 3ms/step - loss: 1.1490e-05\n",
      "Epoch 8/100\n",
      "625/625 - 3s - 4ms/step - loss: 1.1581e-05\n",
      "Epoch 9/100\n",
      "625/625 - 2s - 4ms/step - loss: 1.1832e-05\n",
      "Epoch 10/100\n",
      "625/625 - 2s - 4ms/step - loss: 1.2361e-05\n",
      "Epoch 11/100\n",
      "625/625 - 2s - 3ms/step - loss: 1.2381e-05\n",
      "Epoch 12/100\n",
      "625/625 - 3s - 5ms/step - loss: 1.2023e-05\n",
      "Epoch 13/100\n",
      "625/625 - 2s - 4ms/step - loss: 1.2020e-05\n",
      "Epoch 14/100\n",
      "625/625 - 2s - 3ms/step - loss: 1.2366e-05\n",
      "Epoch 15/100\n",
      "625/625 - 2s - 3ms/step - loss: 1.2321e-05\n",
      "Epoch 16/100\n",
      "625/625 - 2s - 4ms/step - loss: 1.2378e-05\n",
      "Epoch 17/100\n",
      "625/625 - 2s - 4ms/step - loss: 1.2112e-05\n",
      "Epoch 18/100\n",
      "625/625 - 3s - 5ms/step - loss: 1.2186e-05\n",
      "Epoch 19/100\n",
      "625/625 - 2s - 4ms/step - loss: 1.2327e-05\n",
      "Epoch 20/100\n",
      "625/625 - 2s - 3ms/step - loss: 1.2472e-05\n",
      "Epoch 21/100\n",
      "625/625 - 2s - 3ms/step - loss: 1.2414e-05\n",
      "Epoch 22/100\n",
      "625/625 - 2s - 4ms/step - loss: 1.2018e-05\n",
      "Epoch 23/100\n",
      "625/625 - 2s - 4ms/step - loss: 1.2482e-05\n",
      "Epoch 24/100\n",
      "625/625 - 2s - 3ms/step - loss: 1.2251e-05\n",
      "Epoch 25/100\n",
      "625/625 - 2s - 4ms/step - loss: 1.1939e-05\n",
      "Epoch 26/100\n",
      "625/625 - 2s - 3ms/step - loss: 1.2205e-05\n",
      "Epoch 27/100\n",
      "625/625 - 2s - 4ms/step - loss: 1.2435e-05\n",
      "Epoch 28/100\n",
      "625/625 - 2s - 3ms/step - loss: 1.2191e-05\n",
      "Epoch 29/100\n",
      "625/625 - 2s - 4ms/step - loss: 1.2159e-05\n",
      "Epoch 30/100\n",
      "625/625 - 2s - 3ms/step - loss: 1.2256e-05\n",
      "Epoch 31/100\n",
      "625/625 - 2s - 3ms/step - loss: 1.2346e-05\n",
      "Epoch 32/100\n",
      "625/625 - 2s - 4ms/step - loss: 1.2250e-05\n",
      "Epoch 33/100\n",
      "625/625 - 2s - 3ms/step - loss: 1.2468e-05\n",
      "Epoch 34/100\n",
      "625/625 - 2s - 3ms/step - loss: 1.2734e-05\n",
      "Epoch 35/100\n",
      "625/625 - 3s - 5ms/step - loss: 1.2518e-05\n",
      "Epoch 36/100\n",
      "625/625 - 3s - 5ms/step - loss: 1.2250e-05\n",
      "Epoch 37/100\n",
      "625/625 - 3s - 5ms/step - loss: 1.2324e-05\n",
      "Epoch 38/100\n",
      "625/625 - 2s - 4ms/step - loss: 1.2165e-05\n",
      "Epoch 39/100\n",
      "625/625 - 2s - 4ms/step - loss: 1.2658e-05\n",
      "Epoch 40/100\n",
      "625/625 - 3s - 4ms/step - loss: 1.2409e-05\n",
      "Epoch 41/100\n",
      "625/625 - 2s - 3ms/step - loss: 1.2189e-05\n",
      "Epoch 42/100\n",
      "625/625 - 2s - 3ms/step - loss: 1.2537e-05\n",
      "Epoch 43/100\n",
      "625/625 - 2s - 3ms/step - loss: 1.2278e-05\n",
      "Epoch 44/100\n",
      "625/625 - 2s - 3ms/step - loss: 1.2270e-05\n",
      "Epoch 45/100\n",
      "625/625 - 2s - 3ms/step - loss: 1.1749e-05\n",
      "Epoch 46/100\n",
      "625/625 - 2s - 3ms/step - loss: 1.2273e-05\n",
      "Epoch 47/100\n",
      "625/625 - 2s - 3ms/step - loss: 1.2313e-05\n",
      "Epoch 48/100\n",
      "625/625 - 2s - 3ms/step - loss: 1.2162e-05\n",
      "Epoch 49/100\n",
      "625/625 - 2s - 4ms/step - loss: 1.2606e-05\n",
      "Epoch 50/100\n",
      "625/625 - 2s - 3ms/step - loss: 1.2104e-05\n",
      "Epoch 51/100\n",
      "625/625 - 2s - 3ms/step - loss: 1.2541e-05\n",
      "Epoch 52/100\n",
      "625/625 - 2s - 4ms/step - loss: 1.2412e-05\n",
      "Epoch 53/100\n",
      "625/625 - 2s - 3ms/step - loss: 1.2062e-05\n",
      "Epoch 54/100\n",
      "625/625 - 2s - 3ms/step - loss: 1.2730e-05\n",
      "Epoch 55/100\n",
      "625/625 - 2s - 3ms/step - loss: 1.2260e-05\n",
      "Epoch 56/100\n",
      "625/625 - 2s - 3ms/step - loss: 1.2627e-05\n",
      "Epoch 57/100\n",
      "625/625 - 2s - 3ms/step - loss: 1.2142e-05\n",
      "Epoch 58/100\n",
      "625/625 - 2s - 3ms/step - loss: 1.2399e-05\n",
      "Epoch 59/100\n",
      "625/625 - 2s - 3ms/step - loss: 1.2438e-05\n",
      "Epoch 60/100\n",
      "625/625 - 2s - 3ms/step - loss: 1.2173e-05\n",
      "Epoch 61/100\n",
      "625/625 - 2s - 3ms/step - loss: 1.2243e-05\n",
      "Epoch 62/100\n",
      "625/625 - 2s - 3ms/step - loss: 1.2453e-05\n",
      "Epoch 63/100\n",
      "625/625 - 2s - 3ms/step - loss: 1.1906e-05\n",
      "Epoch 64/100\n",
      "625/625 - 2s - 3ms/step - loss: 1.2172e-05\n",
      "Epoch 65/100\n",
      "625/625 - 2s - 3ms/step - loss: 1.2204e-05\n",
      "Epoch 66/100\n",
      "625/625 - 2s - 2ms/step - loss: 1.2211e-05\n",
      "Epoch 67/100\n",
      "625/625 - 2s - 2ms/step - loss: 1.2055e-05\n",
      "Epoch 68/100\n",
      "625/625 - 2s - 2ms/step - loss: 1.2287e-05\n",
      "Epoch 69/100\n",
      "625/625 - 2s - 4ms/step - loss: 1.2475e-05\n",
      "Epoch 70/100\n",
      "625/625 - 1s - 2ms/step - loss: 1.2234e-05\n",
      "Epoch 71/100\n",
      "625/625 - 2s - 2ms/step - loss: 1.1981e-05\n",
      "Epoch 72/100\n",
      "625/625 - 2s - 2ms/step - loss: 1.2310e-05\n",
      "Epoch 73/100\n",
      "625/625 - 2s - 3ms/step - loss: 1.2024e-05\n",
      "Epoch 74/100\n",
      "625/625 - 2s - 3ms/step - loss: 1.2083e-05\n",
      "Epoch 75/100\n",
      "625/625 - 2s - 3ms/step - loss: 1.2709e-05\n",
      "Epoch 76/100\n",
      "625/625 - 2s - 2ms/step - loss: 1.2032e-05\n",
      "Epoch 77/100\n",
      "625/625 - 2s - 3ms/step - loss: 1.2280e-05\n",
      "Epoch 78/100\n",
      "625/625 - 2s - 3ms/step - loss: 1.2073e-05\n",
      "Epoch 79/100\n",
      "625/625 - 2s - 3ms/step - loss: 1.2318e-05\n",
      "Epoch 80/100\n",
      "625/625 - 2s - 3ms/step - loss: 1.2484e-05\n",
      "Epoch 81/100\n",
      "625/625 - 2s - 2ms/step - loss: 1.2209e-05\n",
      "Epoch 82/100\n",
      "625/625 - 2s - 4ms/step - loss: 1.2452e-05\n",
      "Epoch 83/100\n",
      "625/625 - 1s - 2ms/step - loss: 1.2386e-05\n",
      "Epoch 84/100\n",
      "625/625 - 2s - 2ms/step - loss: 1.2077e-05\n",
      "Epoch 85/100\n",
      "625/625 - 2s - 3ms/step - loss: 1.1992e-05\n",
      "Epoch 86/100\n",
      "625/625 - 2s - 3ms/step - loss: 1.2149e-05\n",
      "Epoch 87/100\n",
      "625/625 - 2s - 3ms/step - loss: 1.2321e-05\n",
      "Epoch 88/100\n",
      "625/625 - 2s - 3ms/step - loss: 1.2056e-05\n",
      "Epoch 89/100\n",
      "625/625 - 2s - 3ms/step - loss: 1.2175e-05\n",
      "Epoch 90/100\n",
      "625/625 - 2s - 3ms/step - loss: 1.2666e-05\n",
      "Epoch 91/100\n",
      "625/625 - 2s - 3ms/step - loss: 1.2324e-05\n",
      "Epoch 92/100\n",
      "625/625 - 2s - 3ms/step - loss: 1.1921e-05\n",
      "Epoch 93/100\n",
      "625/625 - 2s - 3ms/step - loss: 1.2413e-05\n",
      "Epoch 94/100\n",
      "625/625 - 3s - 4ms/step - loss: 1.2380e-05\n",
      "Epoch 95/100\n",
      "625/625 - 3s - 4ms/step - loss: 1.2367e-05\n",
      "Epoch 96/100\n",
      "625/625 - 2s - 3ms/step - loss: 1.2366e-05\n",
      "Epoch 97/100\n",
      "625/625 - 2s - 4ms/step - loss: 1.2369e-05\n",
      "Epoch 98/100\n",
      "625/625 - 2s - 3ms/step - loss: 1.2138e-05\n",
      "Epoch 99/100\n",
      "625/625 - 2s - 3ms/step - loss: 1.2472e-05\n",
      "Epoch 100/100\n",
      "625/625 - 2s - 3ms/step - loss: 1.2037e-05\n",
      "Epoch 1/100\n",
      "625/625 - 6s - 10ms/step - loss: 0.0142\n",
      "Epoch 2/100\n",
      "625/625 - 2s - 3ms/step - loss: 0.0078\n",
      "Epoch 3/100\n",
      "625/625 - 2s - 3ms/step - loss: 0.0073\n",
      "Epoch 4/100\n",
      "625/625 - 2s - 3ms/step - loss: 0.0074\n",
      "Epoch 5/100\n",
      "625/625 - 2s - 3ms/step - loss: 0.0079\n",
      "Epoch 6/100\n",
      "625/625 - 2s - 4ms/step - loss: 0.0074\n",
      "Epoch 7/100\n",
      "625/625 - 2s - 3ms/step - loss: 0.0073\n",
      "Epoch 8/100\n",
      "625/625 - 2s - 3ms/step - loss: 0.0073\n",
      "Epoch 9/100\n",
      "625/625 - 2s - 3ms/step - loss: 0.0077\n",
      "Epoch 10/100\n",
      "625/625 - 4s - 6ms/step - loss: 0.0076\n",
      "Epoch 11/100\n",
      "625/625 - 2s - 3ms/step - loss: 0.0076\n",
      "Epoch 12/100\n",
      "625/625 - 2s - 3ms/step - loss: 0.0076\n",
      "Epoch 13/100\n",
      "625/625 - 2s - 3ms/step - loss: 0.0075\n",
      "Epoch 14/100\n",
      "625/625 - 4s - 7ms/step - loss: 0.0075\n",
      "Epoch 15/100\n",
      "625/625 - 4s - 6ms/step - loss: 0.0077\n",
      "Epoch 16/100\n",
      "625/625 - 4s - 6ms/step - loss: 0.0078\n",
      "Epoch 17/100\n",
      "625/625 - 5s - 8ms/step - loss: 0.0077\n",
      "Epoch 18/100\n",
      "625/625 - 3s - 4ms/step - loss: 0.0079\n",
      "Epoch 19/100\n",
      "625/625 - 2s - 4ms/step - loss: 0.0077\n",
      "Epoch 20/100\n",
      "625/625 - 2s - 3ms/step - loss: 0.0076\n",
      "Epoch 21/100\n",
      "625/625 - 2s - 3ms/step - loss: 0.0078\n",
      "Epoch 22/100\n",
      "625/625 - 2s - 4ms/step - loss: 0.0075\n",
      "Epoch 23/100\n",
      "625/625 - 2s - 3ms/step - loss: 0.0076\n",
      "Epoch 24/100\n",
      "625/625 - 2s - 3ms/step - loss: 0.0074\n",
      "Epoch 25/100\n",
      "625/625 - 2s - 3ms/step - loss: 0.0076\n",
      "Epoch 26/100\n",
      "625/625 - 2s - 3ms/step - loss: 0.0077\n",
      "Epoch 27/100\n",
      "625/625 - 3s - 4ms/step - loss: 0.0074\n",
      "Epoch 28/100\n",
      "625/625 - 2s - 3ms/step - loss: 0.0077\n",
      "Epoch 29/100\n",
      "625/625 - 2s - 3ms/step - loss: 0.0078\n",
      "Epoch 30/100\n",
      "625/625 - 2s - 3ms/step - loss: 0.0076\n",
      "Epoch 31/100\n",
      "625/625 - 2s - 3ms/step - loss: 0.0075\n",
      "Epoch 32/100\n",
      "625/625 - 2s - 3ms/step - loss: 0.0077\n",
      "Epoch 33/100\n",
      "625/625 - 2s - 3ms/step - loss: 0.0074\n",
      "Epoch 34/100\n",
      "625/625 - 2s - 3ms/step - loss: 0.0074\n",
      "Epoch 35/100\n",
      "625/625 - 2s - 3ms/step - loss: 0.0074\n",
      "Epoch 36/100\n",
      "625/625 - 2s - 3ms/step - loss: 0.0074\n",
      "Epoch 37/100\n",
      "625/625 - 2s - 3ms/step - loss: 0.0074\n",
      "Epoch 38/100\n",
      "625/625 - 2s - 3ms/step - loss: 0.0077\n",
      "Epoch 39/100\n",
      "625/625 - 2s - 3ms/step - loss: 0.0074\n",
      "Epoch 40/100\n",
      "625/625 - 2s - 3ms/step - loss: 0.0079\n",
      "Epoch 41/100\n",
      "625/625 - 2s - 3ms/step - loss: 0.0075\n",
      "Epoch 42/100\n",
      "625/625 - 2s - 3ms/step - loss: 0.0075\n",
      "Epoch 43/100\n",
      "625/625 - 2s - 3ms/step - loss: 0.0077\n",
      "Epoch 44/100\n",
      "625/625 - 2s - 3ms/step - loss: 0.0080\n",
      "Epoch 45/100\n",
      "625/625 - 2s - 3ms/step - loss: 0.0076\n",
      "Epoch 46/100\n",
      "625/625 - 2s - 3ms/step - loss: 0.0074\n",
      "Epoch 47/100\n",
      "625/625 - 2s - 3ms/step - loss: 0.0075\n",
      "Epoch 48/100\n",
      "625/625 - 2s - 3ms/step - loss: 0.0076\n",
      "Epoch 49/100\n",
      "625/625 - 2s - 3ms/step - loss: 0.0074\n",
      "Epoch 50/100\n",
      "625/625 - 2s - 3ms/step - loss: 0.0072\n",
      "Epoch 51/100\n",
      "625/625 - 2s - 3ms/step - loss: 0.0078\n",
      "Epoch 52/100\n",
      "625/625 - 2s - 3ms/step - loss: 0.0078\n",
      "Epoch 53/100\n",
      "625/625 - 2s - 3ms/step - loss: 0.0075\n",
      "Epoch 54/100\n",
      "625/625 - 2s - 3ms/step - loss: 0.0073\n",
      "Epoch 55/100\n",
      "625/625 - 2s - 3ms/step - loss: 0.0076\n",
      "Epoch 56/100\n",
      "625/625 - 2s - 3ms/step - loss: 0.0079\n",
      "Epoch 57/100\n",
      "625/625 - 2s - 3ms/step - loss: 0.0076\n",
      "Epoch 58/100\n",
      "625/625 - 2s - 3ms/step - loss: 0.0077\n",
      "Epoch 59/100\n",
      "625/625 - 2s - 3ms/step - loss: 0.0075\n",
      "Epoch 60/100\n",
      "625/625 - 2s - 3ms/step - loss: 0.0078\n",
      "Epoch 61/100\n",
      "625/625 - 2s - 3ms/step - loss: 0.0077\n",
      "Epoch 62/100\n",
      "625/625 - 2s - 3ms/step - loss: 0.0078\n",
      "Epoch 63/100\n",
      "625/625 - 2s - 3ms/step - loss: 0.0075\n",
      "Epoch 64/100\n",
      "625/625 - 2s - 3ms/step - loss: 0.0078\n",
      "Epoch 65/100\n",
      "625/625 - 2s - 3ms/step - loss: 0.0074\n",
      "Epoch 66/100\n",
      "625/625 - 2s - 3ms/step - loss: 0.0076\n",
      "Epoch 67/100\n",
      "625/625 - 2s - 3ms/step - loss: 0.0080\n",
      "Epoch 68/100\n",
      "625/625 - 2s - 3ms/step - loss: 0.0074\n",
      "Epoch 69/100\n",
      "625/625 - 2s - 3ms/step - loss: 0.0077\n",
      "Epoch 70/100\n",
      "625/625 - 2s - 3ms/step - loss: 0.0074\n",
      "Epoch 71/100\n",
      "625/625 - 2s - 3ms/step - loss: 0.0078\n",
      "Epoch 72/100\n",
      "625/625 - 2s - 4ms/step - loss: 0.0078\n",
      "Epoch 73/100\n",
      "625/625 - 2s - 3ms/step - loss: 0.0076\n",
      "Epoch 74/100\n",
      "625/625 - 2s - 3ms/step - loss: 0.0076\n",
      "Epoch 75/100\n",
      "625/625 - 2s - 3ms/step - loss: 0.0076\n",
      "Epoch 76/100\n",
      "625/625 - 2s - 3ms/step - loss: 0.0076\n",
      "Epoch 77/100\n",
      "625/625 - 2s - 3ms/step - loss: 0.0071\n",
      "Epoch 78/100\n",
      "625/625 - 2s - 3ms/step - loss: 0.0077\n",
      "Epoch 79/100\n",
      "625/625 - 2s - 3ms/step - loss: 0.0075\n",
      "Epoch 80/100\n",
      "625/625 - 2s - 3ms/step - loss: 0.0076\n",
      "Epoch 81/100\n",
      "625/625 - 2s - 3ms/step - loss: 0.0075\n",
      "Epoch 82/100\n",
      "625/625 - 2s - 3ms/step - loss: 0.0074\n",
      "Epoch 83/100\n",
      "625/625 - 2s - 3ms/step - loss: 0.0072\n",
      "Epoch 84/100\n",
      "625/625 - 2s - 4ms/step - loss: 0.0075\n",
      "Epoch 85/100\n",
      "625/625 - 2s - 3ms/step - loss: 0.0076\n",
      "Epoch 86/100\n",
      "625/625 - 2s - 3ms/step - loss: 0.0076\n",
      "Epoch 87/100\n",
      "625/625 - 2s - 3ms/step - loss: 0.0075\n",
      "Epoch 88/100\n",
      "625/625 - 2s - 3ms/step - loss: 0.0076\n",
      "Epoch 89/100\n",
      "625/625 - 2s - 3ms/step - loss: 0.0078\n",
      "Epoch 90/100\n",
      "625/625 - 2s - 3ms/step - loss: 0.0075\n",
      "Epoch 91/100\n",
      "625/625 - 2s - 3ms/step - loss: 0.0076\n",
      "Epoch 92/100\n",
      "625/625 - 2s - 3ms/step - loss: 0.0071\n",
      "Epoch 93/100\n",
      "625/625 - 2s - 3ms/step - loss: 0.0076\n",
      "Epoch 94/100\n",
      "625/625 - 2s - 3ms/step - loss: 0.0077\n",
      "Epoch 95/100\n",
      "625/625 - 2s - 3ms/step - loss: 0.0076\n",
      "Epoch 96/100\n",
      "625/625 - 3s - 4ms/step - loss: 0.0074\n",
      "Epoch 97/100\n",
      "625/625 - 2s - 3ms/step - loss: 0.0076\n",
      "Epoch 98/100\n",
      "625/625 - 2s - 4ms/step - loss: 0.0078\n",
      "Epoch 99/100\n",
      "625/625 - 2s - 3ms/step - loss: 0.0080\n",
      "Epoch 100/100\n",
      "625/625 - 2s - 3ms/step - loss: 0.0074\n"
     ]
    },
    {
     "data": {
      "text/plain": [
       "<keras.src.callbacks.history.History at 0x7f128abcb4f0>"
      ]
     },
     "execution_count": 35,
     "metadata": {},
     "output_type": "execute_result"
    }
   ],
   "source": [
    "model1 = models.Sequential()\n",
    "\n",
    "model1.add(layers.LSTM(128, activation='relu', input_shape=(1, 1)))\n",
    "model1.add(layers.Dense(1))\n",
    "model1.compile(loss='mean_squared_error', optimizer='adam')\n",
    "model1.fit(X_train, y_train, epochs=100, batch_size=50, verbose=2)\n",
    "\n",
    "model2 = models.Sequential()\n",
    "\n",
    "# This one's more promising than the other's I've seen\n",
    "model2.add(layers.LSTM(128, activation='relu', input_shape=(1, 1), return_sequences=True))\n",
    "model2.add(layers.LSTM(128, activation='relu', input_shape=(1, 1), return_sequences=True))\n",
    "model2.add(layers.LSTM(64))\n",
    "model2.add(layers.Dense(8, activation='relu'))\n",
    "model2.add(layers.Dense(1, activation= 'linear'))\n",
    "# Interesting that this one does two different activation functions\n",
    "# Suppose that makes sense though\n",
    "\n",
    "# Ok last one is that weird amalgamation I did last time.\n",
    "# Copy and pasting isn't cheating when it's your own code\n",
    "model3 = models.Sequential()\n",
    "\n",
    "model3.add(layers.LSTM(128, activation='relu', input_shape=(1, 1)))\n",
    "model3.add(layers.Dropout(0.2))\n",
    "model3.add(layers.Dense(1))\n",
    "model3.add(layers.Dropout(0.2))\n",
    "model3.add(layers.Dense(1))\n",
    "model3.compile(loss='mean_squared_error', optimizer='adam')\n",
    "model3.fit(X_train, y_train, epochs=100, batch_size=50, verbose=2)"
   ]
  },
  {
   "cell_type": "markdown",
   "metadata": {},
   "source": [
    "Not so distant future Ace here to remind further future Ace that they can restructure these notebooks to be a bit more efficient.\n",
    "This is the third time in this specific notebook that I've trained these models, all because I keep resetting the kernels to run predictions further down.\n",
    "Also, further future Ace, have you figured out how to make it to where your discord is synced with VS Code? Because that would be a good way to be held accountable."
   ]
  },
  {
   "cell_type": "code",
   "execution_count": 36,
   "metadata": {},
   "outputs": [
    {
     "data": {
      "text/html": [
       "<pre style=\"white-space:pre;overflow-x:auto;line-height:normal;font-family:Menlo,'DejaVu Sans Mono',consolas,'Courier New',monospace\"><span style=\"font-weight: bold\">Model: \"sequential_9\"</span>\n",
       "</pre>\n"
      ],
      "text/plain": [
       "\u001b[1mModel: \"sequential_9\"\u001b[0m\n"
      ]
     },
     "metadata": {},
     "output_type": "display_data"
    },
    {
     "data": {
      "text/html": [
       "<pre style=\"white-space:pre;overflow-x:auto;line-height:normal;font-family:Menlo,'DejaVu Sans Mono',consolas,'Courier New',monospace\">┏━━━━━━━━━━━━━━━━━━━━━━━━━━━━━━━━━┳━━━━━━━━━━━━━━━━━━━━━━━━┳━━━━━━━━━━━━━━━┓\n",
       "┃<span style=\"font-weight: bold\"> Layer (type)                    </span>┃<span style=\"font-weight: bold\"> Output Shape           </span>┃<span style=\"font-weight: bold\">       Param # </span>┃\n",
       "┡━━━━━━━━━━━━━━━━━━━━━━━━━━━━━━━━━╇━━━━━━━━━━━━━━━━━━━━━━━━╇━━━━━━━━━━━━━━━┩\n",
       "│ lstm_15 (<span style=\"color: #0087ff; text-decoration-color: #0087ff\">LSTM</span>)                  │ (<span style=\"color: #00d7ff; text-decoration-color: #00d7ff\">None</span>, <span style=\"color: #00af00; text-decoration-color: #00af00\">128</span>)            │        <span style=\"color: #00af00; text-decoration-color: #00af00\">66,560</span> │\n",
       "├─────────────────────────────────┼────────────────────────┼───────────────┤\n",
       "│ dense_15 (<span style=\"color: #0087ff; text-decoration-color: #0087ff\">Dense</span>)                │ (<span style=\"color: #00d7ff; text-decoration-color: #00d7ff\">None</span>, <span style=\"color: #00af00; text-decoration-color: #00af00\">1</span>)              │           <span style=\"color: #00af00; text-decoration-color: #00af00\">129</span> │\n",
       "└─────────────────────────────────┴────────────────────────┴───────────────┘\n",
       "</pre>\n"
      ],
      "text/plain": [
       "┏━━━━━━━━━━━━━━━━━━━━━━━━━━━━━━━━━┳━━━━━━━━━━━━━━━━━━━━━━━━┳━━━━━━━━━━━━━━━┓\n",
       "┃\u001b[1m \u001b[0m\u001b[1mLayer (type)                   \u001b[0m\u001b[1m \u001b[0m┃\u001b[1m \u001b[0m\u001b[1mOutput Shape          \u001b[0m\u001b[1m \u001b[0m┃\u001b[1m \u001b[0m\u001b[1m      Param #\u001b[0m\u001b[1m \u001b[0m┃\n",
       "┡━━━━━━━━━━━━━━━━━━━━━━━━━━━━━━━━━╇━━━━━━━━━━━━━━━━━━━━━━━━╇━━━━━━━━━━━━━━━┩\n",
       "│ lstm_15 (\u001b[38;5;33mLSTM\u001b[0m)                  │ (\u001b[38;5;45mNone\u001b[0m, \u001b[38;5;34m128\u001b[0m)            │        \u001b[38;5;34m66,560\u001b[0m │\n",
       "├─────────────────────────────────┼────────────────────────┼───────────────┤\n",
       "│ dense_15 (\u001b[38;5;33mDense\u001b[0m)                │ (\u001b[38;5;45mNone\u001b[0m, \u001b[38;5;34m1\u001b[0m)              │           \u001b[38;5;34m129\u001b[0m │\n",
       "└─────────────────────────────────┴────────────────────────┴───────────────┘\n"
      ]
     },
     "metadata": {},
     "output_type": "display_data"
    },
    {
     "data": {
      "text/html": [
       "<pre style=\"white-space:pre;overflow-x:auto;line-height:normal;font-family:Menlo,'DejaVu Sans Mono',consolas,'Courier New',monospace\"><span style=\"font-weight: bold\"> Total params: </span><span style=\"color: #00af00; text-decoration-color: #00af00\">200,069</span> (781.52 KB)\n",
       "</pre>\n"
      ],
      "text/plain": [
       "\u001b[1m Total params: \u001b[0m\u001b[38;5;34m200,069\u001b[0m (781.52 KB)\n"
      ]
     },
     "metadata": {},
     "output_type": "display_data"
    },
    {
     "data": {
      "text/html": [
       "<pre style=\"white-space:pre;overflow-x:auto;line-height:normal;font-family:Menlo,'DejaVu Sans Mono',consolas,'Courier New',monospace\"><span style=\"font-weight: bold\"> Trainable params: </span><span style=\"color: #00af00; text-decoration-color: #00af00\">66,689</span> (260.50 KB)\n",
       "</pre>\n"
      ],
      "text/plain": [
       "\u001b[1m Trainable params: \u001b[0m\u001b[38;5;34m66,689\u001b[0m (260.50 KB)\n"
      ]
     },
     "metadata": {},
     "output_type": "display_data"
    },
    {
     "data": {
      "text/html": [
       "<pre style=\"white-space:pre;overflow-x:auto;line-height:normal;font-family:Menlo,'DejaVu Sans Mono',consolas,'Courier New',monospace\"><span style=\"font-weight: bold\"> Non-trainable params: </span><span style=\"color: #00af00; text-decoration-color: #00af00\">0</span> (0.00 B)\n",
       "</pre>\n"
      ],
      "text/plain": [
       "\u001b[1m Non-trainable params: \u001b[0m\u001b[38;5;34m0\u001b[0m (0.00 B)\n"
      ]
     },
     "metadata": {},
     "output_type": "display_data"
    },
    {
     "data": {
      "text/html": [
       "<pre style=\"white-space:pre;overflow-x:auto;line-height:normal;font-family:Menlo,'DejaVu Sans Mono',consolas,'Courier New',monospace\"><span style=\"font-weight: bold\"> Optimizer params: </span><span style=\"color: #00af00; text-decoration-color: #00af00\">133,380</span> (521.02 KB)\n",
       "</pre>\n"
      ],
      "text/plain": [
       "\u001b[1m Optimizer params: \u001b[0m\u001b[38;5;34m133,380\u001b[0m (521.02 KB)\n"
      ]
     },
     "metadata": {},
     "output_type": "display_data"
    },
    {
     "data": {
      "text/html": [
       "<pre style=\"white-space:pre;overflow-x:auto;line-height:normal;font-family:Menlo,'DejaVu Sans Mono',consolas,'Courier New',monospace\"><span style=\"font-weight: bold\">Model: \"sequential_10\"</span>\n",
       "</pre>\n"
      ],
      "text/plain": [
       "\u001b[1mModel: \"sequential_10\"\u001b[0m\n"
      ]
     },
     "metadata": {},
     "output_type": "display_data"
    },
    {
     "data": {
      "text/html": [
       "<pre style=\"white-space:pre;overflow-x:auto;line-height:normal;font-family:Menlo,'DejaVu Sans Mono',consolas,'Courier New',monospace\">┏━━━━━━━━━━━━━━━━━━━━━━━━━━━━━━━━━┳━━━━━━━━━━━━━━━━━━━━━━━━┳━━━━━━━━━━━━━━━┓\n",
       "┃<span style=\"font-weight: bold\"> Layer (type)                    </span>┃<span style=\"font-weight: bold\"> Output Shape           </span>┃<span style=\"font-weight: bold\">       Param # </span>┃\n",
       "┡━━━━━━━━━━━━━━━━━━━━━━━━━━━━━━━━━╇━━━━━━━━━━━━━━━━━━━━━━━━╇━━━━━━━━━━━━━━━┩\n",
       "│ lstm_16 (<span style=\"color: #0087ff; text-decoration-color: #0087ff\">LSTM</span>)                  │ (<span style=\"color: #00d7ff; text-decoration-color: #00d7ff\">None</span>, <span style=\"color: #00af00; text-decoration-color: #00af00\">1</span>, <span style=\"color: #00af00; text-decoration-color: #00af00\">128</span>)         │        <span style=\"color: #00af00; text-decoration-color: #00af00\">66,560</span> │\n",
       "├─────────────────────────────────┼────────────────────────┼───────────────┤\n",
       "│ lstm_17 (<span style=\"color: #0087ff; text-decoration-color: #0087ff\">LSTM</span>)                  │ (<span style=\"color: #00d7ff; text-decoration-color: #00d7ff\">None</span>, <span style=\"color: #00af00; text-decoration-color: #00af00\">1</span>, <span style=\"color: #00af00; text-decoration-color: #00af00\">128</span>)         │       <span style=\"color: #00af00; text-decoration-color: #00af00\">131,584</span> │\n",
       "├─────────────────────────────────┼────────────────────────┼───────────────┤\n",
       "│ lstm_18 (<span style=\"color: #0087ff; text-decoration-color: #0087ff\">LSTM</span>)                  │ (<span style=\"color: #00d7ff; text-decoration-color: #00d7ff\">None</span>, <span style=\"color: #00af00; text-decoration-color: #00af00\">64</span>)             │        <span style=\"color: #00af00; text-decoration-color: #00af00\">49,408</span> │\n",
       "├─────────────────────────────────┼────────────────────────┼───────────────┤\n",
       "│ dense_16 (<span style=\"color: #0087ff; text-decoration-color: #0087ff\">Dense</span>)                │ (<span style=\"color: #00d7ff; text-decoration-color: #00d7ff\">None</span>, <span style=\"color: #00af00; text-decoration-color: #00af00\">8</span>)              │           <span style=\"color: #00af00; text-decoration-color: #00af00\">520</span> │\n",
       "├─────────────────────────────────┼────────────────────────┼───────────────┤\n",
       "│ dense_17 (<span style=\"color: #0087ff; text-decoration-color: #0087ff\">Dense</span>)                │ (<span style=\"color: #00d7ff; text-decoration-color: #00d7ff\">None</span>, <span style=\"color: #00af00; text-decoration-color: #00af00\">1</span>)              │             <span style=\"color: #00af00; text-decoration-color: #00af00\">9</span> │\n",
       "└─────────────────────────────────┴────────────────────────┴───────────────┘\n",
       "</pre>\n"
      ],
      "text/plain": [
       "┏━━━━━━━━━━━━━━━━━━━━━━━━━━━━━━━━━┳━━━━━━━━━━━━━━━━━━━━━━━━┳━━━━━━━━━━━━━━━┓\n",
       "┃\u001b[1m \u001b[0m\u001b[1mLayer (type)                   \u001b[0m\u001b[1m \u001b[0m┃\u001b[1m \u001b[0m\u001b[1mOutput Shape          \u001b[0m\u001b[1m \u001b[0m┃\u001b[1m \u001b[0m\u001b[1m      Param #\u001b[0m\u001b[1m \u001b[0m┃\n",
       "┡━━━━━━━━━━━━━━━━━━━━━━━━━━━━━━━━━╇━━━━━━━━━━━━━━━━━━━━━━━━╇━━━━━━━━━━━━━━━┩\n",
       "│ lstm_16 (\u001b[38;5;33mLSTM\u001b[0m)                  │ (\u001b[38;5;45mNone\u001b[0m, \u001b[38;5;34m1\u001b[0m, \u001b[38;5;34m128\u001b[0m)         │        \u001b[38;5;34m66,560\u001b[0m │\n",
       "├─────────────────────────────────┼────────────────────────┼───────────────┤\n",
       "│ lstm_17 (\u001b[38;5;33mLSTM\u001b[0m)                  │ (\u001b[38;5;45mNone\u001b[0m, \u001b[38;5;34m1\u001b[0m, \u001b[38;5;34m128\u001b[0m)         │       \u001b[38;5;34m131,584\u001b[0m │\n",
       "├─────────────────────────────────┼────────────────────────┼───────────────┤\n",
       "│ lstm_18 (\u001b[38;5;33mLSTM\u001b[0m)                  │ (\u001b[38;5;45mNone\u001b[0m, \u001b[38;5;34m64\u001b[0m)             │        \u001b[38;5;34m49,408\u001b[0m │\n",
       "├─────────────────────────────────┼────────────────────────┼───────────────┤\n",
       "│ dense_16 (\u001b[38;5;33mDense\u001b[0m)                │ (\u001b[38;5;45mNone\u001b[0m, \u001b[38;5;34m8\u001b[0m)              │           \u001b[38;5;34m520\u001b[0m │\n",
       "├─────────────────────────────────┼────────────────────────┼───────────────┤\n",
       "│ dense_17 (\u001b[38;5;33mDense\u001b[0m)                │ (\u001b[38;5;45mNone\u001b[0m, \u001b[38;5;34m1\u001b[0m)              │             \u001b[38;5;34m9\u001b[0m │\n",
       "└─────────────────────────────────┴────────────────────────┴───────────────┘\n"
      ]
     },
     "metadata": {},
     "output_type": "display_data"
    },
    {
     "data": {
      "text/html": [
       "<pre style=\"white-space:pre;overflow-x:auto;line-height:normal;font-family:Menlo,'DejaVu Sans Mono',consolas,'Courier New',monospace\"><span style=\"font-weight: bold\"> Total params: </span><span style=\"color: #00af00; text-decoration-color: #00af00\">248,081</span> (969.07 KB)\n",
       "</pre>\n"
      ],
      "text/plain": [
       "\u001b[1m Total params: \u001b[0m\u001b[38;5;34m248,081\u001b[0m (969.07 KB)\n"
      ]
     },
     "metadata": {},
     "output_type": "display_data"
    },
    {
     "data": {
      "text/html": [
       "<pre style=\"white-space:pre;overflow-x:auto;line-height:normal;font-family:Menlo,'DejaVu Sans Mono',consolas,'Courier New',monospace\"><span style=\"font-weight: bold\"> Trainable params: </span><span style=\"color: #00af00; text-decoration-color: #00af00\">248,081</span> (969.07 KB)\n",
       "</pre>\n"
      ],
      "text/plain": [
       "\u001b[1m Trainable params: \u001b[0m\u001b[38;5;34m248,081\u001b[0m (969.07 KB)\n"
      ]
     },
     "metadata": {},
     "output_type": "display_data"
    },
    {
     "data": {
      "text/html": [
       "<pre style=\"white-space:pre;overflow-x:auto;line-height:normal;font-family:Menlo,'DejaVu Sans Mono',consolas,'Courier New',monospace\"><span style=\"font-weight: bold\"> Non-trainable params: </span><span style=\"color: #00af00; text-decoration-color: #00af00\">0</span> (0.00 B)\n",
       "</pre>\n"
      ],
      "text/plain": [
       "\u001b[1m Non-trainable params: \u001b[0m\u001b[38;5;34m0\u001b[0m (0.00 B)\n"
      ]
     },
     "metadata": {},
     "output_type": "display_data"
    },
    {
     "data": {
      "text/html": [
       "<pre style=\"white-space:pre;overflow-x:auto;line-height:normal;font-family:Menlo,'DejaVu Sans Mono',consolas,'Courier New',monospace\"><span style=\"font-weight: bold\">Model: \"sequential_11\"</span>\n",
       "</pre>\n"
      ],
      "text/plain": [
       "\u001b[1mModel: \"sequential_11\"\u001b[0m\n"
      ]
     },
     "metadata": {},
     "output_type": "display_data"
    },
    {
     "data": {
      "text/html": [
       "<pre style=\"white-space:pre;overflow-x:auto;line-height:normal;font-family:Menlo,'DejaVu Sans Mono',consolas,'Courier New',monospace\">┏━━━━━━━━━━━━━━━━━━━━━━━━━━━━━━━━━┳━━━━━━━━━━━━━━━━━━━━━━━━┳━━━━━━━━━━━━━━━┓\n",
       "┃<span style=\"font-weight: bold\"> Layer (type)                    </span>┃<span style=\"font-weight: bold\"> Output Shape           </span>┃<span style=\"font-weight: bold\">       Param # </span>┃\n",
       "┡━━━━━━━━━━━━━━━━━━━━━━━━━━━━━━━━━╇━━━━━━━━━━━━━━━━━━━━━━━━╇━━━━━━━━━━━━━━━┩\n",
       "│ lstm_19 (<span style=\"color: #0087ff; text-decoration-color: #0087ff\">LSTM</span>)                  │ (<span style=\"color: #00d7ff; text-decoration-color: #00d7ff\">None</span>, <span style=\"color: #00af00; text-decoration-color: #00af00\">128</span>)            │        <span style=\"color: #00af00; text-decoration-color: #00af00\">66,560</span> │\n",
       "├─────────────────────────────────┼────────────────────────┼───────────────┤\n",
       "│ dropout_6 (<span style=\"color: #0087ff; text-decoration-color: #0087ff\">Dropout</span>)             │ (<span style=\"color: #00d7ff; text-decoration-color: #00d7ff\">None</span>, <span style=\"color: #00af00; text-decoration-color: #00af00\">128</span>)            │             <span style=\"color: #00af00; text-decoration-color: #00af00\">0</span> │\n",
       "├─────────────────────────────────┼────────────────────────┼───────────────┤\n",
       "│ dense_18 (<span style=\"color: #0087ff; text-decoration-color: #0087ff\">Dense</span>)                │ (<span style=\"color: #00d7ff; text-decoration-color: #00d7ff\">None</span>, <span style=\"color: #00af00; text-decoration-color: #00af00\">1</span>)              │           <span style=\"color: #00af00; text-decoration-color: #00af00\">129</span> │\n",
       "├─────────────────────────────────┼────────────────────────┼───────────────┤\n",
       "│ dropout_7 (<span style=\"color: #0087ff; text-decoration-color: #0087ff\">Dropout</span>)             │ (<span style=\"color: #00d7ff; text-decoration-color: #00d7ff\">None</span>, <span style=\"color: #00af00; text-decoration-color: #00af00\">1</span>)              │             <span style=\"color: #00af00; text-decoration-color: #00af00\">0</span> │\n",
       "├─────────────────────────────────┼────────────────────────┼───────────────┤\n",
       "│ dense_19 (<span style=\"color: #0087ff; text-decoration-color: #0087ff\">Dense</span>)                │ (<span style=\"color: #00d7ff; text-decoration-color: #00d7ff\">None</span>, <span style=\"color: #00af00; text-decoration-color: #00af00\">1</span>)              │             <span style=\"color: #00af00; text-decoration-color: #00af00\">2</span> │\n",
       "└─────────────────────────────────┴────────────────────────┴───────────────┘\n",
       "</pre>\n"
      ],
      "text/plain": [
       "┏━━━━━━━━━━━━━━━━━━━━━━━━━━━━━━━━━┳━━━━━━━━━━━━━━━━━━━━━━━━┳━━━━━━━━━━━━━━━┓\n",
       "┃\u001b[1m \u001b[0m\u001b[1mLayer (type)                   \u001b[0m\u001b[1m \u001b[0m┃\u001b[1m \u001b[0m\u001b[1mOutput Shape          \u001b[0m\u001b[1m \u001b[0m┃\u001b[1m \u001b[0m\u001b[1m      Param #\u001b[0m\u001b[1m \u001b[0m┃\n",
       "┡━━━━━━━━━━━━━━━━━━━━━━━━━━━━━━━━━╇━━━━━━━━━━━━━━━━━━━━━━━━╇━━━━━━━━━━━━━━━┩\n",
       "│ lstm_19 (\u001b[38;5;33mLSTM\u001b[0m)                  │ (\u001b[38;5;45mNone\u001b[0m, \u001b[38;5;34m128\u001b[0m)            │        \u001b[38;5;34m66,560\u001b[0m │\n",
       "├─────────────────────────────────┼────────────────────────┼───────────────┤\n",
       "│ dropout_6 (\u001b[38;5;33mDropout\u001b[0m)             │ (\u001b[38;5;45mNone\u001b[0m, \u001b[38;5;34m128\u001b[0m)            │             \u001b[38;5;34m0\u001b[0m │\n",
       "├─────────────────────────────────┼────────────────────────┼───────────────┤\n",
       "│ dense_18 (\u001b[38;5;33mDense\u001b[0m)                │ (\u001b[38;5;45mNone\u001b[0m, \u001b[38;5;34m1\u001b[0m)              │           \u001b[38;5;34m129\u001b[0m │\n",
       "├─────────────────────────────────┼────────────────────────┼───────────────┤\n",
       "│ dropout_7 (\u001b[38;5;33mDropout\u001b[0m)             │ (\u001b[38;5;45mNone\u001b[0m, \u001b[38;5;34m1\u001b[0m)              │             \u001b[38;5;34m0\u001b[0m │\n",
       "├─────────────────────────────────┼────────────────────────┼───────────────┤\n",
       "│ dense_19 (\u001b[38;5;33mDense\u001b[0m)                │ (\u001b[38;5;45mNone\u001b[0m, \u001b[38;5;34m1\u001b[0m)              │             \u001b[38;5;34m2\u001b[0m │\n",
       "└─────────────────────────────────┴────────────────────────┴───────────────┘\n"
      ]
     },
     "metadata": {},
     "output_type": "display_data"
    },
    {
     "data": {
      "text/html": [
       "<pre style=\"white-space:pre;overflow-x:auto;line-height:normal;font-family:Menlo,'DejaVu Sans Mono',consolas,'Courier New',monospace\"><span style=\"font-weight: bold\"> Total params: </span><span style=\"color: #00af00; text-decoration-color: #00af00\">200,075</span> (781.55 KB)\n",
       "</pre>\n"
      ],
      "text/plain": [
       "\u001b[1m Total params: \u001b[0m\u001b[38;5;34m200,075\u001b[0m (781.55 KB)\n"
      ]
     },
     "metadata": {},
     "output_type": "display_data"
    },
    {
     "data": {
      "text/html": [
       "<pre style=\"white-space:pre;overflow-x:auto;line-height:normal;font-family:Menlo,'DejaVu Sans Mono',consolas,'Courier New',monospace\"><span style=\"font-weight: bold\"> Trainable params: </span><span style=\"color: #00af00; text-decoration-color: #00af00\">66,691</span> (260.51 KB)\n",
       "</pre>\n"
      ],
      "text/plain": [
       "\u001b[1m Trainable params: \u001b[0m\u001b[38;5;34m66,691\u001b[0m (260.51 KB)\n"
      ]
     },
     "metadata": {},
     "output_type": "display_data"
    },
    {
     "data": {
      "text/html": [
       "<pre style=\"white-space:pre;overflow-x:auto;line-height:normal;font-family:Menlo,'DejaVu Sans Mono',consolas,'Courier New',monospace\"><span style=\"font-weight: bold\"> Non-trainable params: </span><span style=\"color: #00af00; text-decoration-color: #00af00\">0</span> (0.00 B)\n",
       "</pre>\n"
      ],
      "text/plain": [
       "\u001b[1m Non-trainable params: \u001b[0m\u001b[38;5;34m0\u001b[0m (0.00 B)\n"
      ]
     },
     "metadata": {},
     "output_type": "display_data"
    },
    {
     "data": {
      "text/html": [
       "<pre style=\"white-space:pre;overflow-x:auto;line-height:normal;font-family:Menlo,'DejaVu Sans Mono',consolas,'Courier New',monospace\"><span style=\"font-weight: bold\"> Optimizer params: </span><span style=\"color: #00af00; text-decoration-color: #00af00\">133,384</span> (521.04 KB)\n",
       "</pre>\n"
      ],
      "text/plain": [
       "\u001b[1m Optimizer params: \u001b[0m\u001b[38;5;34m133,384\u001b[0m (521.04 KB)\n"
      ]
     },
     "metadata": {},
     "output_type": "display_data"
    }
   ],
   "source": [
    "model1.summary()\n",
    "model2.summary()\n",
    "model3.summary()"
   ]
  },
  {
   "cell_type": "code",
   "execution_count": null,
   "metadata": {},
   "outputs": [],
   "source": [
    "# For posterities sake, we're gonna try the vizualization from V5\n",
    "# Just to see if anything changed.\n",
    "#   Actually we're gonna give the predictions from the og tutorial a try.\n",
    "#   This kernel is for the first model.\n",
    "\n",
    "test_set = data_test.values\n",
    "inputs = np.reshape(test_set, (len(test_set), 1))\n",
    "inputs = sc.transform(inputs)\n",
    "inputs = np.reshape(inputs, (len(inputs), 1, 1))\n",
    "\n",
    "predicted_BTC_price = model1.predict(inputs)\n",
    "predicted_BTC_price = sc.inverse_transform(predicted_BTC_price)\n",
    "\n",
    "data_test['Weighted_Price_Prediction'] = predicted_BTC_price\n",
    "data_all = pd.concat([data_test, data_train], sort=False)\n",
    "# Oh nice! That ran! Maybe a model will show up?"
   ]
  },
  {
   "cell_type": "code",
   "execution_count": null,
   "metadata": {},
   "outputs": [],
   "source": [
    "# This is for the second model.\n",
    "#   Ah, looks like I'll have to figure out how input sizes and whatnot works\n",
    "#   Because this is the crux of the issue I've had this past week.\n",
    "#   Looks like the second model is something to be revisited.\n",
    "#   Or maybe I just need to clear outputs?\n",
    "#   Yep that's exactly what needed to happen.\n",
    "#   Look at me! Learning things!\n",
    "#   This one has a new issue though, in that it just... didn't make a prediction.\n",
    "#   Like. It just gave up\n",
    "#   I relate.\n",
    "\n",
    "test_set = data_test.values\n",
    "inputs = np.reshape(test_set, (len(test_set), 1))\n",
    "inputs = sc.transform(inputs)\n",
    "inputs = np.reshape(inputs, (len(inputs), 1, 1))\n",
    "\n",
    "predicted_BTC_price = model2.predict(inputs)\n",
    "predicted_BTC_price = sc.inverse_transform(predicted_BTC_price)\n",
    "\n",
    "data_test['Weighted_Price_Prediction'] = predicted_BTC_price\n",
    "data_all = pd.concat([data_test, data_train], sort=False)"
   ]
  },
  {
   "cell_type": "code",
   "execution_count": 37,
   "metadata": {},
   "outputs": [
    {
     "name": "stdout",
     "output_type": "stream",
     "text": [
      "\u001b[1m148/148\u001b[0m \u001b[32m━━━━━━━━━━━━━━━━━━━━\u001b[0m\u001b[37m\u001b[0m \u001b[1m1s\u001b[0m 3ms/step\n"
     ]
    }
   ],
   "source": [
    "# Third model. Idk if this'll go through either but it's worth a try.\n",
    "test_set = data_test.values\n",
    "inputs = np.reshape(test_set, (len(test_set), 1))\n",
    "inputs = sc.transform(inputs)\n",
    "inputs = np.reshape(inputs, (len(inputs), 1, 1))\n",
    "\n",
    "predicted_BTC_price = model3.predict(inputs)\n",
    "predicted_BTC_price = sc.inverse_transform(predicted_BTC_price)\n",
    "\n",
    "data_test['Weighted_Price_Prediction'] = predicted_BTC_price\n",
    "data_all = pd.concat([data_test, data_train], sort=False)"
   ]
  },
  {
   "cell_type": "code",
   "execution_count": 38,
   "metadata": {},
   "outputs": [
    {
     "data": {
      "image/png": "[encoded data removed]",
      "text/plain": [
       "<Figure size 1500x500 with 1 Axes>"
      ]
     },
     "metadata": {},
     "output_type": "display_data"
    }
   ],
   "source": [
    "final_data = data_all\n",
    "final_data = final_data.reset_index()\n",
    "final_data = final_data.rename(columns={'Weighted_Price_Prediction': 'lstm'})\n",
    "final_data = final_data[['Timestamp', 'Weighted_Price', 'lstm']]\n",
    "\n",
    "_ = data_all[['Weighted_Price', 'Weighted_Price_Prediction']].plot(figsize=(15, 5))"
   ]
  },
  {
   "cell_type": "markdown",
   "metadata": {},
   "source": [
    "Ok so it's still got that weird line and doesn't show the actual numbers. But honestly? I'm only just now realizing that I didn't actually load them anywhere? Maybe?\n",
    "Anyway, let's run the other models, yeah?"
   ]
  },
  {
   "cell_type": "markdown",
   "metadata": {},
   "source": [
    "Ah, leave it up to me to not scroll down in the tutorial and see how he charts the actual prices against the predictions.\n",
    "Sajid, if you're reading this, I /will/ be finishing this project, regardless of if it gets graded. I'll still want your input on it though."
   ]
  },
  {
   "cell_type": "markdown",
   "metadata": {},
   "source": [
    "Looks like the weird amalgamation I made fared better, but that's still a suspicious looking result. Anyway, thanks for reading through my patchwork code!"
   ]
  }
 ],
 "metadata": {
  "kernelspec": {
   "display_name": "Python 3",
   "language": "python",
   "name": "python3"
  },
  "language_info": {
   "codemirror_mode": {
    "name": "ipython",
    "version": 3
   },
   "file_extension": ".py",
   "mimetype": "text/x-python",
   "name": "python",
   "nbconvert_exporter": "python",
   "pygments_lexer": "ipython3",
   "version": "3.undefined.undefined"
  }
 },
 "nbformat": 4,
 "nbformat_minor": 2
}
